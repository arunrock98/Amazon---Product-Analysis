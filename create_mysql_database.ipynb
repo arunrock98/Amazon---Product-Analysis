{
 "metadata": {
  "language_info": {
   "codemirror_mode": {
    "name": "ipython",
    "version": 3
   },
   "file_extension": ".py",
   "mimetype": "text/x-python",
   "name": "python",
   "nbconvert_exporter": "python",
   "pygments_lexer": "ipython3",
   "version": "3.8.5"
  },
  "orig_nbformat": 2,
  "kernelspec": {
   "name": "python385jvsc74a57bd0270186a92e8127b63c5d3590f36ef840a70d456bcd2647292e8c19b27c97f65a",
   "display_name": "Python 3.8.5 64-bit (conda)"
  }
 },
 "nbformat": 4,
 "nbformat_minor": 2,
 "cells": [
  {
   "cell_type": "code",
   "execution_count": 64,
   "metadata": {},
   "outputs": [],
   "source": [
    "import pandas as pd\n",
    "import numpy as np\n",
    "import json\n",
    "import pymysql\n",
    "from sqlalchemy import create_engine\n",
    "from datetime import datetime"
   ]
  },
  {
   "cell_type": "code",
   "execution_count": 65,
   "metadata": {},
   "outputs": [],
   "source": [
    "#Product_summary = pd.read_csv('Product_summary.csv')"
   ]
  },
  {
   "cell_type": "code",
   "execution_count": 66,
   "metadata": {},
   "outputs": [],
   "source": [
    "Sales_summary = pd.read_csv('Sales_summary_final.csv',low_memory=False)"
   ]
  },
  {
   "cell_type": "code",
   "execution_count": 67,
   "metadata": {},
   "outputs": [
    {
     "output_type": "execute_result",
     "data": {
      "text/plain": [
       "                                               title InvoiceNo StockCode  \\\n",
       "0  Fujifilm Instax Mini 8 Instant Film Camera (Ra...  78581587     22726   \n",
       "1  Lowepro Photo Hatchback 16L Camera Backpack - ...  78581587     22899   \n",
       "2  Neewer NW320 Mini TTL Speedlite Flash Automati...  78581586     22061   \n",
       "3          Lowepro Fastpack 350 DSLR Camera Backpack  78581586     23275   \n",
       "4  Fujifilm Instax Mini 8 Instant Film Camera (Ra...  78581585     22726   \n",
       "\n",
       "   Quantity       InvoiceDate  CustomerID Country  \\\n",
       "0       4.0  09-12-2019 12:50     12680.0  France   \n",
       "1       6.0  09-12-2019 12:50     12680.0  France   \n",
       "2       8.0  09-12-2019 12:49     13113.0      DE   \n",
       "3      24.0  09-12-2019 12:49     13113.0      DE   \n",
       "4       8.0  09-12-2019 12:31     15804.0      DE   \n",
       "\n",
       "                                                 url  rating  review_count  \\\n",
       "0  https://www.amazon.com/Fujifilm-Instax-Mini-Ra...     4.6       15513.0   \n",
       "1  https://www.amazon.com/Lowepro-Photo-Hatchback...     4.5        1473.0   \n",
       "2  https://www.amazon.com/Neewer-Display-Speedlit...     4.2         611.0   \n",
       "3  https://www.amazon.com/Lowepro-Fastpack-DSLR-C...     4.4        1608.0   \n",
       "4  https://www.amazon.com/Fujifilm-Instax-Mini-Ra...     4.6       15513.0   \n",
       "\n",
       "    price product_type  total_sale        ASIN  \n",
       "0   52.95  dslr camera      211.80  B00U2UZ40Y  \n",
       "1   87.49  dslr camera      524.94  B008O8EGOQ  \n",
       "2   69.99  dslr camera      559.92  B00VE5HQ4I  \n",
       "3  469.99  dslr camera    11279.76  B000YIWR8G  \n",
       "4   52.95  dslr camera      423.60  B00U2UZ40Y  "
      ],
      "text/html": "<div>\n<style scoped>\n    .dataframe tbody tr th:only-of-type {\n        vertical-align: middle;\n    }\n\n    .dataframe tbody tr th {\n        vertical-align: top;\n    }\n\n    .dataframe thead th {\n        text-align: right;\n    }\n</style>\n<table border=\"1\" class=\"dataframe\">\n  <thead>\n    <tr style=\"text-align: right;\">\n      <th></th>\n      <th>title</th>\n      <th>InvoiceNo</th>\n      <th>StockCode</th>\n      <th>Quantity</th>\n      <th>InvoiceDate</th>\n      <th>CustomerID</th>\n      <th>Country</th>\n      <th>url</th>\n      <th>rating</th>\n      <th>review_count</th>\n      <th>price</th>\n      <th>product_type</th>\n      <th>total_sale</th>\n      <th>ASIN</th>\n    </tr>\n  </thead>\n  <tbody>\n    <tr>\n      <th>0</th>\n      <td>Fujifilm Instax Mini 8 Instant Film Camera (Ra...</td>\n      <td>78581587</td>\n      <td>22726</td>\n      <td>4.0</td>\n      <td>09-12-2019 12:50</td>\n      <td>12680.0</td>\n      <td>France</td>\n      <td>https://www.amazon.com/Fujifilm-Instax-Mini-Ra...</td>\n      <td>4.6</td>\n      <td>15513.0</td>\n      <td>52.95</td>\n      <td>dslr camera</td>\n      <td>211.80</td>\n      <td>B00U2UZ40Y</td>\n    </tr>\n    <tr>\n      <th>1</th>\n      <td>Lowepro Photo Hatchback 16L Camera Backpack - ...</td>\n      <td>78581587</td>\n      <td>22899</td>\n      <td>6.0</td>\n      <td>09-12-2019 12:50</td>\n      <td>12680.0</td>\n      <td>France</td>\n      <td>https://www.amazon.com/Lowepro-Photo-Hatchback...</td>\n      <td>4.5</td>\n      <td>1473.0</td>\n      <td>87.49</td>\n      <td>dslr camera</td>\n      <td>524.94</td>\n      <td>B008O8EGOQ</td>\n    </tr>\n    <tr>\n      <th>2</th>\n      <td>Neewer NW320 Mini TTL Speedlite Flash Automati...</td>\n      <td>78581586</td>\n      <td>22061</td>\n      <td>8.0</td>\n      <td>09-12-2019 12:49</td>\n      <td>13113.0</td>\n      <td>DE</td>\n      <td>https://www.amazon.com/Neewer-Display-Speedlit...</td>\n      <td>4.2</td>\n      <td>611.0</td>\n      <td>69.99</td>\n      <td>dslr camera</td>\n      <td>559.92</td>\n      <td>B00VE5HQ4I</td>\n    </tr>\n    <tr>\n      <th>3</th>\n      <td>Lowepro Fastpack 350 DSLR Camera Backpack</td>\n      <td>78581586</td>\n      <td>23275</td>\n      <td>24.0</td>\n      <td>09-12-2019 12:49</td>\n      <td>13113.0</td>\n      <td>DE</td>\n      <td>https://www.amazon.com/Lowepro-Fastpack-DSLR-C...</td>\n      <td>4.4</td>\n      <td>1608.0</td>\n      <td>469.99</td>\n      <td>dslr camera</td>\n      <td>11279.76</td>\n      <td>B000YIWR8G</td>\n    </tr>\n    <tr>\n      <th>4</th>\n      <td>Fujifilm Instax Mini 8 Instant Film Camera (Ra...</td>\n      <td>78581585</td>\n      <td>22726</td>\n      <td>8.0</td>\n      <td>09-12-2019 12:31</td>\n      <td>15804.0</td>\n      <td>DE</td>\n      <td>https://www.amazon.com/Fujifilm-Instax-Mini-Ra...</td>\n      <td>4.6</td>\n      <td>15513.0</td>\n      <td>52.95</td>\n      <td>dslr camera</td>\n      <td>423.60</td>\n      <td>B00U2UZ40Y</td>\n    </tr>\n  </tbody>\n</table>\n</div>"
     },
     "metadata": {},
     "execution_count": 67
    }
   ],
   "source": [
    "Sales_summary.head(5)"
   ]
  },
  {
   "cell_type": "code",
   "execution_count": 73,
   "metadata": {},
   "outputs": [],
   "source": [
    "Sales_summary.dropna(inplace = True)"
   ]
  },
  {
   "cell_type": "code",
   "execution_count": 69,
   "metadata": {},
   "outputs": [
    {
     "output_type": "stream",
     "name": "stdout",
     "text": [
      "<class 'pandas.core.frame.DataFrame'>\nRangeIndex: 554431 entries, 0 to 554430\nData columns (total 14 columns):\n #   Column        Non-Null Count   Dtype  \n---  ------        --------------   -----  \n 0   title         554430 non-null  object \n 1   InvoiceNo     554430 non-null  object \n 2   StockCode     554430 non-null  object \n 3   Quantity      554430 non-null  float64\n 4   InvoiceDate   554430 non-null  object \n 5   CustomerID    415115 non-null  float64\n 6   Country       554430 non-null  object \n 7   url           554417 non-null  object \n 8   rating        554417 non-null  float64\n 9   review_count  554417 non-null  float64\n 10  price         554417 non-null  float64\n 11  product_type  554417 non-null  object \n 12  total_sale    554417 non-null  float64\n 13  ASIN          546019 non-null  object \ndtypes: float64(6), object(8)\nmemory usage: 59.2+ MB\n"
     ]
    }
   ],
   "source": [
    "Sales_summary.info()"
   ]
  },
  {
   "cell_type": "code",
   "execution_count": 70,
   "metadata": {},
   "outputs": [
    {
     "output_type": "execute_result",
     "data": {
      "text/plain": [
       "title            object\n",
       "InvoiceNo        object\n",
       "StockCode        object\n",
       "Quantity        float64\n",
       "InvoiceDate      object\n",
       "CustomerID      float64\n",
       "Country          object\n",
       "url              object\n",
       "rating          float64\n",
       "review_count    float64\n",
       "price           float64\n",
       "product_type     object\n",
       "total_sale      float64\n",
       "ASIN             object\n",
       "dtype: object"
      ]
     },
     "metadata": {},
     "execution_count": 70
    }
   ],
   "source": [
    "Sales_summary.dtypes"
   ]
  },
  {
   "cell_type": "code",
   "execution_count": 71,
   "metadata": {},
   "outputs": [],
   "source": [
    "Sales_summary['InvoiceDate'] = Sales_summary['InvoiceDate'].astype('datetime64[ns]')"
   ]
  },
  {
   "cell_type": "code",
   "execution_count": 74,
   "metadata": {},
   "outputs": [],
   "source": [
    "#import timestamp\n",
    "#Sales_summary['invoice_date'] = Sales_summary['InvoiceDate'].apply(lambda x: fromtimestamp(x['date']))\n",
    "Sales_summary['invoice_date'] = [d.date() for d in Sales_summary['InvoiceDate']]\n",
    "Sales_summary[\"invoice_time\"] = [d.time() for d in Sales_summary[\"InvoiceDate\"]]"
   ]
  },
  {
   "cell_type": "code",
   "execution_count": 81,
   "metadata": {},
   "outputs": [],
   "source": [
    "Sales_summary['invoice_date'] = Sales_summary['invoice_date'].astype('datetime64[ns]')"
   ]
  },
  {
   "cell_type": "code",
   "execution_count": 82,
   "metadata": {},
   "outputs": [],
   "source": [
    "Sales_cancelled = pd.read_csv('cancelled.csv',low_memory=False)"
   ]
  },
  {
   "cell_type": "code",
   "execution_count": 83,
   "metadata": {},
   "outputs": [
    {
     "output_type": "execute_result",
     "data": {
      "text/plain": [
       "                                                  title  InvoiceNo StockCode  \\\n",
       "0     Magnetic Phone Car Mount, Penom Cell Phone Hol...  C78581569     84978   \n",
       "1     ASUS VivoBook S17 S712 Thin and Light 17.3â€ ...  C78581569     20979   \n",
       "2     iHome Bluetooth Mac Mouse with Scroll Wheel, 3...  C78581568     21258   \n",
       "3     iHome Bluetooth Mac Mouse with Scroll Wheel, 3...  C78581568     21258   \n",
       "4     Corsair Hydro Series H60 AIO Liquid CPU Cooler...  C78581499         M   \n",
       "...                                                 ...        ...       ...   \n",
       "9641  Fellowes 9112101 Crystals Gel Mouse Pad and Wr...  C78536391     21484   \n",
       "9642  NETGEAR 4-Stream Wifi 6 Router (RAX15) - AX180...  C78536391     22557   \n",
       "9643  Google - Pixel 3a with 64GB Memory Cell Phone ...  C78536391     22553   \n",
       "9644  Neewer 85mm f/1.8 Manual Focus Aspherical Medi...  C78536383    35004C   \n",
       "9645  UPERFECT Portable Monitor 13.3 Inch Computer D...  C78536379         D   \n",
       "\n",
       "      Quantity       InvoiceDate  CustomerID Country  \\\n",
       "0           -1  09-12-2019 11:58     17315.0      DE   \n",
       "1           -5  09-12-2019 11:58     17315.0      DE   \n",
       "2           -5  09-12-2019 11:57     15311.0      DE   \n",
       "3           -5  09-12-2019 11:57     15311.0      DE   \n",
       "4           -1  09-12-2019 10:28     15498.0      DE   \n",
       "...        ...               ...         ...     ...   \n",
       "9641       -12  01-12-2018 10:24     17548.0      DE   \n",
       "9642       -12  01-12-2018 10:24     17548.0      DE   \n",
       "9643       -24  01-12-2018 10:24     17548.0      DE   \n",
       "9644        -1  01-12-2018 09:49     15311.0      DE   \n",
       "9645        -1  01-12-2018 09:41     14527.0      DE   \n",
       "\n",
       "                                                    url  rating  review_count  \\\n",
       "0     https://www.amazon.com/magn%C3%A9tico-universa...     4.7          6561   \n",
       "1     https://www.amazon.com/ASUS-VivoBook-i7-10510U...     3.6          1614   \n",
       "2     https://www.amazon.com/iHome-Bluetooth-Mac-Mou...     4.2           714   \n",
       "3     https://www.amazon.com/iHome-Bluetooth-Mac-Mou...     4.2           714   \n",
       "4     https://www.amazon.com/CORSAIR-HYDRO-Refrigera...     4.4          3686   \n",
       "...                                                 ...     ...           ...   \n",
       "9641  https://www.amazon.com/Fellowes-9112101-Crysta...     4.1          2310   \n",
       "9642  https://www.amazon.com/NETGEAR-4-Stream-Router...     4.1          3895   \n",
       "9643  https://www.amazon.com/Google-Pixel-Memory-Pho...     4.3          3917   \n",
       "9644  https://www.amazon.com/Neewer-Multi-Coated-Por...     4.2           217   \n",
       "9645  https://www.amazon.com/Uperfect-port%C3%A1til-...     4.6           286   \n",
       "\n",
       "       price product_type  total_sale  \n",
       "0      13.99   smartphone      -13.99  \n",
       "1     799.99    processor    -3999.95  \n",
       "2      29.99     keyboard     -149.95  \n",
       "3      29.99        mouse     -149.95  \n",
       "4      79.99    processor      -79.99  \n",
       "...      ...          ...         ...  \n",
       "9641   17.95        mouse     -215.40  \n",
       "9642   96.26    processor    -1155.12  \n",
       "9643  349.98   smartphone    -8399.52  \n",
       "9644   99.99  dslr camera      -99.99  \n",
       "9645  209.99      monitor     -209.99  \n",
       "\n",
       "[9646 rows x 13 columns]"
      ],
      "text/html": "<div>\n<style scoped>\n    .dataframe tbody tr th:only-of-type {\n        vertical-align: middle;\n    }\n\n    .dataframe tbody tr th {\n        vertical-align: top;\n    }\n\n    .dataframe thead th {\n        text-align: right;\n    }\n</style>\n<table border=\"1\" class=\"dataframe\">\n  <thead>\n    <tr style=\"text-align: right;\">\n      <th></th>\n      <th>title</th>\n      <th>InvoiceNo</th>\n      <th>StockCode</th>\n      <th>Quantity</th>\n      <th>InvoiceDate</th>\n      <th>CustomerID</th>\n      <th>Country</th>\n      <th>url</th>\n      <th>rating</th>\n      <th>review_count</th>\n      <th>price</th>\n      <th>product_type</th>\n      <th>total_sale</th>\n    </tr>\n  </thead>\n  <tbody>\n    <tr>\n      <th>0</th>\n      <td>Magnetic Phone Car Mount, Penom Cell Phone Hol...</td>\n      <td>C78581569</td>\n      <td>84978</td>\n      <td>-1</td>\n      <td>09-12-2019 11:58</td>\n      <td>17315.0</td>\n      <td>DE</td>\n      <td>https://www.amazon.com/magn%C3%A9tico-universa...</td>\n      <td>4.7</td>\n      <td>6561</td>\n      <td>13.99</td>\n      <td>smartphone</td>\n      <td>-13.99</td>\n    </tr>\n    <tr>\n      <th>1</th>\n      <td>ASUS VivoBook S17 S712 Thin and Light 17.3â€ ...</td>\n      <td>C78581569</td>\n      <td>20979</td>\n      <td>-5</td>\n      <td>09-12-2019 11:58</td>\n      <td>17315.0</td>\n      <td>DE</td>\n      <td>https://www.amazon.com/ASUS-VivoBook-i7-10510U...</td>\n      <td>3.6</td>\n      <td>1614</td>\n      <td>799.99</td>\n      <td>processor</td>\n      <td>-3999.95</td>\n    </tr>\n    <tr>\n      <th>2</th>\n      <td>iHome Bluetooth Mac Mouse with Scroll Wheel, 3...</td>\n      <td>C78581568</td>\n      <td>21258</td>\n      <td>-5</td>\n      <td>09-12-2019 11:57</td>\n      <td>15311.0</td>\n      <td>DE</td>\n      <td>https://www.amazon.com/iHome-Bluetooth-Mac-Mou...</td>\n      <td>4.2</td>\n      <td>714</td>\n      <td>29.99</td>\n      <td>keyboard</td>\n      <td>-149.95</td>\n    </tr>\n    <tr>\n      <th>3</th>\n      <td>iHome Bluetooth Mac Mouse with Scroll Wheel, 3...</td>\n      <td>C78581568</td>\n      <td>21258</td>\n      <td>-5</td>\n      <td>09-12-2019 11:57</td>\n      <td>15311.0</td>\n      <td>DE</td>\n      <td>https://www.amazon.com/iHome-Bluetooth-Mac-Mou...</td>\n      <td>4.2</td>\n      <td>714</td>\n      <td>29.99</td>\n      <td>mouse</td>\n      <td>-149.95</td>\n    </tr>\n    <tr>\n      <th>4</th>\n      <td>Corsair Hydro Series H60 AIO Liquid CPU Cooler...</td>\n      <td>C78581499</td>\n      <td>M</td>\n      <td>-1</td>\n      <td>09-12-2019 10:28</td>\n      <td>15498.0</td>\n      <td>DE</td>\n      <td>https://www.amazon.com/CORSAIR-HYDRO-Refrigera...</td>\n      <td>4.4</td>\n      <td>3686</td>\n      <td>79.99</td>\n      <td>processor</td>\n      <td>-79.99</td>\n    </tr>\n    <tr>\n      <th>...</th>\n      <td>...</td>\n      <td>...</td>\n      <td>...</td>\n      <td>...</td>\n      <td>...</td>\n      <td>...</td>\n      <td>...</td>\n      <td>...</td>\n      <td>...</td>\n      <td>...</td>\n      <td>...</td>\n      <td>...</td>\n      <td>...</td>\n    </tr>\n    <tr>\n      <th>9641</th>\n      <td>Fellowes 9112101 Crystals Gel Mouse Pad and Wr...</td>\n      <td>C78536391</td>\n      <td>21484</td>\n      <td>-12</td>\n      <td>01-12-2018 10:24</td>\n      <td>17548.0</td>\n      <td>DE</td>\n      <td>https://www.amazon.com/Fellowes-9112101-Crysta...</td>\n      <td>4.1</td>\n      <td>2310</td>\n      <td>17.95</td>\n      <td>mouse</td>\n      <td>-215.40</td>\n    </tr>\n    <tr>\n      <th>9642</th>\n      <td>NETGEAR 4-Stream Wifi 6 Router (RAX15) - AX180...</td>\n      <td>C78536391</td>\n      <td>22557</td>\n      <td>-12</td>\n      <td>01-12-2018 10:24</td>\n      <td>17548.0</td>\n      <td>DE</td>\n      <td>https://www.amazon.com/NETGEAR-4-Stream-Router...</td>\n      <td>4.1</td>\n      <td>3895</td>\n      <td>96.26</td>\n      <td>processor</td>\n      <td>-1155.12</td>\n    </tr>\n    <tr>\n      <th>9643</th>\n      <td>Google - Pixel 3a with 64GB Memory Cell Phone ...</td>\n      <td>C78536391</td>\n      <td>22553</td>\n      <td>-24</td>\n      <td>01-12-2018 10:24</td>\n      <td>17548.0</td>\n      <td>DE</td>\n      <td>https://www.amazon.com/Google-Pixel-Memory-Pho...</td>\n      <td>4.3</td>\n      <td>3917</td>\n      <td>349.98</td>\n      <td>smartphone</td>\n      <td>-8399.52</td>\n    </tr>\n    <tr>\n      <th>9644</th>\n      <td>Neewer 85mm f/1.8 Manual Focus Aspherical Medi...</td>\n      <td>C78536383</td>\n      <td>35004C</td>\n      <td>-1</td>\n      <td>01-12-2018 09:49</td>\n      <td>15311.0</td>\n      <td>DE</td>\n      <td>https://www.amazon.com/Neewer-Multi-Coated-Por...</td>\n      <td>4.2</td>\n      <td>217</td>\n      <td>99.99</td>\n      <td>dslr camera</td>\n      <td>-99.99</td>\n    </tr>\n    <tr>\n      <th>9645</th>\n      <td>UPERFECT Portable Monitor 13.3 Inch Computer D...</td>\n      <td>C78536379</td>\n      <td>D</td>\n      <td>-1</td>\n      <td>01-12-2018 09:41</td>\n      <td>14527.0</td>\n      <td>DE</td>\n      <td>https://www.amazon.com/Uperfect-port%C3%A1til-...</td>\n      <td>4.6</td>\n      <td>286</td>\n      <td>209.99</td>\n      <td>monitor</td>\n      <td>-209.99</td>\n    </tr>\n  </tbody>\n</table>\n<p>9646 rows × 13 columns</p>\n</div>"
     },
     "metadata": {},
     "execution_count": 83
    }
   ],
   "source": [
    "Sales_cancelled"
   ]
  },
  {
   "cell_type": "code",
   "execution_count": 91,
   "metadata": {},
   "outputs": [],
   "source": [
    "#Sales_summary['invoice_date'] =  pd.to_datetime(Sales_summary['invoice_date'], format='%d/%m/%Y')\n",
    "Sales_summary['invoice_date'] = pd.to_datetime(Sales_summary['invoice_date'])\n",
    "Sales_summary['invoice_date'] = Sales_summary['invoice_date'].dt.strftime('%Y-%m-%d')"
   ]
  },
  {
   "cell_type": "code",
   "execution_count": 94,
   "metadata": {},
   "outputs": [
    {
     "output_type": "execute_result",
     "data": {
      "text/plain": [
       "                                               title InvoiceNo StockCode  \\\n",
       "0  Fujifilm Instax Mini 8 Instant Film Camera (Ra...  78581587     22726   \n",
       "1  Lowepro Photo Hatchback 16L Camera Backpack - ...  78581587     22899   \n",
       "2  Neewer NW320 Mini TTL Speedlite Flash Automati...  78581586     22061   \n",
       "3          Lowepro Fastpack 350 DSLR Camera Backpack  78581586     23275   \n",
       "4  Fujifilm Instax Mini 8 Instant Film Camera (Ra...  78581585     22726   \n",
       "\n",
       "   Quantity         InvoiceDate  CustomerID Country  \\\n",
       "0       4.0 2019-09-12 12:50:00     12680.0  France   \n",
       "1       6.0 2019-09-12 12:50:00     12680.0  France   \n",
       "2       8.0 2019-09-12 12:49:00     13113.0      DE   \n",
       "3      24.0 2019-09-12 12:49:00     13113.0      DE   \n",
       "4       8.0 2019-09-12 12:31:00     15804.0      DE   \n",
       "\n",
       "                                                 url  rating  review_count  \\\n",
       "0  https://www.amazon.com/Fujifilm-Instax-Mini-Ra...     4.6       15513.0   \n",
       "1  https://www.amazon.com/Lowepro-Photo-Hatchback...     4.5        1473.0   \n",
       "2  https://www.amazon.com/Neewer-Display-Speedlit...     4.2         611.0   \n",
       "3  https://www.amazon.com/Lowepro-Fastpack-DSLR-C...     4.4        1608.0   \n",
       "4  https://www.amazon.com/Fujifilm-Instax-Mini-Ra...     4.6       15513.0   \n",
       "\n",
       "    price product_type  total_sale        ASIN invoice_date invoice_time  \n",
       "0   52.95  dslr camera      211.80  B00U2UZ40Y   2019-12-09     12:50:00  \n",
       "1   87.49  dslr camera      524.94  B008O8EGOQ   2019-12-09     12:50:00  \n",
       "2   69.99  dslr camera      559.92  B00VE5HQ4I   2019-12-09     12:49:00  \n",
       "3  469.99  dslr camera    11279.76  B000YIWR8G   2019-12-09     12:49:00  \n",
       "4   52.95  dslr camera      423.60  B00U2UZ40Y   2019-12-09     12:31:00  "
      ],
      "text/html": "<div>\n<style scoped>\n    .dataframe tbody tr th:only-of-type {\n        vertical-align: middle;\n    }\n\n    .dataframe tbody tr th {\n        vertical-align: top;\n    }\n\n    .dataframe thead th {\n        text-align: right;\n    }\n</style>\n<table border=\"1\" class=\"dataframe\">\n  <thead>\n    <tr style=\"text-align: right;\">\n      <th></th>\n      <th>title</th>\n      <th>InvoiceNo</th>\n      <th>StockCode</th>\n      <th>Quantity</th>\n      <th>InvoiceDate</th>\n      <th>CustomerID</th>\n      <th>Country</th>\n      <th>url</th>\n      <th>rating</th>\n      <th>review_count</th>\n      <th>price</th>\n      <th>product_type</th>\n      <th>total_sale</th>\n      <th>ASIN</th>\n      <th>invoice_date</th>\n      <th>invoice_time</th>\n    </tr>\n  </thead>\n  <tbody>\n    <tr>\n      <th>0</th>\n      <td>Fujifilm Instax Mini 8 Instant Film Camera (Ra...</td>\n      <td>78581587</td>\n      <td>22726</td>\n      <td>4.0</td>\n      <td>2019-09-12 12:50:00</td>\n      <td>12680.0</td>\n      <td>France</td>\n      <td>https://www.amazon.com/Fujifilm-Instax-Mini-Ra...</td>\n      <td>4.6</td>\n      <td>15513.0</td>\n      <td>52.95</td>\n      <td>dslr camera</td>\n      <td>211.80</td>\n      <td>B00U2UZ40Y</td>\n      <td>2019-12-09</td>\n      <td>12:50:00</td>\n    </tr>\n    <tr>\n      <th>1</th>\n      <td>Lowepro Photo Hatchback 16L Camera Backpack - ...</td>\n      <td>78581587</td>\n      <td>22899</td>\n      <td>6.0</td>\n      <td>2019-09-12 12:50:00</td>\n      <td>12680.0</td>\n      <td>France</td>\n      <td>https://www.amazon.com/Lowepro-Photo-Hatchback...</td>\n      <td>4.5</td>\n      <td>1473.0</td>\n      <td>87.49</td>\n      <td>dslr camera</td>\n      <td>524.94</td>\n      <td>B008O8EGOQ</td>\n      <td>2019-12-09</td>\n      <td>12:50:00</td>\n    </tr>\n    <tr>\n      <th>2</th>\n      <td>Neewer NW320 Mini TTL Speedlite Flash Automati...</td>\n      <td>78581586</td>\n      <td>22061</td>\n      <td>8.0</td>\n      <td>2019-09-12 12:49:00</td>\n      <td>13113.0</td>\n      <td>DE</td>\n      <td>https://www.amazon.com/Neewer-Display-Speedlit...</td>\n      <td>4.2</td>\n      <td>611.0</td>\n      <td>69.99</td>\n      <td>dslr camera</td>\n      <td>559.92</td>\n      <td>B00VE5HQ4I</td>\n      <td>2019-12-09</td>\n      <td>12:49:00</td>\n    </tr>\n    <tr>\n      <th>3</th>\n      <td>Lowepro Fastpack 350 DSLR Camera Backpack</td>\n      <td>78581586</td>\n      <td>23275</td>\n      <td>24.0</td>\n      <td>2019-09-12 12:49:00</td>\n      <td>13113.0</td>\n      <td>DE</td>\n      <td>https://www.amazon.com/Lowepro-Fastpack-DSLR-C...</td>\n      <td>4.4</td>\n      <td>1608.0</td>\n      <td>469.99</td>\n      <td>dslr camera</td>\n      <td>11279.76</td>\n      <td>B000YIWR8G</td>\n      <td>2019-12-09</td>\n      <td>12:49:00</td>\n    </tr>\n    <tr>\n      <th>4</th>\n      <td>Fujifilm Instax Mini 8 Instant Film Camera (Ra...</td>\n      <td>78581585</td>\n      <td>22726</td>\n      <td>8.0</td>\n      <td>2019-09-12 12:31:00</td>\n      <td>15804.0</td>\n      <td>DE</td>\n      <td>https://www.amazon.com/Fujifilm-Instax-Mini-Ra...</td>\n      <td>4.6</td>\n      <td>15513.0</td>\n      <td>52.95</td>\n      <td>dslr camera</td>\n      <td>423.60</td>\n      <td>B00U2UZ40Y</td>\n      <td>2019-12-09</td>\n      <td>12:31:00</td>\n    </tr>\n  </tbody>\n</table>\n</div>"
     },
     "metadata": {},
     "execution_count": 94
    }
   ],
   "source": [
    "Sales_summary.head(5)"
   ]
  },
  {
   "cell_type": "code",
   "execution_count": 95,
   "metadata": {},
   "outputs": [],
   "source": [
    "db_data = 'mysql+mysqldb://' + 'root' + ':' + 'arunrock9899100' + '@' + 'localhost' + ':3306/' \\\n",
    "       + 'AMAZON' + '?charset=utf8mb4'"
   ]
  },
  {
   "cell_type": "code",
   "execution_count": 96,
   "metadata": {},
   "outputs": [],
   "source": [
    "engine = create_engine(db_data)"
   ]
  },
  {
   "cell_type": "code",
   "execution_count": 97,
   "metadata": {},
   "outputs": [],
   "source": [
    "# Connect to the database\n",
    "connection = pymysql.connect(host='localhost',\n",
    "                         user='root',\n",
    "                         password='arunrock9899100',\n",
    "                         db='AMAZON')\n",
    "# create cursor\n",
    "cursor=connection.cursor()\n",
    "# Execute the to_sql for writting DF into SQL\n",
    "Sales_summary.to_sql('sales', engine, if_exists='append', index=False) \n",
    "\n"
   ]
  },
  {
   "cell_type": "code",
   "execution_count": 18,
   "metadata": {},
   "outputs": [
    {
     "output_type": "stream",
     "name": "stderr",
     "text": [
      "C:\\Users\\ARUNRAJ\\anaconda3\\lib\\site-packages\\pandas\\io\\sql.py:1423: UserWarning: The provided table name 'Sales_cancelled' is not found exactly as such in the database after writing the table, possibly due to case sensitivity issues. Consider using lower case table names.\n  warnings.warn(msg, UserWarning)\n"
     ]
    }
   ],
   "source": [
    "Sales_cancelled.to_sql('Sales_cancelled', engine, if_exists='append', index=False) "
   ]
  },
  {
   "cell_type": "code",
   "execution_count": null,
   "metadata": {},
   "outputs": [],
   "source": []
  },
  {
   "cell_type": "code",
   "execution_count": 98,
   "metadata": {},
   "outputs": [],
   "source": [
    "engine.dispose()\n",
    "connection.close()"
   ]
  },
  {
   "cell_type": "code",
   "execution_count": null,
   "metadata": {},
   "outputs": [],
   "source": []
  }
 ]
}