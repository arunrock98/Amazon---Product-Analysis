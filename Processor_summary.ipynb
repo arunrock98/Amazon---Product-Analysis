{
 "metadata": {
  "language_info": {
   "codemirror_mode": {
    "name": "ipython",
    "version": 3
   },
   "file_extension": ".py",
   "mimetype": "text/x-python",
   "name": "python",
   "nbconvert_exporter": "python",
   "pygments_lexer": "ipython3",
   "version": "3.8.5"
  },
  "orig_nbformat": 2,
  "kernelspec": {
   "name": "python385jvsc74a57bd0270186a92e8127b63c5d3590f36ef840a70d456bcd2647292e8c19b27c97f65a",
   "display_name": "Python 3.8.5 64-bit ('base': conda)"
  }
 },
 "nbformat": 4,
 "nbformat_minor": 2,
 "cells": [
  {
   "cell_type": "code",
   "execution_count": 10,
   "metadata": {},
   "outputs": [],
   "source": [
    "import pandas as pd\n",
    "import numpy as np"
   ]
  },
  {
   "cell_type": "code",
   "execution_count": 11,
   "metadata": {},
   "outputs": [],
   "source": [
    "df_pro= pd.read_json(\"Processor_summary.json\")"
   ]
  },
  {
   "cell_type": "code",
   "execution_count": 12,
   "metadata": {},
   "outputs": [
    {
     "output_type": "execute_result",
     "data": {
      "text/plain": [
       "title               0\n",
       "url                 0\n",
       "rating          10268\n",
       "review_count    10268\n",
       "price            5582\n",
       "ASIN                0\n",
       "dtype: int64"
      ]
     },
     "metadata": {},
     "execution_count": 12
    }
   ],
   "source": [
    "df_pro.isnull().sum()"
   ]
  },
  {
   "cell_type": "code",
   "execution_count": 13,
   "metadata": {},
   "outputs": [],
   "source": [
    "df_pro.dropna(inplace=True)"
   ]
  },
  {
   "cell_type": "code",
   "execution_count": 15,
   "metadata": {},
   "outputs": [
    {
     "output_type": "stream",
     "name": "stdout",
     "text": [
      "<class 'pandas.core.frame.DataFrame'>\nInt64Index: 1562 entries, 1 to 11992\nData columns (total 6 columns):\n #   Column        Non-Null Count  Dtype \n---  ------        --------------  ----- \n 0   title         1562 non-null   object\n 1   url           1562 non-null   object\n 2   rating        1562 non-null   object\n 3   review_count  1562 non-null   object\n 4   price         1562 non-null   object\n 5   ASIN          1562 non-null   object\ndtypes: object(6)\nmemory usage: 125.4+ KB\n"
     ]
    }
   ],
   "source": [
    "df_pro.info()"
   ]
  },
  {
   "cell_type": "code",
   "execution_count": 14,
   "metadata": {},
   "outputs": [
    {
     "output_type": "execute_result",
     "data": {
      "text/plain": [
       "['4.5', 'out', 'of', '5', 'stars']"
      ]
     },
     "metadata": {},
     "execution_count": 14
    }
   ],
   "source": [
    "df_pro.rating.iloc[0].split(\" \")"
   ]
  },
  {
   "cell_type": "code",
   "execution_count": 16,
   "metadata": {},
   "outputs": [
    {
     "output_type": "execute_result",
     "data": {
      "text/plain": [
       "'4.5'"
      ]
     },
     "metadata": {},
     "execution_count": 16
    }
   ],
   "source": [
    "df_pro.rating.iloc[0].split(\" \")[0]"
   ]
  },
  {
   "cell_type": "code",
   "execution_count": 17,
   "metadata": {},
   "outputs": [
    {
     "output_type": "execute_result",
     "data": {
      "text/plain": [
       "                                               title  \\\n",
       "1  Tablet 10 Inch Octa-Core Processor, 2GB, 32GB,...   \n",
       "2  AMD Ryzen 7 3700X 8-Core, 16-Thread Unlocked D...   \n",
       "3  Intel Core i7-9700K Desktop Processor 8 Cores ...   \n",
       "4  AMD Ryzen 5 3600 6-Core, 12-Thread Unlocked De...   \n",
       "5  Intel Core i9-9900K Desktop Processor 8 Cores ...   \n",
       "\n",
       "                                                 url rating review_count  \\\n",
       "1  https://www.amazon.com/gp/slredirect/picassoRe...    4.5          112   \n",
       "2  https://www.amazon.com/AMD-Ryzen-3700X-16-Thre...    4.9       19,295   \n",
       "3  https://www.amazon.com/Intel-i7-9700K-Desktop-...    4.8        7,691   \n",
       "4  https://www.amazon.com/AMD-Ryzen-3600-12-Threa...    4.9       30,844   \n",
       "5  https://www.amazon.com/Intel-i9-9900K-Processo...    4.8          849   \n",
       "\n",
       "     price        ASIN  \n",
       "1  $118.80  B08RBJCQVP  \n",
       "2  $319.00  B07SXMZLPK  \n",
       "3  $291.00  B07HHN6KBZ  \n",
       "4  $233.98  B07STGGQ18  \n",
       "5  $399.95  B089J731BX  "
      ],
      "text/html": "<div>\n<style scoped>\n    .dataframe tbody tr th:only-of-type {\n        vertical-align: middle;\n    }\n\n    .dataframe tbody tr th {\n        vertical-align: top;\n    }\n\n    .dataframe thead th {\n        text-align: right;\n    }\n</style>\n<table border=\"1\" class=\"dataframe\">\n  <thead>\n    <tr style=\"text-align: right;\">\n      <th></th>\n      <th>title</th>\n      <th>url</th>\n      <th>rating</th>\n      <th>review_count</th>\n      <th>price</th>\n      <th>ASIN</th>\n    </tr>\n  </thead>\n  <tbody>\n    <tr>\n      <th>1</th>\n      <td>Tablet 10 Inch Octa-Core Processor, 2GB, 32GB,...</td>\n      <td>https://www.amazon.com/gp/slredirect/picassoRe...</td>\n      <td>4.5</td>\n      <td>112</td>\n      <td>$118.80</td>\n      <td>B08RBJCQVP</td>\n    </tr>\n    <tr>\n      <th>2</th>\n      <td>AMD Ryzen 7 3700X 8-Core, 16-Thread Unlocked D...</td>\n      <td>https://www.amazon.com/AMD-Ryzen-3700X-16-Thre...</td>\n      <td>4.9</td>\n      <td>19,295</td>\n      <td>$319.00</td>\n      <td>B07SXMZLPK</td>\n    </tr>\n    <tr>\n      <th>3</th>\n      <td>Intel Core i7-9700K Desktop Processor 8 Cores ...</td>\n      <td>https://www.amazon.com/Intel-i7-9700K-Desktop-...</td>\n      <td>4.8</td>\n      <td>7,691</td>\n      <td>$291.00</td>\n      <td>B07HHN6KBZ</td>\n    </tr>\n    <tr>\n      <th>4</th>\n      <td>AMD Ryzen 5 3600 6-Core, 12-Thread Unlocked De...</td>\n      <td>https://www.amazon.com/AMD-Ryzen-3600-12-Threa...</td>\n      <td>4.9</td>\n      <td>30,844</td>\n      <td>$233.98</td>\n      <td>B07STGGQ18</td>\n    </tr>\n    <tr>\n      <th>5</th>\n      <td>Intel Core i9-9900K Desktop Processor 8 Cores ...</td>\n      <td>https://www.amazon.com/Intel-i9-9900K-Processo...</td>\n      <td>4.8</td>\n      <td>849</td>\n      <td>$399.95</td>\n      <td>B089J731BX</td>\n    </tr>\n  </tbody>\n</table>\n</div>"
     },
     "metadata": {},
     "execution_count": 17
    }
   ],
   "source": [
    "df_pro.rating = df_pro.rating.map(lambda x: x.split(' ')[0])\n",
    "df_pro.head(5)"
   ]
  },
  {
   "cell_type": "code",
   "execution_count": 18,
   "metadata": {},
   "outputs": [
    {
     "output_type": "execute_result",
     "data": {
      "text/plain": [
       "'118.80'"
      ]
     },
     "metadata": {},
     "execution_count": 18
    }
   ],
   "source": [
    "df_pro.price.iloc[0].split(\"$\")[1]"
   ]
  },
  {
   "cell_type": "code",
   "execution_count": 19,
   "metadata": {},
   "outputs": [
    {
     "output_type": "execute_result",
     "data": {
      "text/plain": [
       "                                               title  \\\n",
       "1  Tablet 10 Inch Octa-Core Processor, 2GB, 32GB,...   \n",
       "2  AMD Ryzen 7 3700X 8-Core, 16-Thread Unlocked D...   \n",
       "3  Intel Core i7-9700K Desktop Processor 8 Cores ...   \n",
       "4  AMD Ryzen 5 3600 6-Core, 12-Thread Unlocked De...   \n",
       "5  Intel Core i9-9900K Desktop Processor 8 Cores ...   \n",
       "\n",
       "                                                 url rating review_count  \\\n",
       "1  https://www.amazon.com/gp/slredirect/picassoRe...    4.5          112   \n",
       "2  https://www.amazon.com/AMD-Ryzen-3700X-16-Thre...    4.9       19,295   \n",
       "3  https://www.amazon.com/Intel-i7-9700K-Desktop-...    4.8        7,691   \n",
       "4  https://www.amazon.com/AMD-Ryzen-3600-12-Threa...    4.9       30,844   \n",
       "5  https://www.amazon.com/Intel-i9-9900K-Processo...    4.8          849   \n",
       "\n",
       "    price        ASIN  \n",
       "1  118.80  B08RBJCQVP  \n",
       "2  319.00  B07SXMZLPK  \n",
       "3  291.00  B07HHN6KBZ  \n",
       "4  233.98  B07STGGQ18  \n",
       "5  399.95  B089J731BX  "
      ],
      "text/html": "<div>\n<style scoped>\n    .dataframe tbody tr th:only-of-type {\n        vertical-align: middle;\n    }\n\n    .dataframe tbody tr th {\n        vertical-align: top;\n    }\n\n    .dataframe thead th {\n        text-align: right;\n    }\n</style>\n<table border=\"1\" class=\"dataframe\">\n  <thead>\n    <tr style=\"text-align: right;\">\n      <th></th>\n      <th>title</th>\n      <th>url</th>\n      <th>rating</th>\n      <th>review_count</th>\n      <th>price</th>\n      <th>ASIN</th>\n    </tr>\n  </thead>\n  <tbody>\n    <tr>\n      <th>1</th>\n      <td>Tablet 10 Inch Octa-Core Processor, 2GB, 32GB,...</td>\n      <td>https://www.amazon.com/gp/slredirect/picassoRe...</td>\n      <td>4.5</td>\n      <td>112</td>\n      <td>118.80</td>\n      <td>B08RBJCQVP</td>\n    </tr>\n    <tr>\n      <th>2</th>\n      <td>AMD Ryzen 7 3700X 8-Core, 16-Thread Unlocked D...</td>\n      <td>https://www.amazon.com/AMD-Ryzen-3700X-16-Thre...</td>\n      <td>4.9</td>\n      <td>19,295</td>\n      <td>319.00</td>\n      <td>B07SXMZLPK</td>\n    </tr>\n    <tr>\n      <th>3</th>\n      <td>Intel Core i7-9700K Desktop Processor 8 Cores ...</td>\n      <td>https://www.amazon.com/Intel-i7-9700K-Desktop-...</td>\n      <td>4.8</td>\n      <td>7,691</td>\n      <td>291.00</td>\n      <td>B07HHN6KBZ</td>\n    </tr>\n    <tr>\n      <th>4</th>\n      <td>AMD Ryzen 5 3600 6-Core, 12-Thread Unlocked De...</td>\n      <td>https://www.amazon.com/AMD-Ryzen-3600-12-Threa...</td>\n      <td>4.9</td>\n      <td>30,844</td>\n      <td>233.98</td>\n      <td>B07STGGQ18</td>\n    </tr>\n    <tr>\n      <th>5</th>\n      <td>Intel Core i9-9900K Desktop Processor 8 Cores ...</td>\n      <td>https://www.amazon.com/Intel-i9-9900K-Processo...</td>\n      <td>4.8</td>\n      <td>849</td>\n      <td>399.95</td>\n      <td>B089J731BX</td>\n    </tr>\n  </tbody>\n</table>\n</div>"
     },
     "metadata": {},
     "execution_count": 19
    }
   ],
   "source": [
    "df_pro.price= df_pro.apply(lambda x: x['price'].split(\"$\")[-1], axis = 1)\n",
    "df_pro.head(5)"
   ]
  },
  {
   "cell_type": "code",
   "execution_count": 21,
   "metadata": {},
   "outputs": [],
   "source": [
    "df_pro.review_count=df_pro.review_count.str.replace(\",\",\"\")\n",
    "df_pro.price = df_pro.price.str.replace(\",\",\"\")"
   ]
  },
  {
   "cell_type": "code",
   "execution_count": 22,
   "metadata": {},
   "outputs": [],
   "source": [
    "df_pro.price = df_pro.price.astype(\"float\")\n",
    "df_pro.rating = df_pro.rating.astype(\"float\")\n",
    "df_pro.review_count = df_pro.review_count.astype(\"int\")"
   ]
  },
  {
   "cell_type": "code",
   "execution_count": 23,
   "metadata": {},
   "outputs": [],
   "source": [
    "df_pro[\"product_type\"] = \"Processor\""
   ]
  },
  {
   "cell_type": "code",
   "execution_count": 24,
   "metadata": {},
   "outputs": [
    {
     "output_type": "execute_result",
     "data": {
      "text/plain": [
       "             ASIN                                              title  \\\n",
       "1      B08RBJCQVP  Tablet 10 Inch Octa-Core Processor, 2GB, 32GB,...   \n",
       "2      B07SXMZLPK  AMD Ryzen 7 3700X 8-Core, 16-Thread Unlocked D...   \n",
       "3      B07HHN6KBZ  Intel Core i7-9700K Desktop Processor 8 Cores ...   \n",
       "4      B07STGGQ18  AMD Ryzen 5 3600 6-Core, 12-Thread Unlocked De...   \n",
       "5      B089J731BX  Intel Core i9-9900K Desktop Processor 8 Cores ...   \n",
       "...           ...                                                ...   \n",
       "11949  B085RZDVL5  Intel Celeron N3350 Processor (Z8350 Upgraded ...   \n",
       "11962  B01AZC4NHS  Intel Compute Stick CS125 Computer with Intel ...   \n",
       "11978  B08Z8CYXK8  GMK NucBox2 Mini PC with Intel Core i5-8259u P...   \n",
       "11979  B085RZDVL5  Intel Celeron N3350 Processor (Z8350 Upgraded ...   \n",
       "11992  B01AZC4NHS  Intel Compute Stick CS125 Computer with Intel ...   \n",
       "\n",
       "                                                     url   price  rating  \\\n",
       "1      https://www.amazon.com/gp/slredirect/picassoRe...  118.80     4.5   \n",
       "2      https://www.amazon.com/AMD-Ryzen-3700X-16-Thre...  319.00     4.9   \n",
       "3      https://www.amazon.com/Intel-i7-9700K-Desktop-...  291.00     4.8   \n",
       "4      https://www.amazon.com/AMD-Ryzen-3600-12-Threa...  233.98     4.9   \n",
       "5      https://www.amazon.com/Intel-i9-9900K-Processo...  399.95     4.8   \n",
       "...                                                  ...     ...     ...   \n",
       "11949  https://www.amazon.com/gp/slredirect/picassoRe...  168.88     4.2   \n",
       "11962  https://www.amazon.com/gp/slredirect/picassoRe...  301.85     4.2   \n",
       "11978  https://www.amazon.com/gp/slredirect/picassoRe...  499.99     4.0   \n",
       "11979  https://www.amazon.com/gp/slredirect/picassoRe...  168.88     4.2   \n",
       "11992  https://www.amazon.com/gp/slredirect/picassoRe...  301.85     4.2   \n",
       "\n",
       "       review_count product_type  \n",
       "1               112    Processor  \n",
       "2             19295    Processor  \n",
       "3              7691    Processor  \n",
       "4             30844    Processor  \n",
       "5               849    Processor  \n",
       "...             ...          ...  \n",
       "11949            39    Processor  \n",
       "11962           523    Processor  \n",
       "11978             3    Processor  \n",
       "11979            39    Processor  \n",
       "11992           523    Processor  \n",
       "\n",
       "[1562 rows x 7 columns]"
      ],
      "text/html": "<div>\n<style scoped>\n    .dataframe tbody tr th:only-of-type {\n        vertical-align: middle;\n    }\n\n    .dataframe tbody tr th {\n        vertical-align: top;\n    }\n\n    .dataframe thead th {\n        text-align: right;\n    }\n</style>\n<table border=\"1\" class=\"dataframe\">\n  <thead>\n    <tr style=\"text-align: right;\">\n      <th></th>\n      <th>ASIN</th>\n      <th>title</th>\n      <th>url</th>\n      <th>price</th>\n      <th>rating</th>\n      <th>review_count</th>\n      <th>product_type</th>\n    </tr>\n  </thead>\n  <tbody>\n    <tr>\n      <th>1</th>\n      <td>B08RBJCQVP</td>\n      <td>Tablet 10 Inch Octa-Core Processor, 2GB, 32GB,...</td>\n      <td>https://www.amazon.com/gp/slredirect/picassoRe...</td>\n      <td>118.80</td>\n      <td>4.5</td>\n      <td>112</td>\n      <td>Processor</td>\n    </tr>\n    <tr>\n      <th>2</th>\n      <td>B07SXMZLPK</td>\n      <td>AMD Ryzen 7 3700X 8-Core, 16-Thread Unlocked D...</td>\n      <td>https://www.amazon.com/AMD-Ryzen-3700X-16-Thre...</td>\n      <td>319.00</td>\n      <td>4.9</td>\n      <td>19295</td>\n      <td>Processor</td>\n    </tr>\n    <tr>\n      <th>3</th>\n      <td>B07HHN6KBZ</td>\n      <td>Intel Core i7-9700K Desktop Processor 8 Cores ...</td>\n      <td>https://www.amazon.com/Intel-i7-9700K-Desktop-...</td>\n      <td>291.00</td>\n      <td>4.8</td>\n      <td>7691</td>\n      <td>Processor</td>\n    </tr>\n    <tr>\n      <th>4</th>\n      <td>B07STGGQ18</td>\n      <td>AMD Ryzen 5 3600 6-Core, 12-Thread Unlocked De...</td>\n      <td>https://www.amazon.com/AMD-Ryzen-3600-12-Threa...</td>\n      <td>233.98</td>\n      <td>4.9</td>\n      <td>30844</td>\n      <td>Processor</td>\n    </tr>\n    <tr>\n      <th>5</th>\n      <td>B089J731BX</td>\n      <td>Intel Core i9-9900K Desktop Processor 8 Cores ...</td>\n      <td>https://www.amazon.com/Intel-i9-9900K-Processo...</td>\n      <td>399.95</td>\n      <td>4.8</td>\n      <td>849</td>\n      <td>Processor</td>\n    </tr>\n    <tr>\n      <th>...</th>\n      <td>...</td>\n      <td>...</td>\n      <td>...</td>\n      <td>...</td>\n      <td>...</td>\n      <td>...</td>\n      <td>...</td>\n    </tr>\n    <tr>\n      <th>11949</th>\n      <td>B085RZDVL5</td>\n      <td>Intel Celeron N3350 Processor (Z8350 Upgraded ...</td>\n      <td>https://www.amazon.com/gp/slredirect/picassoRe...</td>\n      <td>168.88</td>\n      <td>4.2</td>\n      <td>39</td>\n      <td>Processor</td>\n    </tr>\n    <tr>\n      <th>11962</th>\n      <td>B01AZC4NHS</td>\n      <td>Intel Compute Stick CS125 Computer with Intel ...</td>\n      <td>https://www.amazon.com/gp/slredirect/picassoRe...</td>\n      <td>301.85</td>\n      <td>4.2</td>\n      <td>523</td>\n      <td>Processor</td>\n    </tr>\n    <tr>\n      <th>11978</th>\n      <td>B08Z8CYXK8</td>\n      <td>GMK NucBox2 Mini PC with Intel Core i5-8259u P...</td>\n      <td>https://www.amazon.com/gp/slredirect/picassoRe...</td>\n      <td>499.99</td>\n      <td>4.0</td>\n      <td>3</td>\n      <td>Processor</td>\n    </tr>\n    <tr>\n      <th>11979</th>\n      <td>B085RZDVL5</td>\n      <td>Intel Celeron N3350 Processor (Z8350 Upgraded ...</td>\n      <td>https://www.amazon.com/gp/slredirect/picassoRe...</td>\n      <td>168.88</td>\n      <td>4.2</td>\n      <td>39</td>\n      <td>Processor</td>\n    </tr>\n    <tr>\n      <th>11992</th>\n      <td>B01AZC4NHS</td>\n      <td>Intel Compute Stick CS125 Computer with Intel ...</td>\n      <td>https://www.amazon.com/gp/slredirect/picassoRe...</td>\n      <td>301.85</td>\n      <td>4.2</td>\n      <td>523</td>\n      <td>Processor</td>\n    </tr>\n  </tbody>\n</table>\n<p>1562 rows × 7 columns</p>\n</div>"
     },
     "metadata": {},
     "execution_count": 24
    }
   ],
   "source": [
    "Processor = df_pro[['ASIN','title','url','price','rating','review_count','product_type']]\n",
    "Processor"
   ]
  },
  {
   "cell_type": "code",
   "execution_count": 25,
   "metadata": {},
   "outputs": [
    {
     "output_type": "stream",
     "name": "stderr",
     "text": [
      "<ipython-input-25-bc379b88566f>:1: SettingWithCopyWarning: \nA value is trying to be set on a copy of a slice from a DataFrame.\nTry using .loc[row_indexer,col_indexer] = value instead\n\nSee the caveats in the documentation: https://pandas.pydata.org/pandas-docs/stable/user_guide/indexing.html#returning-a-view-versus-a-copy\n  Processor['sponsored'] = Processor['title'].duplicated(keep=False).astype(int).astype(str)\n"
     ]
    }
   ],
   "source": [
    "Processor['sponsored'] = Processor['title'].duplicated(keep=False).astype(int).astype(str)"
   ]
  },
  {
   "cell_type": "code",
   "execution_count": 27,
   "metadata": {},
   "outputs": [
    {
     "output_type": "execute_result",
     "data": {
      "text/plain": [
       "             ASIN                                              title  \\\n",
       "1      B08RBJCQVP  Tablet 10 Inch Octa-Core Processor, 2GB, 32GB,...   \n",
       "2      B07SXMZLPK  AMD Ryzen 7 3700X 8-Core, 16-Thread Unlocked D...   \n",
       "3      B07HHN6KBZ  Intel Core i7-9700K Desktop Processor 8 Cores ...   \n",
       "4      B07STGGQ18  AMD Ryzen 5 3600 6-Core, 12-Thread Unlocked De...   \n",
       "5      B089J731BX  Intel Core i9-9900K Desktop Processor 8 Cores ...   \n",
       "...           ...                                                ...   \n",
       "11949  B085RZDVL5  Intel Celeron N3350 Processor (Z8350 Upgraded ...   \n",
       "11962  B01AZC4NHS  Intel Compute Stick CS125 Computer with Intel ...   \n",
       "11978  B08Z8CYXK8  GMK NucBox2 Mini PC with Intel Core i5-8259u P...   \n",
       "11979  B085RZDVL5  Intel Celeron N3350 Processor (Z8350 Upgraded ...   \n",
       "11992  B01AZC4NHS  Intel Compute Stick CS125 Computer with Intel ...   \n",
       "\n",
       "                                                     url   price  rating  \\\n",
       "1      https://www.amazon.com/gp/slredirect/picassoRe...  118.80     4.5   \n",
       "2      https://www.amazon.com/AMD-Ryzen-3700X-16-Thre...  319.00     4.9   \n",
       "3      https://www.amazon.com/Intel-i7-9700K-Desktop-...  291.00     4.8   \n",
       "4      https://www.amazon.com/AMD-Ryzen-3600-12-Threa...  233.98     4.9   \n",
       "5      https://www.amazon.com/Intel-i9-9900K-Processo...  399.95     4.8   \n",
       "...                                                  ...     ...     ...   \n",
       "11949  https://www.amazon.com/gp/slredirect/picassoRe...  168.88     4.2   \n",
       "11962  https://www.amazon.com/gp/slredirect/picassoRe...  301.85     4.2   \n",
       "11978  https://www.amazon.com/gp/slredirect/picassoRe...  499.99     4.0   \n",
       "11979  https://www.amazon.com/gp/slredirect/picassoRe...  168.88     4.2   \n",
       "11992  https://www.amazon.com/gp/slredirect/picassoRe...  301.85     4.2   \n",
       "\n",
       "       review_count product_type sponsored  \n",
       "1               112    Processor         1  \n",
       "2             19295    Processor         0  \n",
       "3              7691    Processor         0  \n",
       "4             30844    Processor         0  \n",
       "5               849    Processor         0  \n",
       "...             ...          ...       ...  \n",
       "11949            39    Processor         1  \n",
       "11962           523    Processor         1  \n",
       "11978             3    Processor         1  \n",
       "11979            39    Processor         1  \n",
       "11992           523    Processor         1  \n",
       "\n",
       "[1562 rows x 8 columns]"
      ],
      "text/html": "<div>\n<style scoped>\n    .dataframe tbody tr th:only-of-type {\n        vertical-align: middle;\n    }\n\n    .dataframe tbody tr th {\n        vertical-align: top;\n    }\n\n    .dataframe thead th {\n        text-align: right;\n    }\n</style>\n<table border=\"1\" class=\"dataframe\">\n  <thead>\n    <tr style=\"text-align: right;\">\n      <th></th>\n      <th>ASIN</th>\n      <th>title</th>\n      <th>url</th>\n      <th>price</th>\n      <th>rating</th>\n      <th>review_count</th>\n      <th>product_type</th>\n      <th>sponsored</th>\n    </tr>\n  </thead>\n  <tbody>\n    <tr>\n      <th>1</th>\n      <td>B08RBJCQVP</td>\n      <td>Tablet 10 Inch Octa-Core Processor, 2GB, 32GB,...</td>\n      <td>https://www.amazon.com/gp/slredirect/picassoRe...</td>\n      <td>118.80</td>\n      <td>4.5</td>\n      <td>112</td>\n      <td>Processor</td>\n      <td>1</td>\n    </tr>\n    <tr>\n      <th>2</th>\n      <td>B07SXMZLPK</td>\n      <td>AMD Ryzen 7 3700X 8-Core, 16-Thread Unlocked D...</td>\n      <td>https://www.amazon.com/AMD-Ryzen-3700X-16-Thre...</td>\n      <td>319.00</td>\n      <td>4.9</td>\n      <td>19295</td>\n      <td>Processor</td>\n      <td>0</td>\n    </tr>\n    <tr>\n      <th>3</th>\n      <td>B07HHN6KBZ</td>\n      <td>Intel Core i7-9700K Desktop Processor 8 Cores ...</td>\n      <td>https://www.amazon.com/Intel-i7-9700K-Desktop-...</td>\n      <td>291.00</td>\n      <td>4.8</td>\n      <td>7691</td>\n      <td>Processor</td>\n      <td>0</td>\n    </tr>\n    <tr>\n      <th>4</th>\n      <td>B07STGGQ18</td>\n      <td>AMD Ryzen 5 3600 6-Core, 12-Thread Unlocked De...</td>\n      <td>https://www.amazon.com/AMD-Ryzen-3600-12-Threa...</td>\n      <td>233.98</td>\n      <td>4.9</td>\n      <td>30844</td>\n      <td>Processor</td>\n      <td>0</td>\n    </tr>\n    <tr>\n      <th>5</th>\n      <td>B089J731BX</td>\n      <td>Intel Core i9-9900K Desktop Processor 8 Cores ...</td>\n      <td>https://www.amazon.com/Intel-i9-9900K-Processo...</td>\n      <td>399.95</td>\n      <td>4.8</td>\n      <td>849</td>\n      <td>Processor</td>\n      <td>0</td>\n    </tr>\n    <tr>\n      <th>...</th>\n      <td>...</td>\n      <td>...</td>\n      <td>...</td>\n      <td>...</td>\n      <td>...</td>\n      <td>...</td>\n      <td>...</td>\n      <td>...</td>\n    </tr>\n    <tr>\n      <th>11949</th>\n      <td>B085RZDVL5</td>\n      <td>Intel Celeron N3350 Processor (Z8350 Upgraded ...</td>\n      <td>https://www.amazon.com/gp/slredirect/picassoRe...</td>\n      <td>168.88</td>\n      <td>4.2</td>\n      <td>39</td>\n      <td>Processor</td>\n      <td>1</td>\n    </tr>\n    <tr>\n      <th>11962</th>\n      <td>B01AZC4NHS</td>\n      <td>Intel Compute Stick CS125 Computer with Intel ...</td>\n      <td>https://www.amazon.com/gp/slredirect/picassoRe...</td>\n      <td>301.85</td>\n      <td>4.2</td>\n      <td>523</td>\n      <td>Processor</td>\n      <td>1</td>\n    </tr>\n    <tr>\n      <th>11978</th>\n      <td>B08Z8CYXK8</td>\n      <td>GMK NucBox2 Mini PC with Intel Core i5-8259u P...</td>\n      <td>https://www.amazon.com/gp/slredirect/picassoRe...</td>\n      <td>499.99</td>\n      <td>4.0</td>\n      <td>3</td>\n      <td>Processor</td>\n      <td>1</td>\n    </tr>\n    <tr>\n      <th>11979</th>\n      <td>B085RZDVL5</td>\n      <td>Intel Celeron N3350 Processor (Z8350 Upgraded ...</td>\n      <td>https://www.amazon.com/gp/slredirect/picassoRe...</td>\n      <td>168.88</td>\n      <td>4.2</td>\n      <td>39</td>\n      <td>Processor</td>\n      <td>1</td>\n    </tr>\n    <tr>\n      <th>11992</th>\n      <td>B01AZC4NHS</td>\n      <td>Intel Compute Stick CS125 Computer with Intel ...</td>\n      <td>https://www.amazon.com/gp/slredirect/picassoRe...</td>\n      <td>301.85</td>\n      <td>4.2</td>\n      <td>523</td>\n      <td>Processor</td>\n      <td>1</td>\n    </tr>\n  </tbody>\n</table>\n<p>1562 rows × 8 columns</p>\n</div>"
     },
     "metadata": {},
     "execution_count": 27
    }
   ],
   "source": [
    "Processor"
   ]
  },
  {
   "cell_type": "code",
   "execution_count": 28,
   "metadata": {},
   "outputs": [],
   "source": [
    "df_pro.to_csv('Processor_summary.csv', index = False)"
   ]
  },
  {
   "cell_type": "code",
   "execution_count": null,
   "metadata": {},
   "outputs": [],
   "source": []
  }
 ]
}