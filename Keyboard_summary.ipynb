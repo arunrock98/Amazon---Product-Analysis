{
 "metadata": {
  "language_info": {
   "codemirror_mode": {
    "name": "ipython",
    "version": 3
   },
   "file_extension": ".py",
   "mimetype": "text/x-python",
   "name": "python",
   "nbconvert_exporter": "python",
   "pygments_lexer": "ipython3",
   "version": "3.8.5"
  },
  "orig_nbformat": 2,
  "kernelspec": {
   "name": "python385jvsc74a57bd0270186a92e8127b63c5d3590f36ef840a70d456bcd2647292e8c19b27c97f65a",
   "display_name": "Python 3.8.5 64-bit ('base': conda)"
  }
 },
 "nbformat": 4,
 "nbformat_minor": 2,
 "cells": [
  {
   "cell_type": "code",
   "execution_count": 1,
   "metadata": {},
   "outputs": [],
   "source": [
    "import pandas as pd\n",
    "import numpy as np"
   ]
  },
  {
   "cell_type": "code",
   "execution_count": 2,
   "metadata": {},
   "outputs": [],
   "source": [
    "df_key= pd.read_json(\"Keyboard_summary.json\")"
   ]
  },
  {
   "cell_type": "code",
   "execution_count": 3,
   "metadata": {},
   "outputs": [
    {
     "output_type": "execute_result",
     "data": {
      "text/plain": [
       "                                               title  \\\n",
       "0                      Amazon Basics Gaming Keyboard   \n",
       "1  Das Keyboard Model S Professional Mechanical K...   \n",
       "2  Manhattan Black Wired Keyboard (5 ft. USB-A Ca...   \n",
       "3  Logitech MK270 Wireless Keyboard and Mouse Com...   \n",
       "4  NPET K10 Gaming Keyboard USB Wired Floating Ke...   \n",
       "\n",
       "                                                 url              rating  \\\n",
       "0  https://www.amazon.com/gp/slredirect/picassoRe...  4.1 out of 5 stars   \n",
       "1  https://www.amazon.com/gp/slredirect/picassoRe...  4.3 out of 5 stars   \n",
       "2  https://www.amazon.com/gp/slredirect/picassoRe...  4.3 out of 5 stars   \n",
       "3  https://www.amazon.com/Logitech-MK270-Wireless...  4.6 out of 5 stars   \n",
       "4  https://www.amazon.com/NPET-Floating-Keyboard-...  4.5 out of 5 stars   \n",
       "\n",
       "  review_count    price        ASIN  \n",
       "0        1,050     None  B073VS6WNZ  \n",
       "1          396  $119.00  B008PFDUW2  \n",
       "2        1,558   $10.49  B07RQVB3HQ  \n",
       "3       41,180   $24.99  B079JLY5M5  \n",
       "4       12,691   $21.99  B01ALLT2W4  "
      ],
      "text/html": "<div>\n<style scoped>\n    .dataframe tbody tr th:only-of-type {\n        vertical-align: middle;\n    }\n\n    .dataframe tbody tr th {\n        vertical-align: top;\n    }\n\n    .dataframe thead th {\n        text-align: right;\n    }\n</style>\n<table border=\"1\" class=\"dataframe\">\n  <thead>\n    <tr style=\"text-align: right;\">\n      <th></th>\n      <th>title</th>\n      <th>url</th>\n      <th>rating</th>\n      <th>review_count</th>\n      <th>price</th>\n      <th>ASIN</th>\n    </tr>\n  </thead>\n  <tbody>\n    <tr>\n      <th>0</th>\n      <td>Amazon Basics Gaming Keyboard</td>\n      <td>https://www.amazon.com/gp/slredirect/picassoRe...</td>\n      <td>4.1 out of 5 stars</td>\n      <td>1,050</td>\n      <td>None</td>\n      <td>B073VS6WNZ</td>\n    </tr>\n    <tr>\n      <th>1</th>\n      <td>Das Keyboard Model S Professional Mechanical K...</td>\n      <td>https://www.amazon.com/gp/slredirect/picassoRe...</td>\n      <td>4.3 out of 5 stars</td>\n      <td>396</td>\n      <td>$119.00</td>\n      <td>B008PFDUW2</td>\n    </tr>\n    <tr>\n      <th>2</th>\n      <td>Manhattan Black Wired Keyboard (5 ft. USB-A Ca...</td>\n      <td>https://www.amazon.com/gp/slredirect/picassoRe...</td>\n      <td>4.3 out of 5 stars</td>\n      <td>1,558</td>\n      <td>$10.49</td>\n      <td>B07RQVB3HQ</td>\n    </tr>\n    <tr>\n      <th>3</th>\n      <td>Logitech MK270 Wireless Keyboard and Mouse Com...</td>\n      <td>https://www.amazon.com/Logitech-MK270-Wireless...</td>\n      <td>4.6 out of 5 stars</td>\n      <td>41,180</td>\n      <td>$24.99</td>\n      <td>B079JLY5M5</td>\n    </tr>\n    <tr>\n      <th>4</th>\n      <td>NPET K10 Gaming Keyboard USB Wired Floating Ke...</td>\n      <td>https://www.amazon.com/NPET-Floating-Keyboard-...</td>\n      <td>4.5 out of 5 stars</td>\n      <td>12,691</td>\n      <td>$21.99</td>\n      <td>B01ALLT2W4</td>\n    </tr>\n  </tbody>\n</table>\n</div>"
     },
     "metadata": {},
     "execution_count": 3
    }
   ],
   "source": [
    "df_key.head(5)"
   ]
  },
  {
   "cell_type": "code",
   "execution_count": 4,
   "metadata": {},
   "outputs": [
    {
     "output_type": "execute_result",
     "data": {
      "text/plain": [
       "title             0\n",
       "url               0\n",
       "rating          654\n",
       "review_count    654\n",
       "price           690\n",
       "ASIN              0\n",
       "dtype: int64"
      ]
     },
     "metadata": {},
     "execution_count": 4
    }
   ],
   "source": [
    "df_key.isnull().sum()"
   ]
  },
  {
   "cell_type": "code",
   "execution_count": 5,
   "metadata": {},
   "outputs": [
    {
     "output_type": "execute_result",
     "data": {
      "text/plain": [
       "                                                    title  \\\n",
       "count                                                8136   \n",
       "unique                                               5939   \n",
       "top     Wireless Keyboard,PINKCAT Rechargeable Bluetoo...   \n",
       "freq                                                  240   \n",
       "\n",
       "                                                      url              rating  \\\n",
       "count                                                8136                7482   \n",
       "unique                                               8136                  30   \n",
       "top     https://www.amazon.com/Ergonomics-Compatible-C...  4.4 out of 5 stars   \n",
       "freq                                                    1                1098   \n",
       "\n",
       "       review_count   price        ASIN  \n",
       "count          7482    7446        8136  \n",
       "unique         1334    1122        5957  \n",
       "top              15  $15.99  B08XKFLGJ1  \n",
       "freq            344     387         240  "
      ],
      "text/html": "<div>\n<style scoped>\n    .dataframe tbody tr th:only-of-type {\n        vertical-align: middle;\n    }\n\n    .dataframe tbody tr th {\n        vertical-align: top;\n    }\n\n    .dataframe thead th {\n        text-align: right;\n    }\n</style>\n<table border=\"1\" class=\"dataframe\">\n  <thead>\n    <tr style=\"text-align: right;\">\n      <th></th>\n      <th>title</th>\n      <th>url</th>\n      <th>rating</th>\n      <th>review_count</th>\n      <th>price</th>\n      <th>ASIN</th>\n    </tr>\n  </thead>\n  <tbody>\n    <tr>\n      <th>count</th>\n      <td>8136</td>\n      <td>8136</td>\n      <td>7482</td>\n      <td>7482</td>\n      <td>7446</td>\n      <td>8136</td>\n    </tr>\n    <tr>\n      <th>unique</th>\n      <td>5939</td>\n      <td>8136</td>\n      <td>30</td>\n      <td>1334</td>\n      <td>1122</td>\n      <td>5957</td>\n    </tr>\n    <tr>\n      <th>top</th>\n      <td>Wireless Keyboard,PINKCAT Rechargeable Bluetoo...</td>\n      <td>https://www.amazon.com/Ergonomics-Compatible-C...</td>\n      <td>4.4 out of 5 stars</td>\n      <td>15</td>\n      <td>$15.99</td>\n      <td>B08XKFLGJ1</td>\n    </tr>\n    <tr>\n      <th>freq</th>\n      <td>240</td>\n      <td>1</td>\n      <td>1098</td>\n      <td>344</td>\n      <td>387</td>\n      <td>240</td>\n    </tr>\n  </tbody>\n</table>\n</div>"
     },
     "metadata": {},
     "execution_count": 5
    }
   ],
   "source": [
    "df_key.describe()"
   ]
  },
  {
   "cell_type": "code",
   "execution_count": 6,
   "metadata": {},
   "outputs": [
    {
     "output_type": "stream",
     "name": "stdout",
     "text": [
      "<class 'pandas.core.frame.DataFrame'>\nRangeIndex: 8136 entries, 0 to 8135\nData columns (total 6 columns):\n #   Column        Non-Null Count  Dtype \n---  ------        --------------  ----- \n 0   title         8136 non-null   object\n 1   url           8136 non-null   object\n 2   rating        7482 non-null   object\n 3   review_count  7482 non-null   object\n 4   price         7446 non-null   object\n 5   ASIN          8136 non-null   object\ndtypes: object(6)\nmemory usage: 381.5+ KB\n"
     ]
    }
   ],
   "source": [
    "df_key.info()"
   ]
  },
  {
   "cell_type": "code",
   "execution_count": 7,
   "metadata": {},
   "outputs": [],
   "source": [
    "df_key.dropna(inplace=True)"
   ]
  },
  {
   "cell_type": "code",
   "execution_count": 8,
   "metadata": {},
   "outputs": [
    {
     "output_type": "execute_result",
     "data": {
      "text/plain": [
       "1       4.3 out of 5 stars\n",
       "2       4.3 out of 5 stars\n",
       "3       4.6 out of 5 stars\n",
       "4       4.5 out of 5 stars\n",
       "6       4.6 out of 5 stars\n",
       "               ...        \n",
       "8131    4.1 out of 5 stars\n",
       "8132    5.0 out of 5 stars\n",
       "8133    4.5 out of 5 stars\n",
       "8134    5.0 out of 5 stars\n",
       "8135    4.4 out of 5 stars\n",
       "Name: rating, Length: 6823, dtype: object"
      ]
     },
     "metadata": {},
     "execution_count": 8
    }
   ],
   "source": [
    "df_key.rating"
   ]
  },
  {
   "cell_type": "code",
   "execution_count": 9,
   "metadata": {},
   "outputs": [
    {
     "output_type": "execute_result",
     "data": {
      "text/plain": [
       "['4.3', 'out', 'of', '5', 'stars']"
      ]
     },
     "metadata": {},
     "execution_count": 9
    }
   ],
   "source": [
    "df_key.rating.iloc[0].split(\" \")\n"
   ]
  },
  {
   "cell_type": "code",
   "execution_count": 10,
   "metadata": {},
   "outputs": [
    {
     "output_type": "execute_result",
     "data": {
      "text/plain": [
       "'4.3'"
      ]
     },
     "metadata": {},
     "execution_count": 10
    }
   ],
   "source": [
    "df_key.rating.iloc[0].split(\" \")[0]"
   ]
  },
  {
   "cell_type": "code",
   "execution_count": 11,
   "metadata": {},
   "outputs": [
    {
     "output_type": "execute_result",
     "data": {
      "text/plain": [
       "                                               title  \\\n",
       "1  Das Keyboard Model S Professional Mechanical K...   \n",
       "2  Manhattan Black Wired Keyboard (5 ft. USB-A Ca...   \n",
       "3  Logitech MK270 Wireless Keyboard and Mouse Com...   \n",
       "4  NPET K10 Gaming Keyboard USB Wired Floating Ke...   \n",
       "6  Logitech Desktop MK120 Durable, Comfortable, U...   \n",
       "\n",
       "                                                 url rating review_count  \\\n",
       "1  https://www.amazon.com/gp/slredirect/picassoRe...    4.3          396   \n",
       "2  https://www.amazon.com/gp/slredirect/picassoRe...    4.3        1,558   \n",
       "3  https://www.amazon.com/Logitech-MK270-Wireless...    4.6       41,180   \n",
       "4  https://www.amazon.com/NPET-Floating-Keyboard-...    4.5       12,691   \n",
       "6  https://www.amazon.com/Logitech-Desktop-Durabl...    4.6       12,504   \n",
       "\n",
       "     price        ASIN  \n",
       "1  $119.00  B008PFDUW2  \n",
       "2   $10.49  B07RQVB3HQ  \n",
       "3   $24.99  B079JLY5M5  \n",
       "4   $21.99  B01ALLT2W4  \n",
       "6   $17.99  B003NREDC8  "
      ],
      "text/html": "<div>\n<style scoped>\n    .dataframe tbody tr th:only-of-type {\n        vertical-align: middle;\n    }\n\n    .dataframe tbody tr th {\n        vertical-align: top;\n    }\n\n    .dataframe thead th {\n        text-align: right;\n    }\n</style>\n<table border=\"1\" class=\"dataframe\">\n  <thead>\n    <tr style=\"text-align: right;\">\n      <th></th>\n      <th>title</th>\n      <th>url</th>\n      <th>rating</th>\n      <th>review_count</th>\n      <th>price</th>\n      <th>ASIN</th>\n    </tr>\n  </thead>\n  <tbody>\n    <tr>\n      <th>1</th>\n      <td>Das Keyboard Model S Professional Mechanical K...</td>\n      <td>https://www.amazon.com/gp/slredirect/picassoRe...</td>\n      <td>4.3</td>\n      <td>396</td>\n      <td>$119.00</td>\n      <td>B008PFDUW2</td>\n    </tr>\n    <tr>\n      <th>2</th>\n      <td>Manhattan Black Wired Keyboard (5 ft. USB-A Ca...</td>\n      <td>https://www.amazon.com/gp/slredirect/picassoRe...</td>\n      <td>4.3</td>\n      <td>1,558</td>\n      <td>$10.49</td>\n      <td>B07RQVB3HQ</td>\n    </tr>\n    <tr>\n      <th>3</th>\n      <td>Logitech MK270 Wireless Keyboard and Mouse Com...</td>\n      <td>https://www.amazon.com/Logitech-MK270-Wireless...</td>\n      <td>4.6</td>\n      <td>41,180</td>\n      <td>$24.99</td>\n      <td>B079JLY5M5</td>\n    </tr>\n    <tr>\n      <th>4</th>\n      <td>NPET K10 Gaming Keyboard USB Wired Floating Ke...</td>\n      <td>https://www.amazon.com/NPET-Floating-Keyboard-...</td>\n      <td>4.5</td>\n      <td>12,691</td>\n      <td>$21.99</td>\n      <td>B01ALLT2W4</td>\n    </tr>\n    <tr>\n      <th>6</th>\n      <td>Logitech Desktop MK120 Durable, Comfortable, U...</td>\n      <td>https://www.amazon.com/Logitech-Desktop-Durabl...</td>\n      <td>4.6</td>\n      <td>12,504</td>\n      <td>$17.99</td>\n      <td>B003NREDC8</td>\n    </tr>\n  </tbody>\n</table>\n</div>"
     },
     "metadata": {},
     "execution_count": 11
    }
   ],
   "source": [
    "df_key.rating = df_key.rating.map(lambda x: x.split(' ')[0])\n",
    "df_key.head(5)\n"
   ]
  },
  {
   "cell_type": "code",
   "execution_count": 12,
   "metadata": {},
   "outputs": [
    {
     "output_type": "execute_result",
     "data": {
      "text/plain": [
       "'119.00'"
      ]
     },
     "metadata": {},
     "execution_count": 12
    }
   ],
   "source": [
    "df_key.price.iloc[0].split(\"$\")[1]"
   ]
  },
  {
   "cell_type": "code",
   "execution_count": 13,
   "metadata": {},
   "outputs": [
    {
     "output_type": "execute_result",
     "data": {
      "text/plain": [
       "                                               title  \\\n",
       "1  Das Keyboard Model S Professional Mechanical K...   \n",
       "2  Manhattan Black Wired Keyboard (5 ft. USB-A Ca...   \n",
       "3  Logitech MK270 Wireless Keyboard and Mouse Com...   \n",
       "4  NPET K10 Gaming Keyboard USB Wired Floating Ke...   \n",
       "6  Logitech Desktop MK120 Durable, Comfortable, U...   \n",
       "\n",
       "                                                 url rating review_count  \\\n",
       "1  https://www.amazon.com/gp/slredirect/picassoRe...    4.3          396   \n",
       "2  https://www.amazon.com/gp/slredirect/picassoRe...    4.3        1,558   \n",
       "3  https://www.amazon.com/Logitech-MK270-Wireless...    4.6       41,180   \n",
       "4  https://www.amazon.com/NPET-Floating-Keyboard-...    4.5       12,691   \n",
       "6  https://www.amazon.com/Logitech-Desktop-Durabl...    4.6       12,504   \n",
       "\n",
       "    price        ASIN  \n",
       "1  119.00  B008PFDUW2  \n",
       "2   10.49  B07RQVB3HQ  \n",
       "3   24.99  B079JLY5M5  \n",
       "4   21.99  B01ALLT2W4  \n",
       "6   17.99  B003NREDC8  "
      ],
      "text/html": "<div>\n<style scoped>\n    .dataframe tbody tr th:only-of-type {\n        vertical-align: middle;\n    }\n\n    .dataframe tbody tr th {\n        vertical-align: top;\n    }\n\n    .dataframe thead th {\n        text-align: right;\n    }\n</style>\n<table border=\"1\" class=\"dataframe\">\n  <thead>\n    <tr style=\"text-align: right;\">\n      <th></th>\n      <th>title</th>\n      <th>url</th>\n      <th>rating</th>\n      <th>review_count</th>\n      <th>price</th>\n      <th>ASIN</th>\n    </tr>\n  </thead>\n  <tbody>\n    <tr>\n      <th>1</th>\n      <td>Das Keyboard Model S Professional Mechanical K...</td>\n      <td>https://www.amazon.com/gp/slredirect/picassoRe...</td>\n      <td>4.3</td>\n      <td>396</td>\n      <td>119.00</td>\n      <td>B008PFDUW2</td>\n    </tr>\n    <tr>\n      <th>2</th>\n      <td>Manhattan Black Wired Keyboard (5 ft. USB-A Ca...</td>\n      <td>https://www.amazon.com/gp/slredirect/picassoRe...</td>\n      <td>4.3</td>\n      <td>1,558</td>\n      <td>10.49</td>\n      <td>B07RQVB3HQ</td>\n    </tr>\n    <tr>\n      <th>3</th>\n      <td>Logitech MK270 Wireless Keyboard and Mouse Com...</td>\n      <td>https://www.amazon.com/Logitech-MK270-Wireless...</td>\n      <td>4.6</td>\n      <td>41,180</td>\n      <td>24.99</td>\n      <td>B079JLY5M5</td>\n    </tr>\n    <tr>\n      <th>4</th>\n      <td>NPET K10 Gaming Keyboard USB Wired Floating Ke...</td>\n      <td>https://www.amazon.com/NPET-Floating-Keyboard-...</td>\n      <td>4.5</td>\n      <td>12,691</td>\n      <td>21.99</td>\n      <td>B01ALLT2W4</td>\n    </tr>\n    <tr>\n      <th>6</th>\n      <td>Logitech Desktop MK120 Durable, Comfortable, U...</td>\n      <td>https://www.amazon.com/Logitech-Desktop-Durabl...</td>\n      <td>4.6</td>\n      <td>12,504</td>\n      <td>17.99</td>\n      <td>B003NREDC8</td>\n    </tr>\n  </tbody>\n</table>\n</div>"
     },
     "metadata": {},
     "execution_count": 13
    }
   ],
   "source": [
    "df_key.price= df_key.apply(lambda x: x['price'].split(\"$\")[-1], axis = 1)\n",
    "df_key.head(5)"
   ]
  },
  {
   "cell_type": "code",
   "execution_count": 14,
   "metadata": {},
   "outputs": [],
   "source": [
    "df_key.review_count=df_key.review_count.str.replace(\",\",\"\")\n",
    "df_key.price = df_key.price.str.replace(\",\",\"\")"
   ]
  },
  {
   "cell_type": "code",
   "execution_count": 15,
   "metadata": {},
   "outputs": [],
   "source": [
    "df_key.price = df_key.price.astype(\"float\")\n",
    "df_key.rating = df_key.rating.astype(\"float\")\n",
    "df_key.review_count = df_key.review_count.astype(\"int\")"
   ]
  },
  {
   "cell_type": "code",
   "execution_count": 16,
   "metadata": {},
   "outputs": [
    {
     "output_type": "execute_result",
     "data": {
      "text/plain": [
       "title            object\n",
       "url              object\n",
       "rating          float64\n",
       "review_count      int32\n",
       "price           float64\n",
       "ASIN             object\n",
       "dtype: object"
      ]
     },
     "metadata": {},
     "execution_count": 16
    }
   ],
   "source": [
    "df_key.dtypes"
   ]
  },
  {
   "cell_type": "code",
   "execution_count": 17,
   "metadata": {},
   "outputs": [],
   "source": [
    "df_key[\"product_type\"] = \"Keyboard\""
   ]
  },
  {
   "cell_type": "code",
   "execution_count": 18,
   "metadata": {},
   "outputs": [
    {
     "output_type": "execute_result",
     "data": {
      "text/plain": [
       "            ASIN                                              title   price  \\\n",
       "1     B008PFDUW2  Das Keyboard Model S Professional Mechanical K...  119.00   \n",
       "2     B07RQVB3HQ  Manhattan Black Wired Keyboard (5 ft. USB-A Ca...   10.49   \n",
       "3     B079JLY5M5  Logitech MK270 Wireless Keyboard and Mouse Com...   24.99   \n",
       "4     B01ALLT2W4  NPET K10 Gaming Keyboard USB Wired Floating Ke...   21.99   \n",
       "6     B003NREDC8  Logitech Desktop MK120 Durable, Comfortable, U...   17.99   \n",
       "...          ...                                                ...     ...   \n",
       "8131  B08JG7YSLS  i-King for MacBook Pro 16 inch Case (2019 2020...   25.88   \n",
       "8132  B084RSRGQQ  PS2 to USB Connector Converter Adapter - for P...    5.99   \n",
       "8133  B0026K2M62  NEW Silver US Laptop Keyboard for Dell Inspiro...   29.99   \n",
       "8134  B08HP8FWMY  Wireless Keyboard and Mouse Combo, WisFox Ultr...   39.99   \n",
       "8135  B08KXJ9BCH  Wireless Keyboard Mouse Combo, Cimetech Compac...   33.99   \n",
       "\n",
       "      rating  review_count product_type  \n",
       "1        4.3           396     Keyboard  \n",
       "2        4.3          1558     Keyboard  \n",
       "3        4.6         41180     Keyboard  \n",
       "4        4.5         12691     Keyboard  \n",
       "6        4.6         12504     Keyboard  \n",
       "...      ...           ...          ...  \n",
       "8131     4.1             7     Keyboard  \n",
       "8132     5.0             7     Keyboard  \n",
       "8133     4.5           273     Keyboard  \n",
       "8134     5.0            12     Keyboard  \n",
       "8135     4.4          1078     Keyboard  \n",
       "\n",
       "[6823 rows x 6 columns]"
      ],
      "text/html": "<div>\n<style scoped>\n    .dataframe tbody tr th:only-of-type {\n        vertical-align: middle;\n    }\n\n    .dataframe tbody tr th {\n        vertical-align: top;\n    }\n\n    .dataframe thead th {\n        text-align: right;\n    }\n</style>\n<table border=\"1\" class=\"dataframe\">\n  <thead>\n    <tr style=\"text-align: right;\">\n      <th></th>\n      <th>ASIN</th>\n      <th>title</th>\n      <th>price</th>\n      <th>rating</th>\n      <th>review_count</th>\n      <th>product_type</th>\n    </tr>\n  </thead>\n  <tbody>\n    <tr>\n      <th>1</th>\n      <td>B008PFDUW2</td>\n      <td>Das Keyboard Model S Professional Mechanical K...</td>\n      <td>119.00</td>\n      <td>4.3</td>\n      <td>396</td>\n      <td>Keyboard</td>\n    </tr>\n    <tr>\n      <th>2</th>\n      <td>B07RQVB3HQ</td>\n      <td>Manhattan Black Wired Keyboard (5 ft. USB-A Ca...</td>\n      <td>10.49</td>\n      <td>4.3</td>\n      <td>1558</td>\n      <td>Keyboard</td>\n    </tr>\n    <tr>\n      <th>3</th>\n      <td>B079JLY5M5</td>\n      <td>Logitech MK270 Wireless Keyboard and Mouse Com...</td>\n      <td>24.99</td>\n      <td>4.6</td>\n      <td>41180</td>\n      <td>Keyboard</td>\n    </tr>\n    <tr>\n      <th>4</th>\n      <td>B01ALLT2W4</td>\n      <td>NPET K10 Gaming Keyboard USB Wired Floating Ke...</td>\n      <td>21.99</td>\n      <td>4.5</td>\n      <td>12691</td>\n      <td>Keyboard</td>\n    </tr>\n    <tr>\n      <th>6</th>\n      <td>B003NREDC8</td>\n      <td>Logitech Desktop MK120 Durable, Comfortable, U...</td>\n      <td>17.99</td>\n      <td>4.6</td>\n      <td>12504</td>\n      <td>Keyboard</td>\n    </tr>\n    <tr>\n      <th>...</th>\n      <td>...</td>\n      <td>...</td>\n      <td>...</td>\n      <td>...</td>\n      <td>...</td>\n      <td>...</td>\n    </tr>\n    <tr>\n      <th>8131</th>\n      <td>B08JG7YSLS</td>\n      <td>i-King for MacBook Pro 16 inch Case (2019 2020...</td>\n      <td>25.88</td>\n      <td>4.1</td>\n      <td>7</td>\n      <td>Keyboard</td>\n    </tr>\n    <tr>\n      <th>8132</th>\n      <td>B084RSRGQQ</td>\n      <td>PS2 to USB Connector Converter Adapter - for P...</td>\n      <td>5.99</td>\n      <td>5.0</td>\n      <td>7</td>\n      <td>Keyboard</td>\n    </tr>\n    <tr>\n      <th>8133</th>\n      <td>B0026K2M62</td>\n      <td>NEW Silver US Laptop Keyboard for Dell Inspiro...</td>\n      <td>29.99</td>\n      <td>4.5</td>\n      <td>273</td>\n      <td>Keyboard</td>\n    </tr>\n    <tr>\n      <th>8134</th>\n      <td>B08HP8FWMY</td>\n      <td>Wireless Keyboard and Mouse Combo, WisFox Ultr...</td>\n      <td>39.99</td>\n      <td>5.0</td>\n      <td>12</td>\n      <td>Keyboard</td>\n    </tr>\n    <tr>\n      <th>8135</th>\n      <td>B08KXJ9BCH</td>\n      <td>Wireless Keyboard Mouse Combo, Cimetech Compac...</td>\n      <td>33.99</td>\n      <td>4.4</td>\n      <td>1078</td>\n      <td>Keyboard</td>\n    </tr>\n  </tbody>\n</table>\n<p>6823 rows × 6 columns</p>\n</div>"
     },
     "metadata": {},
     "execution_count": 18
    }
   ],
   "source": [
    "Keyboard = df_key[['ASIN','title','price','rating','review_count','product_type']]\n",
    "Keyboard"
   ]
  },
  {
   "cell_type": "code",
   "execution_count": null,
   "metadata": {},
   "outputs": [],
   "source": []
  },
  {
   "cell_type": "code",
   "execution_count": 19,
   "metadata": {},
   "outputs": [],
   "source": [
    "df_key.to_csv('Keyboard_summary.csv', index = False)"
   ]
  },
  {
   "cell_type": "code",
   "execution_count": null,
   "metadata": {},
   "outputs": [],
   "source": []
  }
 ]
}