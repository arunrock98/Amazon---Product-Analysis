{
 "metadata": {
  "language_info": {
   "codemirror_mode": {
    "name": "ipython",
    "version": 3
   },
   "file_extension": ".py",
   "mimetype": "text/x-python",
   "name": "python",
   "nbconvert_exporter": "python",
   "pygments_lexer": "ipython3",
   "version": "3.8.5"
  },
  "orig_nbformat": 2,
  "kernelspec": {
   "name": "python385jvsc74a57bd0270186a92e8127b63c5d3590f36ef840a70d456bcd2647292e8c19b27c97f65a",
   "display_name": "Python 3.8.5 64-bit ('base': conda)"
  }
 },
 "nbformat": 4,
 "nbformat_minor": 2,
 "cells": [
  {
   "cell_type": "code",
   "execution_count": 1,
   "metadata": {},
   "outputs": [],
   "source": [
    "import pandas as pd\n",
    "import numpy as np"
   ]
  },
  {
   "cell_type": "code",
   "execution_count": 2,
   "metadata": {},
   "outputs": [],
   "source": [
    "df_lap= pd.read_json(\"laptop_summary.json\")"
   ]
  },
  {
   "cell_type": "code",
   "execution_count": 180,
   "metadata": {},
   "outputs": [
    {
     "output_type": "execute_result",
     "data": {
      "text/plain": [
       "                                               title  \\\n",
       "0  CHUWI HeroBook Pro+ Laptop,13.3” 3200x1800 Res...   \n",
       "1  HP Chromebook 11 G5 11.6 inches Chromebook - I...   \n",
       "2  HP 15 Laptop, 11th Gen Intel Core i5-1135G7 Pr...   \n",
       "3  HP Chromebook 14-inch HD Laptop, Intel Celeron...   \n",
       "4  ASUS Laptop L210 Ultra Thin Laptop, 11.6” HD D...   \n",
       "\n",
       "                                                 url              rating  \\\n",
       "0  https://www.amazon.com/gp/slredirect/picassoRe...  3.2 out of 5 stars   \n",
       "1  https://www.amazon.com/gp/slredirect/picassoRe...  4.0 out of 5 stars   \n",
       "2  https://www.amazon.com/HP-i5-1135G7-Processor-...  4.4 out of 5 stars   \n",
       "3  https://www.amazon.com/HP-Chromebook-14-inch-C...  4.5 out of 5 stars   \n",
       "4  https://www.amazon.com/ASUS-Processor-NumberPa...  4.3 out of 5 stars   \n",
       "\n",
       "  review_count    price price1  \n",
       "0           11  $279.00  279 .  \n",
       "1           52  $169.00  169 .  \n",
       "2          185  $599.00  599 .  \n",
       "3        3,668     None   None  \n",
       "4        6,507  $226.95  226 .  "
      ],
      "text/html": "<div>\n<style scoped>\n    .dataframe tbody tr th:only-of-type {\n        vertical-align: middle;\n    }\n\n    .dataframe tbody tr th {\n        vertical-align: top;\n    }\n\n    .dataframe thead th {\n        text-align: right;\n    }\n</style>\n<table border=\"1\" class=\"dataframe\">\n  <thead>\n    <tr style=\"text-align: right;\">\n      <th></th>\n      <th>title</th>\n      <th>url</th>\n      <th>rating</th>\n      <th>review_count</th>\n      <th>price</th>\n      <th>price1</th>\n    </tr>\n  </thead>\n  <tbody>\n    <tr>\n      <th>0</th>\n      <td>CHUWI HeroBook Pro+ Laptop,13.3” 3200x1800 Res...</td>\n      <td>https://www.amazon.com/gp/slredirect/picassoRe...</td>\n      <td>3.2 out of 5 stars</td>\n      <td>11</td>\n      <td>$279.00</td>\n      <td>279 .</td>\n    </tr>\n    <tr>\n      <th>1</th>\n      <td>HP Chromebook 11 G5 11.6 inches Chromebook - I...</td>\n      <td>https://www.amazon.com/gp/slredirect/picassoRe...</td>\n      <td>4.0 out of 5 stars</td>\n      <td>52</td>\n      <td>$169.00</td>\n      <td>169 .</td>\n    </tr>\n    <tr>\n      <th>2</th>\n      <td>HP 15 Laptop, 11th Gen Intel Core i5-1135G7 Pr...</td>\n      <td>https://www.amazon.com/HP-i5-1135G7-Processor-...</td>\n      <td>4.4 out of 5 stars</td>\n      <td>185</td>\n      <td>$599.00</td>\n      <td>599 .</td>\n    </tr>\n    <tr>\n      <th>3</th>\n      <td>HP Chromebook 14-inch HD Laptop, Intel Celeron...</td>\n      <td>https://www.amazon.com/HP-Chromebook-14-inch-C...</td>\n      <td>4.5 out of 5 stars</td>\n      <td>3,668</td>\n      <td>None</td>\n      <td>None</td>\n    </tr>\n    <tr>\n      <th>4</th>\n      <td>ASUS Laptop L210 Ultra Thin Laptop, 11.6” HD D...</td>\n      <td>https://www.amazon.com/ASUS-Processor-NumberPa...</td>\n      <td>4.3 out of 5 stars</td>\n      <td>6,507</td>\n      <td>$226.95</td>\n      <td>226 .</td>\n    </tr>\n  </tbody>\n</table>\n</div>"
     },
     "metadata": {},
     "execution_count": 180
    }
   ],
   "source": [
    "df_lap.head(5)"
   ]
  },
  {
   "cell_type": "code",
   "execution_count": 181,
   "metadata": {},
   "outputs": [
    {
     "output_type": "execute_result",
     "data": {
      "text/plain": [
       "title           object\n",
       "url             object\n",
       "rating          object\n",
       "review_count    object\n",
       "price           object\n",
       "price1          object\n",
       "dtype: object"
      ]
     },
     "metadata": {},
     "execution_count": 181
    }
   ],
   "source": [
    "df_lap.dtypes"
   ]
  },
  {
   "cell_type": "code",
   "execution_count": 184,
   "metadata": {},
   "outputs": [],
   "source": [
    "df_lap.to_csv('laptop111.csv', index = False)"
   ]
  },
  {
   "cell_type": "code",
   "execution_count": 107,
   "metadata": {},
   "outputs": [
    {
     "output_type": "execute_result",
     "data": {
      "text/plain": [
       "title              0\n",
       "url                0\n",
       "rating          1312\n",
       "review_count    1312\n",
       "price           1968\n",
       "price1          1968\n",
       "dtype: int64"
      ]
     },
     "metadata": {},
     "execution_count": 107
    }
   ],
   "source": [
    "df_lap.isnull().sum()"
   ]
  },
  {
   "cell_type": "code",
   "execution_count": 108,
   "metadata": {},
   "outputs": [],
   "source": [
    "df_lap.dropna(inplace=True)"
   ]
  },
  {
   "cell_type": "code",
   "execution_count": 109,
   "metadata": {},
   "outputs": [
    {
     "output_type": "execute_result",
     "data": {
      "text/plain": [
       "title           0\n",
       "url             0\n",
       "rating          0\n",
       "review_count    0\n",
       "price           0\n",
       "price1          0\n",
       "dtype: int64"
      ]
     },
     "metadata": {},
     "execution_count": 109
    }
   ],
   "source": [
    "df_lap.isnull().sum()"
   ]
  },
  {
   "cell_type": "code",
   "execution_count": 110,
   "metadata": {},
   "outputs": [],
   "source": [
    "df_lap = df_lap.reset_index(drop=True)"
   ]
  },
  {
   "cell_type": "code",
   "execution_count": 111,
   "metadata": {},
   "outputs": [
    {
     "output_type": "execute_result",
     "data": {
      "text/plain": [
       "                                                  title  \\\n",
       "0     CHUWI HeroBook Pro+ Laptop,13.3” 3200x1800 Res...   \n",
       "1     HP Chromebook 11 G5 11.6 inches Chromebook - I...   \n",
       "2     HP 15 Laptop, 11th Gen Intel Core i5-1135G7 Pr...   \n",
       "3     ASUS Laptop L210 Ultra Thin Laptop, 11.6” HD D...   \n",
       "4     2021 Lenovo ThinkPad E14 Laptop 14\" FHD Busine...   \n",
       "...                                                 ...   \n",
       "2845  Laptop 14 Inch, Winnovo N140, 6GB RAM, 128GB S...   \n",
       "2846  Jumper Laptop 13.3 inch 8GB RAM 128GB ROM Quad...   \n",
       "2847  Laptop Computers 14-Inch Windows-10 Notebook -...   \n",
       "2848  MSI WS75 10TM-492 Mobile Workstation i9-10980H...   \n",
       "2849  Laptop 14 Inch, Winnovo N140, 6GB RAM, 128GB S...   \n",
       "\n",
       "                                                    url              rating  \\\n",
       "0     https://www.amazon.com/gp/slredirect/picassoRe...  3.2 out of 5 stars   \n",
       "1     https://www.amazon.com/gp/slredirect/picassoRe...  4.0 out of 5 stars   \n",
       "2     https://www.amazon.com/HP-i5-1135G7-Processor-...  4.4 out of 5 stars   \n",
       "3     https://www.amazon.com/ASUS-Processor-NumberPa...  4.3 out of 5 stars   \n",
       "4     https://www.amazon.com/Lenovo-ThinkPad-i5-1021...  4.5 out of 5 stars   \n",
       "...                                                 ...                 ...   \n",
       "2845  https://www.amazon.com/gp/slredirect/picassoRe...  4.0 out of 5 stars   \n",
       "2846  https://www.amazon.com/gp/slredirect/picassoRe...  4.3 out of 5 stars   \n",
       "2847  https://www.amazon.com/gp/slredirect/picassoRe...  3.6 out of 5 stars   \n",
       "2848  https://www.amazon.com/MSI-WS75-10TM-492-Works...  5.0 out of 5 stars   \n",
       "2849  https://www.amazon.com/gp/slredirect/picassoRe...  4.0 out of 5 stars   \n",
       "\n",
       "     review_count      price   price1  \n",
       "0              11    $279.00    279 .  \n",
       "1              52    $169.00    169 .  \n",
       "2             185    $599.00    599 .  \n",
       "3           6,507    $226.95    226 .  \n",
       "4               2    $799.99    799 .  \n",
       "...           ...        ...      ...  \n",
       "2845           49    $339.00    339 .  \n",
       "2846        2,062    $299.99    299 .  \n",
       "2847           41    $309.00    309 .  \n",
       "2848            1  $3,936.99  3,936 .  \n",
       "2849           30    $349.00    349 .  \n",
       "\n",
       "[2850 rows x 6 columns]"
      ],
      "text/html": "<div>\n<style scoped>\n    .dataframe tbody tr th:only-of-type {\n        vertical-align: middle;\n    }\n\n    .dataframe tbody tr th {\n        vertical-align: top;\n    }\n\n    .dataframe thead th {\n        text-align: right;\n    }\n</style>\n<table border=\"1\" class=\"dataframe\">\n  <thead>\n    <tr style=\"text-align: right;\">\n      <th></th>\n      <th>title</th>\n      <th>url</th>\n      <th>rating</th>\n      <th>review_count</th>\n      <th>price</th>\n      <th>price1</th>\n    </tr>\n  </thead>\n  <tbody>\n    <tr>\n      <th>0</th>\n      <td>CHUWI HeroBook Pro+ Laptop,13.3” 3200x1800 Res...</td>\n      <td>https://www.amazon.com/gp/slredirect/picassoRe...</td>\n      <td>3.2 out of 5 stars</td>\n      <td>11</td>\n      <td>$279.00</td>\n      <td>279 .</td>\n    </tr>\n    <tr>\n      <th>1</th>\n      <td>HP Chromebook 11 G5 11.6 inches Chromebook - I...</td>\n      <td>https://www.amazon.com/gp/slredirect/picassoRe...</td>\n      <td>4.0 out of 5 stars</td>\n      <td>52</td>\n      <td>$169.00</td>\n      <td>169 .</td>\n    </tr>\n    <tr>\n      <th>2</th>\n      <td>HP 15 Laptop, 11th Gen Intel Core i5-1135G7 Pr...</td>\n      <td>https://www.amazon.com/HP-i5-1135G7-Processor-...</td>\n      <td>4.4 out of 5 stars</td>\n      <td>185</td>\n      <td>$599.00</td>\n      <td>599 .</td>\n    </tr>\n    <tr>\n      <th>3</th>\n      <td>ASUS Laptop L210 Ultra Thin Laptop, 11.6” HD D...</td>\n      <td>https://www.amazon.com/ASUS-Processor-NumberPa...</td>\n      <td>4.3 out of 5 stars</td>\n      <td>6,507</td>\n      <td>$226.95</td>\n      <td>226 .</td>\n    </tr>\n    <tr>\n      <th>4</th>\n      <td>2021 Lenovo ThinkPad E14 Laptop 14\" FHD Busine...</td>\n      <td>https://www.amazon.com/Lenovo-ThinkPad-i5-1021...</td>\n      <td>4.5 out of 5 stars</td>\n      <td>2</td>\n      <td>$799.99</td>\n      <td>799 .</td>\n    </tr>\n    <tr>\n      <th>...</th>\n      <td>...</td>\n      <td>...</td>\n      <td>...</td>\n      <td>...</td>\n      <td>...</td>\n      <td>...</td>\n    </tr>\n    <tr>\n      <th>2845</th>\n      <td>Laptop 14 Inch, Winnovo N140, 6GB RAM, 128GB S...</td>\n      <td>https://www.amazon.com/gp/slredirect/picassoRe...</td>\n      <td>4.0 out of 5 stars</td>\n      <td>49</td>\n      <td>$339.00</td>\n      <td>339 .</td>\n    </tr>\n    <tr>\n      <th>2846</th>\n      <td>Jumper Laptop 13.3 inch 8GB RAM 128GB ROM Quad...</td>\n      <td>https://www.amazon.com/gp/slredirect/picassoRe...</td>\n      <td>4.3 out of 5 stars</td>\n      <td>2,062</td>\n      <td>$299.99</td>\n      <td>299 .</td>\n    </tr>\n    <tr>\n      <th>2847</th>\n      <td>Laptop Computers 14-Inch Windows-10 Notebook -...</td>\n      <td>https://www.amazon.com/gp/slredirect/picassoRe...</td>\n      <td>3.6 out of 5 stars</td>\n      <td>41</td>\n      <td>$309.00</td>\n      <td>309 .</td>\n    </tr>\n    <tr>\n      <th>2848</th>\n      <td>MSI WS75 10TM-492 Mobile Workstation i9-10980H...</td>\n      <td>https://www.amazon.com/MSI-WS75-10TM-492-Works...</td>\n      <td>5.0 out of 5 stars</td>\n      <td>1</td>\n      <td>$3,936.99</td>\n      <td>3,936 .</td>\n    </tr>\n    <tr>\n      <th>2849</th>\n      <td>Laptop 14 Inch, Winnovo N140, 6GB RAM, 128GB S...</td>\n      <td>https://www.amazon.com/gp/slredirect/picassoRe...</td>\n      <td>4.0 out of 5 stars</td>\n      <td>30</td>\n      <td>$349.00</td>\n      <td>349 .</td>\n    </tr>\n  </tbody>\n</table>\n<p>2850 rows × 6 columns</p>\n</div>"
     },
     "metadata": {},
     "execution_count": 111
    }
   ],
   "source": [
    "df_lap"
   ]
  },
  {
   "cell_type": "code",
   "execution_count": 112,
   "metadata": {},
   "outputs": [
    {
     "output_type": "execute_result",
     "data": {
      "text/plain": [
       "0    3.2 out of 5 stars\n",
       "1    4.0 out of 5 stars\n",
       "2    4.4 out of 5 stars\n",
       "3    4.3 out of 5 stars\n",
       "4    4.5 out of 5 stars\n",
       "Name: rating, dtype: object"
      ]
     },
     "metadata": {},
     "execution_count": 112
    }
   ],
   "source": [
    "df_lap.rating.head()"
   ]
  },
  {
   "cell_type": "code",
   "execution_count": 113,
   "metadata": {},
   "outputs": [
    {
     "output_type": "execute_result",
     "data": {
      "text/plain": [
       "['3.2', 'out', 'of', '5', 'stars']"
      ]
     },
     "metadata": {},
     "execution_count": 113
    }
   ],
   "source": [
    "df_lap.rating[0].split(\" \")"
   ]
  },
  {
   "cell_type": "code",
   "execution_count": 114,
   "metadata": {},
   "outputs": [
    {
     "output_type": "execute_result",
     "data": {
      "text/plain": [
       "'3.2'"
      ]
     },
     "metadata": {},
     "execution_count": 114
    }
   ],
   "source": [
    "df_lap.rating[0].split(\" \")[0]"
   ]
  },
  {
   "cell_type": "code",
   "execution_count": 116,
   "metadata": {},
   "outputs": [
    {
     "output_type": "execute_result",
     "data": {
      "text/plain": [
       "                                               title  \\\n",
       "0  CHUWI HeroBook Pro+ Laptop,13.3” 3200x1800 Res...   \n",
       "1  HP Chromebook 11 G5 11.6 inches Chromebook - I...   \n",
       "2  HP 15 Laptop, 11th Gen Intel Core i5-1135G7 Pr...   \n",
       "3  ASUS Laptop L210 Ultra Thin Laptop, 11.6” HD D...   \n",
       "4  2021 Lenovo ThinkPad E14 Laptop 14\" FHD Busine...   \n",
       "\n",
       "                                                 url rating review_count  \\\n",
       "0  https://www.amazon.com/gp/slredirect/picassoRe...    3.2           11   \n",
       "1  https://www.amazon.com/gp/slredirect/picassoRe...    4.0           52   \n",
       "2  https://www.amazon.com/HP-i5-1135G7-Processor-...    4.4          185   \n",
       "3  https://www.amazon.com/ASUS-Processor-NumberPa...    4.3        6,507   \n",
       "4  https://www.amazon.com/Lenovo-ThinkPad-i5-1021...    4.5            2   \n",
       "\n",
       "     price price1  \n",
       "0  $279.00  279 .  \n",
       "1  $169.00  169 .  \n",
       "2  $599.00  599 .  \n",
       "3  $226.95  226 .  \n",
       "4  $799.99  799 .  "
      ],
      "text/html": "<div>\n<style scoped>\n    .dataframe tbody tr th:only-of-type {\n        vertical-align: middle;\n    }\n\n    .dataframe tbody tr th {\n        vertical-align: top;\n    }\n\n    .dataframe thead th {\n        text-align: right;\n    }\n</style>\n<table border=\"1\" class=\"dataframe\">\n  <thead>\n    <tr style=\"text-align: right;\">\n      <th></th>\n      <th>title</th>\n      <th>url</th>\n      <th>rating</th>\n      <th>review_count</th>\n      <th>price</th>\n      <th>price1</th>\n    </tr>\n  </thead>\n  <tbody>\n    <tr>\n      <th>0</th>\n      <td>CHUWI HeroBook Pro+ Laptop,13.3” 3200x1800 Res...</td>\n      <td>https://www.amazon.com/gp/slredirect/picassoRe...</td>\n      <td>3.2</td>\n      <td>11</td>\n      <td>$279.00</td>\n      <td>279 .</td>\n    </tr>\n    <tr>\n      <th>1</th>\n      <td>HP Chromebook 11 G5 11.6 inches Chromebook - I...</td>\n      <td>https://www.amazon.com/gp/slredirect/picassoRe...</td>\n      <td>4.0</td>\n      <td>52</td>\n      <td>$169.00</td>\n      <td>169 .</td>\n    </tr>\n    <tr>\n      <th>2</th>\n      <td>HP 15 Laptop, 11th Gen Intel Core i5-1135G7 Pr...</td>\n      <td>https://www.amazon.com/HP-i5-1135G7-Processor-...</td>\n      <td>4.4</td>\n      <td>185</td>\n      <td>$599.00</td>\n      <td>599 .</td>\n    </tr>\n    <tr>\n      <th>3</th>\n      <td>ASUS Laptop L210 Ultra Thin Laptop, 11.6” HD D...</td>\n      <td>https://www.amazon.com/ASUS-Processor-NumberPa...</td>\n      <td>4.3</td>\n      <td>6,507</td>\n      <td>$226.95</td>\n      <td>226 .</td>\n    </tr>\n    <tr>\n      <th>4</th>\n      <td>2021 Lenovo ThinkPad E14 Laptop 14\" FHD Busine...</td>\n      <td>https://www.amazon.com/Lenovo-ThinkPad-i5-1021...</td>\n      <td>4.5</td>\n      <td>2</td>\n      <td>$799.99</td>\n      <td>799 .</td>\n    </tr>\n  </tbody>\n</table>\n</div>"
     },
     "metadata": {},
     "execution_count": 116
    }
   ],
   "source": [
    "df_lap.rating = df_lap.rating.map(lambda x: x.split(' ')[0])\n",
    "df_lap.head(5)\n",
    "\n"
   ]
  },
  {
   "cell_type": "code",
   "execution_count": 117,
   "metadata": {},
   "outputs": [
    {
     "output_type": "execute_result",
     "data": {
      "text/plain": [
       "                                                  title  \\\n",
       "0     CHUWI HeroBook Pro+ Laptop,13.3” 3200x1800 Res...   \n",
       "1     HP Chromebook 11 G5 11.6 inches Chromebook - I...   \n",
       "2     HP 15 Laptop, 11th Gen Intel Core i5-1135G7 Pr...   \n",
       "3     ASUS Laptop L210 Ultra Thin Laptop, 11.6” HD D...   \n",
       "4     2021 Lenovo ThinkPad E14 Laptop 14\" FHD Busine...   \n",
       "...                                                 ...   \n",
       "2845  Laptop 14 Inch, Winnovo N140, 6GB RAM, 128GB S...   \n",
       "2846  Jumper Laptop 13.3 inch 8GB RAM 128GB ROM Quad...   \n",
       "2847  Laptop Computers 14-Inch Windows-10 Notebook -...   \n",
       "2848  MSI WS75 10TM-492 Mobile Workstation i9-10980H...   \n",
       "2849  Laptop 14 Inch, Winnovo N140, 6GB RAM, 128GB S...   \n",
       "\n",
       "                                                    url rating review_count  \\\n",
       "0     https://www.amazon.com/gp/slredirect/picassoRe...    3.2           11   \n",
       "1     https://www.amazon.com/gp/slredirect/picassoRe...    4.0           52   \n",
       "2     https://www.amazon.com/HP-i5-1135G7-Processor-...    4.4          185   \n",
       "3     https://www.amazon.com/ASUS-Processor-NumberPa...    4.3        6,507   \n",
       "4     https://www.amazon.com/Lenovo-ThinkPad-i5-1021...    4.5            2   \n",
       "...                                                 ...    ...          ...   \n",
       "2845  https://www.amazon.com/gp/slredirect/picassoRe...    4.0           49   \n",
       "2846  https://www.amazon.com/gp/slredirect/picassoRe...    4.3        2,062   \n",
       "2847  https://www.amazon.com/gp/slredirect/picassoRe...    3.6           41   \n",
       "2848  https://www.amazon.com/MSI-WS75-10TM-492-Works...    5.0            1   \n",
       "2849  https://www.amazon.com/gp/slredirect/picassoRe...    4.0           30   \n",
       "\n",
       "          price  \n",
       "0       $279.00  \n",
       "1       $169.00  \n",
       "2       $599.00  \n",
       "3       $226.95  \n",
       "4       $799.99  \n",
       "...         ...  \n",
       "2845    $339.00  \n",
       "2846    $299.99  \n",
       "2847    $309.00  \n",
       "2848  $3,936.99  \n",
       "2849    $349.00  \n",
       "\n",
       "[2850 rows x 5 columns]"
      ],
      "text/html": "<div>\n<style scoped>\n    .dataframe tbody tr th:only-of-type {\n        vertical-align: middle;\n    }\n\n    .dataframe tbody tr th {\n        vertical-align: top;\n    }\n\n    .dataframe thead th {\n        text-align: right;\n    }\n</style>\n<table border=\"1\" class=\"dataframe\">\n  <thead>\n    <tr style=\"text-align: right;\">\n      <th></th>\n      <th>title</th>\n      <th>url</th>\n      <th>rating</th>\n      <th>review_count</th>\n      <th>price</th>\n    </tr>\n  </thead>\n  <tbody>\n    <tr>\n      <th>0</th>\n      <td>CHUWI HeroBook Pro+ Laptop,13.3” 3200x1800 Res...</td>\n      <td>https://www.amazon.com/gp/slredirect/picassoRe...</td>\n      <td>3.2</td>\n      <td>11</td>\n      <td>$279.00</td>\n    </tr>\n    <tr>\n      <th>1</th>\n      <td>HP Chromebook 11 G5 11.6 inches Chromebook - I...</td>\n      <td>https://www.amazon.com/gp/slredirect/picassoRe...</td>\n      <td>4.0</td>\n      <td>52</td>\n      <td>$169.00</td>\n    </tr>\n    <tr>\n      <th>2</th>\n      <td>HP 15 Laptop, 11th Gen Intel Core i5-1135G7 Pr...</td>\n      <td>https://www.amazon.com/HP-i5-1135G7-Processor-...</td>\n      <td>4.4</td>\n      <td>185</td>\n      <td>$599.00</td>\n    </tr>\n    <tr>\n      <th>3</th>\n      <td>ASUS Laptop L210 Ultra Thin Laptop, 11.6” HD D...</td>\n      <td>https://www.amazon.com/ASUS-Processor-NumberPa...</td>\n      <td>4.3</td>\n      <td>6,507</td>\n      <td>$226.95</td>\n    </tr>\n    <tr>\n      <th>4</th>\n      <td>2021 Lenovo ThinkPad E14 Laptop 14\" FHD Busine...</td>\n      <td>https://www.amazon.com/Lenovo-ThinkPad-i5-1021...</td>\n      <td>4.5</td>\n      <td>2</td>\n      <td>$799.99</td>\n    </tr>\n    <tr>\n      <th>...</th>\n      <td>...</td>\n      <td>...</td>\n      <td>...</td>\n      <td>...</td>\n      <td>...</td>\n    </tr>\n    <tr>\n      <th>2845</th>\n      <td>Laptop 14 Inch, Winnovo N140, 6GB RAM, 128GB S...</td>\n      <td>https://www.amazon.com/gp/slredirect/picassoRe...</td>\n      <td>4.0</td>\n      <td>49</td>\n      <td>$339.00</td>\n    </tr>\n    <tr>\n      <th>2846</th>\n      <td>Jumper Laptop 13.3 inch 8GB RAM 128GB ROM Quad...</td>\n      <td>https://www.amazon.com/gp/slredirect/picassoRe...</td>\n      <td>4.3</td>\n      <td>2,062</td>\n      <td>$299.99</td>\n    </tr>\n    <tr>\n      <th>2847</th>\n      <td>Laptop Computers 14-Inch Windows-10 Notebook -...</td>\n      <td>https://www.amazon.com/gp/slredirect/picassoRe...</td>\n      <td>3.6</td>\n      <td>41</td>\n      <td>$309.00</td>\n    </tr>\n    <tr>\n      <th>2848</th>\n      <td>MSI WS75 10TM-492 Mobile Workstation i9-10980H...</td>\n      <td>https://www.amazon.com/MSI-WS75-10TM-492-Works...</td>\n      <td>5.0</td>\n      <td>1</td>\n      <td>$3,936.99</td>\n    </tr>\n    <tr>\n      <th>2849</th>\n      <td>Laptop 14 Inch, Winnovo N140, 6GB RAM, 128GB S...</td>\n      <td>https://www.amazon.com/gp/slredirect/picassoRe...</td>\n      <td>4.0</td>\n      <td>30</td>\n      <td>$349.00</td>\n    </tr>\n  </tbody>\n</table>\n<p>2850 rows × 5 columns</p>\n</div>"
     },
     "metadata": {},
     "execution_count": 117
    }
   ],
   "source": [
    "df_lap.drop(columns=['price1'])\n"
   ]
  },
  {
   "cell_type": "code",
   "execution_count": 118,
   "metadata": {},
   "outputs": [],
   "source": [
    "df_lap.rating = df_lap.rating.astype(\"float\")"
   ]
  },
  {
   "cell_type": "code",
   "execution_count": null,
   "metadata": {},
   "outputs": [],
   "source": []
  },
  {
   "cell_type": "code",
   "execution_count": 119,
   "metadata": {},
   "outputs": [
    {
     "output_type": "execute_result",
     "data": {
      "text/plain": [
       "'279.00'"
      ]
     },
     "metadata": {},
     "execution_count": 119
    }
   ],
   "source": [
    "df_lap.price[0].split(\"$\")[1]\n"
   ]
  },
  {
   "cell_type": "code",
   "execution_count": 120,
   "metadata": {},
   "outputs": [
    {
     "output_type": "execute_result",
     "data": {
      "text/plain": [
       "                                               title  \\\n",
       "0  CHUWI HeroBook Pro+ Laptop,13.3” 3200x1800 Res...   \n",
       "1  HP Chromebook 11 G5 11.6 inches Chromebook - I...   \n",
       "2  HP 15 Laptop, 11th Gen Intel Core i5-1135G7 Pr...   \n",
       "3  ASUS Laptop L210 Ultra Thin Laptop, 11.6” HD D...   \n",
       "4  2021 Lenovo ThinkPad E14 Laptop 14\" FHD Busine...   \n",
       "\n",
       "                                                 url  rating review_count  \\\n",
       "0  https://www.amazon.com/gp/slredirect/picassoRe...     3.2           11   \n",
       "1  https://www.amazon.com/gp/slredirect/picassoRe...     4.0           52   \n",
       "2  https://www.amazon.com/HP-i5-1135G7-Processor-...     4.4          185   \n",
       "3  https://www.amazon.com/ASUS-Processor-NumberPa...     4.3        6,507   \n",
       "4  https://www.amazon.com/Lenovo-ThinkPad-i5-1021...     4.5            2   \n",
       "\n",
       "    price price1  \n",
       "0  279.00  279 .  \n",
       "1  169.00  169 .  \n",
       "2  599.00  599 .  \n",
       "3  226.95  226 .  \n",
       "4  799.99  799 .  "
      ],
      "text/html": "<div>\n<style scoped>\n    .dataframe tbody tr th:only-of-type {\n        vertical-align: middle;\n    }\n\n    .dataframe tbody tr th {\n        vertical-align: top;\n    }\n\n    .dataframe thead th {\n        text-align: right;\n    }\n</style>\n<table border=\"1\" class=\"dataframe\">\n  <thead>\n    <tr style=\"text-align: right;\">\n      <th></th>\n      <th>title</th>\n      <th>url</th>\n      <th>rating</th>\n      <th>review_count</th>\n      <th>price</th>\n      <th>price1</th>\n    </tr>\n  </thead>\n  <tbody>\n    <tr>\n      <th>0</th>\n      <td>CHUWI HeroBook Pro+ Laptop,13.3” 3200x1800 Res...</td>\n      <td>https://www.amazon.com/gp/slredirect/picassoRe...</td>\n      <td>3.2</td>\n      <td>11</td>\n      <td>279.00</td>\n      <td>279 .</td>\n    </tr>\n    <tr>\n      <th>1</th>\n      <td>HP Chromebook 11 G5 11.6 inches Chromebook - I...</td>\n      <td>https://www.amazon.com/gp/slredirect/picassoRe...</td>\n      <td>4.0</td>\n      <td>52</td>\n      <td>169.00</td>\n      <td>169 .</td>\n    </tr>\n    <tr>\n      <th>2</th>\n      <td>HP 15 Laptop, 11th Gen Intel Core i5-1135G7 Pr...</td>\n      <td>https://www.amazon.com/HP-i5-1135G7-Processor-...</td>\n      <td>4.4</td>\n      <td>185</td>\n      <td>599.00</td>\n      <td>599 .</td>\n    </tr>\n    <tr>\n      <th>3</th>\n      <td>ASUS Laptop L210 Ultra Thin Laptop, 11.6” HD D...</td>\n      <td>https://www.amazon.com/ASUS-Processor-NumberPa...</td>\n      <td>4.3</td>\n      <td>6,507</td>\n      <td>226.95</td>\n      <td>226 .</td>\n    </tr>\n    <tr>\n      <th>4</th>\n      <td>2021 Lenovo ThinkPad E14 Laptop 14\" FHD Busine...</td>\n      <td>https://www.amazon.com/Lenovo-ThinkPad-i5-1021...</td>\n      <td>4.5</td>\n      <td>2</td>\n      <td>799.99</td>\n      <td>799 .</td>\n    </tr>\n  </tbody>\n</table>\n</div>"
     },
     "metadata": {},
     "execution_count": 120
    }
   ],
   "source": [
    "df_lap.price= df_lap.apply(lambda x: x['price'].split(\"$\")[-1], axis = 1)\n",
    "df_lap.head(5)"
   ]
  },
  {
   "cell_type": "code",
   "execution_count": 121,
   "metadata": {},
   "outputs": [],
   "source": [
    "df_lap.review_count=df_lap.review_count.str.replace(\",\",\"\")\n",
    "df_lap.price = df_lap.price.str.replace(\",\",\"\")"
   ]
  },
  {
   "cell_type": "code",
   "execution_count": 122,
   "metadata": {},
   "outputs": [],
   "source": [
    "df_lap.price = df_lap.price.astype(\"float\")"
   ]
  },
  {
   "cell_type": "code",
   "execution_count": 123,
   "metadata": {},
   "outputs": [
    {
     "output_type": "execute_result",
     "data": {
      "text/plain": [
       "title            object\n",
       "url              object\n",
       "rating          float64\n",
       "review_count     object\n",
       "price           float64\n",
       "price1           object\n",
       "dtype: object"
      ]
     },
     "metadata": {},
     "execution_count": 123
    }
   ],
   "source": [
    "df_lap.dtypes"
   ]
  },
  {
   "cell_type": "code",
   "execution_count": 174,
   "metadata": {},
   "outputs": [
    {
     "output_type": "stream",
     "name": "stdout",
     "text": [
      "https://www.amazon.com/gp/slredirect/picassoRedirect.html/ref=pa_sp_atf_electronics_sr_pg1_1?ie=UTF8&adId=A03235953BQ0VIA6N106D&url=%2FHP-Chromebook-11-6-Dual-core-Refurbished%2Fdp%2FB07NPXCH6Q%2Fref%3Dsr_1_2_sspa%3Fdchild%3D1%26keywords%3Dlaptops%26qid%3D1617176971%26s%3Delectronics%26sr%3D1-2-spons%26psc%3D1&qualifier=1617176971&id=3115143532962956&widgetName=sp_atf\nhttps://www.amazon.com/Lenovo-ThinkPad-i5-10210U-Bluetooth-Accessories/dp/B08YJJ9DXD/ref=sr_1_6?dchild=1&keywords=laptops&qid=1617176971&s=electronics&sr=1-6\n"
     ]
    }
   ],
   "source": [
    "print(df_lap[\"url\"][1])\n",
    "print(df_lap[\"url\"][4])"
   ]
  },
  {
   "cell_type": "code",
   "execution_count": 126,
   "metadata": {},
   "outputs": [],
   "source": [
    "df_lap[\"product_type\"] = \"Laptop\""
   ]
  },
  {
   "cell_type": "code",
   "execution_count": 127,
   "metadata": {},
   "outputs": [],
   "source": [
    "df_lap.review_count=df_lap.review_count.astype(\"int\")"
   ]
  },
  {
   "cell_type": "code",
   "execution_count": 128,
   "metadata": {},
   "outputs": [],
   "source": [
    "df_lap = df_lap.rename(columns={\"title\":\"name\"})"
   ]
  },
  {
   "cell_type": "code",
   "execution_count": 140,
   "metadata": {},
   "outputs": [
    {
     "output_type": "execute_result",
     "data": {
      "text/plain": [
       "0       CHUWI HeroBook Pro+ Laptop,13.3” 3200x1800 Res...\n",
       "1       HP Chromebook 11 G5 11.6 inches Chromebook - I...\n",
       "2       HP 15 Laptop, 11th Gen Intel Core i5-1135G7 Pr...\n",
       "3       ASUS Laptop L210 Ultra Thin Laptop, 11.6” HD D...\n",
       "4       2021 Lenovo ThinkPad E14 Laptop 14\" FHD Busine...\n",
       "                              ...                        \n",
       "2845    Laptop 14 Inch, Winnovo N140, 6GB RAM, 128GB S...\n",
       "2846    Jumper Laptop 13.3 inch 8GB RAM 128GB ROM Quad...\n",
       "2847    Laptop Computers 14-Inch Windows-10 Notebook -...\n",
       "2848    MSI WS75 10TM-492 Mobile Workstation i9-10980H...\n",
       "2849    Laptop 14 Inch, Winnovo N140, 6GB RAM, 128GB S...\n",
       "Name: name, Length: 2850, dtype: object"
      ]
     },
     "metadata": {},
     "execution_count": 140
    }
   ],
   "source": [
    "df_lap['name']"
   ]
  },
  {
   "cell_type": "code",
   "execution_count": 142,
   "metadata": {},
   "outputs": [
    {
     "output_type": "execute_result",
     "data": {
      "text/plain": [
       "0    https://www.amazon.com/gp/slredirect/picassoRe...\n",
       "1    https://www.amazon.com/gp/slredirect/picassoRe...\n",
       "2    https://www.amazon.com/HP-i5-1135G7-Processor-...\n",
       "3    https://www.amazon.com/ASUS-Processor-NumberPa...\n",
       "4    https://www.amazon.com/Lenovo-ThinkPad-i5-1021...\n",
       "5    https://www.amazon.com/gp/slredirect/picassoRe...\n",
       "6    https://www.amazon.com/HP-Pavilion-Touchscreen...\n",
       "7    https://www.amazon.com/ASUS-F512JA-AS34-VivoBo...\n",
       "8    https://www.amazon.com/HP-Processor-Micro-Edge...\n",
       "9    https://www.amazon.com/Lenovo-IdeaPad-Processo...\n",
       "Name: url, dtype: object"
      ]
     },
     "metadata": {},
     "execution_count": 142
    }
   ],
   "source": [
    "urls = df_lap['url']\n",
    "urls.head(10)"
   ]
  },
  {
   "cell_type": "code",
   "execution_count": 146,
   "metadata": {},
   "outputs": [
    {
     "output_type": "execute_result",
     "data": {
      "text/plain": [
       "        c1              c2                                                 c3  \\\n",
       "0   https:  www.amazon.com                                                 gp   \n",
       "1   https:  www.amazon.com                                                 gp   \n",
       "2   https:  www.amazon.com     HP-i5-1135G7-Processor-Lightweight-15-dy2021nr   \n",
       "3   https:  www.amazon.com     ASUS-Processor-NumberPad-Microsoft-L210MA-DB01   \n",
       "4   https:  www.amazon.com    Lenovo-ThinkPad-i5-10210U-Bluetooth-Accessories   \n",
       "5   https:  www.amazon.com                                                 gp   \n",
       "6   https:  www.amazon.com      HP-Pavilion-Touchscreen-i5-1035G1-Wireless-AC   \n",
       "7   https:  www.amazon.com    ASUS-F512JA-AS34-VivoBook-i3-1005G1-Fingerprint   \n",
       "8   https:  www.amazon.com   HP-Processor-Micro-Edge-Long-Lasting-15-ef1021nr   \n",
       "9   https:  www.amazon.com       Lenovo-IdeaPad-Processor-Graphics-81W0003QUS   \n",
       "10  https:  www.amazon.com                                                 gp   \n",
       "11  https:  www.amazon.com  New_Lenovo-Business-Bluetooth-Microphones-AimCare   \n",
       "12  https:  www.amazon.com       Acer-i5-9300H-GeForce-Keyboard-AN515-54-5812   \n",
       "13  https:  www.amazon.com        Acer-i5-1035G1-Quad-Core-Processor-Ethernet   \n",
       "14  https:  www.amazon.com          HP-11-6-inch-Celeron-Personal-11-ak0010nr   \n",
       "15  https:  www.amazon.com                                                 gp   \n",
       "16  https:  www.amazon.com                 2020-HP-Touchscreen-Premium-Laptop   \n",
       "17  https:  www.amazon.com                     HP-Stream-Laptop-Intel-Renewed   \n",
       "18  https:  www.amazon.com                 Newest-HP-Pavilion-Pentium-Windows   \n",
       "19  https:  www.amazon.com     HP-i5-1135G7-i7-1060G7-Lightweight-Accessories   \n",
       "20  https:  www.amazon.com                                                 gp   \n",
       "21  https:  www.amazon.com      HP-Touchscreen-i7-1065G7-Graphics-Accessories   \n",
       "22  https:  www.amazon.com          HP-Premium-Touchscreen-Computer-Bluetooth   \n",
       "23  https:  www.amazon.com       Dell-Inspiron-Business-LED-Backlit-Processor   \n",
       "24  https:  www.amazon.com        Acer-Display-Graphics-Keyboard-A515-43-R6DE   \n",
       "25  https:  www.amazon.com            HP-Non-Touch-i5-1035G1-Backlit-Keyboard   \n",
       "26  https:  www.amazon.com        Acer-Display-Graphics-Keyboard-A515-43-R19L   \n",
       "27  https:  www.amazon.com                                                 gp   \n",
       "28  https:  www.amazon.com                                                 gp   \n",
       "29  https:  www.amazon.com                   Dell-Inspiron-3000-15-6-Notebook   \n",
       "30  https:  www.amazon.com         Lenovo-Ideapad-1920x1080-i5-1035G1-Windows   \n",
       "31  https:  www.amazon.com               Lenovo-IdeaPad-Gaming-Laptop-GeForce   \n",
       "32  https:  www.amazon.com                                                 gp   \n",
       "33  https:  www.amazon.com                  HP-Pavilion-Gaming-Laptop-GeForce   \n",
       "34  https:  www.amazon.com      Dell-Chromebook-celeron-Certified-Refurbished   \n",
       "35  https:  www.amazon.com               HP-Display-Pentium-Processor-Windows   \n",
       "36  https:  www.amazon.com      Lenovo-Processor-Graphics-Included-81X20005US   \n",
       "37  https:  www.amazon.com                                                 gp   \n",
       "38  https:  www.amazon.com     ASUS-VivoBook-R7-3700U-Fingerprint-F512DA-NH77   \n",
       "39  https:  www.amazon.com           HP-Computer-Quad-Core-802-11ac-Bluetooth   \n",
       "40  https:  www.amazon.com                Asus-TUF-15-6-inch-Laptop-Processor   \n",
       "41  https:  www.amazon.com        HP-Generation-i3-1005G1-Dual-Core-Processor   \n",
       "42  https:  www.amazon.com                                                 gp   \n",
       "43  https:  www.amazon.com      HP-14-fq0032ms-Business-Touchscreen-Processor   \n",
       "44  https:  www.amazon.com             HP-15-6inch-Laptop-Quad-Core-Processor   \n",
       "45  https:  www.amazon.com  Lenovo-Chromebook-Convertible-11-6-Inch-81HY00...   \n",
       "46  https:  www.amazon.com                  ASUS-ZenBook-13-Ultra-Slim-Laptop   \n",
       "47  https:  www.amazon.com                                                 gp   \n",
       "48  https:  www.amazon.com      Lenovo-1920x1080-Processor-Windows-82B1000AUS   \n",
       "49  https:  www.amazon.com  Display-Quad-core-celeron_j3455-Processor-scal...   \n",
       "\n",
       "            c4                    c5  \\\n",
       "0   slredirect  picassoRedirect.html   \n",
       "1   slredirect  picassoRedirect.html   \n",
       "2           dp            B08KGZ79N6   \n",
       "3           dp            B081V6W99V   \n",
       "4           dp            B08YJJ9DXD   \n",
       "5   slredirect  picassoRedirect.html   \n",
       "6           dp            B087SD98F4   \n",
       "7           dp            B0869L1326   \n",
       "8           dp            B08N38VPL7   \n",
       "9           dp            B0862269YP   \n",
       "10  slredirect  picassoRedirect.html   \n",
       "11          dp            B08WHY2HNS   \n",
       "12          dp            B086KJBKDW   \n",
       "13          dp            B08K3NGK2Z   \n",
       "14          dp            B0886JS35F   \n",
       "15  slredirect  picassoRedirect.html   \n",
       "16          dp            B081SM57RY   \n",
       "17          dp            B08LDLRNGF   \n",
       "18          dp            B0894DBTRV   \n",
       "19          dp            B08VP231NX   \n",
       "20  slredirect  picassoRedirect.html   \n",
       "21          dp            B08R8T15ZM   \n",
       "22          dp            B08T1XLH7L   \n",
       "23          dp            B08X1LWZMB   \n",
       "24          dp            B07Z11X58J   \n",
       "25          dp            B08HCM9RRN   \n",
       "26          dp            B07RF1XD36   \n",
       "27  slredirect  picassoRedirect.html   \n",
       "28  slredirect  picassoRedirect.html   \n",
       "29          dp            B08MRH5RW3   \n",
       "30          dp            B08XPNWPJG   \n",
       "31          dp            B08N5TQD6M   \n",
       "32  slredirect  picassoRedirect.html   \n",
       "33          dp            B08P6MRZBG   \n",
       "34          dp            B07HMJY8NR   \n",
       "35          dp            B08NWDG75T   \n",
       "36          dp            B086226DDB   \n",
       "37  slredirect  picassoRedirect.html   \n",
       "38          dp            B085344M9Q   \n",
       "39          dp            B082NZX92C   \n",
       "40          dp            B08PFGDSRZ   \n",
       "41          dp            B08NXZNPKM   \n",
       "42  slredirect  picassoRedirect.html   \n",
       "43          dp            B08QHH5BZR   \n",
       "44          dp            B08L74Z1YK   \n",
       "45          dp            B07GM2J11Q   \n",
       "46          dp            B08KH53NKR   \n",
       "47  slredirect  picassoRedirect.html   \n",
       "48          dp            B08BB9RWXD   \n",
       "49          dp            B08RXR363N   \n",
       "\n",
       "                                                   c6  \n",
       "0   ref=pa_sp_atf_electronics_sr_pg1_1?ie=UTF8&adI...  \n",
       "1   ref=pa_sp_atf_electronics_sr_pg1_1?ie=UTF8&adI...  \n",
       "2   ref=sr_1_3?dchild=1&keywords=laptops&qid=16171...  \n",
       "3   ref=sr_1_5?dchild=1&keywords=laptops&qid=16171...  \n",
       "4   ref=sr_1_6?dchild=1&keywords=laptops&qid=16171...  \n",
       "5   ref=pa_sp_mtf_electronics_sr_pg1_1?ie=UTF8&adI...  \n",
       "6   ref=sr_1_8?dchild=1&keywords=laptops&qid=16171...  \n",
       "7   ref=sr_1_9?dchild=1&keywords=laptops&qid=16171...  \n",
       "8   ref=sr_1_10?dchild=1&keywords=laptops&qid=1617...  \n",
       "9   ref=sr_1_11?dchild=1&keywords=laptops&qid=1617...  \n",
       "10  ref=pa_sp_mtf_electronics_sr_pg1_1?ie=UTF8&adI...  \n",
       "11  ref=sr_1_13?dchild=1&keywords=laptops&qid=1617...  \n",
       "12  ref=sr_1_14?dchild=1&keywords=laptops&qid=1617...  \n",
       "13  ref=sr_1_15?dchild=1&keywords=laptops&qid=1617...  \n",
       "14  ref=sr_1_16?dchild=1&keywords=laptops&qid=1617...  \n",
       "15  ref=pa_sp_mtf_electronics_sr_pg1_1?ie=UTF8&adI...  \n",
       "16  ref=sr_1_18?dchild=1&keywords=laptops&qid=1617...  \n",
       "17  ref=sr_1_19?dchild=1&keywords=laptops&qid=1617...  \n",
       "18  ref=sr_1_20?dchild=1&keywords=laptops&qid=1617...  \n",
       "19  ref=sr_1_21?dchild=1&keywords=laptops&qid=1617...  \n",
       "20  ref=pa_sp_btf_electronics_sr_pg1_1?ie=UTF8&adI...  \n",
       "21  ref=sr_1_23?dchild=1&keywords=laptops&qid=1617...  \n",
       "22  ref=sr_1_24?dchild=1&keywords=laptops&qid=1617...  \n",
       "23  ref=sr_1_27?dchild=1&keywords=laptops&qid=1617...  \n",
       "24  ref=sr_1_28?dchild=1&keywords=laptops&qid=1617...  \n",
       "25  ref=sr_1_29?dchild=1&keywords=laptops&qid=1617...  \n",
       "26  ref=sr_1_30?dchild=1&keywords=laptops&qid=1617...  \n",
       "27  ref=pa_sp_atf_next_electronics_sr_pg3_1?ie=UTF...  \n",
       "28  ref=pa_sp_atf_next_electronics_sr_pg3_1?ie=UTF...  \n",
       "29  ref=sr_1_51?dchild=1&keywords=laptops&qid=1617...  \n",
       "30  ref=sr_1_52?dchild=1&keywords=laptops&qid=1617...  \n",
       "31  ref=sr_1_54?dchild=1&keywords=laptops&qid=1617...  \n",
       "32  ref=pa_sp_mtf_electronics_sr_pg3_1?ie=UTF8&adI...  \n",
       "33  ref=sr_1_56?dchild=1&keywords=laptops&qid=1617...  \n",
       "34  ref=sr_1_57?dchild=1&keywords=laptops&qid=1617...  \n",
       "35  ref=sr_1_58?dchild=1&keywords=laptops&qid=1617...  \n",
       "36  ref=sr_1_59?dchild=1&keywords=laptops&qid=1617...  \n",
       "37  ref=pa_sp_mtf_electronics_sr_pg3_1?ie=UTF8&adI...  \n",
       "38  ref=sr_1_61?dchild=1&keywords=laptops&qid=1617...  \n",
       "39  ref=sr_1_62?dchild=1&keywords=laptops&qid=1617...  \n",
       "40  ref=sr_1_63?dchild=1&keywords=laptops&qid=1617...  \n",
       "41  ref=sr_1_64?dchild=1&keywords=laptops&qid=1617...  \n",
       "42  ref=pa_sp_mtf_electronics_sr_pg3_1?ie=UTF8&adI...  \n",
       "43  ref=sr_1_66?dchild=1&keywords=laptops&qid=1617...  \n",
       "44  ref=sr_1_67?dchild=1&keywords=laptops&qid=1617...  \n",
       "45  ref=sr_1_68?dchild=1&keywords=laptops&qid=1617...  \n",
       "46  ref=sr_1_69?dchild=1&keywords=laptops&qid=1617...  \n",
       "47  ref=pa_sp_btf_electronics_sr_pg3_1?ie=UTF8&adI...  \n",
       "48  ref=sr_1_71?dchild=1&keywords=laptops&qid=1617...  \n",
       "49  ref=sr_1_72?dchild=1&keywords=laptops&qid=1617...  "
      ],
      "text/html": "<div>\n<style scoped>\n    .dataframe tbody tr th:only-of-type {\n        vertical-align: middle;\n    }\n\n    .dataframe tbody tr th {\n        vertical-align: top;\n    }\n\n    .dataframe thead th {\n        text-align: right;\n    }\n</style>\n<table border=\"1\" class=\"dataframe\">\n  <thead>\n    <tr style=\"text-align: right;\">\n      <th></th>\n      <th>c1</th>\n      <th>c2</th>\n      <th>c3</th>\n      <th>c4</th>\n      <th>c5</th>\n      <th>c6</th>\n    </tr>\n  </thead>\n  <tbody>\n    <tr>\n      <th>0</th>\n      <td>https:</td>\n      <td>www.amazon.com</td>\n      <td>gp</td>\n      <td>slredirect</td>\n      <td>picassoRedirect.html</td>\n      <td>ref=pa_sp_atf_electronics_sr_pg1_1?ie=UTF8&amp;adI...</td>\n    </tr>\n    <tr>\n      <th>1</th>\n      <td>https:</td>\n      <td>www.amazon.com</td>\n      <td>gp</td>\n      <td>slredirect</td>\n      <td>picassoRedirect.html</td>\n      <td>ref=pa_sp_atf_electronics_sr_pg1_1?ie=UTF8&amp;adI...</td>\n    </tr>\n    <tr>\n      <th>2</th>\n      <td>https:</td>\n      <td>www.amazon.com</td>\n      <td>HP-i5-1135G7-Processor-Lightweight-15-dy2021nr</td>\n      <td>dp</td>\n      <td>B08KGZ79N6</td>\n      <td>ref=sr_1_3?dchild=1&amp;keywords=laptops&amp;qid=16171...</td>\n    </tr>\n    <tr>\n      <th>3</th>\n      <td>https:</td>\n      <td>www.amazon.com</td>\n      <td>ASUS-Processor-NumberPad-Microsoft-L210MA-DB01</td>\n      <td>dp</td>\n      <td>B081V6W99V</td>\n      <td>ref=sr_1_5?dchild=1&amp;keywords=laptops&amp;qid=16171...</td>\n    </tr>\n    <tr>\n      <th>4</th>\n      <td>https:</td>\n      <td>www.amazon.com</td>\n      <td>Lenovo-ThinkPad-i5-10210U-Bluetooth-Accessories</td>\n      <td>dp</td>\n      <td>B08YJJ9DXD</td>\n      <td>ref=sr_1_6?dchild=1&amp;keywords=laptops&amp;qid=16171...</td>\n    </tr>\n    <tr>\n      <th>5</th>\n      <td>https:</td>\n      <td>www.amazon.com</td>\n      <td>gp</td>\n      <td>slredirect</td>\n      <td>picassoRedirect.html</td>\n      <td>ref=pa_sp_mtf_electronics_sr_pg1_1?ie=UTF8&amp;adI...</td>\n    </tr>\n    <tr>\n      <th>6</th>\n      <td>https:</td>\n      <td>www.amazon.com</td>\n      <td>HP-Pavilion-Touchscreen-i5-1035G1-Wireless-AC</td>\n      <td>dp</td>\n      <td>B087SD98F4</td>\n      <td>ref=sr_1_8?dchild=1&amp;keywords=laptops&amp;qid=16171...</td>\n    </tr>\n    <tr>\n      <th>7</th>\n      <td>https:</td>\n      <td>www.amazon.com</td>\n      <td>ASUS-F512JA-AS34-VivoBook-i3-1005G1-Fingerprint</td>\n      <td>dp</td>\n      <td>B0869L1326</td>\n      <td>ref=sr_1_9?dchild=1&amp;keywords=laptops&amp;qid=16171...</td>\n    </tr>\n    <tr>\n      <th>8</th>\n      <td>https:</td>\n      <td>www.amazon.com</td>\n      <td>HP-Processor-Micro-Edge-Long-Lasting-15-ef1021nr</td>\n      <td>dp</td>\n      <td>B08N38VPL7</td>\n      <td>ref=sr_1_10?dchild=1&amp;keywords=laptops&amp;qid=1617...</td>\n    </tr>\n    <tr>\n      <th>9</th>\n      <td>https:</td>\n      <td>www.amazon.com</td>\n      <td>Lenovo-IdeaPad-Processor-Graphics-81W0003QUS</td>\n      <td>dp</td>\n      <td>B0862269YP</td>\n      <td>ref=sr_1_11?dchild=1&amp;keywords=laptops&amp;qid=1617...</td>\n    </tr>\n    <tr>\n      <th>10</th>\n      <td>https:</td>\n      <td>www.amazon.com</td>\n      <td>gp</td>\n      <td>slredirect</td>\n      <td>picassoRedirect.html</td>\n      <td>ref=pa_sp_mtf_electronics_sr_pg1_1?ie=UTF8&amp;adI...</td>\n    </tr>\n    <tr>\n      <th>11</th>\n      <td>https:</td>\n      <td>www.amazon.com</td>\n      <td>New_Lenovo-Business-Bluetooth-Microphones-AimCare</td>\n      <td>dp</td>\n      <td>B08WHY2HNS</td>\n      <td>ref=sr_1_13?dchild=1&amp;keywords=laptops&amp;qid=1617...</td>\n    </tr>\n    <tr>\n      <th>12</th>\n      <td>https:</td>\n      <td>www.amazon.com</td>\n      <td>Acer-i5-9300H-GeForce-Keyboard-AN515-54-5812</td>\n      <td>dp</td>\n      <td>B086KJBKDW</td>\n      <td>ref=sr_1_14?dchild=1&amp;keywords=laptops&amp;qid=1617...</td>\n    </tr>\n    <tr>\n      <th>13</th>\n      <td>https:</td>\n      <td>www.amazon.com</td>\n      <td>Acer-i5-1035G1-Quad-Core-Processor-Ethernet</td>\n      <td>dp</td>\n      <td>B08K3NGK2Z</td>\n      <td>ref=sr_1_15?dchild=1&amp;keywords=laptops&amp;qid=1617...</td>\n    </tr>\n    <tr>\n      <th>14</th>\n      <td>https:</td>\n      <td>www.amazon.com</td>\n      <td>HP-11-6-inch-Celeron-Personal-11-ak0010nr</td>\n      <td>dp</td>\n      <td>B0886JS35F</td>\n      <td>ref=sr_1_16?dchild=1&amp;keywords=laptops&amp;qid=1617...</td>\n    </tr>\n    <tr>\n      <th>15</th>\n      <td>https:</td>\n      <td>www.amazon.com</td>\n      <td>gp</td>\n      <td>slredirect</td>\n      <td>picassoRedirect.html</td>\n      <td>ref=pa_sp_mtf_electronics_sr_pg1_1?ie=UTF8&amp;adI...</td>\n    </tr>\n    <tr>\n      <th>16</th>\n      <td>https:</td>\n      <td>www.amazon.com</td>\n      <td>2020-HP-Touchscreen-Premium-Laptop</td>\n      <td>dp</td>\n      <td>B081SM57RY</td>\n      <td>ref=sr_1_18?dchild=1&amp;keywords=laptops&amp;qid=1617...</td>\n    </tr>\n    <tr>\n      <th>17</th>\n      <td>https:</td>\n      <td>www.amazon.com</td>\n      <td>HP-Stream-Laptop-Intel-Renewed</td>\n      <td>dp</td>\n      <td>B08LDLRNGF</td>\n      <td>ref=sr_1_19?dchild=1&amp;keywords=laptops&amp;qid=1617...</td>\n    </tr>\n    <tr>\n      <th>18</th>\n      <td>https:</td>\n      <td>www.amazon.com</td>\n      <td>Newest-HP-Pavilion-Pentium-Windows</td>\n      <td>dp</td>\n      <td>B0894DBTRV</td>\n      <td>ref=sr_1_20?dchild=1&amp;keywords=laptops&amp;qid=1617...</td>\n    </tr>\n    <tr>\n      <th>19</th>\n      <td>https:</td>\n      <td>www.amazon.com</td>\n      <td>HP-i5-1135G7-i7-1060G7-Lightweight-Accessories</td>\n      <td>dp</td>\n      <td>B08VP231NX</td>\n      <td>ref=sr_1_21?dchild=1&amp;keywords=laptops&amp;qid=1617...</td>\n    </tr>\n    <tr>\n      <th>20</th>\n      <td>https:</td>\n      <td>www.amazon.com</td>\n      <td>gp</td>\n      <td>slredirect</td>\n      <td>picassoRedirect.html</td>\n      <td>ref=pa_sp_btf_electronics_sr_pg1_1?ie=UTF8&amp;adI...</td>\n    </tr>\n    <tr>\n      <th>21</th>\n      <td>https:</td>\n      <td>www.amazon.com</td>\n      <td>HP-Touchscreen-i7-1065G7-Graphics-Accessories</td>\n      <td>dp</td>\n      <td>B08R8T15ZM</td>\n      <td>ref=sr_1_23?dchild=1&amp;keywords=laptops&amp;qid=1617...</td>\n    </tr>\n    <tr>\n      <th>22</th>\n      <td>https:</td>\n      <td>www.amazon.com</td>\n      <td>HP-Premium-Touchscreen-Computer-Bluetooth</td>\n      <td>dp</td>\n      <td>B08T1XLH7L</td>\n      <td>ref=sr_1_24?dchild=1&amp;keywords=laptops&amp;qid=1617...</td>\n    </tr>\n    <tr>\n      <th>23</th>\n      <td>https:</td>\n      <td>www.amazon.com</td>\n      <td>Dell-Inspiron-Business-LED-Backlit-Processor</td>\n      <td>dp</td>\n      <td>B08X1LWZMB</td>\n      <td>ref=sr_1_27?dchild=1&amp;keywords=laptops&amp;qid=1617...</td>\n    </tr>\n    <tr>\n      <th>24</th>\n      <td>https:</td>\n      <td>www.amazon.com</td>\n      <td>Acer-Display-Graphics-Keyboard-A515-43-R6DE</td>\n      <td>dp</td>\n      <td>B07Z11X58J</td>\n      <td>ref=sr_1_28?dchild=1&amp;keywords=laptops&amp;qid=1617...</td>\n    </tr>\n    <tr>\n      <th>25</th>\n      <td>https:</td>\n      <td>www.amazon.com</td>\n      <td>HP-Non-Touch-i5-1035G1-Backlit-Keyboard</td>\n      <td>dp</td>\n      <td>B08HCM9RRN</td>\n      <td>ref=sr_1_29?dchild=1&amp;keywords=laptops&amp;qid=1617...</td>\n    </tr>\n    <tr>\n      <th>26</th>\n      <td>https:</td>\n      <td>www.amazon.com</td>\n      <td>Acer-Display-Graphics-Keyboard-A515-43-R19L</td>\n      <td>dp</td>\n      <td>B07RF1XD36</td>\n      <td>ref=sr_1_30?dchild=1&amp;keywords=laptops&amp;qid=1617...</td>\n    </tr>\n    <tr>\n      <th>27</th>\n      <td>https:</td>\n      <td>www.amazon.com</td>\n      <td>gp</td>\n      <td>slredirect</td>\n      <td>picassoRedirect.html</td>\n      <td>ref=pa_sp_atf_next_electronics_sr_pg3_1?ie=UTF...</td>\n    </tr>\n    <tr>\n      <th>28</th>\n      <td>https:</td>\n      <td>www.amazon.com</td>\n      <td>gp</td>\n      <td>slredirect</td>\n      <td>picassoRedirect.html</td>\n      <td>ref=pa_sp_atf_next_electronics_sr_pg3_1?ie=UTF...</td>\n    </tr>\n    <tr>\n      <th>29</th>\n      <td>https:</td>\n      <td>www.amazon.com</td>\n      <td>Dell-Inspiron-3000-15-6-Notebook</td>\n      <td>dp</td>\n      <td>B08MRH5RW3</td>\n      <td>ref=sr_1_51?dchild=1&amp;keywords=laptops&amp;qid=1617...</td>\n    </tr>\n    <tr>\n      <th>30</th>\n      <td>https:</td>\n      <td>www.amazon.com</td>\n      <td>Lenovo-Ideapad-1920x1080-i5-1035G1-Windows</td>\n      <td>dp</td>\n      <td>B08XPNWPJG</td>\n      <td>ref=sr_1_52?dchild=1&amp;keywords=laptops&amp;qid=1617...</td>\n    </tr>\n    <tr>\n      <th>31</th>\n      <td>https:</td>\n      <td>www.amazon.com</td>\n      <td>Lenovo-IdeaPad-Gaming-Laptop-GeForce</td>\n      <td>dp</td>\n      <td>B08N5TQD6M</td>\n      <td>ref=sr_1_54?dchild=1&amp;keywords=laptops&amp;qid=1617...</td>\n    </tr>\n    <tr>\n      <th>32</th>\n      <td>https:</td>\n      <td>www.amazon.com</td>\n      <td>gp</td>\n      <td>slredirect</td>\n      <td>picassoRedirect.html</td>\n      <td>ref=pa_sp_mtf_electronics_sr_pg3_1?ie=UTF8&amp;adI...</td>\n    </tr>\n    <tr>\n      <th>33</th>\n      <td>https:</td>\n      <td>www.amazon.com</td>\n      <td>HP-Pavilion-Gaming-Laptop-GeForce</td>\n      <td>dp</td>\n      <td>B08P6MRZBG</td>\n      <td>ref=sr_1_56?dchild=1&amp;keywords=laptops&amp;qid=1617...</td>\n    </tr>\n    <tr>\n      <th>34</th>\n      <td>https:</td>\n      <td>www.amazon.com</td>\n      <td>Dell-Chromebook-celeron-Certified-Refurbished</td>\n      <td>dp</td>\n      <td>B07HMJY8NR</td>\n      <td>ref=sr_1_57?dchild=1&amp;keywords=laptops&amp;qid=1617...</td>\n    </tr>\n    <tr>\n      <th>35</th>\n      <td>https:</td>\n      <td>www.amazon.com</td>\n      <td>HP-Display-Pentium-Processor-Windows</td>\n      <td>dp</td>\n      <td>B08NWDG75T</td>\n      <td>ref=sr_1_58?dchild=1&amp;keywords=laptops&amp;qid=1617...</td>\n    </tr>\n    <tr>\n      <th>36</th>\n      <td>https:</td>\n      <td>www.amazon.com</td>\n      <td>Lenovo-Processor-Graphics-Included-81X20005US</td>\n      <td>dp</td>\n      <td>B086226DDB</td>\n      <td>ref=sr_1_59?dchild=1&amp;keywords=laptops&amp;qid=1617...</td>\n    </tr>\n    <tr>\n      <th>37</th>\n      <td>https:</td>\n      <td>www.amazon.com</td>\n      <td>gp</td>\n      <td>slredirect</td>\n      <td>picassoRedirect.html</td>\n      <td>ref=pa_sp_mtf_electronics_sr_pg3_1?ie=UTF8&amp;adI...</td>\n    </tr>\n    <tr>\n      <th>38</th>\n      <td>https:</td>\n      <td>www.amazon.com</td>\n      <td>ASUS-VivoBook-R7-3700U-Fingerprint-F512DA-NH77</td>\n      <td>dp</td>\n      <td>B085344M9Q</td>\n      <td>ref=sr_1_61?dchild=1&amp;keywords=laptops&amp;qid=1617...</td>\n    </tr>\n    <tr>\n      <th>39</th>\n      <td>https:</td>\n      <td>www.amazon.com</td>\n      <td>HP-Computer-Quad-Core-802-11ac-Bluetooth</td>\n      <td>dp</td>\n      <td>B082NZX92C</td>\n      <td>ref=sr_1_62?dchild=1&amp;keywords=laptops&amp;qid=1617...</td>\n    </tr>\n    <tr>\n      <th>40</th>\n      <td>https:</td>\n      <td>www.amazon.com</td>\n      <td>Asus-TUF-15-6-inch-Laptop-Processor</td>\n      <td>dp</td>\n      <td>B08PFGDSRZ</td>\n      <td>ref=sr_1_63?dchild=1&amp;keywords=laptops&amp;qid=1617...</td>\n    </tr>\n    <tr>\n      <th>41</th>\n      <td>https:</td>\n      <td>www.amazon.com</td>\n      <td>HP-Generation-i3-1005G1-Dual-Core-Processor</td>\n      <td>dp</td>\n      <td>B08NXZNPKM</td>\n      <td>ref=sr_1_64?dchild=1&amp;keywords=laptops&amp;qid=1617...</td>\n    </tr>\n    <tr>\n      <th>42</th>\n      <td>https:</td>\n      <td>www.amazon.com</td>\n      <td>gp</td>\n      <td>slredirect</td>\n      <td>picassoRedirect.html</td>\n      <td>ref=pa_sp_mtf_electronics_sr_pg3_1?ie=UTF8&amp;adI...</td>\n    </tr>\n    <tr>\n      <th>43</th>\n      <td>https:</td>\n      <td>www.amazon.com</td>\n      <td>HP-14-fq0032ms-Business-Touchscreen-Processor</td>\n      <td>dp</td>\n      <td>B08QHH5BZR</td>\n      <td>ref=sr_1_66?dchild=1&amp;keywords=laptops&amp;qid=1617...</td>\n    </tr>\n    <tr>\n      <th>44</th>\n      <td>https:</td>\n      <td>www.amazon.com</td>\n      <td>HP-15-6inch-Laptop-Quad-Core-Processor</td>\n      <td>dp</td>\n      <td>B08L74Z1YK</td>\n      <td>ref=sr_1_67?dchild=1&amp;keywords=laptops&amp;qid=1617...</td>\n    </tr>\n    <tr>\n      <th>45</th>\n      <td>https:</td>\n      <td>www.amazon.com</td>\n      <td>Lenovo-Chromebook-Convertible-11-6-Inch-81HY00...</td>\n      <td>dp</td>\n      <td>B07GM2J11Q</td>\n      <td>ref=sr_1_68?dchild=1&amp;keywords=laptops&amp;qid=1617...</td>\n    </tr>\n    <tr>\n      <th>46</th>\n      <td>https:</td>\n      <td>www.amazon.com</td>\n      <td>ASUS-ZenBook-13-Ultra-Slim-Laptop</td>\n      <td>dp</td>\n      <td>B08KH53NKR</td>\n      <td>ref=sr_1_69?dchild=1&amp;keywords=laptops&amp;qid=1617...</td>\n    </tr>\n    <tr>\n      <th>47</th>\n      <td>https:</td>\n      <td>www.amazon.com</td>\n      <td>gp</td>\n      <td>slredirect</td>\n      <td>picassoRedirect.html</td>\n      <td>ref=pa_sp_btf_electronics_sr_pg3_1?ie=UTF8&amp;adI...</td>\n    </tr>\n    <tr>\n      <th>48</th>\n      <td>https:</td>\n      <td>www.amazon.com</td>\n      <td>Lenovo-1920x1080-Processor-Windows-82B1000AUS</td>\n      <td>dp</td>\n      <td>B08BB9RWXD</td>\n      <td>ref=sr_1_71?dchild=1&amp;keywords=laptops&amp;qid=1617...</td>\n    </tr>\n    <tr>\n      <th>49</th>\n      <td>https:</td>\n      <td>www.amazon.com</td>\n      <td>Display-Quad-core-celeron_j3455-Processor-scal...</td>\n      <td>dp</td>\n      <td>B08RXR363N</td>\n      <td>ref=sr_1_72?dchild=1&amp;keywords=laptops&amp;qid=1617...</td>\n    </tr>\n  </tbody>\n</table>\n</div>"
     },
     "metadata": {},
     "execution_count": 146
    }
   ],
   "source": [
    "cols = ['c1', 'c2', 'c3', 'c4','c5','c6']\n",
    "url_div = []\n",
    "for url in urls:\n",
    "    lst = url.split(\"/\")\n",
    "    url_div.append([x for x in lst if not x.isdigit() and not x == \"\"])\n",
    "\n",
    "df_asin = pd.DataFrame(url_div, columns=cols)\n",
    "df_asin.head(15)"
   ]
  },
  {
   "cell_type": "code",
   "execution_count": 144,
   "metadata": {},
   "outputs": [
    {
     "output_type": "execute_result",
     "data": {
      "text/plain": [
       "0       picassoRedirect.html\n",
       "1       picassoRedirect.html\n",
       "2                 B08KGZ79N6\n",
       "3                 B081V6W99V\n",
       "4                 B08YJJ9DXD\n",
       "                ...         \n",
       "2845    picassoRedirect.html\n",
       "2846    picassoRedirect.html\n",
       "2847    picassoRedirect.html\n",
       "2848              B08B9LJJDL\n",
       "2849    picassoRedirect.html\n",
       "Name: c5, Length: 2850, dtype: object"
      ]
     },
     "metadata": {},
     "execution_count": 144
    }
   ],
   "source": [
    "asin = df_asin['c5']\n",
    "asin"
   ]
  },
  {
   "cell_type": "code",
   "execution_count": 145,
   "metadata": {},
   "outputs": [
    {
     "output_type": "execute_result",
     "data": {
      "text/plain": [
       "'ref=sr_1_6?dchild=1&keywords=laptops&qid=1617176971&s=electronics&sr=1-6'"
      ]
     },
     "metadata": {},
     "execution_count": 145
    }
   ],
   "source": [
    "df_asin['c6'][4]"
   ]
  },
  {
   "cell_type": "code",
   "execution_count": 148,
   "metadata": {},
   "outputs": [
    {
     "output_type": "execute_result",
     "data": {
      "text/plain": [
       "                                                     c1  \\\n",
       "0     https://www.amazon.com/gp/slredirect/picassoRe...   \n",
       "1     https://www.amazon.com/gp/slredirect/picassoRe...   \n",
       "2     https://www.amazon.com/HP-i5-1135G7-Processor-...   \n",
       "3     https://www.amazon.com/ASUS-Processor-NumberPa...   \n",
       "4     https://www.amazon.com/Lenovo-ThinkPad-i5-1021...   \n",
       "...                                                 ...   \n",
       "2845  https://www.amazon.com/gp/slredirect/picassoRe...   \n",
       "2846  https://www.amazon.com/gp/slredirect/picassoRe...   \n",
       "2847  https://www.amazon.com/gp/slredirect/picassoRe...   \n",
       "2848  https://www.amazon.com/MSI-WS75-10TM-492-Works...   \n",
       "2849  https://www.amazon.com/gp/slredirect/picassoRe...   \n",
       "\n",
       "                                            c2          c3  \\\n",
       "0            pa_sp_atf_electronics_sr_pg1_1?ie   UTF8&adId   \n",
       "1            pa_sp_atf_electronics_sr_pg1_1?ie   UTF8&adId   \n",
       "2                                sr_1_3?dchild  1&keywords   \n",
       "3                                sr_1_5?dchild  1&keywords   \n",
       "4                                sr_1_6?dchild  1&keywords   \n",
       "...                                        ...         ...   \n",
       "2845  pa_sp_atf_next_electronics_sr_pg199_1?ie   UTF8&adId   \n",
       "2846       pa_sp_mtf_electronics_sr_pg199_1?ie   UTF8&adId   \n",
       "2847       pa_sp_mtf_electronics_sr_pg199_1?ie   UTF8&adId   \n",
       "2848                          sr_1_4776?dchild  1&keywords   \n",
       "2849       pa_sp_btf_electronics_sr_pg199_1?ie   UTF8&adId   \n",
       "\n",
       "                             d4  \\\n",
       "0      A05080908A47PF9YZ08Y&url   \n",
       "1     A03235953BQ0VIA6N106D&url   \n",
       "2                   laptops&qid   \n",
       "3                   laptops&qid   \n",
       "4                   laptops&qid   \n",
       "...                         ...   \n",
       "2845  A014958210HNG4ULUIKB1&url   \n",
       "2846  A01452661TZXFF5QSYYY3&url   \n",
       "2847   A0227617YAX7E6JCW86Z&url   \n",
       "2848                laptops&qid   \n",
       "2849  A04745041HN9MEAVFODL4&url   \n",
       "\n",
       "                                                     c5            c6c7  \\\n",
       "0     %2FCHUWI-HeroBook-Pro-3200x1800-Resolution%2Fd...   1617176971&id   \n",
       "1     %2FHP-Chromebook-11-6-Dual-core-Refurbished%2F...   1617176971&id   \n",
       "2                                          1617176971&s  electronics&sr   \n",
       "3                                          1617176971&s  electronics&sr   \n",
       "4                                          1617176971&s  electronics&sr   \n",
       "...                                                 ...             ...   \n",
       "2845  %2FWinnovo-N140-Celeron-Processor-Display%2Fdp...   1617177210&id   \n",
       "2846  %2FCeleron-Windows-Display-Support-Expansion%2...   1617177210&id   \n",
       "2847  %2FLaptop-Computers-14-Inch-Windows-10-Noteboo...   1617177210&id   \n",
       "2848                                       1617177210&s  electronics&sr   \n",
       "2849  %2FWinnovo-N140-Celeron-Processor-Display%2Fdp...   1617177210&id   \n",
       "\n",
       "                               c8           c9  \n",
       "0     3115143532962956&widgetName       sp_atf  \n",
       "1     3115143532962956&widgetName       sp_atf  \n",
       "2                             1-3         None  \n",
       "3                             1-5         None  \n",
       "4                             1-6         None  \n",
       "...                           ...          ...  \n",
       "2845  1561510009786667&widgetName  sp_atf_next  \n",
       "2846  1561510009786667&widgetName       sp_mtf  \n",
       "2847  1561510009786667&widgetName       sp_mtf  \n",
       "2848                       1-4776         None  \n",
       "2849  1561510009786667&widgetName       sp_btf  \n",
       "\n",
       "[2850 rows x 8 columns]"
      ],
      "text/html": "<div>\n<style scoped>\n    .dataframe tbody tr th:only-of-type {\n        vertical-align: middle;\n    }\n\n    .dataframe tbody tr th {\n        vertical-align: top;\n    }\n\n    .dataframe thead th {\n        text-align: right;\n    }\n</style>\n<table border=\"1\" class=\"dataframe\">\n  <thead>\n    <tr style=\"text-align: right;\">\n      <th></th>\n      <th>c1</th>\n      <th>c2</th>\n      <th>c3</th>\n      <th>d4</th>\n      <th>c5</th>\n      <th>c6c7</th>\n      <th>c8</th>\n      <th>c9</th>\n    </tr>\n  </thead>\n  <tbody>\n    <tr>\n      <th>0</th>\n      <td>https://www.amazon.com/gp/slredirect/picassoRe...</td>\n      <td>pa_sp_atf_electronics_sr_pg1_1?ie</td>\n      <td>UTF8&amp;adId</td>\n      <td>A05080908A47PF9YZ08Y&amp;url</td>\n      <td>%2FCHUWI-HeroBook-Pro-3200x1800-Resolution%2Fd...</td>\n      <td>1617176971&amp;id</td>\n      <td>3115143532962956&amp;widgetName</td>\n      <td>sp_atf</td>\n    </tr>\n    <tr>\n      <th>1</th>\n      <td>https://www.amazon.com/gp/slredirect/picassoRe...</td>\n      <td>pa_sp_atf_electronics_sr_pg1_1?ie</td>\n      <td>UTF8&amp;adId</td>\n      <td>A03235953BQ0VIA6N106D&amp;url</td>\n      <td>%2FHP-Chromebook-11-6-Dual-core-Refurbished%2F...</td>\n      <td>1617176971&amp;id</td>\n      <td>3115143532962956&amp;widgetName</td>\n      <td>sp_atf</td>\n    </tr>\n    <tr>\n      <th>2</th>\n      <td>https://www.amazon.com/HP-i5-1135G7-Processor-...</td>\n      <td>sr_1_3?dchild</td>\n      <td>1&amp;keywords</td>\n      <td>laptops&amp;qid</td>\n      <td>1617176971&amp;s</td>\n      <td>electronics&amp;sr</td>\n      <td>1-3</td>\n      <td>None</td>\n    </tr>\n    <tr>\n      <th>3</th>\n      <td>https://www.amazon.com/ASUS-Processor-NumberPa...</td>\n      <td>sr_1_5?dchild</td>\n      <td>1&amp;keywords</td>\n      <td>laptops&amp;qid</td>\n      <td>1617176971&amp;s</td>\n      <td>electronics&amp;sr</td>\n      <td>1-5</td>\n      <td>None</td>\n    </tr>\n    <tr>\n      <th>4</th>\n      <td>https://www.amazon.com/Lenovo-ThinkPad-i5-1021...</td>\n      <td>sr_1_6?dchild</td>\n      <td>1&amp;keywords</td>\n      <td>laptops&amp;qid</td>\n      <td>1617176971&amp;s</td>\n      <td>electronics&amp;sr</td>\n      <td>1-6</td>\n      <td>None</td>\n    </tr>\n    <tr>\n      <th>...</th>\n      <td>...</td>\n      <td>...</td>\n      <td>...</td>\n      <td>...</td>\n      <td>...</td>\n      <td>...</td>\n      <td>...</td>\n      <td>...</td>\n    </tr>\n    <tr>\n      <th>2845</th>\n      <td>https://www.amazon.com/gp/slredirect/picassoRe...</td>\n      <td>pa_sp_atf_next_electronics_sr_pg199_1?ie</td>\n      <td>UTF8&amp;adId</td>\n      <td>A014958210HNG4ULUIKB1&amp;url</td>\n      <td>%2FWinnovo-N140-Celeron-Processor-Display%2Fdp...</td>\n      <td>1617177210&amp;id</td>\n      <td>1561510009786667&amp;widgetName</td>\n      <td>sp_atf_next</td>\n    </tr>\n    <tr>\n      <th>2846</th>\n      <td>https://www.amazon.com/gp/slredirect/picassoRe...</td>\n      <td>pa_sp_mtf_electronics_sr_pg199_1?ie</td>\n      <td>UTF8&amp;adId</td>\n      <td>A01452661TZXFF5QSYYY3&amp;url</td>\n      <td>%2FCeleron-Windows-Display-Support-Expansion%2...</td>\n      <td>1617177210&amp;id</td>\n      <td>1561510009786667&amp;widgetName</td>\n      <td>sp_mtf</td>\n    </tr>\n    <tr>\n      <th>2847</th>\n      <td>https://www.amazon.com/gp/slredirect/picassoRe...</td>\n      <td>pa_sp_mtf_electronics_sr_pg199_1?ie</td>\n      <td>UTF8&amp;adId</td>\n      <td>A0227617YAX7E6JCW86Z&amp;url</td>\n      <td>%2FLaptop-Computers-14-Inch-Windows-10-Noteboo...</td>\n      <td>1617177210&amp;id</td>\n      <td>1561510009786667&amp;widgetName</td>\n      <td>sp_mtf</td>\n    </tr>\n    <tr>\n      <th>2848</th>\n      <td>https://www.amazon.com/MSI-WS75-10TM-492-Works...</td>\n      <td>sr_1_4776?dchild</td>\n      <td>1&amp;keywords</td>\n      <td>laptops&amp;qid</td>\n      <td>1617177210&amp;s</td>\n      <td>electronics&amp;sr</td>\n      <td>1-4776</td>\n      <td>None</td>\n    </tr>\n    <tr>\n      <th>2849</th>\n      <td>https://www.amazon.com/gp/slredirect/picassoRe...</td>\n      <td>pa_sp_btf_electronics_sr_pg199_1?ie</td>\n      <td>UTF8&amp;adId</td>\n      <td>A04745041HN9MEAVFODL4&amp;url</td>\n      <td>%2FWinnovo-N140-Celeron-Processor-Display%2Fdp...</td>\n      <td>1617177210&amp;id</td>\n      <td>1561510009786667&amp;widgetName</td>\n      <td>sp_btf</td>\n    </tr>\n  </tbody>\n</table>\n<p>2850 rows × 8 columns</p>\n</div>"
     },
     "metadata": {},
     "execution_count": 148
    }
   ],
   "source": [
    "cols = ['c1','c2','c3','d4','c5','c6''c7','c8','c9']\n",
    "make_me = []\n",
    "for url in urls:\n",
    "    lst = url.split(\"=\")\n",
    "    make_me.append([x for x in lst if not x.isdigit() and not x == \"\"])\n",
    "    \n",
    "\n",
    "df4 = pd.DataFrame(make_me, columns=cols)\n",
    "df4"
   ]
  },
  {
   "cell_type": "code",
   "execution_count": 149,
   "metadata": {},
   "outputs": [
    {
     "output_type": "execute_result",
     "data": {
      "text/plain": [
       "laptops&qid                  1835\n",
       "A01452661TZXFF5QSYYY3&url     180\n",
       "A0227617YAX7E6JCW86Z&url      145\n",
       "A014958210HNG4ULUIKB1&url     115\n",
       "A04745041HN9MEAVFODL4&url     113\n",
       "A03235953BQ0VIA6N106D&url      91\n",
       "A05080908A47PF9YZ08Y&url       75\n",
       "A00062503S4786PSFQUJG&url      73\n",
       "A03838601QJJ559XLRXS7&url      65\n",
       "A0122950388XB8ZE5VCZJ&url      58\n",
       "A06476382V4LP8WOAPR5W&url      39\n",
       "A0755556KD1W6O83SAEM&url       29\n",
       "A00782012BHWMIT23CK27&url       6\n",
       "A058893926C425EXCF2US&url       5\n",
       "A09624012O79ZOH5VLUZM&url       4\n",
       "A072432825MR6DQGSF04Z&url       4\n",
       "A016667170GICJOZRYD&url         4\n",
       "A08160022HALQ8KWV4VZX&url       3\n",
       "A00319712513WUUMRWOQW&url       2\n",
       "A0310649HJCQJ9AVYJ9N&url        1\n",
       "A0154015GSAFWEA2OJAD&url        1\n",
       "A014443114SH1548G4GH4&url       1\n",
       "A0342708JMR5HXS5WB0W&url        1\n",
       "Name: d4, dtype: int64"
      ]
     },
     "metadata": {},
     "execution_count": 149
    }
   ],
   "source": [
    "abcd = df4['d4']\n",
    "abcd.value_counts()"
   ]
  },
  {
   "cell_type": "code",
   "execution_count": 151,
   "metadata": {},
   "outputs": [
    {
     "output_type": "execute_result",
     "data": {
      "text/plain": [
       "                        c5                        d4\n",
       "0     picassoRedirect.html   05080908A47PF9YZ08Y&url\n",
       "1     picassoRedirect.html  03235953BQ0VIA6N106D&url\n",
       "2               B08KGZ79N6                aptops&qid\n",
       "3               B081V6W99V                aptops&qid\n",
       "4               B08YJJ9DXD                aptops&qid\n",
       "...                    ...                       ...\n",
       "2845  picassoRedirect.html  014958210HNG4ULUIKB1&url\n",
       "2846  picassoRedirect.html  01452661TZXFF5QSYYY3&url\n",
       "2847  picassoRedirect.html   0227617YAX7E6JCW86Z&url\n",
       "2848            B08B9LJJDL                aptops&qid\n",
       "2849  picassoRedirect.html  04745041HN9MEAVFODL4&url\n",
       "\n",
       "[2850 rows x 2 columns]"
      ],
      "text/html": "<div>\n<style scoped>\n    .dataframe tbody tr th:only-of-type {\n        vertical-align: middle;\n    }\n\n    .dataframe tbody tr th {\n        vertical-align: top;\n    }\n\n    .dataframe thead th {\n        text-align: right;\n    }\n</style>\n<table border=\"1\" class=\"dataframe\">\n  <thead>\n    <tr style=\"text-align: right;\">\n      <th></th>\n      <th>c5</th>\n      <th>d4</th>\n    </tr>\n  </thead>\n  <tbody>\n    <tr>\n      <th>0</th>\n      <td>picassoRedirect.html</td>\n      <td>05080908A47PF9YZ08Y&amp;url</td>\n    </tr>\n    <tr>\n      <th>1</th>\n      <td>picassoRedirect.html</td>\n      <td>03235953BQ0VIA6N106D&amp;url</td>\n    </tr>\n    <tr>\n      <th>2</th>\n      <td>B08KGZ79N6</td>\n      <td>aptops&amp;qid</td>\n    </tr>\n    <tr>\n      <th>3</th>\n      <td>B081V6W99V</td>\n      <td>aptops&amp;qid</td>\n    </tr>\n    <tr>\n      <th>4</th>\n      <td>B08YJJ9DXD</td>\n      <td>aptops&amp;qid</td>\n    </tr>\n    <tr>\n      <th>...</th>\n      <td>...</td>\n      <td>...</td>\n    </tr>\n    <tr>\n      <th>2845</th>\n      <td>picassoRedirect.html</td>\n      <td>014958210HNG4ULUIKB1&amp;url</td>\n    </tr>\n    <tr>\n      <th>2846</th>\n      <td>picassoRedirect.html</td>\n      <td>01452661TZXFF5QSYYY3&amp;url</td>\n    </tr>\n    <tr>\n      <th>2847</th>\n      <td>picassoRedirect.html</td>\n      <td>0227617YAX7E6JCW86Z&amp;url</td>\n    </tr>\n    <tr>\n      <th>2848</th>\n      <td>B08B9LJJDL</td>\n      <td>aptops&amp;qid</td>\n    </tr>\n    <tr>\n      <th>2849</th>\n      <td>picassoRedirect.html</td>\n      <td>04745041HN9MEAVFODL4&amp;url</td>\n    </tr>\n  </tbody>\n</table>\n<p>2850 rows × 2 columns</p>\n</div>"
     },
     "metadata": {},
     "execution_count": 151
    }
   ],
   "source": [
    "abcde = pd.concat([asin, abcd], axis=1)\n",
    "abcde['d4'] = abcde['d4'].str[1:]\n",
    "abcde"
   ]
  },
  {
   "cell_type": "code",
   "execution_count": 152,
   "metadata": {},
   "outputs": [
    {
     "output_type": "execute_result",
     "data": {
      "text/plain": [
       "                            c5                        d4\n",
       "0      05080908A47PF9YZ08Y&url   05080908A47PF9YZ08Y&url\n",
       "1     03235953BQ0VIA6N106D&url  03235953BQ0VIA6N106D&url\n",
       "2                   B08KGZ79N6                aptops&qid\n",
       "3                   B081V6W99V                aptops&qid\n",
       "4                   B08YJJ9DXD                aptops&qid\n",
       "...                        ...                       ...\n",
       "2845  014958210HNG4ULUIKB1&url  014958210HNG4ULUIKB1&url\n",
       "2846  01452661TZXFF5QSYYY3&url  01452661TZXFF5QSYYY3&url\n",
       "2847   0227617YAX7E6JCW86Z&url   0227617YAX7E6JCW86Z&url\n",
       "2848                B08B9LJJDL                aptops&qid\n",
       "2849  04745041HN9MEAVFODL4&url  04745041HN9MEAVFODL4&url\n",
       "\n",
       "[2850 rows x 2 columns]"
      ],
      "text/html": "<div>\n<style scoped>\n    .dataframe tbody tr th:only-of-type {\n        vertical-align: middle;\n    }\n\n    .dataframe tbody tr th {\n        vertical-align: top;\n    }\n\n    .dataframe thead th {\n        text-align: right;\n    }\n</style>\n<table border=\"1\" class=\"dataframe\">\n  <thead>\n    <tr style=\"text-align: right;\">\n      <th></th>\n      <th>c5</th>\n      <th>d4</th>\n    </tr>\n  </thead>\n  <tbody>\n    <tr>\n      <th>0</th>\n      <td>05080908A47PF9YZ08Y&amp;url</td>\n      <td>05080908A47PF9YZ08Y&amp;url</td>\n    </tr>\n    <tr>\n      <th>1</th>\n      <td>03235953BQ0VIA6N106D&amp;url</td>\n      <td>03235953BQ0VIA6N106D&amp;url</td>\n    </tr>\n    <tr>\n      <th>2</th>\n      <td>B08KGZ79N6</td>\n      <td>aptops&amp;qid</td>\n    </tr>\n    <tr>\n      <th>3</th>\n      <td>B081V6W99V</td>\n      <td>aptops&amp;qid</td>\n    </tr>\n    <tr>\n      <th>4</th>\n      <td>B08YJJ9DXD</td>\n      <td>aptops&amp;qid</td>\n    </tr>\n    <tr>\n      <th>...</th>\n      <td>...</td>\n      <td>...</td>\n    </tr>\n    <tr>\n      <th>2845</th>\n      <td>014958210HNG4ULUIKB1&amp;url</td>\n      <td>014958210HNG4ULUIKB1&amp;url</td>\n    </tr>\n    <tr>\n      <th>2846</th>\n      <td>01452661TZXFF5QSYYY3&amp;url</td>\n      <td>01452661TZXFF5QSYYY3&amp;url</td>\n    </tr>\n    <tr>\n      <th>2847</th>\n      <td>0227617YAX7E6JCW86Z&amp;url</td>\n      <td>0227617YAX7E6JCW86Z&amp;url</td>\n    </tr>\n    <tr>\n      <th>2848</th>\n      <td>B08B9LJJDL</td>\n      <td>aptops&amp;qid</td>\n    </tr>\n    <tr>\n      <th>2849</th>\n      <td>04745041HN9MEAVFODL4&amp;url</td>\n      <td>04745041HN9MEAVFODL4&amp;url</td>\n    </tr>\n  </tbody>\n</table>\n<p>2850 rows × 2 columns</p>\n</div>"
     },
     "metadata": {},
     "execution_count": 152
    }
   ],
   "source": [
    "abcde['c5'] = np.where(abcde['c5'] == 'picassoRedirect.html', abcde['d4'], abcde['c5'])\n",
    "abcde"
   ]
  },
  {
   "cell_type": "code",
   "execution_count": 153,
   "metadata": {},
   "outputs": [],
   "source": [
    "search = abcde.drop(['d4'],axis=1)"
   ]
  },
  {
   "cell_type": "code",
   "execution_count": 158,
   "metadata": {},
   "outputs": [
    {
     "output_type": "execute_result",
     "data": {
      "text/plain": [
       "                                                   name  \\\n",
       "0     CHUWI HeroBook Pro+ Laptop,13.3” 3200x1800 Res...   \n",
       "1     HP Chromebook 11 G5 11.6 inches Chromebook - I...   \n",
       "2     HP 15 Laptop, 11th Gen Intel Core i5-1135G7 Pr...   \n",
       "3     ASUS Laptop L210 Ultra Thin Laptop, 11.6” HD D...   \n",
       "4     2021 Lenovo ThinkPad E14 Laptop 14\" FHD Busine...   \n",
       "...                                                 ...   \n",
       "2845  Laptop 14 Inch, Winnovo N140, 6GB RAM, 128GB S...   \n",
       "2846  Jumper Laptop 13.3 inch 8GB RAM 128GB ROM Quad...   \n",
       "2847  Laptop Computers 14-Inch Windows-10 Notebook -...   \n",
       "2848  MSI WS75 10TM-492 Mobile Workstation i9-10980H...   \n",
       "2849  Laptop 14 Inch, Winnovo N140, 6GB RAM, 128GB S...   \n",
       "\n",
       "                                                    url  rating  review_count  \\\n",
       "0     https://www.amazon.com/gp/slredirect/picassoRe...     3.2            11   \n",
       "1     https://www.amazon.com/gp/slredirect/picassoRe...     4.0            52   \n",
       "2     https://www.amazon.com/HP-i5-1135G7-Processor-...     4.4           185   \n",
       "3     https://www.amazon.com/ASUS-Processor-NumberPa...     4.3          6507   \n",
       "4     https://www.amazon.com/Lenovo-ThinkPad-i5-1021...     4.5             2   \n",
       "...                                                 ...     ...           ...   \n",
       "2845  https://www.amazon.com/gp/slredirect/picassoRe...     4.0            49   \n",
       "2846  https://www.amazon.com/gp/slredirect/picassoRe...     4.3          2062   \n",
       "2847  https://www.amazon.com/gp/slredirect/picassoRe...     3.6            41   \n",
       "2848  https://www.amazon.com/MSI-WS75-10TM-492-Works...     5.0             1   \n",
       "2849  https://www.amazon.com/gp/slredirect/picassoRe...     4.0            30   \n",
       "\n",
       "        price product_type                        c5  \n",
       "0      279.00       Laptop   05080908A47PF9YZ08Y&url  \n",
       "1      169.00       Laptop  03235953BQ0VIA6N106D&url  \n",
       "2      599.00       Laptop                B08KGZ79N6  \n",
       "3      226.95       Laptop                B081V6W99V  \n",
       "4      799.99       Laptop                B08YJJ9DXD  \n",
       "...       ...          ...                       ...  \n",
       "2845   339.00       Laptop  014958210HNG4ULUIKB1&url  \n",
       "2846   299.99       Laptop  01452661TZXFF5QSYYY3&url  \n",
       "2847   309.00       Laptop   0227617YAX7E6JCW86Z&url  \n",
       "2848  3936.99       Laptop                B08B9LJJDL  \n",
       "2849   349.00       Laptop  04745041HN9MEAVFODL4&url  \n",
       "\n",
       "[2850 rows x 7 columns]"
      ],
      "text/html": "<div>\n<style scoped>\n    .dataframe tbody tr th:only-of-type {\n        vertical-align: middle;\n    }\n\n    .dataframe tbody tr th {\n        vertical-align: top;\n    }\n\n    .dataframe thead th {\n        text-align: right;\n    }\n</style>\n<table border=\"1\" class=\"dataframe\">\n  <thead>\n    <tr style=\"text-align: right;\">\n      <th></th>\n      <th>name</th>\n      <th>url</th>\n      <th>rating</th>\n      <th>review_count</th>\n      <th>price</th>\n      <th>product_type</th>\n      <th>c5</th>\n    </tr>\n  </thead>\n  <tbody>\n    <tr>\n      <th>0</th>\n      <td>CHUWI HeroBook Pro+ Laptop,13.3” 3200x1800 Res...</td>\n      <td>https://www.amazon.com/gp/slredirect/picassoRe...</td>\n      <td>3.2</td>\n      <td>11</td>\n      <td>279.00</td>\n      <td>Laptop</td>\n      <td>05080908A47PF9YZ08Y&amp;url</td>\n    </tr>\n    <tr>\n      <th>1</th>\n      <td>HP Chromebook 11 G5 11.6 inches Chromebook - I...</td>\n      <td>https://www.amazon.com/gp/slredirect/picassoRe...</td>\n      <td>4.0</td>\n      <td>52</td>\n      <td>169.00</td>\n      <td>Laptop</td>\n      <td>03235953BQ0VIA6N106D&amp;url</td>\n    </tr>\n    <tr>\n      <th>2</th>\n      <td>HP 15 Laptop, 11th Gen Intel Core i5-1135G7 Pr...</td>\n      <td>https://www.amazon.com/HP-i5-1135G7-Processor-...</td>\n      <td>4.4</td>\n      <td>185</td>\n      <td>599.00</td>\n      <td>Laptop</td>\n      <td>B08KGZ79N6</td>\n    </tr>\n    <tr>\n      <th>3</th>\n      <td>ASUS Laptop L210 Ultra Thin Laptop, 11.6” HD D...</td>\n      <td>https://www.amazon.com/ASUS-Processor-NumberPa...</td>\n      <td>4.3</td>\n      <td>6507</td>\n      <td>226.95</td>\n      <td>Laptop</td>\n      <td>B081V6W99V</td>\n    </tr>\n    <tr>\n      <th>4</th>\n      <td>2021 Lenovo ThinkPad E14 Laptop 14\" FHD Busine...</td>\n      <td>https://www.amazon.com/Lenovo-ThinkPad-i5-1021...</td>\n      <td>4.5</td>\n      <td>2</td>\n      <td>799.99</td>\n      <td>Laptop</td>\n      <td>B08YJJ9DXD</td>\n    </tr>\n    <tr>\n      <th>...</th>\n      <td>...</td>\n      <td>...</td>\n      <td>...</td>\n      <td>...</td>\n      <td>...</td>\n      <td>...</td>\n      <td>...</td>\n    </tr>\n    <tr>\n      <th>2845</th>\n      <td>Laptop 14 Inch, Winnovo N140, 6GB RAM, 128GB S...</td>\n      <td>https://www.amazon.com/gp/slredirect/picassoRe...</td>\n      <td>4.0</td>\n      <td>49</td>\n      <td>339.00</td>\n      <td>Laptop</td>\n      <td>014958210HNG4ULUIKB1&amp;url</td>\n    </tr>\n    <tr>\n      <th>2846</th>\n      <td>Jumper Laptop 13.3 inch 8GB RAM 128GB ROM Quad...</td>\n      <td>https://www.amazon.com/gp/slredirect/picassoRe...</td>\n      <td>4.3</td>\n      <td>2062</td>\n      <td>299.99</td>\n      <td>Laptop</td>\n      <td>01452661TZXFF5QSYYY3&amp;url</td>\n    </tr>\n    <tr>\n      <th>2847</th>\n      <td>Laptop Computers 14-Inch Windows-10 Notebook -...</td>\n      <td>https://www.amazon.com/gp/slredirect/picassoRe...</td>\n      <td>3.6</td>\n      <td>41</td>\n      <td>309.00</td>\n      <td>Laptop</td>\n      <td>0227617YAX7E6JCW86Z&amp;url</td>\n    </tr>\n    <tr>\n      <th>2848</th>\n      <td>MSI WS75 10TM-492 Mobile Workstation i9-10980H...</td>\n      <td>https://www.amazon.com/MSI-WS75-10TM-492-Works...</td>\n      <td>5.0</td>\n      <td>1</td>\n      <td>3936.99</td>\n      <td>Laptop</td>\n      <td>B08B9LJJDL</td>\n    </tr>\n    <tr>\n      <th>2849</th>\n      <td>Laptop 14 Inch, Winnovo N140, 6GB RAM, 128GB S...</td>\n      <td>https://www.amazon.com/gp/slredirect/picassoRe...</td>\n      <td>4.0</td>\n      <td>30</td>\n      <td>349.00</td>\n      <td>Laptop</td>\n      <td>04745041HN9MEAVFODL4&amp;url</td>\n    </tr>\n  </tbody>\n</table>\n<p>2850 rows × 7 columns</p>\n</div>"
     },
     "metadata": {},
     "execution_count": 158
    }
   ],
   "source": [
    "laptop = pd.concat([df_lap, search], axis=1)\n",
    "laptop.drop(columns=['price1'],axis=1)"
   ]
  },
  {
   "cell_type": "code",
   "execution_count": 162,
   "metadata": {},
   "outputs": [],
   "source": [
    "laptop.rename(columns = {'c5':'ASIN','name':'title'}, inplace = True)"
   ]
  },
  {
   "cell_type": "code",
   "execution_count": 163,
   "metadata": {},
   "outputs": [
    {
     "output_type": "execute_result",
     "data": {
      "text/plain": [
       "                                                  title  \\\n",
       "0     CHUWI HeroBook Pro+ Laptop,13.3” 3200x1800 Res...   \n",
       "1     HP Chromebook 11 G5 11.6 inches Chromebook - I...   \n",
       "2     HP 15 Laptop, 11th Gen Intel Core i5-1135G7 Pr...   \n",
       "3     ASUS Laptop L210 Ultra Thin Laptop, 11.6” HD D...   \n",
       "4     2021 Lenovo ThinkPad E14 Laptop 14\" FHD Busine...   \n",
       "...                                                 ...   \n",
       "2845  Laptop 14 Inch, Winnovo N140, 6GB RAM, 128GB S...   \n",
       "2846  Jumper Laptop 13.3 inch 8GB RAM 128GB ROM Quad...   \n",
       "2847  Laptop Computers 14-Inch Windows-10 Notebook -...   \n",
       "2848  MSI WS75 10TM-492 Mobile Workstation i9-10980H...   \n",
       "2849  Laptop 14 Inch, Winnovo N140, 6GB RAM, 128GB S...   \n",
       "\n",
       "                                                    url  rating  review_count  \\\n",
       "0     https://www.amazon.com/gp/slredirect/picassoRe...     3.2            11   \n",
       "1     https://www.amazon.com/gp/slredirect/picassoRe...     4.0            52   \n",
       "2     https://www.amazon.com/HP-i5-1135G7-Processor-...     4.4           185   \n",
       "3     https://www.amazon.com/ASUS-Processor-NumberPa...     4.3          6507   \n",
       "4     https://www.amazon.com/Lenovo-ThinkPad-i5-1021...     4.5             2   \n",
       "...                                                 ...     ...           ...   \n",
       "2845  https://www.amazon.com/gp/slredirect/picassoRe...     4.0            49   \n",
       "2846  https://www.amazon.com/gp/slredirect/picassoRe...     4.3          2062   \n",
       "2847  https://www.amazon.com/gp/slredirect/picassoRe...     3.6            41   \n",
       "2848  https://www.amazon.com/MSI-WS75-10TM-492-Works...     5.0             1   \n",
       "2849  https://www.amazon.com/gp/slredirect/picassoRe...     4.0            30   \n",
       "\n",
       "        price   price1 product_type                      ASIN  \n",
       "0      279.00    279 .       Laptop   05080908A47PF9YZ08Y&url  \n",
       "1      169.00    169 .       Laptop  03235953BQ0VIA6N106D&url  \n",
       "2      599.00    599 .       Laptop                B08KGZ79N6  \n",
       "3      226.95    226 .       Laptop                B081V6W99V  \n",
       "4      799.99    799 .       Laptop                B08YJJ9DXD  \n",
       "...       ...      ...          ...                       ...  \n",
       "2845   339.00    339 .       Laptop  014958210HNG4ULUIKB1&url  \n",
       "2846   299.99    299 .       Laptop  01452661TZXFF5QSYYY3&url  \n",
       "2847   309.00    309 .       Laptop   0227617YAX7E6JCW86Z&url  \n",
       "2848  3936.99  3,936 .       Laptop                B08B9LJJDL  \n",
       "2849   349.00    349 .       Laptop  04745041HN9MEAVFODL4&url  \n",
       "\n",
       "[2850 rows x 8 columns]"
      ],
      "text/html": "<div>\n<style scoped>\n    .dataframe tbody tr th:only-of-type {\n        vertical-align: middle;\n    }\n\n    .dataframe tbody tr th {\n        vertical-align: top;\n    }\n\n    .dataframe thead th {\n        text-align: right;\n    }\n</style>\n<table border=\"1\" class=\"dataframe\">\n  <thead>\n    <tr style=\"text-align: right;\">\n      <th></th>\n      <th>title</th>\n      <th>url</th>\n      <th>rating</th>\n      <th>review_count</th>\n      <th>price</th>\n      <th>price1</th>\n      <th>product_type</th>\n      <th>ASIN</th>\n    </tr>\n  </thead>\n  <tbody>\n    <tr>\n      <th>0</th>\n      <td>CHUWI HeroBook Pro+ Laptop,13.3” 3200x1800 Res...</td>\n      <td>https://www.amazon.com/gp/slredirect/picassoRe...</td>\n      <td>3.2</td>\n      <td>11</td>\n      <td>279.00</td>\n      <td>279 .</td>\n      <td>Laptop</td>\n      <td>05080908A47PF9YZ08Y&amp;url</td>\n    </tr>\n    <tr>\n      <th>1</th>\n      <td>HP Chromebook 11 G5 11.6 inches Chromebook - I...</td>\n      <td>https://www.amazon.com/gp/slredirect/picassoRe...</td>\n      <td>4.0</td>\n      <td>52</td>\n      <td>169.00</td>\n      <td>169 .</td>\n      <td>Laptop</td>\n      <td>03235953BQ0VIA6N106D&amp;url</td>\n    </tr>\n    <tr>\n      <th>2</th>\n      <td>HP 15 Laptop, 11th Gen Intel Core i5-1135G7 Pr...</td>\n      <td>https://www.amazon.com/HP-i5-1135G7-Processor-...</td>\n      <td>4.4</td>\n      <td>185</td>\n      <td>599.00</td>\n      <td>599 .</td>\n      <td>Laptop</td>\n      <td>B08KGZ79N6</td>\n    </tr>\n    <tr>\n      <th>3</th>\n      <td>ASUS Laptop L210 Ultra Thin Laptop, 11.6” HD D...</td>\n      <td>https://www.amazon.com/ASUS-Processor-NumberPa...</td>\n      <td>4.3</td>\n      <td>6507</td>\n      <td>226.95</td>\n      <td>226 .</td>\n      <td>Laptop</td>\n      <td>B081V6W99V</td>\n    </tr>\n    <tr>\n      <th>4</th>\n      <td>2021 Lenovo ThinkPad E14 Laptop 14\" FHD Busine...</td>\n      <td>https://www.amazon.com/Lenovo-ThinkPad-i5-1021...</td>\n      <td>4.5</td>\n      <td>2</td>\n      <td>799.99</td>\n      <td>799 .</td>\n      <td>Laptop</td>\n      <td>B08YJJ9DXD</td>\n    </tr>\n    <tr>\n      <th>...</th>\n      <td>...</td>\n      <td>...</td>\n      <td>...</td>\n      <td>...</td>\n      <td>...</td>\n      <td>...</td>\n      <td>...</td>\n      <td>...</td>\n    </tr>\n    <tr>\n      <th>2845</th>\n      <td>Laptop 14 Inch, Winnovo N140, 6GB RAM, 128GB S...</td>\n      <td>https://www.amazon.com/gp/slredirect/picassoRe...</td>\n      <td>4.0</td>\n      <td>49</td>\n      <td>339.00</td>\n      <td>339 .</td>\n      <td>Laptop</td>\n      <td>014958210HNG4ULUIKB1&amp;url</td>\n    </tr>\n    <tr>\n      <th>2846</th>\n      <td>Jumper Laptop 13.3 inch 8GB RAM 128GB ROM Quad...</td>\n      <td>https://www.amazon.com/gp/slredirect/picassoRe...</td>\n      <td>4.3</td>\n      <td>2062</td>\n      <td>299.99</td>\n      <td>299 .</td>\n      <td>Laptop</td>\n      <td>01452661TZXFF5QSYYY3&amp;url</td>\n    </tr>\n    <tr>\n      <th>2847</th>\n      <td>Laptop Computers 14-Inch Windows-10 Notebook -...</td>\n      <td>https://www.amazon.com/gp/slredirect/picassoRe...</td>\n      <td>3.6</td>\n      <td>41</td>\n      <td>309.00</td>\n      <td>309 .</td>\n      <td>Laptop</td>\n      <td>0227617YAX7E6JCW86Z&amp;url</td>\n    </tr>\n    <tr>\n      <th>2848</th>\n      <td>MSI WS75 10TM-492 Mobile Workstation i9-10980H...</td>\n      <td>https://www.amazon.com/MSI-WS75-10TM-492-Works...</td>\n      <td>5.0</td>\n      <td>1</td>\n      <td>3936.99</td>\n      <td>3,936 .</td>\n      <td>Laptop</td>\n      <td>B08B9LJJDL</td>\n    </tr>\n    <tr>\n      <th>2849</th>\n      <td>Laptop 14 Inch, Winnovo N140, 6GB RAM, 128GB S...</td>\n      <td>https://www.amazon.com/gp/slredirect/picassoRe...</td>\n      <td>4.0</td>\n      <td>30</td>\n      <td>349.00</td>\n      <td>349 .</td>\n      <td>Laptop</td>\n      <td>04745041HN9MEAVFODL4&amp;url</td>\n    </tr>\n  </tbody>\n</table>\n<p>2850 rows × 8 columns</p>\n</div>"
     },
     "metadata": {},
     "execution_count": 163
    }
   ],
   "source": [
    "laptop"
   ]
  },
  {
   "cell_type": "code",
   "execution_count": 164,
   "metadata": {},
   "outputs": [
    {
     "output_type": "execute_result",
     "data": {
      "text/plain": [
       "                          ASIN  \\\n",
       "0      05080908A47PF9YZ08Y&url   \n",
       "1     03235953BQ0VIA6N106D&url   \n",
       "2                   B08KGZ79N6   \n",
       "3                   B081V6W99V   \n",
       "4                   B08YJJ9DXD   \n",
       "...                        ...   \n",
       "2845  014958210HNG4ULUIKB1&url   \n",
       "2846  01452661TZXFF5QSYYY3&url   \n",
       "2847   0227617YAX7E6JCW86Z&url   \n",
       "2848                B08B9LJJDL   \n",
       "2849  04745041HN9MEAVFODL4&url   \n",
       "\n",
       "                                                  title    price  rating  \\\n",
       "0     CHUWI HeroBook Pro+ Laptop,13.3” 3200x1800 Res...   279.00     3.2   \n",
       "1     HP Chromebook 11 G5 11.6 inches Chromebook - I...   169.00     4.0   \n",
       "2     HP 15 Laptop, 11th Gen Intel Core i5-1135G7 Pr...   599.00     4.4   \n",
       "3     ASUS Laptop L210 Ultra Thin Laptop, 11.6” HD D...   226.95     4.3   \n",
       "4     2021 Lenovo ThinkPad E14 Laptop 14\" FHD Busine...   799.99     4.5   \n",
       "...                                                 ...      ...     ...   \n",
       "2845  Laptop 14 Inch, Winnovo N140, 6GB RAM, 128GB S...   339.00     4.0   \n",
       "2846  Jumper Laptop 13.3 inch 8GB RAM 128GB ROM Quad...   299.99     4.3   \n",
       "2847  Laptop Computers 14-Inch Windows-10 Notebook -...   309.00     3.6   \n",
       "2848  MSI WS75 10TM-492 Mobile Workstation i9-10980H...  3936.99     5.0   \n",
       "2849  Laptop 14 Inch, Winnovo N140, 6GB RAM, 128GB S...   349.00     4.0   \n",
       "\n",
       "      review_count product_type  \n",
       "0               11       Laptop  \n",
       "1               52       Laptop  \n",
       "2              185       Laptop  \n",
       "3             6507       Laptop  \n",
       "4                2       Laptop  \n",
       "...            ...          ...  \n",
       "2845            49       Laptop  \n",
       "2846          2062       Laptop  \n",
       "2847            41       Laptop  \n",
       "2848             1       Laptop  \n",
       "2849            30       Laptop  \n",
       "\n",
       "[2850 rows x 6 columns]"
      ],
      "text/html": "<div>\n<style scoped>\n    .dataframe tbody tr th:only-of-type {\n        vertical-align: middle;\n    }\n\n    .dataframe tbody tr th {\n        vertical-align: top;\n    }\n\n    .dataframe thead th {\n        text-align: right;\n    }\n</style>\n<table border=\"1\" class=\"dataframe\">\n  <thead>\n    <tr style=\"text-align: right;\">\n      <th></th>\n      <th>ASIN</th>\n      <th>title</th>\n      <th>price</th>\n      <th>rating</th>\n      <th>review_count</th>\n      <th>product_type</th>\n    </tr>\n  </thead>\n  <tbody>\n    <tr>\n      <th>0</th>\n      <td>05080908A47PF9YZ08Y&amp;url</td>\n      <td>CHUWI HeroBook Pro+ Laptop,13.3” 3200x1800 Res...</td>\n      <td>279.00</td>\n      <td>3.2</td>\n      <td>11</td>\n      <td>Laptop</td>\n    </tr>\n    <tr>\n      <th>1</th>\n      <td>03235953BQ0VIA6N106D&amp;url</td>\n      <td>HP Chromebook 11 G5 11.6 inches Chromebook - I...</td>\n      <td>169.00</td>\n      <td>4.0</td>\n      <td>52</td>\n      <td>Laptop</td>\n    </tr>\n    <tr>\n      <th>2</th>\n      <td>B08KGZ79N6</td>\n      <td>HP 15 Laptop, 11th Gen Intel Core i5-1135G7 Pr...</td>\n      <td>599.00</td>\n      <td>4.4</td>\n      <td>185</td>\n      <td>Laptop</td>\n    </tr>\n    <tr>\n      <th>3</th>\n      <td>B081V6W99V</td>\n      <td>ASUS Laptop L210 Ultra Thin Laptop, 11.6” HD D...</td>\n      <td>226.95</td>\n      <td>4.3</td>\n      <td>6507</td>\n      <td>Laptop</td>\n    </tr>\n    <tr>\n      <th>4</th>\n      <td>B08YJJ9DXD</td>\n      <td>2021 Lenovo ThinkPad E14 Laptop 14\" FHD Busine...</td>\n      <td>799.99</td>\n      <td>4.5</td>\n      <td>2</td>\n      <td>Laptop</td>\n    </tr>\n    <tr>\n      <th>...</th>\n      <td>...</td>\n      <td>...</td>\n      <td>...</td>\n      <td>...</td>\n      <td>...</td>\n      <td>...</td>\n    </tr>\n    <tr>\n      <th>2845</th>\n      <td>014958210HNG4ULUIKB1&amp;url</td>\n      <td>Laptop 14 Inch, Winnovo N140, 6GB RAM, 128GB S...</td>\n      <td>339.00</td>\n      <td>4.0</td>\n      <td>49</td>\n      <td>Laptop</td>\n    </tr>\n    <tr>\n      <th>2846</th>\n      <td>01452661TZXFF5QSYYY3&amp;url</td>\n      <td>Jumper Laptop 13.3 inch 8GB RAM 128GB ROM Quad...</td>\n      <td>299.99</td>\n      <td>4.3</td>\n      <td>2062</td>\n      <td>Laptop</td>\n    </tr>\n    <tr>\n      <th>2847</th>\n      <td>0227617YAX7E6JCW86Z&amp;url</td>\n      <td>Laptop Computers 14-Inch Windows-10 Notebook -...</td>\n      <td>309.00</td>\n      <td>3.6</td>\n      <td>41</td>\n      <td>Laptop</td>\n    </tr>\n    <tr>\n      <th>2848</th>\n      <td>B08B9LJJDL</td>\n      <td>MSI WS75 10TM-492 Mobile Workstation i9-10980H...</td>\n      <td>3936.99</td>\n      <td>5.0</td>\n      <td>1</td>\n      <td>Laptop</td>\n    </tr>\n    <tr>\n      <th>2849</th>\n      <td>04745041HN9MEAVFODL4&amp;url</td>\n      <td>Laptop 14 Inch, Winnovo N140, 6GB RAM, 128GB S...</td>\n      <td>349.00</td>\n      <td>4.0</td>\n      <td>30</td>\n      <td>Laptop</td>\n    </tr>\n  </tbody>\n</table>\n<p>2850 rows × 6 columns</p>\n</div>"
     },
     "metadata": {},
     "execution_count": 164
    }
   ],
   "source": [
    "laptop = laptop[['ASIN','title','price','rating','review_count','product_type']]\n",
    "laptop"
   ]
  },
  {
   "cell_type": "code",
   "execution_count": null,
   "metadata": {},
   "outputs": [],
   "source": []
  }
 ]
}