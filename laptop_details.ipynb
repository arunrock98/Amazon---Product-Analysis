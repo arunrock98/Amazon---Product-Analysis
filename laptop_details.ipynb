{
 "metadata": {
  "language_info": {
   "codemirror_mode": {
    "name": "ipython",
    "version": 3
   },
   "file_extension": ".py",
   "mimetype": "text/x-python",
   "name": "python",
   "nbconvert_exporter": "python",
   "pygments_lexer": "ipython3",
   "version": "3.8.5"
  },
  "orig_nbformat": 2,
  "kernelspec": {
   "name": "python385jvsc74a57bd0270186a92e8127b63c5d3590f36ef840a70d456bcd2647292e8c19b27c97f65a",
   "display_name": "Python 3.8.5 64-bit ('base': conda)"
  }
 },
 "nbformat": 4,
 "nbformat_minor": 2,
 "cells": [
  {
   "cell_type": "code",
   "execution_count": 1,
   "metadata": {},
   "outputs": [],
   "source": [
    "import pandas as pd\n",
    "import numpy as np\n",
    "import json\n",
    "import seaborn as sns\n",
    "import matplotlib.pyplot as plt\n",
    "import warnings\n",
    "%matplotlib inline\n",
    "warnings.filterwarnings('ignore')\n",
    "pd.options.display.max_columns = 999"
   ]
  },
  {
   "cell_type": "code",
   "execution_count": 2,
   "metadata": {},
   "outputs": [],
   "source": [
    "df_lap = pd.read_json(\"laptop_details.json\")"
   ]
  },
  {
   "cell_type": "code",
   "execution_count": 4,
   "metadata": {},
   "outputs": [
    {
     "output_type": "execute_result",
     "data": {
      "text/plain": [
       "                                                name  \\\n",
       "0  CHUWI HeroBook Pro+ Laptop,13.3” 3200x1800 Res...   \n",
       "1  HP Chromebook 11 G5 11.6 inches Chromebook - I...   \n",
       "2  HP 15 Laptop, 11th Gen Intel Core i5-1135G7 Pr...   \n",
       "3  HP Chromebook 14-inch HD Laptop, Intel Celeron...   \n",
       "4  ASUS Laptop L210 Ultra Thin Laptop, 11.6” HD D...   \n",
       "5  2021 Lenovo ThinkPad E14 Laptop 14\" FHD Busine...   \n",
       "6  Used Well Chromebook 14 SMB Lightweight Laptop...   \n",
       "7  HP Pavilion 15-CS Intel i5-1035G1 12GB 512GB S...   \n",
       "8                                               None   \n",
       "9  HP 15 Laptop, AMD Ryzen 3 3250U Processor, 8 G...   \n",
       "\n",
       "                                     product_summary  \\\n",
       "0  [{'info': 'Brand', 'value': 'CHUWI'}, {'info':...   \n",
       "1  [{'info': 'Brand', 'value': 'HP'}, {'info': 'S...   \n",
       "2  [{'info': 'Brand', 'value': 'HP'}, {'info': 'S...   \n",
       "3  [{'info': 'Brand', 'value': 'HP'}, {'info': 'S...   \n",
       "4  [{'info': 'Brand', 'value': 'ASUS'}, {'info': ...   \n",
       "5  [{'info': 'Brand', 'value': 'Lenovo'}, {'info'...   \n",
       "6  [{'info': 'Brand', 'value': 'KJD'}, {'info': '...   \n",
       "7  [{'info': 'Brand', 'value': 'HP'}, {'info': 'S...   \n",
       "8                                               None   \n",
       "9  [{'info': 'Brand', 'value': 'HP'}, {'info': 'S...   \n",
       "\n",
       "                                   product_tech_spec  \\\n",
       "0  [{'info': 'Standing screen display size', 'val...   \n",
       "1  [{'info': 'Standing screen display size', 'val...   \n",
       "2  [{'info': 'Standing screen display size', 'val...   \n",
       "3  [{'info': 'Standing screen display size', 'val...   \n",
       "4  [{'info': 'Standing screen display size', 'val...   \n",
       "5  [{'info': 'Standing screen display size', 'val...   \n",
       "6  [{'info': 'Standing screen display size', 'val...   \n",
       "7  [{'info': 'Standing screen display size', 'val...   \n",
       "8                                               None   \n",
       "9  [{'info': 'Standing screen display size', 'val...   \n",
       "\n",
       "                                   product_addl_info  \\\n",
       "0  [{'info': 'ASIN', 'value': 'B08W2VYYVX'}, {'in...   \n",
       "1  [{'info': 'ASIN', 'value': 'B07NPXCH6Q'}, {'in...   \n",
       "2  [{'info': 'ASIN', 'value': 'B08KGZ79N6'}, {'in...   \n",
       "3  [{'info': 'ASIN', 'value': 'B08529TZMC'}, {'in...   \n",
       "4  [{'info': 'ASIN', 'value': 'B081V6W99V'}, {'in...   \n",
       "5  [{'info': 'ASIN', 'value': 'B08YJJ9DXD'}, {'in...   \n",
       "6  [{'info': 'ASIN', 'value': 'B08NDWGV8B'}, {'in...   \n",
       "7  [{'info': 'ASIN', 'value': 'B087SD98F4'}, {'in...   \n",
       "8                                               None   \n",
       "9  [{'info': 'ASIN', 'value': 'B08N38VPL7'}, {'in...   \n",
       "\n",
       "                              seller  \\\n",
       "0                              CHUWI   \n",
       "1                         KT Renewed   \n",
       "2                          CAC Store   \n",
       "3                               None   \n",
       "4                   BroadElectronics   \n",
       "5  AMAZING WAREHOUSE DEAL(Record SN)   \n",
       "6                GoldenRice Computer   \n",
       "7                       Deal-Express   \n",
       "8                               None   \n",
       "9                Regulus Electronics   \n",
       "\n",
       "                                         seller_link  \\\n",
       "0  https://www.amazon.com/gp/help/seller/at-a-gla...   \n",
       "1  https://www.amazon.com/gp/help/seller/at-a-gla...   \n",
       "2  https://www.amazon.com/gp/help/seller/at-a-gla...   \n",
       "3                                               None   \n",
       "4  https://www.amazon.com/gp/help/seller/at-a-gla...   \n",
       "5  https://www.amazon.com/gp/help/seller/at-a-gla...   \n",
       "6  https://www.amazon.com/gp/help/seller/at-a-gla...   \n",
       "7  https://www.amazon.com/gp/help/seller/at-a-gla...   \n",
       "8                                               None   \n",
       "9  https://www.amazon.com/gp/help/seller/at-a-gla...   \n",
       "\n",
       "                                         freq_bought  \\\n",
       "0                                               None   \n",
       "1                                               None   \n",
       "2  VicTsing MM057 2.4G Wireless Portable Mobile M...   \n",
       "3                                               None   \n",
       "4                                               None   \n",
       "5                                               None   \n",
       "6                                               None   \n",
       "7  VicTsing MM057 2.4G Wireless Portable Mobile M...   \n",
       "8                                               None   \n",
       "9  VicTsing MM057 2.4G Wireless Portable Mobile M...   \n",
       "\n",
       "                                    freq_bought_link  \\\n",
       "0                                               None   \n",
       "1                                               None   \n",
       "2  https://www.amazon.com/VicTsing-Wireless-Porta...   \n",
       "3                                               None   \n",
       "4                                               None   \n",
       "5                                               None   \n",
       "6                                               None   \n",
       "7  https://www.amazon.com/VicTsing-Wireless-Porta...   \n",
       "8                                               None   \n",
       "9  https://www.amazon.com/VicTsing-Wireless-Porta...   \n",
       "\n",
       "                                 link_to_all_reviews  \n",
       "0  /CHUWI-HeroBook-Pro-3200x1800-Resolution/produ...  \n",
       "1  /HP-Chromebook-11-6-Dual-core-Refurbished/prod...  \n",
       "2  /HP-i5-1135G7-Processor-Lightweight-15-dy2021n...  \n",
       "3  /HP-Chromebook-14-inch-Celeron-14a-na0010nr/pr...  \n",
       "4  /ASUS-Processor-NumberPad-Microsoft-L210MA-DB0...  \n",
       "5  /Lenovo-ThinkPad-i5-10210U-Bluetooth-Accessori...  \n",
       "6  /Chromebook-Lightweight-Computer-Business-Educ...  \n",
       "7  /HP-Pavilion-Touchscreen-i5-1035G1-Wireless-AC...  \n",
       "8                                               None  \n",
       "9  /HP-Processor-Micro-Edge-Long-Lasting-15-ef102...  "
      ],
      "text/html": "<div>\n<style scoped>\n    .dataframe tbody tr th:only-of-type {\n        vertical-align: middle;\n    }\n\n    .dataframe tbody tr th {\n        vertical-align: top;\n    }\n\n    .dataframe thead th {\n        text-align: right;\n    }\n</style>\n<table border=\"1\" class=\"dataframe\">\n  <thead>\n    <tr style=\"text-align: right;\">\n      <th></th>\n      <th>name</th>\n      <th>product_summary</th>\n      <th>product_tech_spec</th>\n      <th>product_addl_info</th>\n      <th>seller</th>\n      <th>seller_link</th>\n      <th>freq_bought</th>\n      <th>freq_bought_link</th>\n      <th>link_to_all_reviews</th>\n    </tr>\n  </thead>\n  <tbody>\n    <tr>\n      <th>0</th>\n      <td>CHUWI HeroBook Pro+ Laptop,13.3” 3200x1800 Res...</td>\n      <td>[{'info': 'Brand', 'value': 'CHUWI'}, {'info':...</td>\n      <td>[{'info': 'Standing screen display size', 'val...</td>\n      <td>[{'info': 'ASIN', 'value': 'B08W2VYYVX'}, {'in...</td>\n      <td>CHUWI</td>\n      <td>https://www.amazon.com/gp/help/seller/at-a-gla...</td>\n      <td>None</td>\n      <td>None</td>\n      <td>/CHUWI-HeroBook-Pro-3200x1800-Resolution/produ...</td>\n    </tr>\n    <tr>\n      <th>1</th>\n      <td>HP Chromebook 11 G5 11.6 inches Chromebook - I...</td>\n      <td>[{'info': 'Brand', 'value': 'HP'}, {'info': 'S...</td>\n      <td>[{'info': 'Standing screen display size', 'val...</td>\n      <td>[{'info': 'ASIN', 'value': 'B07NPXCH6Q'}, {'in...</td>\n      <td>KT Renewed</td>\n      <td>https://www.amazon.com/gp/help/seller/at-a-gla...</td>\n      <td>None</td>\n      <td>None</td>\n      <td>/HP-Chromebook-11-6-Dual-core-Refurbished/prod...</td>\n    </tr>\n    <tr>\n      <th>2</th>\n      <td>HP 15 Laptop, 11th Gen Intel Core i5-1135G7 Pr...</td>\n      <td>[{'info': 'Brand', 'value': 'HP'}, {'info': 'S...</td>\n      <td>[{'info': 'Standing screen display size', 'val...</td>\n      <td>[{'info': 'ASIN', 'value': 'B08KGZ79N6'}, {'in...</td>\n      <td>CAC Store</td>\n      <td>https://www.amazon.com/gp/help/seller/at-a-gla...</td>\n      <td>VicTsing MM057 2.4G Wireless Portable Mobile M...</td>\n      <td>https://www.amazon.com/VicTsing-Wireless-Porta...</td>\n      <td>/HP-i5-1135G7-Processor-Lightweight-15-dy2021n...</td>\n    </tr>\n    <tr>\n      <th>3</th>\n      <td>HP Chromebook 14-inch HD Laptop, Intel Celeron...</td>\n      <td>[{'info': 'Brand', 'value': 'HP'}, {'info': 'S...</td>\n      <td>[{'info': 'Standing screen display size', 'val...</td>\n      <td>[{'info': 'ASIN', 'value': 'B08529TZMC'}, {'in...</td>\n      <td>None</td>\n      <td>None</td>\n      <td>None</td>\n      <td>None</td>\n      <td>/HP-Chromebook-14-inch-Celeron-14a-na0010nr/pr...</td>\n    </tr>\n    <tr>\n      <th>4</th>\n      <td>ASUS Laptop L210 Ultra Thin Laptop, 11.6” HD D...</td>\n      <td>[{'info': 'Brand', 'value': 'ASUS'}, {'info': ...</td>\n      <td>[{'info': 'Standing screen display size', 'val...</td>\n      <td>[{'info': 'ASIN', 'value': 'B081V6W99V'}, {'in...</td>\n      <td>BroadElectronics</td>\n      <td>https://www.amazon.com/gp/help/seller/at-a-gla...</td>\n      <td>None</td>\n      <td>None</td>\n      <td>/ASUS-Processor-NumberPad-Microsoft-L210MA-DB0...</td>\n    </tr>\n    <tr>\n      <th>5</th>\n      <td>2021 Lenovo ThinkPad E14 Laptop 14\" FHD Busine...</td>\n      <td>[{'info': 'Brand', 'value': 'Lenovo'}, {'info'...</td>\n      <td>[{'info': 'Standing screen display size', 'val...</td>\n      <td>[{'info': 'ASIN', 'value': 'B08YJJ9DXD'}, {'in...</td>\n      <td>AMAZING WAREHOUSE DEAL(Record SN)</td>\n      <td>https://www.amazon.com/gp/help/seller/at-a-gla...</td>\n      <td>None</td>\n      <td>None</td>\n      <td>/Lenovo-ThinkPad-i5-10210U-Bluetooth-Accessori...</td>\n    </tr>\n    <tr>\n      <th>6</th>\n      <td>Used Well Chromebook 14 SMB Lightweight Laptop...</td>\n      <td>[{'info': 'Brand', 'value': 'KJD'}, {'info': '...</td>\n      <td>[{'info': 'Standing screen display size', 'val...</td>\n      <td>[{'info': 'ASIN', 'value': 'B08NDWGV8B'}, {'in...</td>\n      <td>GoldenRice Computer</td>\n      <td>https://www.amazon.com/gp/help/seller/at-a-gla...</td>\n      <td>None</td>\n      <td>None</td>\n      <td>/Chromebook-Lightweight-Computer-Business-Educ...</td>\n    </tr>\n    <tr>\n      <th>7</th>\n      <td>HP Pavilion 15-CS Intel i5-1035G1 12GB 512GB S...</td>\n      <td>[{'info': 'Brand', 'value': 'HP'}, {'info': 'S...</td>\n      <td>[{'info': 'Standing screen display size', 'val...</td>\n      <td>[{'info': 'ASIN', 'value': 'B087SD98F4'}, {'in...</td>\n      <td>Deal-Express</td>\n      <td>https://www.amazon.com/gp/help/seller/at-a-gla...</td>\n      <td>VicTsing MM057 2.4G Wireless Portable Mobile M...</td>\n      <td>https://www.amazon.com/VicTsing-Wireless-Porta...</td>\n      <td>/HP-Pavilion-Touchscreen-i5-1035G1-Wireless-AC...</td>\n    </tr>\n    <tr>\n      <th>8</th>\n      <td>None</td>\n      <td>None</td>\n      <td>None</td>\n      <td>None</td>\n      <td>None</td>\n      <td>None</td>\n      <td>None</td>\n      <td>None</td>\n      <td>None</td>\n    </tr>\n    <tr>\n      <th>9</th>\n      <td>HP 15 Laptop, AMD Ryzen 3 3250U Processor, 8 G...</td>\n      <td>[{'info': 'Brand', 'value': 'HP'}, {'info': 'S...</td>\n      <td>[{'info': 'Standing screen display size', 'val...</td>\n      <td>[{'info': 'ASIN', 'value': 'B08N38VPL7'}, {'in...</td>\n      <td>Regulus Electronics</td>\n      <td>https://www.amazon.com/gp/help/seller/at-a-gla...</td>\n      <td>VicTsing MM057 2.4G Wireless Portable Mobile M...</td>\n      <td>https://www.amazon.com/VicTsing-Wireless-Porta...</td>\n      <td>/HP-Processor-Micro-Edge-Long-Lasting-15-ef102...</td>\n    </tr>\n  </tbody>\n</table>\n</div>"
     },
     "metadata": {},
     "execution_count": 4
    }
   ],
   "source": [
    "df_lap.head(10)"
   ]
  },
  {
   "cell_type": "code",
   "execution_count": 3,
   "metadata": {},
   "outputs": [
    {
     "output_type": "execute_result",
     "data": {
      "text/plain": [
       "name                   object\n",
       "product_summary        object\n",
       "product_tech_spec      object\n",
       "product_addl_info      object\n",
       "seller                 object\n",
       "seller_link            object\n",
       "freq_bought            object\n",
       "freq_bought_link       object\n",
       "link_to_all_reviews    object\n",
       "dtype: object"
      ]
     },
     "metadata": {},
     "execution_count": 3
    }
   ],
   "source": [
    "df_lap.dtypes"
   ]
  },
  {
   "cell_type": "code",
   "execution_count": 6,
   "metadata": {},
   "outputs": [
    {
     "output_type": "stream",
     "name": "stdout",
     "text": [
      "<class 'pandas.core.frame.DataFrame'>\nRangeIndex: 5652 entries, 0 to 5651\nData columns (total 9 columns):\n #   Column               Non-Null Count  Dtype \n---  ------               --------------  ----- \n 0   name                 5419 non-null   object\n 1   product_summary      5095 non-null   object\n 2   product_tech_spec    5166 non-null   object\n 3   product_addl_info    5400 non-null   object\n 4   seller               2585 non-null   object\n 5   seller_link          2585 non-null   object\n 6   freq_bought          899 non-null    object\n 7   freq_bought_link     899 non-null    object\n 8   link_to_all_reviews  3722 non-null   object\ndtypes: object(9)\nmemory usage: 397.5+ KB\n"
     ]
    }
   ],
   "source": [
    "df_lap.info()"
   ]
  },
  {
   "cell_type": "code",
   "execution_count": 7,
   "metadata": {},
   "outputs": [
    {
     "output_type": "execute_result",
     "data": {
      "text/plain": [
       "name                    233\n",
       "product_summary         557\n",
       "product_tech_spec       486\n",
       "product_addl_info       252\n",
       "seller                 3067\n",
       "seller_link            3067\n",
       "freq_bought            4753\n",
       "freq_bought_link       4753\n",
       "link_to_all_reviews    1930\n",
       "dtype: int64"
      ]
     },
     "metadata": {},
     "execution_count": 7
    }
   ],
   "source": [
    "df_lap.isnull().sum()"
   ]
  },
  {
   "cell_type": "code",
   "execution_count": 8,
   "metadata": {},
   "outputs": [],
   "source": [
    "# we need to make the following datas out of it (ASIN,\tBest Sellers Rank,\tProduct Dimensions,\tPackage Dimensions,\tItem Weight,\tDate First Available,\tIs Discontinued By Manufacturer,\tItem model number,\tBatteries,\tCard Description,\tVoltage\tSeries,\tNational Stock Number,\tChipset Brand,\tDate First Available,\tBatteries Required?,\tWireless Type,\tStanding screen display size,\tMax Screen Resolution,\tPart Number,\tItem Package Quantity,\tColor,\tBrand,\tNumber of USB 3.0 Ports,\tMemory Speed)"
   ]
  },
  {
   "cell_type": "code",
   "execution_count": 5,
   "metadata": {},
   "outputs": [],
   "source": [
    "# frequently bought dataframe (ASIN,title,freq_bought)"
   ]
  },
  {
   "cell_type": "code",
   "execution_count": 9,
   "metadata": {},
   "outputs": [],
   "source": [
    "\n",
    "# drop values with no name\n",
    "\n",
    "df_lap.dropna(subset=[\"name\"],inplace=True)"
   ]
  },
  {
   "cell_type": "code",
   "execution_count": 10,
   "metadata": {},
   "outputs": [
    {
     "output_type": "execute_result",
     "data": {
      "text/plain": [
       "                                        Product_Name  Value\n",
       "0  Jumper Laptop 13.3 inch 8GB RAM 128GB ROM Quad...    172\n",
       "1  Laptop Computers 14-Inch Windows-10 Notebook -...    137\n",
       "2  Laptop 14 Inch, Winnovo N140, 6GB RAM, 128GB S...    108\n",
       "3  Laptop 14 Inch, Winnovo N140, 6GB RAM, 128GB S...    105\n",
       "4  Laptop Backpack Travel Backpack for Men And Wo...     92\n",
       "5  HP Chromebook 11 G5 11.6 inches Chromebook - I...     90\n",
       "6  CHUWI HeroBook Pro+ Laptop,13.3” 3200x1800 Res...     74\n",
       "7  Laptop 14.1 inch notebook computer, IPS displa...     73\n",
       "8  Used Well Chromebook 14 SMB Lightweight Laptop...     66\n",
       "9  iProda 14inch Laptop, Intel i3 Notebook (up to...     56"
      ],
      "text/html": "<div>\n<style scoped>\n    .dataframe tbody tr th:only-of-type {\n        vertical-align: middle;\n    }\n\n    .dataframe tbody tr th {\n        vertical-align: top;\n    }\n\n    .dataframe thead th {\n        text-align: right;\n    }\n</style>\n<table border=\"1\" class=\"dataframe\">\n  <thead>\n    <tr style=\"text-align: right;\">\n      <th></th>\n      <th>Product_Name</th>\n      <th>Value</th>\n    </tr>\n  </thead>\n  <tbody>\n    <tr>\n      <th>0</th>\n      <td>Jumper Laptop 13.3 inch 8GB RAM 128GB ROM Quad...</td>\n      <td>172</td>\n    </tr>\n    <tr>\n      <th>1</th>\n      <td>Laptop Computers 14-Inch Windows-10 Notebook -...</td>\n      <td>137</td>\n    </tr>\n    <tr>\n      <th>2</th>\n      <td>Laptop 14 Inch, Winnovo N140, 6GB RAM, 128GB S...</td>\n      <td>108</td>\n    </tr>\n    <tr>\n      <th>3</th>\n      <td>Laptop 14 Inch, Winnovo N140, 6GB RAM, 128GB S...</td>\n      <td>105</td>\n    </tr>\n    <tr>\n      <th>4</th>\n      <td>Laptop Backpack Travel Backpack for Men And Wo...</td>\n      <td>92</td>\n    </tr>\n    <tr>\n      <th>5</th>\n      <td>HP Chromebook 11 G5 11.6 inches Chromebook - I...</td>\n      <td>90</td>\n    </tr>\n    <tr>\n      <th>6</th>\n      <td>CHUWI HeroBook Pro+ Laptop,13.3” 3200x1800 Res...</td>\n      <td>74</td>\n    </tr>\n    <tr>\n      <th>7</th>\n      <td>Laptop 14.1 inch notebook computer, IPS displa...</td>\n      <td>73</td>\n    </tr>\n    <tr>\n      <th>8</th>\n      <td>Used Well Chromebook 14 SMB Lightweight Laptop...</td>\n      <td>66</td>\n    </tr>\n    <tr>\n      <th>9</th>\n      <td>iProda 14inch Laptop, Intel i3 Notebook (up to...</td>\n      <td>56</td>\n    </tr>\n  </tbody>\n</table>\n</div>"
     },
     "metadata": {},
     "execution_count": 10
    }
   ],
   "source": [
    "# some values are repeated over and over (sponsored items on amazon.com) - preparing a small df for visualization of this values\n",
    "\n",
    "repeat = df_lap.name\n",
    "repeat = repeat.value_counts().to_frame()\n",
    "repeat.reset_index(inplace=True)\n",
    "repeat.columns=[\"Product_Name\",\"Value\"]\n",
    "top_repeated= repeat.head(10)\n",
    "top_repeated"
   ]
  },
  {
   "cell_type": "code",
   "execution_count": 11,
   "metadata": {},
   "outputs": [
    {
     "output_type": "execute_result",
     "data": {
      "text/plain": [
       "Product_Name    object\n",
       "Value            int64\n",
       "dtype: object"
      ]
     },
     "metadata": {},
     "execution_count": 11
    }
   ],
   "source": [
    "top_repeated.dtypes"
   ]
  },
  {
   "cell_type": "code",
   "execution_count": 13,
   "metadata": {},
   "outputs": [
    {
     "output_type": "execute_result",
     "data": {
      "text/plain": [
       "<AxesSubplot:>"
      ]
     },
     "metadata": {},
     "execution_count": 13
    },
    {
     "output_type": "display_data",
     "data": {
      "text/plain": "<Figure size 432x288 with 1 Axes>",
      "image/svg+xml": "<?xml version=\"1.0\" encoding=\"utf-8\" standalone=\"no\"?>\r\n<!DOCTYPE svg PUBLIC \"-//W3C//DTD SVG 1.1//EN\"\r\n  \"http://www.w3.org/Graphics/SVG/1.1/DTD/svg11.dtd\">\r\n<!-- Created with matplotlib (https://matplotlib.org/) -->\r\n<svg height=\"248.518125pt\" version=\"1.1\" viewBox=\"0 0 362.5625 248.518125\" width=\"362.5625pt\" xmlns=\"http://www.w3.org/2000/svg\" xmlns:xlink=\"http://www.w3.org/1999/xlink\">\r\n <metadata>\r\n  <rdf:RDF xmlns:cc=\"http://creativecommons.org/ns#\" xmlns:dc=\"http://purl.org/dc/elements/1.1/\" xmlns:rdf=\"http://www.w3.org/1999/02/22-rdf-syntax-ns#\">\r\n   <cc:Work>\r\n    <dc:type rdf:resource=\"http://purl.org/dc/dcmitype/StillImage\"/>\r\n    <dc:date>2021-04-11T21:32:40.031154</dc:date>\r\n    <dc:format>image/svg+xml</dc:format>\r\n    <dc:creator>\r\n     <cc:Agent>\r\n      <dc:title>Matplotlib v3.3.2, https://matplotlib.org/</dc:title>\r\n     </cc:Agent>\r\n    </dc:creator>\r\n   </cc:Work>\r\n  </rdf:RDF>\r\n </metadata>\r\n <defs>\r\n  <style type=\"text/css\">*{stroke-linecap:butt;stroke-linejoin:round;}</style>\r\n </defs>\r\n <g id=\"figure_1\">\r\n  <g id=\"patch_1\">\r\n   <path d=\"M 0 248.518125 \r\nL 362.5625 248.518125 \r\nL 362.5625 0 \r\nL 0 0 \r\nz\r\n\" style=\"fill:none;\"/>\r\n  </g>\r\n  <g id=\"axes_1\">\r\n   <g id=\"patch_2\">\r\n    <path d=\"M 20.5625 224.64 \r\nL 355.3625 224.64 \r\nL 355.3625 7.2 \r\nL 20.5625 7.2 \r\nz\r\n\" style=\"fill:#ffffff;\"/>\r\n   </g>\r\n   <g id=\"patch_3\">\r\n    <path clip-path=\"url(#pec81990ae4)\" d=\"M 20.5625 219.204 \r\nL 339.419643 219.204 \r\nL 339.419643 208.332 \r\nL 20.5625 208.332 \r\nz\r\n\" style=\"fill:#1f77b4;\"/>\r\n   </g>\r\n   <g id=\"patch_4\">\r\n    <path clip-path=\"url(#pec81990ae4)\" d=\"M 20.5625 197.46 \r\nL 274.535922 197.46 \r\nL 274.535922 186.588 \r\nL 20.5625 186.588 \r\nz\r\n\" style=\"fill:#1f77b4;\"/>\r\n   </g>\r\n   <g id=\"patch_5\">\r\n    <path clip-path=\"url(#pec81990ae4)\" d=\"M 20.5625 175.716 \r\nL 220.775125 175.716 \r\nL 220.775125 164.844 \r\nL 20.5625 164.844 \r\nz\r\n\" style=\"fill:#1f77b4;\"/>\r\n   </g>\r\n   <g id=\"patch_6\">\r\n    <path clip-path=\"url(#pec81990ae4)\" d=\"M 20.5625 153.972 \r\nL 215.213663 153.972 \r\nL 215.213663 143.1 \r\nL 20.5625 143.1 \r\nz\r\n\" style=\"fill:#1f77b4;\"/>\r\n   </g>\r\n   <g id=\"patch_7\">\r\n    <path clip-path=\"url(#pec81990ae4)\" d=\"M 20.5625 132.228 \r\nL 191.113995 132.228 \r\nL 191.113995 121.356 \r\nL 20.5625 121.356 \r\nz\r\n\" style=\"fill:#1f77b4;\"/>\r\n   </g>\r\n   <g id=\"patch_8\">\r\n    <path clip-path=\"url(#pec81990ae4)\" d=\"M 20.5625 110.484 \r\nL 187.406354 110.484 \r\nL 187.406354 99.612 \r\nL 20.5625 99.612 \r\nz\r\n\" style=\"fill:#1f77b4;\"/>\r\n   </g>\r\n   <g id=\"patch_9\">\r\n    <path clip-path=\"url(#pec81990ae4)\" d=\"M 20.5625 88.74 \r\nL 157.745224 88.74 \r\nL 157.745224 77.868 \r\nL 20.5625 77.868 \r\nz\r\n\" style=\"fill:#1f77b4;\"/>\r\n   </g>\r\n   <g id=\"patch_10\">\r\n    <path clip-path=\"url(#pec81990ae4)\" d=\"M 20.5625 66.996 \r\nL 155.891404 66.996 \r\nL 155.891404 56.124 \r\nL 20.5625 56.124 \r\nz\r\n\" style=\"fill:#1f77b4;\"/>\r\n   </g>\r\n   <g id=\"patch_11\">\r\n    <path clip-path=\"url(#pec81990ae4)\" d=\"M 20.5625 45.252 \r\nL 142.914659 45.252 \r\nL 142.914659 34.38 \r\nL 20.5625 34.38 \r\nz\r\n\" style=\"fill:#1f77b4;\"/>\r\n   </g>\r\n   <g id=\"patch_12\">\r\n    <path clip-path=\"url(#pec81990ae4)\" d=\"M 20.5625 23.508 \r\nL 124.376453 23.508 \r\nL 124.376453 12.636 \r\nL 20.5625 12.636 \r\nz\r\n\" style=\"fill:#1f77b4;\"/>\r\n   </g>\r\n   <g id=\"matplotlib.axis_1\">\r\n    <g id=\"xtick_1\">\r\n     <g id=\"line2d_1\">\r\n      <defs>\r\n       <path d=\"M 0 0 \r\nL 0 3.5 \r\n\" id=\"m22a3c226ac\" style=\"stroke:#000000;stroke-width:0.8;\"/>\r\n      </defs>\r\n      <g>\r\n       <use style=\"stroke:#000000;stroke-width:0.8;\" x=\"20.5625\" xlink:href=\"#m22a3c226ac\" y=\"224.64\"/>\r\n      </g>\r\n     </g>\r\n     <g id=\"text_1\">\r\n      <!-- 0 -->\r\n      <g transform=\"translate(17.38125 239.238437)scale(0.1 -0.1)\">\r\n       <defs>\r\n        <path d=\"M 31.78125 66.40625 \r\nQ 24.171875 66.40625 20.328125 58.90625 \r\nQ 16.5 51.421875 16.5 36.375 \r\nQ 16.5 21.390625 20.328125 13.890625 \r\nQ 24.171875 6.390625 31.78125 6.390625 \r\nQ 39.453125 6.390625 43.28125 13.890625 \r\nQ 47.125 21.390625 47.125 36.375 \r\nQ 47.125 51.421875 43.28125 58.90625 \r\nQ 39.453125 66.40625 31.78125 66.40625 \r\nz\r\nM 31.78125 74.21875 \r\nQ 44.046875 74.21875 50.515625 64.515625 \r\nQ 56.984375 54.828125 56.984375 36.375 \r\nQ 56.984375 17.96875 50.515625 8.265625 \r\nQ 44.046875 -1.421875 31.78125 -1.421875 \r\nQ 19.53125 -1.421875 13.0625 8.265625 \r\nQ 6.59375 17.96875 6.59375 36.375 \r\nQ 6.59375 54.828125 13.0625 64.515625 \r\nQ 19.53125 74.21875 31.78125 74.21875 \r\nz\r\n\" id=\"DejaVuSans-48\"/>\r\n       </defs>\r\n       <use xlink:href=\"#DejaVuSans-48\"/>\r\n      </g>\r\n     </g>\r\n    </g>\r\n    <g id=\"xtick_2\">\r\n     <g id=\"line2d_2\">\r\n      <g>\r\n       <use style=\"stroke:#000000;stroke-width:0.8;\" x=\"66.908015\" xlink:href=\"#m22a3c226ac\" y=\"224.64\"/>\r\n      </g>\r\n     </g>\r\n     <g id=\"text_2\">\r\n      <!-- 25 -->\r\n      <g transform=\"translate(60.545515 239.238437)scale(0.1 -0.1)\">\r\n       <defs>\r\n        <path d=\"M 19.1875 8.296875 \r\nL 53.609375 8.296875 \r\nL 53.609375 0 \r\nL 7.328125 0 \r\nL 7.328125 8.296875 \r\nQ 12.9375 14.109375 22.625 23.890625 \r\nQ 32.328125 33.6875 34.8125 36.53125 \r\nQ 39.546875 41.84375 41.421875 45.53125 \r\nQ 43.3125 49.21875 43.3125 52.78125 \r\nQ 43.3125 58.59375 39.234375 62.25 \r\nQ 35.15625 65.921875 28.609375 65.921875 \r\nQ 23.96875 65.921875 18.8125 64.3125 \r\nQ 13.671875 62.703125 7.8125 59.421875 \r\nL 7.8125 69.390625 \r\nQ 13.765625 71.78125 18.9375 73 \r\nQ 24.125 74.21875 28.421875 74.21875 \r\nQ 39.75 74.21875 46.484375 68.546875 \r\nQ 53.21875 62.890625 53.21875 53.421875 \r\nQ 53.21875 48.921875 51.53125 44.890625 \r\nQ 49.859375 40.875 45.40625 35.40625 \r\nQ 44.1875 33.984375 37.640625 27.21875 \r\nQ 31.109375 20.453125 19.1875 8.296875 \r\nz\r\n\" id=\"DejaVuSans-50\"/>\r\n        <path d=\"M 10.796875 72.90625 \r\nL 49.515625 72.90625 \r\nL 49.515625 64.59375 \r\nL 19.828125 64.59375 \r\nL 19.828125 46.734375 \r\nQ 21.96875 47.46875 24.109375 47.828125 \r\nQ 26.265625 48.1875 28.421875 48.1875 \r\nQ 40.625 48.1875 47.75 41.5 \r\nQ 54.890625 34.8125 54.890625 23.390625 \r\nQ 54.890625 11.625 47.5625 5.09375 \r\nQ 40.234375 -1.421875 26.90625 -1.421875 \r\nQ 22.3125 -1.421875 17.546875 -0.640625 \r\nQ 12.796875 0.140625 7.71875 1.703125 \r\nL 7.71875 11.625 \r\nQ 12.109375 9.234375 16.796875 8.0625 \r\nQ 21.484375 6.890625 26.703125 6.890625 \r\nQ 35.15625 6.890625 40.078125 11.328125 \r\nQ 45.015625 15.765625 45.015625 23.390625 \r\nQ 45.015625 31 40.078125 35.4375 \r\nQ 35.15625 39.890625 26.703125 39.890625 \r\nQ 22.75 39.890625 18.8125 39.015625 \r\nQ 14.890625 38.140625 10.796875 36.28125 \r\nz\r\n\" id=\"DejaVuSans-53\"/>\r\n       </defs>\r\n       <use xlink:href=\"#DejaVuSans-50\"/>\r\n       <use x=\"63.623047\" xlink:href=\"#DejaVuSans-53\"/>\r\n      </g>\r\n     </g>\r\n    </g>\r\n    <g id=\"xtick_3\">\r\n     <g id=\"line2d_3\">\r\n      <g>\r\n       <use style=\"stroke:#000000;stroke-width:0.8;\" x=\"113.25353\" xlink:href=\"#m22a3c226ac\" y=\"224.64\"/>\r\n      </g>\r\n     </g>\r\n     <g id=\"text_3\">\r\n      <!-- 50 -->\r\n      <g transform=\"translate(106.89103 239.238437)scale(0.1 -0.1)\">\r\n       <use xlink:href=\"#DejaVuSans-53\"/>\r\n       <use x=\"63.623047\" xlink:href=\"#DejaVuSans-48\"/>\r\n      </g>\r\n     </g>\r\n    </g>\r\n    <g id=\"xtick_4\">\r\n     <g id=\"line2d_4\">\r\n      <g>\r\n       <use style=\"stroke:#000000;stroke-width:0.8;\" x=\"159.599045\" xlink:href=\"#m22a3c226ac\" y=\"224.64\"/>\r\n      </g>\r\n     </g>\r\n     <g id=\"text_4\">\r\n      <!-- 75 -->\r\n      <g transform=\"translate(153.236545 239.238437)scale(0.1 -0.1)\">\r\n       <defs>\r\n        <path d=\"M 8.203125 72.90625 \r\nL 55.078125 72.90625 \r\nL 55.078125 68.703125 \r\nL 28.609375 0 \r\nL 18.3125 0 \r\nL 43.21875 64.59375 \r\nL 8.203125 64.59375 \r\nz\r\n\" id=\"DejaVuSans-55\"/>\r\n       </defs>\r\n       <use xlink:href=\"#DejaVuSans-55\"/>\r\n       <use x=\"63.623047\" xlink:href=\"#DejaVuSans-53\"/>\r\n      </g>\r\n     </g>\r\n    </g>\r\n    <g id=\"xtick_5\">\r\n     <g id=\"line2d_5\">\r\n      <g>\r\n       <use style=\"stroke:#000000;stroke-width:0.8;\" x=\"205.94456\" xlink:href=\"#m22a3c226ac\" y=\"224.64\"/>\r\n      </g>\r\n     </g>\r\n     <g id=\"text_5\">\r\n      <!-- 100 -->\r\n      <g transform=\"translate(196.40081 239.238437)scale(0.1 -0.1)\">\r\n       <defs>\r\n        <path d=\"M 12.40625 8.296875 \r\nL 28.515625 8.296875 \r\nL 28.515625 63.921875 \r\nL 10.984375 60.40625 \r\nL 10.984375 69.390625 \r\nL 28.421875 72.90625 \r\nL 38.28125 72.90625 \r\nL 38.28125 8.296875 \r\nL 54.390625 8.296875 \r\nL 54.390625 0 \r\nL 12.40625 0 \r\nz\r\n\" id=\"DejaVuSans-49\"/>\r\n       </defs>\r\n       <use xlink:href=\"#DejaVuSans-49\"/>\r\n       <use x=\"63.623047\" xlink:href=\"#DejaVuSans-48\"/>\r\n       <use x=\"127.246094\" xlink:href=\"#DejaVuSans-48\"/>\r\n      </g>\r\n     </g>\r\n    </g>\r\n    <g id=\"xtick_6\">\r\n     <g id=\"line2d_6\">\r\n      <g>\r\n       <use style=\"stroke:#000000;stroke-width:0.8;\" x=\"252.290075\" xlink:href=\"#m22a3c226ac\" y=\"224.64\"/>\r\n      </g>\r\n     </g>\r\n     <g id=\"text_6\">\r\n      <!-- 125 -->\r\n      <g transform=\"translate(242.746325 239.238437)scale(0.1 -0.1)\">\r\n       <use xlink:href=\"#DejaVuSans-49\"/>\r\n       <use x=\"63.623047\" xlink:href=\"#DejaVuSans-50\"/>\r\n       <use x=\"127.246094\" xlink:href=\"#DejaVuSans-53\"/>\r\n      </g>\r\n     </g>\r\n    </g>\r\n    <g id=\"xtick_7\">\r\n     <g id=\"line2d_7\">\r\n      <g>\r\n       <use style=\"stroke:#000000;stroke-width:0.8;\" x=\"298.63559\" xlink:href=\"#m22a3c226ac\" y=\"224.64\"/>\r\n      </g>\r\n     </g>\r\n     <g id=\"text_7\">\r\n      <!-- 150 -->\r\n      <g transform=\"translate(289.09184 239.238437)scale(0.1 -0.1)\">\r\n       <use xlink:href=\"#DejaVuSans-49\"/>\r\n       <use x=\"63.623047\" xlink:href=\"#DejaVuSans-53\"/>\r\n       <use x=\"127.246094\" xlink:href=\"#DejaVuSans-48\"/>\r\n      </g>\r\n     </g>\r\n    </g>\r\n    <g id=\"xtick_8\">\r\n     <g id=\"line2d_8\">\r\n      <g>\r\n       <use style=\"stroke:#000000;stroke-width:0.8;\" x=\"344.981105\" xlink:href=\"#m22a3c226ac\" y=\"224.64\"/>\r\n      </g>\r\n     </g>\r\n     <g id=\"text_8\">\r\n      <!-- 175 -->\r\n      <g transform=\"translate(335.437355 239.238437)scale(0.1 -0.1)\">\r\n       <use xlink:href=\"#DejaVuSans-49\"/>\r\n       <use x=\"63.623047\" xlink:href=\"#DejaVuSans-55\"/>\r\n       <use x=\"127.246094\" xlink:href=\"#DejaVuSans-53\"/>\r\n      </g>\r\n     </g>\r\n    </g>\r\n   </g>\r\n   <g id=\"matplotlib.axis_2\">\r\n    <g id=\"ytick_1\">\r\n     <g id=\"line2d_9\">\r\n      <defs>\r\n       <path d=\"M 0 0 \r\nL -3.5 0 \r\n\" id=\"mab479d97c1\" style=\"stroke:#000000;stroke-width:0.8;\"/>\r\n      </defs>\r\n      <g>\r\n       <use style=\"stroke:#000000;stroke-width:0.8;\" x=\"20.5625\" xlink:href=\"#mab479d97c1\" y=\"213.768\"/>\r\n      </g>\r\n     </g>\r\n     <g id=\"text_9\">\r\n      <!-- 0 -->\r\n      <g transform=\"translate(7.2 217.567219)scale(0.1 -0.1)\">\r\n       <use xlink:href=\"#DejaVuSans-48\"/>\r\n      </g>\r\n     </g>\r\n    </g>\r\n    <g id=\"ytick_2\">\r\n     <g id=\"line2d_10\">\r\n      <g>\r\n       <use style=\"stroke:#000000;stroke-width:0.8;\" x=\"20.5625\" xlink:href=\"#mab479d97c1\" y=\"192.024\"/>\r\n      </g>\r\n     </g>\r\n     <g id=\"text_10\">\r\n      <!-- 1 -->\r\n      <g transform=\"translate(7.2 195.823219)scale(0.1 -0.1)\">\r\n       <use xlink:href=\"#DejaVuSans-49\"/>\r\n      </g>\r\n     </g>\r\n    </g>\r\n    <g id=\"ytick_3\">\r\n     <g id=\"line2d_11\">\r\n      <g>\r\n       <use style=\"stroke:#000000;stroke-width:0.8;\" x=\"20.5625\" xlink:href=\"#mab479d97c1\" y=\"170.28\"/>\r\n      </g>\r\n     </g>\r\n     <g id=\"text_11\">\r\n      <!-- 2 -->\r\n      <g transform=\"translate(7.2 174.079219)scale(0.1 -0.1)\">\r\n       <use xlink:href=\"#DejaVuSans-50\"/>\r\n      </g>\r\n     </g>\r\n    </g>\r\n    <g id=\"ytick_4\">\r\n     <g id=\"line2d_12\">\r\n      <g>\r\n       <use style=\"stroke:#000000;stroke-width:0.8;\" x=\"20.5625\" xlink:href=\"#mab479d97c1\" y=\"148.536\"/>\r\n      </g>\r\n     </g>\r\n     <g id=\"text_12\">\r\n      <!-- 3 -->\r\n      <g transform=\"translate(7.2 152.335219)scale(0.1 -0.1)\">\r\n       <defs>\r\n        <path d=\"M 40.578125 39.3125 \r\nQ 47.65625 37.796875 51.625 33 \r\nQ 55.609375 28.21875 55.609375 21.1875 \r\nQ 55.609375 10.40625 48.1875 4.484375 \r\nQ 40.765625 -1.421875 27.09375 -1.421875 \r\nQ 22.515625 -1.421875 17.65625 -0.515625 \r\nQ 12.796875 0.390625 7.625 2.203125 \r\nL 7.625 11.71875 \r\nQ 11.71875 9.328125 16.59375 8.109375 \r\nQ 21.484375 6.890625 26.8125 6.890625 \r\nQ 36.078125 6.890625 40.9375 10.546875 \r\nQ 45.796875 14.203125 45.796875 21.1875 \r\nQ 45.796875 27.640625 41.28125 31.265625 \r\nQ 36.765625 34.90625 28.71875 34.90625 \r\nL 20.21875 34.90625 \r\nL 20.21875 43.015625 \r\nL 29.109375 43.015625 \r\nQ 36.375 43.015625 40.234375 45.921875 \r\nQ 44.09375 48.828125 44.09375 54.296875 \r\nQ 44.09375 59.90625 40.109375 62.90625 \r\nQ 36.140625 65.921875 28.71875 65.921875 \r\nQ 24.65625 65.921875 20.015625 65.03125 \r\nQ 15.375 64.15625 9.8125 62.3125 \r\nL 9.8125 71.09375 \r\nQ 15.4375 72.65625 20.34375 73.4375 \r\nQ 25.25 74.21875 29.59375 74.21875 \r\nQ 40.828125 74.21875 47.359375 69.109375 \r\nQ 53.90625 64.015625 53.90625 55.328125 \r\nQ 53.90625 49.265625 50.4375 45.09375 \r\nQ 46.96875 40.921875 40.578125 39.3125 \r\nz\r\n\" id=\"DejaVuSans-51\"/>\r\n       </defs>\r\n       <use xlink:href=\"#DejaVuSans-51\"/>\r\n      </g>\r\n     </g>\r\n    </g>\r\n    <g id=\"ytick_5\">\r\n     <g id=\"line2d_13\">\r\n      <g>\r\n       <use style=\"stroke:#000000;stroke-width:0.8;\" x=\"20.5625\" xlink:href=\"#mab479d97c1\" y=\"126.792\"/>\r\n      </g>\r\n     </g>\r\n     <g id=\"text_13\">\r\n      <!-- 4 -->\r\n      <g transform=\"translate(7.2 130.591219)scale(0.1 -0.1)\">\r\n       <defs>\r\n        <path d=\"M 37.796875 64.3125 \r\nL 12.890625 25.390625 \r\nL 37.796875 25.390625 \r\nz\r\nM 35.203125 72.90625 \r\nL 47.609375 72.90625 \r\nL 47.609375 25.390625 \r\nL 58.015625 25.390625 \r\nL 58.015625 17.1875 \r\nL 47.609375 17.1875 \r\nL 47.609375 0 \r\nL 37.796875 0 \r\nL 37.796875 17.1875 \r\nL 4.890625 17.1875 \r\nL 4.890625 26.703125 \r\nz\r\n\" id=\"DejaVuSans-52\"/>\r\n       </defs>\r\n       <use xlink:href=\"#DejaVuSans-52\"/>\r\n      </g>\r\n     </g>\r\n    </g>\r\n    <g id=\"ytick_6\">\r\n     <g id=\"line2d_14\">\r\n      <g>\r\n       <use style=\"stroke:#000000;stroke-width:0.8;\" x=\"20.5625\" xlink:href=\"#mab479d97c1\" y=\"105.048\"/>\r\n      </g>\r\n     </g>\r\n     <g id=\"text_14\">\r\n      <!-- 5 -->\r\n      <g transform=\"translate(7.2 108.847219)scale(0.1 -0.1)\">\r\n       <use xlink:href=\"#DejaVuSans-53\"/>\r\n      </g>\r\n     </g>\r\n    </g>\r\n    <g id=\"ytick_7\">\r\n     <g id=\"line2d_15\">\r\n      <g>\r\n       <use style=\"stroke:#000000;stroke-width:0.8;\" x=\"20.5625\" xlink:href=\"#mab479d97c1\" y=\"83.304\"/>\r\n      </g>\r\n     </g>\r\n     <g id=\"text_15\">\r\n      <!-- 6 -->\r\n      <g transform=\"translate(7.2 87.103219)scale(0.1 -0.1)\">\r\n       <defs>\r\n        <path d=\"M 33.015625 40.375 \r\nQ 26.375 40.375 22.484375 35.828125 \r\nQ 18.609375 31.296875 18.609375 23.390625 \r\nQ 18.609375 15.53125 22.484375 10.953125 \r\nQ 26.375 6.390625 33.015625 6.390625 \r\nQ 39.65625 6.390625 43.53125 10.953125 \r\nQ 47.40625 15.53125 47.40625 23.390625 \r\nQ 47.40625 31.296875 43.53125 35.828125 \r\nQ 39.65625 40.375 33.015625 40.375 \r\nz\r\nM 52.59375 71.296875 \r\nL 52.59375 62.3125 \r\nQ 48.875 64.0625 45.09375 64.984375 \r\nQ 41.3125 65.921875 37.59375 65.921875 \r\nQ 27.828125 65.921875 22.671875 59.328125 \r\nQ 17.53125 52.734375 16.796875 39.40625 \r\nQ 19.671875 43.65625 24.015625 45.921875 \r\nQ 28.375 48.1875 33.59375 48.1875 \r\nQ 44.578125 48.1875 50.953125 41.515625 \r\nQ 57.328125 34.859375 57.328125 23.390625 \r\nQ 57.328125 12.15625 50.6875 5.359375 \r\nQ 44.046875 -1.421875 33.015625 -1.421875 \r\nQ 20.359375 -1.421875 13.671875 8.265625 \r\nQ 6.984375 17.96875 6.984375 36.375 \r\nQ 6.984375 53.65625 15.1875 63.9375 \r\nQ 23.390625 74.21875 37.203125 74.21875 \r\nQ 40.921875 74.21875 44.703125 73.484375 \r\nQ 48.484375 72.75 52.59375 71.296875 \r\nz\r\n\" id=\"DejaVuSans-54\"/>\r\n       </defs>\r\n       <use xlink:href=\"#DejaVuSans-54\"/>\r\n      </g>\r\n     </g>\r\n    </g>\r\n    <g id=\"ytick_8\">\r\n     <g id=\"line2d_16\">\r\n      <g>\r\n       <use style=\"stroke:#000000;stroke-width:0.8;\" x=\"20.5625\" xlink:href=\"#mab479d97c1\" y=\"61.56\"/>\r\n      </g>\r\n     </g>\r\n     <g id=\"text_16\">\r\n      <!-- 7 -->\r\n      <g transform=\"translate(7.2 65.359219)scale(0.1 -0.1)\">\r\n       <use xlink:href=\"#DejaVuSans-55\"/>\r\n      </g>\r\n     </g>\r\n    </g>\r\n    <g id=\"ytick_9\">\r\n     <g id=\"line2d_17\">\r\n      <g>\r\n       <use style=\"stroke:#000000;stroke-width:0.8;\" x=\"20.5625\" xlink:href=\"#mab479d97c1\" y=\"39.816\"/>\r\n      </g>\r\n     </g>\r\n     <g id=\"text_17\">\r\n      <!-- 8 -->\r\n      <g transform=\"translate(7.2 43.615219)scale(0.1 -0.1)\">\r\n       <defs>\r\n        <path d=\"M 31.78125 34.625 \r\nQ 24.75 34.625 20.71875 30.859375 \r\nQ 16.703125 27.09375 16.703125 20.515625 \r\nQ 16.703125 13.921875 20.71875 10.15625 \r\nQ 24.75 6.390625 31.78125 6.390625 \r\nQ 38.8125 6.390625 42.859375 10.171875 \r\nQ 46.921875 13.96875 46.921875 20.515625 \r\nQ 46.921875 27.09375 42.890625 30.859375 \r\nQ 38.875 34.625 31.78125 34.625 \r\nz\r\nM 21.921875 38.8125 \r\nQ 15.578125 40.375 12.03125 44.71875 \r\nQ 8.5 49.078125 8.5 55.328125 \r\nQ 8.5 64.0625 14.71875 69.140625 \r\nQ 20.953125 74.21875 31.78125 74.21875 \r\nQ 42.671875 74.21875 48.875 69.140625 \r\nQ 55.078125 64.0625 55.078125 55.328125 \r\nQ 55.078125 49.078125 51.53125 44.71875 \r\nQ 48 40.375 41.703125 38.8125 \r\nQ 48.828125 37.15625 52.796875 32.3125 \r\nQ 56.78125 27.484375 56.78125 20.515625 \r\nQ 56.78125 9.90625 50.3125 4.234375 \r\nQ 43.84375 -1.421875 31.78125 -1.421875 \r\nQ 19.734375 -1.421875 13.25 4.234375 \r\nQ 6.78125 9.90625 6.78125 20.515625 \r\nQ 6.78125 27.484375 10.78125 32.3125 \r\nQ 14.796875 37.15625 21.921875 38.8125 \r\nz\r\nM 18.3125 54.390625 \r\nQ 18.3125 48.734375 21.84375 45.5625 \r\nQ 25.390625 42.390625 31.78125 42.390625 \r\nQ 38.140625 42.390625 41.71875 45.5625 \r\nQ 45.3125 48.734375 45.3125 54.390625 \r\nQ 45.3125 60.0625 41.71875 63.234375 \r\nQ 38.140625 66.40625 31.78125 66.40625 \r\nQ 25.390625 66.40625 21.84375 63.234375 \r\nQ 18.3125 60.0625 18.3125 54.390625 \r\nz\r\n\" id=\"DejaVuSans-56\"/>\r\n       </defs>\r\n       <use xlink:href=\"#DejaVuSans-56\"/>\r\n      </g>\r\n     </g>\r\n    </g>\r\n    <g id=\"ytick_10\">\r\n     <g id=\"line2d_18\">\r\n      <g>\r\n       <use style=\"stroke:#000000;stroke-width:0.8;\" x=\"20.5625\" xlink:href=\"#mab479d97c1\" y=\"18.072\"/>\r\n      </g>\r\n     </g>\r\n     <g id=\"text_18\">\r\n      <!-- 9 -->\r\n      <g transform=\"translate(7.2 21.871219)scale(0.1 -0.1)\">\r\n       <defs>\r\n        <path d=\"M 10.984375 1.515625 \r\nL 10.984375 10.5 \r\nQ 14.703125 8.734375 18.5 7.8125 \r\nQ 22.3125 6.890625 25.984375 6.890625 \r\nQ 35.75 6.890625 40.890625 13.453125 \r\nQ 46.046875 20.015625 46.78125 33.40625 \r\nQ 43.953125 29.203125 39.59375 26.953125 \r\nQ 35.25 24.703125 29.984375 24.703125 \r\nQ 19.046875 24.703125 12.671875 31.3125 \r\nQ 6.296875 37.9375 6.296875 49.421875 \r\nQ 6.296875 60.640625 12.9375 67.421875 \r\nQ 19.578125 74.21875 30.609375 74.21875 \r\nQ 43.265625 74.21875 49.921875 64.515625 \r\nQ 56.59375 54.828125 56.59375 36.375 \r\nQ 56.59375 19.140625 48.40625 8.859375 \r\nQ 40.234375 -1.421875 26.421875 -1.421875 \r\nQ 22.703125 -1.421875 18.890625 -0.6875 \r\nQ 15.09375 0.046875 10.984375 1.515625 \r\nz\r\nM 30.609375 32.421875 \r\nQ 37.25 32.421875 41.125 36.953125 \r\nQ 45.015625 41.5 45.015625 49.421875 \r\nQ 45.015625 57.28125 41.125 61.84375 \r\nQ 37.25 66.40625 30.609375 66.40625 \r\nQ 23.96875 66.40625 20.09375 61.84375 \r\nQ 16.21875 57.28125 16.21875 49.421875 \r\nQ 16.21875 41.5 20.09375 36.953125 \r\nQ 23.96875 32.421875 30.609375 32.421875 \r\nz\r\n\" id=\"DejaVuSans-57\"/>\r\n       </defs>\r\n       <use xlink:href=\"#DejaVuSans-57\"/>\r\n      </g>\r\n     </g>\r\n    </g>\r\n   </g>\r\n   <g id=\"patch_13\">\r\n    <path d=\"M 20.5625 224.64 \r\nL 20.5625 7.2 \r\n\" style=\"fill:none;stroke:#000000;stroke-linecap:square;stroke-linejoin:miter;stroke-width:0.8;\"/>\r\n   </g>\r\n   <g id=\"patch_14\">\r\n    <path d=\"M 355.3625 224.64 \r\nL 355.3625 7.2 \r\n\" style=\"fill:none;stroke:#000000;stroke-linecap:square;stroke-linejoin:miter;stroke-width:0.8;\"/>\r\n   </g>\r\n   <g id=\"patch_15\">\r\n    <path d=\"M 20.5625 224.64 \r\nL 355.3625 224.64 \r\n\" style=\"fill:none;stroke:#000000;stroke-linecap:square;stroke-linejoin:miter;stroke-width:0.8;\"/>\r\n   </g>\r\n   <g id=\"patch_16\">\r\n    <path d=\"M 20.5625 7.2 \r\nL 355.3625 7.2 \r\n\" style=\"fill:none;stroke:#000000;stroke-linecap:square;stroke-linejoin:miter;stroke-width:0.8;\"/>\r\n   </g>\r\n   <g id=\"legend_1\">\r\n    <g id=\"patch_17\">\r\n     <path d=\"M 288.9 29.878125 \r\nL 348.3625 29.878125 \r\nQ 350.3625 29.878125 350.3625 27.878125 \r\nL 350.3625 14.2 \r\nQ 350.3625 12.2 348.3625 12.2 \r\nL 288.9 12.2 \r\nQ 286.9 12.2 286.9 14.2 \r\nL 286.9 27.878125 \r\nQ 286.9 29.878125 288.9 29.878125 \r\nz\r\n\" style=\"fill:#ffffff;opacity:0.8;stroke:#cccccc;stroke-linejoin:miter;\"/>\r\n    </g>\r\n    <g id=\"patch_18\">\r\n     <path d=\"M 290.9 23.798437 \r\nL 310.9 23.798437 \r\nL 310.9 16.798437 \r\nL 290.9 16.798437 \r\nz\r\n\" style=\"fill:#1f77b4;\"/>\r\n    </g>\r\n    <g id=\"text_19\">\r\n     <!-- Value -->\r\n     <g transform=\"translate(318.9 23.798437)scale(0.1 -0.1)\">\r\n      <defs>\r\n       <path d=\"M 28.609375 0 \r\nL 0.78125 72.90625 \r\nL 11.078125 72.90625 \r\nL 34.1875 11.53125 \r\nL 57.328125 72.90625 \r\nL 67.578125 72.90625 \r\nL 39.796875 0 \r\nz\r\n\" id=\"DejaVuSans-86\"/>\r\n       <path d=\"M 34.28125 27.484375 \r\nQ 23.390625 27.484375 19.1875 25 \r\nQ 14.984375 22.515625 14.984375 16.5 \r\nQ 14.984375 11.71875 18.140625 8.90625 \r\nQ 21.296875 6.109375 26.703125 6.109375 \r\nQ 34.1875 6.109375 38.703125 11.40625 \r\nQ 43.21875 16.703125 43.21875 25.484375 \r\nL 43.21875 27.484375 \r\nz\r\nM 52.203125 31.203125 \r\nL 52.203125 0 \r\nL 43.21875 0 \r\nL 43.21875 8.296875 \r\nQ 40.140625 3.328125 35.546875 0.953125 \r\nQ 30.953125 -1.421875 24.3125 -1.421875 \r\nQ 15.921875 -1.421875 10.953125 3.296875 \r\nQ 6 8.015625 6 15.921875 \r\nQ 6 25.140625 12.171875 29.828125 \r\nQ 18.359375 34.515625 30.609375 34.515625 \r\nL 43.21875 34.515625 \r\nL 43.21875 35.40625 \r\nQ 43.21875 41.609375 39.140625 45 \r\nQ 35.0625 48.390625 27.6875 48.390625 \r\nQ 23 48.390625 18.546875 47.265625 \r\nQ 14.109375 46.140625 10.015625 43.890625 \r\nL 10.015625 52.203125 \r\nQ 14.9375 54.109375 19.578125 55.046875 \r\nQ 24.21875 56 28.609375 56 \r\nQ 40.484375 56 46.34375 49.84375 \r\nQ 52.203125 43.703125 52.203125 31.203125 \r\nz\r\n\" id=\"DejaVuSans-97\"/>\r\n       <path d=\"M 9.421875 75.984375 \r\nL 18.40625 75.984375 \r\nL 18.40625 0 \r\nL 9.421875 0 \r\nz\r\n\" id=\"DejaVuSans-108\"/>\r\n       <path d=\"M 8.5 21.578125 \r\nL 8.5 54.6875 \r\nL 17.484375 54.6875 \r\nL 17.484375 21.921875 \r\nQ 17.484375 14.15625 20.5 10.265625 \r\nQ 23.53125 6.390625 29.59375 6.390625 \r\nQ 36.859375 6.390625 41.078125 11.03125 \r\nQ 45.3125 15.671875 45.3125 23.6875 \r\nL 45.3125 54.6875 \r\nL 54.296875 54.6875 \r\nL 54.296875 0 \r\nL 45.3125 0 \r\nL 45.3125 8.40625 \r\nQ 42.046875 3.421875 37.71875 1 \r\nQ 33.40625 -1.421875 27.6875 -1.421875 \r\nQ 18.265625 -1.421875 13.375 4.4375 \r\nQ 8.5 10.296875 8.5 21.578125 \r\nz\r\nM 31.109375 56 \r\nz\r\n\" id=\"DejaVuSans-117\"/>\r\n       <path d=\"M 56.203125 29.59375 \r\nL 56.203125 25.203125 \r\nL 14.890625 25.203125 \r\nQ 15.484375 15.921875 20.484375 11.0625 \r\nQ 25.484375 6.203125 34.421875 6.203125 \r\nQ 39.59375 6.203125 44.453125 7.46875 \r\nQ 49.3125 8.734375 54.109375 11.28125 \r\nL 54.109375 2.78125 \r\nQ 49.265625 0.734375 44.1875 -0.34375 \r\nQ 39.109375 -1.421875 33.890625 -1.421875 \r\nQ 20.796875 -1.421875 13.15625 6.1875 \r\nQ 5.515625 13.8125 5.515625 26.8125 \r\nQ 5.515625 40.234375 12.765625 48.109375 \r\nQ 20.015625 56 32.328125 56 \r\nQ 43.359375 56 49.78125 48.890625 \r\nQ 56.203125 41.796875 56.203125 29.59375 \r\nz\r\nM 47.21875 32.234375 \r\nQ 47.125 39.59375 43.09375 43.984375 \r\nQ 39.0625 48.390625 32.421875 48.390625 \r\nQ 24.90625 48.390625 20.390625 44.140625 \r\nQ 15.875 39.890625 15.1875 32.171875 \r\nz\r\n\" id=\"DejaVuSans-101\"/>\r\n      </defs>\r\n      <use xlink:href=\"#DejaVuSans-86\"/>\r\n      <use x=\"60.658203\" xlink:href=\"#DejaVuSans-97\"/>\r\n      <use x=\"121.9375\" xlink:href=\"#DejaVuSans-108\"/>\r\n      <use x=\"149.720703\" xlink:href=\"#DejaVuSans-117\"/>\r\n      <use x=\"213.099609\" xlink:href=\"#DejaVuSans-101\"/>\r\n     </g>\r\n    </g>\r\n   </g>\r\n  </g>\r\n </g>\r\n <defs>\r\n  <clipPath id=\"pec81990ae4\">\r\n   <rect height=\"217.44\" width=\"334.8\" x=\"20.5625\" y=\"7.2\"/>\r\n  </clipPath>\r\n </defs>\r\n</svg>\r\n",
      "image/png": "[encoded data removed]"
     },
     "metadata": {
      "needs_background": "light"
     }
    }
   ],
   "source": [
    "top_repeated.plot(kind=\"barh\")"
   ]
  },
  {
   "cell_type": "code",
   "execution_count": 14,
   "metadata": {},
   "outputs": [
    {
     "output_type": "execute_result",
     "data": {
      "text/plain": [
       "['Jumper Laptop 13.3 inch 8GB RAM 128GB ROM Quad Core Celeron, Windows 10 Thin and Light Laptop, Full HD 1080P Display, Support 128GB TF Cardand 1TB SSD Expansion',\n",
       " 'Laptop Computers 14-Inch Windows-10 Notebook - WinBook Intel Celeron Processor 6GB RAM 64GB ROM HD IPS Display Dual Band WiFi Numeric Touchpad Removal Webcam HDMI (Grey)',\n",
       " 'Laptop 14 Inch, Winnovo N140, 6GB RAM, 128GB SSD, Intel Celeron Processor, FHD IPS Display, Dual Band WiFi, Numeric Keypad (Grey)',\n",
       " 'Laptop 14 Inch, Winnovo N140, 6GB RAM, 128GB SSD, Intel Celeron Processor, HD IPS Display, Windows 10, Touch Numeric Keypad, Dual Band WiFi, Grey',\n",
       " 'Laptop Backpack Travel Backpack for Men And Women Business Water Resistant Laptops Backpack and USB Charging Port, Travel Computer Bag for 15.6 Inch Laptops,Iron Grey',\n",
       " 'HP Chromebook 11 G5 11.6 inches Chromebook - Intel Celeron N3050 Dual-core (2 Core) 1.60 GHz (Renewed)',\n",
       " 'CHUWI HeroBook Pro+ Laptop,13.3” 3200x1800 Resolution Windows 10 Laptop,Intel Celeron J3455 Quad Core 8GB RAM 128GB ROM Bluetooth 5.0 Notebook (HeroBook Pro+)',\n",
       " 'Laptop 14.1 inch notebook computer, IPS display, Intel 64-bit quad-core Atom x5 E8000 processor, 4GB RAM, 64GB eMMC ROM, scalable 1TB HDD solid state drive, 10000mAh high battery life, Windows 10 Home',\n",
       " 'Used Well Chromebook 14 SMB Lightweight Laptop Computer for Business or Education 14 inches with Intel Celeron N2955U, 4GB RAM 16GB eMMC SSD Chrome OS Online Class Ready - White',\n",
       " 'iProda 14inch Laptop, Intel i3 Notebook (up to 2.4GHz), 8GB Memory, 256GB SSD, Full HD IPS 19201080 Display, Windows 10 Pro, Perfect PC for Student and Home use (Intel i3)']"
      ]
     },
     "metadata": {},
     "execution_count": 14
    }
   ],
   "source": [
    "\n",
    "list(top_repeated.Product_Name)"
   ]
  },
  {
   "cell_type": "code",
   "execution_count": 15,
   "metadata": {},
   "outputs": [
    {
     "output_type": "display_data",
     "data": {
      "text/plain": "<Figure size 1080x576 with 1 Axes>",
      "image/svg+xml": "<?xml version=\"1.0\" encoding=\"utf-8\" standalone=\"no\"?>\r\n<!DOCTYPE svg PUBLIC \"-//W3C//DTD SVG 1.1//EN\"\r\n  \"http://www.w3.org/Graphics/SVG/1.1/DTD/svg11.dtd\">\r\n<!-- Created with matplotlib (https://matplotlib.org/) -->\r\n<svg height=\"494.754375pt\" version=\"1.1\" viewBox=\"0 0 979.998438 494.754375\" width=\"979.998438pt\" xmlns=\"http://www.w3.org/2000/svg\" xmlns:xlink=\"http://www.w3.org/1999/xlink\">\r\n <metadata>\r\n  <rdf:RDF xmlns:cc=\"http://creativecommons.org/ns#\" xmlns:dc=\"http://purl.org/dc/elements/1.1/\" xmlns:rdf=\"http://www.w3.org/1999/02/22-rdf-syntax-ns#\">\r\n   <cc:Work>\r\n    <dc:type rdf:resource=\"http://purl.org/dc/dcmitype/StillImage\"/>\r\n    <dc:date>2021-04-11T21:32:41.181201</dc:date>\r\n    <dc:format>image/svg+xml</dc:format>\r\n    <dc:creator>\r\n     <cc:Agent>\r\n      <dc:title>Matplotlib v3.3.2, https://matplotlib.org/</dc:title>\r\n     </cc:Agent>\r\n    </dc:creator>\r\n   </cc:Work>\r\n  </rdf:RDF>\r\n </metadata>\r\n <defs>\r\n  <style type=\"text/css\">*{stroke-linecap:butt;stroke-linejoin:round;}</style>\r\n </defs>\r\n <g id=\"figure_1\">\r\n  <g id=\"patch_1\">\r\n   <path d=\"M 0 494.754375 \r\nL 979.998438 494.754375 \r\nL 979.998438 0 \r\nL 0 0 \r\nz\r\n\" style=\"fill:none;\"/>\r\n  </g>\r\n  <g id=\"axes_1\">\r\n   <g id=\"patch_2\">\r\n    <path d=\"M 135.798438 457.198125 \r\nL 972.798437 457.198125 \r\nL 972.798437 22.318125 \r\nL 135.798438 22.318125 \r\nz\r\n\" style=\"fill:#ffffff;\"/>\r\n   </g>\r\n   <g id=\"patch_3\">\r\n    <path clip-path=\"url(#pd28532a0db)\" d=\"M 135.798438 437.430852 \r\nL 932.941295 437.430852 \r\nL 932.941295 405.157754 \r\nL 135.798438 405.157754 \r\nz\r\n\" style=\"fill:#1f77b4;\"/>\r\n   </g>\r\n   <g id=\"patch_4\">\r\n    <path clip-path=\"url(#pd28532a0db)\" d=\"M 135.798438 397.089479 \r\nL 600.969205 397.089479 \r\nL 600.969205 364.816381 \r\nL 135.798438 364.816381 \r\nz\r\n\" style=\"fill:#1f77b4;\"/>\r\n   </g>\r\n   <g id=\"patch_5\">\r\n    <path clip-path=\"url(#pd28532a0db)\" d=\"M 135.798438 356.748106 \r\nL 574.329469 356.748106 \r\nL 574.329469 324.475008 \r\nL 135.798438 324.475008 \r\nz\r\n\" style=\"fill:#1f77b4;\"/>\r\n   </g>\r\n   <g id=\"patch_6\">\r\n    <path clip-path=\"url(#pd28532a0db)\" d=\"M 135.798438 316.406734 \r\nL 371.457637 316.406734 \r\nL 371.457637 284.133635 \r\nL 135.798438 284.133635 \r\nz\r\n\" style=\"fill:#1f77b4;\"/>\r\n   </g>\r\n   <g id=\"patch_7\">\r\n    <path clip-path=\"url(#pd28532a0db)\" d=\"M 135.798438 276.065361 \r\nL 305.882903 276.065361 \r\nL 305.882903 243.792262 \r\nL 135.798438 243.792262 \r\nz\r\n\" style=\"fill:#1f77b4;\"/>\r\n   </g>\r\n   <g id=\"patch_8\">\r\n    <path clip-path=\"url(#pd28532a0db)\" d=\"M 135.798438 235.723988 \r\nL 293.587641 235.723988 \r\nL 293.587641 203.450889 \r\nL 135.798438 203.450889 \r\nz\r\n\" style=\"fill:#1f77b4;\"/>\r\n   </g>\r\n   <g id=\"patch_9\">\r\n    <path clip-path=\"url(#pd28532a0db)\" d=\"M 135.798438 195.382615 \r\nL 146.04449 195.382615 \r\nL 146.04449 163.109516 \r\nL 135.798438 163.109516 \r\nz\r\n\" style=\"fill:#1f77b4;\"/>\r\n   </g>\r\n   <g id=\"patch_10\">\r\n    <path clip-path=\"url(#pd28532a0db)\" d=\"M 135.798438 155.041242 \r\nL 143.995279 155.041242 \r\nL 143.995279 122.768144 \r\nL 135.798438 122.768144 \r\nz\r\n\" style=\"fill:#1f77b4;\"/>\r\n   </g>\r\n   <g id=\"patch_11\">\r\n    <path clip-path=\"url(#pd28532a0db)\" d=\"M 135.798438 114.699869 \r\nL 143.995279 114.699869 \r\nL 143.995279 82.426771 \r\nL 135.798438 82.426771 \r\nz\r\n\" style=\"fill:#1f77b4;\"/>\r\n   </g>\r\n   <g id=\"patch_12\">\r\n    <path clip-path=\"url(#pd28532a0db)\" d=\"M 135.798438 74.358496 \r\nL 143.995279 74.358496 \r\nL 143.995279 42.085398 \r\nL 135.798438 42.085398 \r\nz\r\n\" style=\"fill:#1f77b4;\"/>\r\n   </g>\r\n   <g id=\"matplotlib.axis_1\">\r\n    <g id=\"xtick_1\">\r\n     <g id=\"line2d_1\">\r\n      <defs>\r\n       <path d=\"M 0 0 \r\nL 0 3.5 \r\n\" id=\"m480e5d4eb6\" style=\"stroke:#000000;stroke-width:0.8;\"/>\r\n      </defs>\r\n      <g>\r\n       <use style=\"stroke:#000000;stroke-width:0.8;\" x=\"135.798438\" xlink:href=\"#m480e5d4eb6\" y=\"457.198125\"/>\r\n      </g>\r\n     </g>\r\n     <g id=\"text_1\">\r\n      <!-- 0 -->\r\n      <g transform=\"translate(132.617188 471.796562)scale(0.1 -0.1)\">\r\n       <defs>\r\n        <path d=\"M 31.78125 66.40625 \r\nQ 24.171875 66.40625 20.328125 58.90625 \r\nQ 16.5 51.421875 16.5 36.375 \r\nQ 16.5 21.390625 20.328125 13.890625 \r\nQ 24.171875 6.390625 31.78125 6.390625 \r\nQ 39.453125 6.390625 43.28125 13.890625 \r\nQ 47.125 21.390625 47.125 36.375 \r\nQ 47.125 51.421875 43.28125 58.90625 \r\nQ 39.453125 66.40625 31.78125 66.40625 \r\nz\r\nM 31.78125 74.21875 \r\nQ 44.046875 74.21875 50.515625 64.515625 \r\nQ 56.984375 54.828125 56.984375 36.375 \r\nQ 56.984375 17.96875 50.515625 8.265625 \r\nQ 44.046875 -1.421875 31.78125 -1.421875 \r\nQ 19.53125 -1.421875 13.0625 8.265625 \r\nQ 6.59375 17.96875 6.59375 36.375 \r\nQ 6.59375 54.828125 13.0625 64.515625 \r\nQ 19.53125 74.21875 31.78125 74.21875 \r\nz\r\n\" id=\"DejaVuSans-48\"/>\r\n       </defs>\r\n       <use xlink:href=\"#DejaVuSans-48\"/>\r\n      </g>\r\n     </g>\r\n    </g>\r\n    <g id=\"xtick_2\">\r\n     <g id=\"line2d_2\">\r\n      <g>\r\n       <use style=\"stroke:#000000;stroke-width:0.8;\" x=\"238.258959\" xlink:href=\"#m480e5d4eb6\" y=\"457.198125\"/>\r\n      </g>\r\n     </g>\r\n     <g id=\"text_2\">\r\n      <!-- 50 -->\r\n      <g transform=\"translate(231.896459 471.796562)scale(0.1 -0.1)\">\r\n       <defs>\r\n        <path d=\"M 10.796875 72.90625 \r\nL 49.515625 72.90625 \r\nL 49.515625 64.59375 \r\nL 19.828125 64.59375 \r\nL 19.828125 46.734375 \r\nQ 21.96875 47.46875 24.109375 47.828125 \r\nQ 26.265625 48.1875 28.421875 48.1875 \r\nQ 40.625 48.1875 47.75 41.5 \r\nQ 54.890625 34.8125 54.890625 23.390625 \r\nQ 54.890625 11.625 47.5625 5.09375 \r\nQ 40.234375 -1.421875 26.90625 -1.421875 \r\nQ 22.3125 -1.421875 17.546875 -0.640625 \r\nQ 12.796875 0.140625 7.71875 1.703125 \r\nL 7.71875 11.625 \r\nQ 12.109375 9.234375 16.796875 8.0625 \r\nQ 21.484375 6.890625 26.703125 6.890625 \r\nQ 35.15625 6.890625 40.078125 11.328125 \r\nQ 45.015625 15.765625 45.015625 23.390625 \r\nQ 45.015625 31 40.078125 35.4375 \r\nQ 35.15625 39.890625 26.703125 39.890625 \r\nQ 22.75 39.890625 18.8125 39.015625 \r\nQ 14.890625 38.140625 10.796875 36.28125 \r\nz\r\n\" id=\"DejaVuSans-53\"/>\r\n       </defs>\r\n       <use xlink:href=\"#DejaVuSans-53\"/>\r\n       <use x=\"63.623047\" xlink:href=\"#DejaVuSans-48\"/>\r\n      </g>\r\n     </g>\r\n    </g>\r\n    <g id=\"xtick_3\">\r\n     <g id=\"line2d_3\">\r\n      <g>\r\n       <use style=\"stroke:#000000;stroke-width:0.8;\" x=\"340.71948\" xlink:href=\"#m480e5d4eb6\" y=\"457.198125\"/>\r\n      </g>\r\n     </g>\r\n     <g id=\"text_3\">\r\n      <!-- 100 -->\r\n      <g transform=\"translate(331.17573 471.796562)scale(0.1 -0.1)\">\r\n       <defs>\r\n        <path d=\"M 12.40625 8.296875 \r\nL 28.515625 8.296875 \r\nL 28.515625 63.921875 \r\nL 10.984375 60.40625 \r\nL 10.984375 69.390625 \r\nL 28.421875 72.90625 \r\nL 38.28125 72.90625 \r\nL 38.28125 8.296875 \r\nL 54.390625 8.296875 \r\nL 54.390625 0 \r\nL 12.40625 0 \r\nz\r\n\" id=\"DejaVuSans-49\"/>\r\n       </defs>\r\n       <use xlink:href=\"#DejaVuSans-49\"/>\r\n       <use x=\"63.623047\" xlink:href=\"#DejaVuSans-48\"/>\r\n       <use x=\"127.246094\" xlink:href=\"#DejaVuSans-48\"/>\r\n      </g>\r\n     </g>\r\n    </g>\r\n    <g id=\"xtick_4\">\r\n     <g id=\"line2d_4\">\r\n      <g>\r\n       <use style=\"stroke:#000000;stroke-width:0.8;\" x=\"443.180002\" xlink:href=\"#m480e5d4eb6\" y=\"457.198125\"/>\r\n      </g>\r\n     </g>\r\n     <g id=\"text_4\">\r\n      <!-- 150 -->\r\n      <g transform=\"translate(433.636252 471.796562)scale(0.1 -0.1)\">\r\n       <use xlink:href=\"#DejaVuSans-49\"/>\r\n       <use x=\"63.623047\" xlink:href=\"#DejaVuSans-53\"/>\r\n       <use x=\"127.246094\" xlink:href=\"#DejaVuSans-48\"/>\r\n      </g>\r\n     </g>\r\n    </g>\r\n    <g id=\"xtick_5\">\r\n     <g id=\"line2d_5\">\r\n      <g>\r\n       <use style=\"stroke:#000000;stroke-width:0.8;\" x=\"545.640523\" xlink:href=\"#m480e5d4eb6\" y=\"457.198125\"/>\r\n      </g>\r\n     </g>\r\n     <g id=\"text_5\">\r\n      <!-- 200 -->\r\n      <g transform=\"translate(536.096773 471.796562)scale(0.1 -0.1)\">\r\n       <defs>\r\n        <path d=\"M 19.1875 8.296875 \r\nL 53.609375 8.296875 \r\nL 53.609375 0 \r\nL 7.328125 0 \r\nL 7.328125 8.296875 \r\nQ 12.9375 14.109375 22.625 23.890625 \r\nQ 32.328125 33.6875 34.8125 36.53125 \r\nQ 39.546875 41.84375 41.421875 45.53125 \r\nQ 43.3125 49.21875 43.3125 52.78125 \r\nQ 43.3125 58.59375 39.234375 62.25 \r\nQ 35.15625 65.921875 28.609375 65.921875 \r\nQ 23.96875 65.921875 18.8125 64.3125 \r\nQ 13.671875 62.703125 7.8125 59.421875 \r\nL 7.8125 69.390625 \r\nQ 13.765625 71.78125 18.9375 73 \r\nQ 24.125 74.21875 28.421875 74.21875 \r\nQ 39.75 74.21875 46.484375 68.546875 \r\nQ 53.21875 62.890625 53.21875 53.421875 \r\nQ 53.21875 48.921875 51.53125 44.890625 \r\nQ 49.859375 40.875 45.40625 35.40625 \r\nQ 44.1875 33.984375 37.640625 27.21875 \r\nQ 31.109375 20.453125 19.1875 8.296875 \r\nz\r\n\" id=\"DejaVuSans-50\"/>\r\n       </defs>\r\n       <use xlink:href=\"#DejaVuSans-50\"/>\r\n       <use x=\"63.623047\" xlink:href=\"#DejaVuSans-48\"/>\r\n       <use x=\"127.246094\" xlink:href=\"#DejaVuSans-48\"/>\r\n      </g>\r\n     </g>\r\n    </g>\r\n    <g id=\"xtick_6\">\r\n     <g id=\"line2d_6\">\r\n      <g>\r\n       <use style=\"stroke:#000000;stroke-width:0.8;\" x=\"648.101045\" xlink:href=\"#m480e5d4eb6\" y=\"457.198125\"/>\r\n      </g>\r\n     </g>\r\n     <g id=\"text_6\">\r\n      <!-- 250 -->\r\n      <g transform=\"translate(638.557295 471.796562)scale(0.1 -0.1)\">\r\n       <use xlink:href=\"#DejaVuSans-50\"/>\r\n       <use x=\"63.623047\" xlink:href=\"#DejaVuSans-53\"/>\r\n       <use x=\"127.246094\" xlink:href=\"#DejaVuSans-48\"/>\r\n      </g>\r\n     </g>\r\n    </g>\r\n    <g id=\"xtick_7\">\r\n     <g id=\"line2d_7\">\r\n      <g>\r\n       <use style=\"stroke:#000000;stroke-width:0.8;\" x=\"750.561566\" xlink:href=\"#m480e5d4eb6\" y=\"457.198125\"/>\r\n      </g>\r\n     </g>\r\n     <g id=\"text_7\">\r\n      <!-- 300 -->\r\n      <g transform=\"translate(741.017816 471.796562)scale(0.1 -0.1)\">\r\n       <defs>\r\n        <path d=\"M 40.578125 39.3125 \r\nQ 47.65625 37.796875 51.625 33 \r\nQ 55.609375 28.21875 55.609375 21.1875 \r\nQ 55.609375 10.40625 48.1875 4.484375 \r\nQ 40.765625 -1.421875 27.09375 -1.421875 \r\nQ 22.515625 -1.421875 17.65625 -0.515625 \r\nQ 12.796875 0.390625 7.625 2.203125 \r\nL 7.625 11.71875 \r\nQ 11.71875 9.328125 16.59375 8.109375 \r\nQ 21.484375 6.890625 26.8125 6.890625 \r\nQ 36.078125 6.890625 40.9375 10.546875 \r\nQ 45.796875 14.203125 45.796875 21.1875 \r\nQ 45.796875 27.640625 41.28125 31.265625 \r\nQ 36.765625 34.90625 28.71875 34.90625 \r\nL 20.21875 34.90625 \r\nL 20.21875 43.015625 \r\nL 29.109375 43.015625 \r\nQ 36.375 43.015625 40.234375 45.921875 \r\nQ 44.09375 48.828125 44.09375 54.296875 \r\nQ 44.09375 59.90625 40.109375 62.90625 \r\nQ 36.140625 65.921875 28.71875 65.921875 \r\nQ 24.65625 65.921875 20.015625 65.03125 \r\nQ 15.375 64.15625 9.8125 62.3125 \r\nL 9.8125 71.09375 \r\nQ 15.4375 72.65625 20.34375 73.4375 \r\nQ 25.25 74.21875 29.59375 74.21875 \r\nQ 40.828125 74.21875 47.359375 69.109375 \r\nQ 53.90625 64.015625 53.90625 55.328125 \r\nQ 53.90625 49.265625 50.4375 45.09375 \r\nQ 46.96875 40.921875 40.578125 39.3125 \r\nz\r\n\" id=\"DejaVuSans-51\"/>\r\n       </defs>\r\n       <use xlink:href=\"#DejaVuSans-51\"/>\r\n       <use x=\"63.623047\" xlink:href=\"#DejaVuSans-48\"/>\r\n       <use x=\"127.246094\" xlink:href=\"#DejaVuSans-48\"/>\r\n      </g>\r\n     </g>\r\n    </g>\r\n    <g id=\"xtick_8\">\r\n     <g id=\"line2d_8\">\r\n      <g>\r\n       <use style=\"stroke:#000000;stroke-width:0.8;\" x=\"853.022088\" xlink:href=\"#m480e5d4eb6\" y=\"457.198125\"/>\r\n      </g>\r\n     </g>\r\n     <g id=\"text_8\">\r\n      <!-- 350 -->\r\n      <g transform=\"translate(843.478338 471.796562)scale(0.1 -0.1)\">\r\n       <use xlink:href=\"#DejaVuSans-51\"/>\r\n       <use x=\"63.623047\" xlink:href=\"#DejaVuSans-53\"/>\r\n       <use x=\"127.246094\" xlink:href=\"#DejaVuSans-48\"/>\r\n      </g>\r\n     </g>\r\n    </g>\r\n    <g id=\"xtick_9\">\r\n     <g id=\"line2d_9\">\r\n      <g>\r\n       <use style=\"stroke:#000000;stroke-width:0.8;\" x=\"955.482609\" xlink:href=\"#m480e5d4eb6\" y=\"457.198125\"/>\r\n      </g>\r\n     </g>\r\n     <g id=\"text_9\">\r\n      <!-- 400 -->\r\n      <g transform=\"translate(945.938859 471.796562)scale(0.1 -0.1)\">\r\n       <defs>\r\n        <path d=\"M 37.796875 64.3125 \r\nL 12.890625 25.390625 \r\nL 37.796875 25.390625 \r\nz\r\nM 35.203125 72.90625 \r\nL 47.609375 72.90625 \r\nL 47.609375 25.390625 \r\nL 58.015625 25.390625 \r\nL 58.015625 17.1875 \r\nL 47.609375 17.1875 \r\nL 47.609375 0 \r\nL 37.796875 0 \r\nL 37.796875 17.1875 \r\nL 4.890625 17.1875 \r\nL 4.890625 26.703125 \r\nz\r\n\" id=\"DejaVuSans-52\"/>\r\n       </defs>\r\n       <use xlink:href=\"#DejaVuSans-52\"/>\r\n       <use x=\"63.623047\" xlink:href=\"#DejaVuSans-48\"/>\r\n       <use x=\"127.246094\" xlink:href=\"#DejaVuSans-48\"/>\r\n      </g>\r\n     </g>\r\n    </g>\r\n    <g id=\"text_10\">\r\n     <!-- Count -->\r\n     <g transform=\"translate(539.45 485.474687)scale(0.1 -0.1)\">\r\n      <defs>\r\n       <path d=\"M 64.40625 67.28125 \r\nL 64.40625 56.890625 \r\nQ 59.421875 61.53125 53.78125 63.8125 \r\nQ 48.140625 66.109375 41.796875 66.109375 \r\nQ 29.296875 66.109375 22.65625 58.46875 \r\nQ 16.015625 50.828125 16.015625 36.375 \r\nQ 16.015625 21.96875 22.65625 14.328125 \r\nQ 29.296875 6.6875 41.796875 6.6875 \r\nQ 48.140625 6.6875 53.78125 8.984375 \r\nQ 59.421875 11.28125 64.40625 15.921875 \r\nL 64.40625 5.609375 \r\nQ 59.234375 2.09375 53.4375 0.328125 \r\nQ 47.65625 -1.421875 41.21875 -1.421875 \r\nQ 24.65625 -1.421875 15.125 8.703125 \r\nQ 5.609375 18.84375 5.609375 36.375 \r\nQ 5.609375 53.953125 15.125 64.078125 \r\nQ 24.65625 74.21875 41.21875 74.21875 \r\nQ 47.75 74.21875 53.53125 72.484375 \r\nQ 59.328125 70.75 64.40625 67.28125 \r\nz\r\n\" id=\"DejaVuSans-67\"/>\r\n       <path d=\"M 30.609375 48.390625 \r\nQ 23.390625 48.390625 19.1875 42.75 \r\nQ 14.984375 37.109375 14.984375 27.296875 \r\nQ 14.984375 17.484375 19.15625 11.84375 \r\nQ 23.34375 6.203125 30.609375 6.203125 \r\nQ 37.796875 6.203125 41.984375 11.859375 \r\nQ 46.1875 17.53125 46.1875 27.296875 \r\nQ 46.1875 37.015625 41.984375 42.703125 \r\nQ 37.796875 48.390625 30.609375 48.390625 \r\nz\r\nM 30.609375 56 \r\nQ 42.328125 56 49.015625 48.375 \r\nQ 55.71875 40.765625 55.71875 27.296875 \r\nQ 55.71875 13.875 49.015625 6.21875 \r\nQ 42.328125 -1.421875 30.609375 -1.421875 \r\nQ 18.84375 -1.421875 12.171875 6.21875 \r\nQ 5.515625 13.875 5.515625 27.296875 \r\nQ 5.515625 40.765625 12.171875 48.375 \r\nQ 18.84375 56 30.609375 56 \r\nz\r\n\" id=\"DejaVuSans-111\"/>\r\n       <path d=\"M 8.5 21.578125 \r\nL 8.5 54.6875 \r\nL 17.484375 54.6875 \r\nL 17.484375 21.921875 \r\nQ 17.484375 14.15625 20.5 10.265625 \r\nQ 23.53125 6.390625 29.59375 6.390625 \r\nQ 36.859375 6.390625 41.078125 11.03125 \r\nQ 45.3125 15.671875 45.3125 23.6875 \r\nL 45.3125 54.6875 \r\nL 54.296875 54.6875 \r\nL 54.296875 0 \r\nL 45.3125 0 \r\nL 45.3125 8.40625 \r\nQ 42.046875 3.421875 37.71875 1 \r\nQ 33.40625 -1.421875 27.6875 -1.421875 \r\nQ 18.265625 -1.421875 13.375 4.4375 \r\nQ 8.5 10.296875 8.5 21.578125 \r\nz\r\nM 31.109375 56 \r\nz\r\n\" id=\"DejaVuSans-117\"/>\r\n       <path d=\"M 54.890625 33.015625 \r\nL 54.890625 0 \r\nL 45.90625 0 \r\nL 45.90625 32.71875 \r\nQ 45.90625 40.484375 42.875 44.328125 \r\nQ 39.84375 48.1875 33.796875 48.1875 \r\nQ 26.515625 48.1875 22.3125 43.546875 \r\nQ 18.109375 38.921875 18.109375 30.90625 \r\nL 18.109375 0 \r\nL 9.078125 0 \r\nL 9.078125 54.6875 \r\nL 18.109375 54.6875 \r\nL 18.109375 46.1875 \r\nQ 21.34375 51.125 25.703125 53.5625 \r\nQ 30.078125 56 35.796875 56 \r\nQ 45.21875 56 50.046875 50.171875 \r\nQ 54.890625 44.34375 54.890625 33.015625 \r\nz\r\n\" id=\"DejaVuSans-110\"/>\r\n       <path d=\"M 18.3125 70.21875 \r\nL 18.3125 54.6875 \r\nL 36.8125 54.6875 \r\nL 36.8125 47.703125 \r\nL 18.3125 47.703125 \r\nL 18.3125 18.015625 \r\nQ 18.3125 11.328125 20.140625 9.421875 \r\nQ 21.96875 7.515625 27.59375 7.515625 \r\nL 36.8125 7.515625 \r\nL 36.8125 0 \r\nL 27.59375 0 \r\nQ 17.1875 0 13.234375 3.875 \r\nQ 9.28125 7.765625 9.28125 18.015625 \r\nL 9.28125 47.703125 \r\nL 2.6875 47.703125 \r\nL 2.6875 54.6875 \r\nL 9.28125 54.6875 \r\nL 9.28125 70.21875 \r\nz\r\n\" id=\"DejaVuSans-116\"/>\r\n      </defs>\r\n      <use xlink:href=\"#DejaVuSans-67\"/>\r\n      <use x=\"69.824219\" xlink:href=\"#DejaVuSans-111\"/>\r\n      <use x=\"131.005859\" xlink:href=\"#DejaVuSans-117\"/>\r\n      <use x=\"194.384766\" xlink:href=\"#DejaVuSans-110\"/>\r\n      <use x=\"257.763672\" xlink:href=\"#DejaVuSans-116\"/>\r\n     </g>\r\n    </g>\r\n   </g>\r\n   <g id=\"matplotlib.axis_2\">\r\n    <g id=\"ytick_1\">\r\n     <g id=\"line2d_10\">\r\n      <defs>\r\n       <path d=\"M 0 0 \r\nL -3.5 0 \r\n\" id=\"me8cfd79cd8\" style=\"stroke:#000000;stroke-width:0.8;\"/>\r\n      </defs>\r\n      <g>\r\n       <use style=\"stroke:#000000;stroke-width:0.8;\" x=\"135.798438\" xlink:href=\"#me8cfd79cd8\" y=\"421.294303\"/>\r\n      </g>\r\n     </g>\r\n     <g id=\"text_11\">\r\n      <!-- GIM MB8 ATX Case -->\r\n      <g transform=\"translate(34.589062 425.093522)scale(0.1 -0.1)\">\r\n       <defs>\r\n        <path d=\"M 59.515625 10.40625 \r\nL 59.515625 29.984375 \r\nL 43.40625 29.984375 \r\nL 43.40625 38.09375 \r\nL 69.28125 38.09375 \r\nL 69.28125 6.78125 \r\nQ 63.578125 2.734375 56.6875 0.65625 \r\nQ 49.8125 -1.421875 42 -1.421875 \r\nQ 24.90625 -1.421875 15.25 8.5625 \r\nQ 5.609375 18.5625 5.609375 36.375 \r\nQ 5.609375 54.25 15.25 64.234375 \r\nQ 24.90625 74.21875 42 74.21875 \r\nQ 49.125 74.21875 55.546875 72.453125 \r\nQ 61.96875 70.703125 67.390625 67.28125 \r\nL 67.390625 56.78125 \r\nQ 61.921875 61.421875 55.765625 63.765625 \r\nQ 49.609375 66.109375 42.828125 66.109375 \r\nQ 29.4375 66.109375 22.71875 58.640625 \r\nQ 16.015625 51.171875 16.015625 36.375 \r\nQ 16.015625 21.625 22.71875 14.15625 \r\nQ 29.4375 6.6875 42.828125 6.6875 \r\nQ 48.046875 6.6875 52.140625 7.59375 \r\nQ 56.25 8.5 59.515625 10.40625 \r\nz\r\n\" id=\"DejaVuSans-71\"/>\r\n        <path d=\"M 9.8125 72.90625 \r\nL 19.671875 72.90625 \r\nL 19.671875 0 \r\nL 9.8125 0 \r\nz\r\n\" id=\"DejaVuSans-73\"/>\r\n        <path d=\"M 9.8125 72.90625 \r\nL 24.515625 72.90625 \r\nL 43.109375 23.296875 \r\nL 61.8125 72.90625 \r\nL 76.515625 72.90625 \r\nL 76.515625 0 \r\nL 66.890625 0 \r\nL 66.890625 64.015625 \r\nL 48.09375 14.015625 \r\nL 38.1875 14.015625 \r\nL 19.390625 64.015625 \r\nL 19.390625 0 \r\nL 9.8125 0 \r\nz\r\n\" id=\"DejaVuSans-77\"/>\r\n        <path id=\"DejaVuSans-32\"/>\r\n        <path d=\"M 19.671875 34.8125 \r\nL 19.671875 8.109375 \r\nL 35.5 8.109375 \r\nQ 43.453125 8.109375 47.28125 11.40625 \r\nQ 51.125 14.703125 51.125 21.484375 \r\nQ 51.125 28.328125 47.28125 31.5625 \r\nQ 43.453125 34.8125 35.5 34.8125 \r\nz\r\nM 19.671875 64.796875 \r\nL 19.671875 42.828125 \r\nL 34.28125 42.828125 \r\nQ 41.5 42.828125 45.03125 45.53125 \r\nQ 48.578125 48.25 48.578125 53.8125 \r\nQ 48.578125 59.328125 45.03125 62.0625 \r\nQ 41.5 64.796875 34.28125 64.796875 \r\nz\r\nM 9.8125 72.90625 \r\nL 35.015625 72.90625 \r\nQ 46.296875 72.90625 52.390625 68.21875 \r\nQ 58.5 63.53125 58.5 54.890625 \r\nQ 58.5 48.1875 55.375 44.234375 \r\nQ 52.25 40.28125 46.1875 39.3125 \r\nQ 53.46875 37.75 57.5 32.78125 \r\nQ 61.53125 27.828125 61.53125 20.40625 \r\nQ 61.53125 10.640625 54.890625 5.3125 \r\nQ 48.25 0 35.984375 0 \r\nL 9.8125 0 \r\nz\r\n\" id=\"DejaVuSans-66\"/>\r\n        <path d=\"M 31.78125 34.625 \r\nQ 24.75 34.625 20.71875 30.859375 \r\nQ 16.703125 27.09375 16.703125 20.515625 \r\nQ 16.703125 13.921875 20.71875 10.15625 \r\nQ 24.75 6.390625 31.78125 6.390625 \r\nQ 38.8125 6.390625 42.859375 10.171875 \r\nQ 46.921875 13.96875 46.921875 20.515625 \r\nQ 46.921875 27.09375 42.890625 30.859375 \r\nQ 38.875 34.625 31.78125 34.625 \r\nz\r\nM 21.921875 38.8125 \r\nQ 15.578125 40.375 12.03125 44.71875 \r\nQ 8.5 49.078125 8.5 55.328125 \r\nQ 8.5 64.0625 14.71875 69.140625 \r\nQ 20.953125 74.21875 31.78125 74.21875 \r\nQ 42.671875 74.21875 48.875 69.140625 \r\nQ 55.078125 64.0625 55.078125 55.328125 \r\nQ 55.078125 49.078125 51.53125 44.71875 \r\nQ 48 40.375 41.703125 38.8125 \r\nQ 48.828125 37.15625 52.796875 32.3125 \r\nQ 56.78125 27.484375 56.78125 20.515625 \r\nQ 56.78125 9.90625 50.3125 4.234375 \r\nQ 43.84375 -1.421875 31.78125 -1.421875 \r\nQ 19.734375 -1.421875 13.25 4.234375 \r\nQ 6.78125 9.90625 6.78125 20.515625 \r\nQ 6.78125 27.484375 10.78125 32.3125 \r\nQ 14.796875 37.15625 21.921875 38.8125 \r\nz\r\nM 18.3125 54.390625 \r\nQ 18.3125 48.734375 21.84375 45.5625 \r\nQ 25.390625 42.390625 31.78125 42.390625 \r\nQ 38.140625 42.390625 41.71875 45.5625 \r\nQ 45.3125 48.734375 45.3125 54.390625 \r\nQ 45.3125 60.0625 41.71875 63.234375 \r\nQ 38.140625 66.40625 31.78125 66.40625 \r\nQ 25.390625 66.40625 21.84375 63.234375 \r\nQ 18.3125 60.0625 18.3125 54.390625 \r\nz\r\n\" id=\"DejaVuSans-56\"/>\r\n        <path d=\"M 34.1875 63.1875 \r\nL 20.796875 26.90625 \r\nL 47.609375 26.90625 \r\nz\r\nM 28.609375 72.90625 \r\nL 39.796875 72.90625 \r\nL 67.578125 0 \r\nL 57.328125 0 \r\nL 50.6875 18.703125 \r\nL 17.828125 18.703125 \r\nL 11.1875 0 \r\nL 0.78125 0 \r\nz\r\n\" id=\"DejaVuSans-65\"/>\r\n        <path d=\"M -0.296875 72.90625 \r\nL 61.375 72.90625 \r\nL 61.375 64.59375 \r\nL 35.5 64.59375 \r\nL 35.5 0 \r\nL 25.59375 0 \r\nL 25.59375 64.59375 \r\nL -0.296875 64.59375 \r\nz\r\n\" id=\"DejaVuSans-84\"/>\r\n        <path d=\"M 6.296875 72.90625 \r\nL 16.890625 72.90625 \r\nL 35.015625 45.796875 \r\nL 53.21875 72.90625 \r\nL 63.8125 72.90625 \r\nL 40.375 37.890625 \r\nL 65.375 0 \r\nL 54.78125 0 \r\nL 34.28125 31 \r\nL 13.625 0 \r\nL 2.984375 0 \r\nL 29 38.921875 \r\nz\r\n\" id=\"DejaVuSans-88\"/>\r\n        <path d=\"M 34.28125 27.484375 \r\nQ 23.390625 27.484375 19.1875 25 \r\nQ 14.984375 22.515625 14.984375 16.5 \r\nQ 14.984375 11.71875 18.140625 8.90625 \r\nQ 21.296875 6.109375 26.703125 6.109375 \r\nQ 34.1875 6.109375 38.703125 11.40625 \r\nQ 43.21875 16.703125 43.21875 25.484375 \r\nL 43.21875 27.484375 \r\nz\r\nM 52.203125 31.203125 \r\nL 52.203125 0 \r\nL 43.21875 0 \r\nL 43.21875 8.296875 \r\nQ 40.140625 3.328125 35.546875 0.953125 \r\nQ 30.953125 -1.421875 24.3125 -1.421875 \r\nQ 15.921875 -1.421875 10.953125 3.296875 \r\nQ 6 8.015625 6 15.921875 \r\nQ 6 25.140625 12.171875 29.828125 \r\nQ 18.359375 34.515625 30.609375 34.515625 \r\nL 43.21875 34.515625 \r\nL 43.21875 35.40625 \r\nQ 43.21875 41.609375 39.140625 45 \r\nQ 35.0625 48.390625 27.6875 48.390625 \r\nQ 23 48.390625 18.546875 47.265625 \r\nQ 14.109375 46.140625 10.015625 43.890625 \r\nL 10.015625 52.203125 \r\nQ 14.9375 54.109375 19.578125 55.046875 \r\nQ 24.21875 56 28.609375 56 \r\nQ 40.484375 56 46.34375 49.84375 \r\nQ 52.203125 43.703125 52.203125 31.203125 \r\nz\r\n\" id=\"DejaVuSans-97\"/>\r\n        <path d=\"M 44.28125 53.078125 \r\nL 44.28125 44.578125 \r\nQ 40.484375 46.53125 36.375 47.5 \r\nQ 32.28125 48.484375 27.875 48.484375 \r\nQ 21.1875 48.484375 17.84375 46.4375 \r\nQ 14.5 44.390625 14.5 40.28125 \r\nQ 14.5 37.15625 16.890625 35.375 \r\nQ 19.28125 33.59375 26.515625 31.984375 \r\nL 29.59375 31.296875 \r\nQ 39.15625 29.25 43.1875 25.515625 \r\nQ 47.21875 21.78125 47.21875 15.09375 \r\nQ 47.21875 7.46875 41.1875 3.015625 \r\nQ 35.15625 -1.421875 24.609375 -1.421875 \r\nQ 20.21875 -1.421875 15.453125 -0.5625 \r\nQ 10.6875 0.296875 5.421875 2 \r\nL 5.421875 11.28125 \r\nQ 10.40625 8.6875 15.234375 7.390625 \r\nQ 20.0625 6.109375 24.8125 6.109375 \r\nQ 31.15625 6.109375 34.5625 8.28125 \r\nQ 37.984375 10.453125 37.984375 14.40625 \r\nQ 37.984375 18.0625 35.515625 20.015625 \r\nQ 33.0625 21.96875 24.703125 23.78125 \r\nL 21.578125 24.515625 \r\nQ 13.234375 26.265625 9.515625 29.90625 \r\nQ 5.8125 33.546875 5.8125 39.890625 \r\nQ 5.8125 47.609375 11.28125 51.796875 \r\nQ 16.75 56 26.8125 56 \r\nQ 31.78125 56 36.171875 55.265625 \r\nQ 40.578125 54.546875 44.28125 53.078125 \r\nz\r\n\" id=\"DejaVuSans-115\"/>\r\n        <path d=\"M 56.203125 29.59375 \r\nL 56.203125 25.203125 \r\nL 14.890625 25.203125 \r\nQ 15.484375 15.921875 20.484375 11.0625 \r\nQ 25.484375 6.203125 34.421875 6.203125 \r\nQ 39.59375 6.203125 44.453125 7.46875 \r\nQ 49.3125 8.734375 54.109375 11.28125 \r\nL 54.109375 2.78125 \r\nQ 49.265625 0.734375 44.1875 -0.34375 \r\nQ 39.109375 -1.421875 33.890625 -1.421875 \r\nQ 20.796875 -1.421875 13.15625 6.1875 \r\nQ 5.515625 13.8125 5.515625 26.8125 \r\nQ 5.515625 40.234375 12.765625 48.109375 \r\nQ 20.015625 56 32.328125 56 \r\nQ 43.359375 56 49.78125 48.890625 \r\nQ 56.203125 41.796875 56.203125 29.59375 \r\nz\r\nM 47.21875 32.234375 \r\nQ 47.125 39.59375 43.09375 43.984375 \r\nQ 39.0625 48.390625 32.421875 48.390625 \r\nQ 24.90625 48.390625 20.390625 44.140625 \r\nQ 15.875 39.890625 15.1875 32.171875 \r\nz\r\n\" id=\"DejaVuSans-101\"/>\r\n       </defs>\r\n       <use xlink:href=\"#DejaVuSans-71\"/>\r\n       <use x=\"77.490234\" xlink:href=\"#DejaVuSans-73\"/>\r\n       <use x=\"106.982422\" xlink:href=\"#DejaVuSans-77\"/>\r\n       <use x=\"193.261719\" xlink:href=\"#DejaVuSans-32\"/>\r\n       <use x=\"225.048828\" xlink:href=\"#DejaVuSans-77\"/>\r\n       <use x=\"311.328125\" xlink:href=\"#DejaVuSans-66\"/>\r\n       <use x=\"379.931641\" xlink:href=\"#DejaVuSans-56\"/>\r\n       <use x=\"443.554688\" xlink:href=\"#DejaVuSans-32\"/>\r\n       <use x=\"475.341797\" xlink:href=\"#DejaVuSans-65\"/>\r\n       <use x=\"536\" xlink:href=\"#DejaVuSans-84\"/>\r\n       <use x=\"597.083984\" xlink:href=\"#DejaVuSans-88\"/>\r\n       <use x=\"665.589844\" xlink:href=\"#DejaVuSans-32\"/>\r\n       <use x=\"697.376953\" xlink:href=\"#DejaVuSans-67\"/>\r\n       <use x=\"767.201172\" xlink:href=\"#DejaVuSans-97\"/>\r\n       <use x=\"828.480469\" xlink:href=\"#DejaVuSans-115\"/>\r\n       <use x=\"880.580078\" xlink:href=\"#DejaVuSans-101\"/>\r\n      </g>\r\n     </g>\r\n    </g>\r\n    <g id=\"ytick_2\">\r\n     <g id=\"line2d_11\">\r\n      <g>\r\n       <use style=\"stroke:#000000;stroke-width:0.8;\" x=\"135.798438\" xlink:href=\"#me8cfd79cd8\" y=\"380.95293\"/>\r\n      </g>\r\n     </g>\r\n     <g id=\"text_12\">\r\n      <!-- Noctua NF-P12 -->\r\n      <g transform=\"translate(54.540625 384.752149)scale(0.1 -0.1)\">\r\n       <defs>\r\n        <path d=\"M 9.8125 72.90625 \r\nL 23.09375 72.90625 \r\nL 55.421875 11.921875 \r\nL 55.421875 72.90625 \r\nL 64.984375 72.90625 \r\nL 64.984375 0 \r\nL 51.703125 0 \r\nL 19.390625 60.984375 \r\nL 19.390625 0 \r\nL 9.8125 0 \r\nz\r\n\" id=\"DejaVuSans-78\"/>\r\n        <path d=\"M 48.78125 52.59375 \r\nL 48.78125 44.1875 \r\nQ 44.96875 46.296875 41.140625 47.34375 \r\nQ 37.3125 48.390625 33.40625 48.390625 \r\nQ 24.65625 48.390625 19.8125 42.84375 \r\nQ 14.984375 37.3125 14.984375 27.296875 \r\nQ 14.984375 17.28125 19.8125 11.734375 \r\nQ 24.65625 6.203125 33.40625 6.203125 \r\nQ 37.3125 6.203125 41.140625 7.25 \r\nQ 44.96875 8.296875 48.78125 10.40625 \r\nL 48.78125 2.09375 \r\nQ 45.015625 0.34375 40.984375 -0.53125 \r\nQ 36.96875 -1.421875 32.421875 -1.421875 \r\nQ 20.0625 -1.421875 12.78125 6.34375 \r\nQ 5.515625 14.109375 5.515625 27.296875 \r\nQ 5.515625 40.671875 12.859375 48.328125 \r\nQ 20.21875 56 33.015625 56 \r\nQ 37.15625 56 41.109375 55.140625 \r\nQ 45.0625 54.296875 48.78125 52.59375 \r\nz\r\n\" id=\"DejaVuSans-99\"/>\r\n        <path d=\"M 9.8125 72.90625 \r\nL 51.703125 72.90625 \r\nL 51.703125 64.59375 \r\nL 19.671875 64.59375 \r\nL 19.671875 43.109375 \r\nL 48.578125 43.109375 \r\nL 48.578125 34.8125 \r\nL 19.671875 34.8125 \r\nL 19.671875 0 \r\nL 9.8125 0 \r\nz\r\n\" id=\"DejaVuSans-70\"/>\r\n        <path d=\"M 4.890625 31.390625 \r\nL 31.203125 31.390625 \r\nL 31.203125 23.390625 \r\nL 4.890625 23.390625 \r\nz\r\n\" id=\"DejaVuSans-45\"/>\r\n        <path d=\"M 19.671875 64.796875 \r\nL 19.671875 37.40625 \r\nL 32.078125 37.40625 \r\nQ 38.96875 37.40625 42.71875 40.96875 \r\nQ 46.484375 44.53125 46.484375 51.125 \r\nQ 46.484375 57.671875 42.71875 61.234375 \r\nQ 38.96875 64.796875 32.078125 64.796875 \r\nz\r\nM 9.8125 72.90625 \r\nL 32.078125 72.90625 \r\nQ 44.34375 72.90625 50.609375 67.359375 \r\nQ 56.890625 61.8125 56.890625 51.125 \r\nQ 56.890625 40.328125 50.609375 34.8125 \r\nQ 44.34375 29.296875 32.078125 29.296875 \r\nL 19.671875 29.296875 \r\nL 19.671875 0 \r\nL 9.8125 0 \r\nz\r\n\" id=\"DejaVuSans-80\"/>\r\n       </defs>\r\n       <use xlink:href=\"#DejaVuSans-78\"/>\r\n       <use x=\"74.804688\" xlink:href=\"#DejaVuSans-111\"/>\r\n       <use x=\"135.986328\" xlink:href=\"#DejaVuSans-99\"/>\r\n       <use x=\"190.966797\" xlink:href=\"#DejaVuSans-116\"/>\r\n       <use x=\"230.175781\" xlink:href=\"#DejaVuSans-117\"/>\r\n       <use x=\"293.554688\" xlink:href=\"#DejaVuSans-97\"/>\r\n       <use x=\"354.833984\" xlink:href=\"#DejaVuSans-32\"/>\r\n       <use x=\"386.621094\" xlink:href=\"#DejaVuSans-78\"/>\r\n       <use x=\"461.425781\" xlink:href=\"#DejaVuSans-70\"/>\r\n       <use x=\"518.945312\" xlink:href=\"#DejaVuSans-45\"/>\r\n       <use x=\"555.029297\" xlink:href=\"#DejaVuSans-80\"/>\r\n       <use x=\"615.332031\" xlink:href=\"#DejaVuSans-49\"/>\r\n       <use x=\"678.955078\" xlink:href=\"#DejaVuSans-50\"/>\r\n      </g>\r\n     </g>\r\n    </g>\r\n    <g id=\"ytick_3\">\r\n     <g id=\"line2d_12\">\r\n      <g>\r\n       <use style=\"stroke:#000000;stroke-width:0.8;\" x=\"135.798438\" xlink:href=\"#me8cfd79cd8\" y=\"340.611557\"/>\r\n      </g>\r\n     </g>\r\n     <g id=\"text_13\">\r\n      <!-- Omnihil 8 Feet -->\r\n      <g transform=\"translate(56.029688 344.410776)scale(0.1 -0.1)\">\r\n       <defs>\r\n        <path d=\"M 39.40625 66.21875 \r\nQ 28.65625 66.21875 22.328125 58.203125 \r\nQ 16.015625 50.203125 16.015625 36.375 \r\nQ 16.015625 22.609375 22.328125 14.59375 \r\nQ 28.65625 6.59375 39.40625 6.59375 \r\nQ 50.140625 6.59375 56.421875 14.59375 \r\nQ 62.703125 22.609375 62.703125 36.375 \r\nQ 62.703125 50.203125 56.421875 58.203125 \r\nQ 50.140625 66.21875 39.40625 66.21875 \r\nz\r\nM 39.40625 74.21875 \r\nQ 54.734375 74.21875 63.90625 63.9375 \r\nQ 73.09375 53.65625 73.09375 36.375 \r\nQ 73.09375 19.140625 63.90625 8.859375 \r\nQ 54.734375 -1.421875 39.40625 -1.421875 \r\nQ 24.03125 -1.421875 14.8125 8.828125 \r\nQ 5.609375 19.09375 5.609375 36.375 \r\nQ 5.609375 53.65625 14.8125 63.9375 \r\nQ 24.03125 74.21875 39.40625 74.21875 \r\nz\r\n\" id=\"DejaVuSans-79\"/>\r\n        <path d=\"M 52 44.1875 \r\nQ 55.375 50.25 60.0625 53.125 \r\nQ 64.75 56 71.09375 56 \r\nQ 79.640625 56 84.28125 50.015625 \r\nQ 88.921875 44.046875 88.921875 33.015625 \r\nL 88.921875 0 \r\nL 79.890625 0 \r\nL 79.890625 32.71875 \r\nQ 79.890625 40.578125 77.09375 44.375 \r\nQ 74.3125 48.1875 68.609375 48.1875 \r\nQ 61.625 48.1875 57.5625 43.546875 \r\nQ 53.515625 38.921875 53.515625 30.90625 \r\nL 53.515625 0 \r\nL 44.484375 0 \r\nL 44.484375 32.71875 \r\nQ 44.484375 40.625 41.703125 44.40625 \r\nQ 38.921875 48.1875 33.109375 48.1875 \r\nQ 26.21875 48.1875 22.15625 43.53125 \r\nQ 18.109375 38.875 18.109375 30.90625 \r\nL 18.109375 0 \r\nL 9.078125 0 \r\nL 9.078125 54.6875 \r\nL 18.109375 54.6875 \r\nL 18.109375 46.1875 \r\nQ 21.1875 51.21875 25.484375 53.609375 \r\nQ 29.78125 56 35.6875 56 \r\nQ 41.65625 56 45.828125 52.96875 \r\nQ 50 49.953125 52 44.1875 \r\nz\r\n\" id=\"DejaVuSans-109\"/>\r\n        <path d=\"M 9.421875 54.6875 \r\nL 18.40625 54.6875 \r\nL 18.40625 0 \r\nL 9.421875 0 \r\nz\r\nM 9.421875 75.984375 \r\nL 18.40625 75.984375 \r\nL 18.40625 64.59375 \r\nL 9.421875 64.59375 \r\nz\r\n\" id=\"DejaVuSans-105\"/>\r\n        <path d=\"M 54.890625 33.015625 \r\nL 54.890625 0 \r\nL 45.90625 0 \r\nL 45.90625 32.71875 \r\nQ 45.90625 40.484375 42.875 44.328125 \r\nQ 39.84375 48.1875 33.796875 48.1875 \r\nQ 26.515625 48.1875 22.3125 43.546875 \r\nQ 18.109375 38.921875 18.109375 30.90625 \r\nL 18.109375 0 \r\nL 9.078125 0 \r\nL 9.078125 75.984375 \r\nL 18.109375 75.984375 \r\nL 18.109375 46.1875 \r\nQ 21.34375 51.125 25.703125 53.5625 \r\nQ 30.078125 56 35.796875 56 \r\nQ 45.21875 56 50.046875 50.171875 \r\nQ 54.890625 44.34375 54.890625 33.015625 \r\nz\r\n\" id=\"DejaVuSans-104\"/>\r\n        <path d=\"M 9.421875 75.984375 \r\nL 18.40625 75.984375 \r\nL 18.40625 0 \r\nL 9.421875 0 \r\nz\r\n\" id=\"DejaVuSans-108\"/>\r\n       </defs>\r\n       <use xlink:href=\"#DejaVuSans-79\"/>\r\n       <use x=\"78.710938\" xlink:href=\"#DejaVuSans-109\"/>\r\n       <use x=\"176.123047\" xlink:href=\"#DejaVuSans-110\"/>\r\n       <use x=\"239.501953\" xlink:href=\"#DejaVuSans-105\"/>\r\n       <use x=\"267.285156\" xlink:href=\"#DejaVuSans-104\"/>\r\n       <use x=\"330.664062\" xlink:href=\"#DejaVuSans-105\"/>\r\n       <use x=\"358.447266\" xlink:href=\"#DejaVuSans-108\"/>\r\n       <use x=\"386.230469\" xlink:href=\"#DejaVuSans-32\"/>\r\n       <use x=\"418.017578\" xlink:href=\"#DejaVuSans-56\"/>\r\n       <use x=\"481.640625\" xlink:href=\"#DejaVuSans-32\"/>\r\n       <use x=\"513.427734\" xlink:href=\"#DejaVuSans-70\"/>\r\n       <use x=\"565.447266\" xlink:href=\"#DejaVuSans-101\"/>\r\n       <use x=\"626.970703\" xlink:href=\"#DejaVuSans-101\"/>\r\n       <use x=\"688.494141\" xlink:href=\"#DejaVuSans-116\"/>\r\n      </g>\r\n     </g>\r\n    </g>\r\n    <g id=\"ytick_4\">\r\n     <g id=\"line2d_13\">\r\n      <g>\r\n       <use style=\"stroke:#000000;stroke-width:0.8;\" x=\"135.798438\" xlink:href=\"#me8cfd79cd8\" y=\"300.270184\"/>\r\n      </g>\r\n     </g>\r\n     <g id=\"text_14\">\r\n      <!-- Industrial Rugged -->\r\n      <g transform=\"translate(40.6875 304.069403)scale(0.1 -0.1)\">\r\n       <defs>\r\n        <path d=\"M 45.40625 46.390625 \r\nL 45.40625 75.984375 \r\nL 54.390625 75.984375 \r\nL 54.390625 0 \r\nL 45.40625 0 \r\nL 45.40625 8.203125 \r\nQ 42.578125 3.328125 38.25 0.953125 \r\nQ 33.9375 -1.421875 27.875 -1.421875 \r\nQ 17.96875 -1.421875 11.734375 6.484375 \r\nQ 5.515625 14.40625 5.515625 27.296875 \r\nQ 5.515625 40.1875 11.734375 48.09375 \r\nQ 17.96875 56 27.875 56 \r\nQ 33.9375 56 38.25 53.625 \r\nQ 42.578125 51.265625 45.40625 46.390625 \r\nz\r\nM 14.796875 27.296875 \r\nQ 14.796875 17.390625 18.875 11.75 \r\nQ 22.953125 6.109375 30.078125 6.109375 \r\nQ 37.203125 6.109375 41.296875 11.75 \r\nQ 45.40625 17.390625 45.40625 27.296875 \r\nQ 45.40625 37.203125 41.296875 42.84375 \r\nQ 37.203125 48.484375 30.078125 48.484375 \r\nQ 22.953125 48.484375 18.875 42.84375 \r\nQ 14.796875 37.203125 14.796875 27.296875 \r\nz\r\n\" id=\"DejaVuSans-100\"/>\r\n        <path d=\"M 41.109375 46.296875 \r\nQ 39.59375 47.171875 37.8125 47.578125 \r\nQ 36.03125 48 33.890625 48 \r\nQ 26.265625 48 22.1875 43.046875 \r\nQ 18.109375 38.09375 18.109375 28.8125 \r\nL 18.109375 0 \r\nL 9.078125 0 \r\nL 9.078125 54.6875 \r\nL 18.109375 54.6875 \r\nL 18.109375 46.1875 \r\nQ 20.953125 51.171875 25.484375 53.578125 \r\nQ 30.03125 56 36.53125 56 \r\nQ 37.453125 56 38.578125 55.875 \r\nQ 39.703125 55.765625 41.0625 55.515625 \r\nz\r\n\" id=\"DejaVuSans-114\"/>\r\n        <path d=\"M 44.390625 34.1875 \r\nQ 47.5625 33.109375 50.5625 29.59375 \r\nQ 53.5625 26.078125 56.59375 19.921875 \r\nL 66.609375 0 \r\nL 56 0 \r\nL 46.6875 18.703125 \r\nQ 43.0625 26.03125 39.671875 28.421875 \r\nQ 36.28125 30.8125 30.421875 30.8125 \r\nL 19.671875 30.8125 \r\nL 19.671875 0 \r\nL 9.8125 0 \r\nL 9.8125 72.90625 \r\nL 32.078125 72.90625 \r\nQ 44.578125 72.90625 50.734375 67.671875 \r\nQ 56.890625 62.453125 56.890625 51.90625 \r\nQ 56.890625 45.015625 53.6875 40.46875 \r\nQ 50.484375 35.9375 44.390625 34.1875 \r\nz\r\nM 19.671875 64.796875 \r\nL 19.671875 38.921875 \r\nL 32.078125 38.921875 \r\nQ 39.203125 38.921875 42.84375 42.21875 \r\nQ 46.484375 45.515625 46.484375 51.90625 \r\nQ 46.484375 58.296875 42.84375 61.546875 \r\nQ 39.203125 64.796875 32.078125 64.796875 \r\nz\r\n\" id=\"DejaVuSans-82\"/>\r\n        <path d=\"M 45.40625 27.984375 \r\nQ 45.40625 37.75 41.375 43.109375 \r\nQ 37.359375 48.484375 30.078125 48.484375 \r\nQ 22.859375 48.484375 18.828125 43.109375 \r\nQ 14.796875 37.75 14.796875 27.984375 \r\nQ 14.796875 18.265625 18.828125 12.890625 \r\nQ 22.859375 7.515625 30.078125 7.515625 \r\nQ 37.359375 7.515625 41.375 12.890625 \r\nQ 45.40625 18.265625 45.40625 27.984375 \r\nz\r\nM 54.390625 6.78125 \r\nQ 54.390625 -7.171875 48.1875 -13.984375 \r\nQ 42 -20.796875 29.203125 -20.796875 \r\nQ 24.46875 -20.796875 20.265625 -20.09375 \r\nQ 16.0625 -19.390625 12.109375 -17.921875 \r\nL 12.109375 -9.1875 \r\nQ 16.0625 -11.328125 19.921875 -12.34375 \r\nQ 23.78125 -13.375 27.78125 -13.375 \r\nQ 36.625 -13.375 41.015625 -8.765625 \r\nQ 45.40625 -4.15625 45.40625 5.171875 \r\nL 45.40625 9.625 \r\nQ 42.625 4.78125 38.28125 2.390625 \r\nQ 33.9375 0 27.875 0 \r\nQ 17.828125 0 11.671875 7.65625 \r\nQ 5.515625 15.328125 5.515625 27.984375 \r\nQ 5.515625 40.671875 11.671875 48.328125 \r\nQ 17.828125 56 27.875 56 \r\nQ 33.9375 56 38.28125 53.609375 \r\nQ 42.625 51.21875 45.40625 46.390625 \r\nL 45.40625 54.6875 \r\nL 54.390625 54.6875 \r\nz\r\n\" id=\"DejaVuSans-103\"/>\r\n       </defs>\r\n       <use xlink:href=\"#DejaVuSans-73\"/>\r\n       <use x=\"29.492188\" xlink:href=\"#DejaVuSans-110\"/>\r\n       <use x=\"92.871094\" xlink:href=\"#DejaVuSans-100\"/>\r\n       <use x=\"156.347656\" xlink:href=\"#DejaVuSans-117\"/>\r\n       <use x=\"219.726562\" xlink:href=\"#DejaVuSans-115\"/>\r\n       <use x=\"271.826172\" xlink:href=\"#DejaVuSans-116\"/>\r\n       <use x=\"311.035156\" xlink:href=\"#DejaVuSans-114\"/>\r\n       <use x=\"352.148438\" xlink:href=\"#DejaVuSans-105\"/>\r\n       <use x=\"379.931641\" xlink:href=\"#DejaVuSans-97\"/>\r\n       <use x=\"441.210938\" xlink:href=\"#DejaVuSans-108\"/>\r\n       <use x=\"468.994141\" xlink:href=\"#DejaVuSans-32\"/>\r\n       <use x=\"500.78125\" xlink:href=\"#DejaVuSans-82\"/>\r\n       <use x=\"565.763672\" xlink:href=\"#DejaVuSans-117\"/>\r\n       <use x=\"629.142578\" xlink:href=\"#DejaVuSans-103\"/>\r\n       <use x=\"692.619141\" xlink:href=\"#DejaVuSans-103\"/>\r\n       <use x=\"756.095703\" xlink:href=\"#DejaVuSans-101\"/>\r\n       <use x=\"817.619141\" xlink:href=\"#DejaVuSans-100\"/>\r\n      </g>\r\n     </g>\r\n    </g>\r\n    <g id=\"ytick_5\">\r\n     <g id=\"line2d_14\">\r\n      <g>\r\n       <use style=\"stroke:#000000;stroke-width:0.8;\" x=\"135.798438\" xlink:href=\"#me8cfd79cd8\" y=\"259.928811\"/>\r\n      </g>\r\n     </g>\r\n     <g id=\"text_15\">\r\n      <!-- Cooler Master -->\r\n      <g transform=\"translate(59.207813 263.72803)scale(0.1 -0.1)\">\r\n       <use xlink:href=\"#DejaVuSans-67\"/>\r\n       <use x=\"69.824219\" xlink:href=\"#DejaVuSans-111\"/>\r\n       <use x=\"131.005859\" xlink:href=\"#DejaVuSans-111\"/>\r\n       <use x=\"192.1875\" xlink:href=\"#DejaVuSans-108\"/>\r\n       <use x=\"219.970703\" xlink:href=\"#DejaVuSans-101\"/>\r\n       <use x=\"281.494141\" xlink:href=\"#DejaVuSans-114\"/>\r\n       <use x=\"322.607422\" xlink:href=\"#DejaVuSans-32\"/>\r\n       <use x=\"354.394531\" xlink:href=\"#DejaVuSans-77\"/>\r\n       <use x=\"440.673828\" xlink:href=\"#DejaVuSans-97\"/>\r\n       <use x=\"501.953125\" xlink:href=\"#DejaVuSans-115\"/>\r\n       <use x=\"554.052734\" xlink:href=\"#DejaVuSans-116\"/>\r\n       <use x=\"593.261719\" xlink:href=\"#DejaVuSans-101\"/>\r\n       <use x=\"654.785156\" xlink:href=\"#DejaVuSans-114\"/>\r\n      </g>\r\n     </g>\r\n    </g>\r\n    <g id=\"ytick_6\">\r\n     <g id=\"line2d_15\">\r\n      <g>\r\n       <use style=\"stroke:#000000;stroke-width:0.8;\" x=\"135.798438\" xlink:href=\"#me8cfd79cd8\" y=\"219.587439\"/>\r\n      </g>\r\n     </g>\r\n     <g id=\"text_16\">\r\n      <!-- Industrial Rugged 2tp -->\r\n      <g transform=\"translate(20.878125 223.386657)scale(0.1 -0.1)\">\r\n       <defs>\r\n        <path d=\"M 18.109375 8.203125 \r\nL 18.109375 -20.796875 \r\nL 9.078125 -20.796875 \r\nL 9.078125 54.6875 \r\nL 18.109375 54.6875 \r\nL 18.109375 46.390625 \r\nQ 20.953125 51.265625 25.265625 53.625 \r\nQ 29.59375 56 35.59375 56 \r\nQ 45.5625 56 51.78125 48.09375 \r\nQ 58.015625 40.1875 58.015625 27.296875 \r\nQ 58.015625 14.40625 51.78125 6.484375 \r\nQ 45.5625 -1.421875 35.59375 -1.421875 \r\nQ 29.59375 -1.421875 25.265625 0.953125 \r\nQ 20.953125 3.328125 18.109375 8.203125 \r\nz\r\nM 48.6875 27.296875 \r\nQ 48.6875 37.203125 44.609375 42.84375 \r\nQ 40.53125 48.484375 33.40625 48.484375 \r\nQ 26.265625 48.484375 22.1875 42.84375 \r\nQ 18.109375 37.203125 18.109375 27.296875 \r\nQ 18.109375 17.390625 22.1875 11.75 \r\nQ 26.265625 6.109375 33.40625 6.109375 \r\nQ 40.53125 6.109375 44.609375 11.75 \r\nQ 48.6875 17.390625 48.6875 27.296875 \r\nz\r\n\" id=\"DejaVuSans-112\"/>\r\n       </defs>\r\n       <use xlink:href=\"#DejaVuSans-73\"/>\r\n       <use x=\"29.492188\" xlink:href=\"#DejaVuSans-110\"/>\r\n       <use x=\"92.871094\" xlink:href=\"#DejaVuSans-100\"/>\r\n       <use x=\"156.347656\" xlink:href=\"#DejaVuSans-117\"/>\r\n       <use x=\"219.726562\" xlink:href=\"#DejaVuSans-115\"/>\r\n       <use x=\"271.826172\" xlink:href=\"#DejaVuSans-116\"/>\r\n       <use x=\"311.035156\" xlink:href=\"#DejaVuSans-114\"/>\r\n       <use x=\"352.148438\" xlink:href=\"#DejaVuSans-105\"/>\r\n       <use x=\"379.931641\" xlink:href=\"#DejaVuSans-97\"/>\r\n       <use x=\"441.210938\" xlink:href=\"#DejaVuSans-108\"/>\r\n       <use x=\"468.994141\" xlink:href=\"#DejaVuSans-32\"/>\r\n       <use x=\"500.78125\" xlink:href=\"#DejaVuSans-82\"/>\r\n       <use x=\"565.763672\" xlink:href=\"#DejaVuSans-117\"/>\r\n       <use x=\"629.142578\" xlink:href=\"#DejaVuSans-103\"/>\r\n       <use x=\"692.619141\" xlink:href=\"#DejaVuSans-103\"/>\r\n       <use x=\"756.095703\" xlink:href=\"#DejaVuSans-101\"/>\r\n       <use x=\"817.619141\" xlink:href=\"#DejaVuSans-100\"/>\r\n       <use x=\"881.095703\" xlink:href=\"#DejaVuSans-32\"/>\r\n       <use x=\"912.882812\" xlink:href=\"#DejaVuSans-50\"/>\r\n       <use x=\"976.505859\" xlink:href=\"#DejaVuSans-116\"/>\r\n       <use x=\"1015.714844\" xlink:href=\"#DejaVuSans-112\"/>\r\n      </g>\r\n     </g>\r\n    </g>\r\n    <g id=\"ytick_7\">\r\n     <g id=\"line2d_16\">\r\n      <g>\r\n       <use style=\"stroke:#000000;stroke-width:0.8;\" x=\"135.798438\" xlink:href=\"#me8cfd79cd8\" y=\"179.246066\"/>\r\n      </g>\r\n     </g>\r\n     <g id=\"text_17\">\r\n      <!-- MSI GeForce GT -->\r\n      <g transform=\"translate(50.075 183.045284)scale(0.1 -0.1)\">\r\n       <defs>\r\n        <path d=\"M 53.515625 70.515625 \r\nL 53.515625 60.890625 \r\nQ 47.90625 63.578125 42.921875 64.890625 \r\nQ 37.9375 66.21875 33.296875 66.21875 \r\nQ 25.25 66.21875 20.875 63.09375 \r\nQ 16.5 59.96875 16.5 54.203125 \r\nQ 16.5 49.359375 19.40625 46.890625 \r\nQ 22.3125 44.4375 30.421875 42.921875 \r\nL 36.375 41.703125 \r\nQ 47.40625 39.59375 52.65625 34.296875 \r\nQ 57.90625 29 57.90625 20.125 \r\nQ 57.90625 9.515625 50.796875 4.046875 \r\nQ 43.703125 -1.421875 29.984375 -1.421875 \r\nQ 24.8125 -1.421875 18.96875 -0.25 \r\nQ 13.140625 0.921875 6.890625 3.21875 \r\nL 6.890625 13.375 \r\nQ 12.890625 10.015625 18.65625 8.296875 \r\nQ 24.421875 6.59375 29.984375 6.59375 \r\nQ 38.421875 6.59375 43.015625 9.90625 \r\nQ 47.609375 13.234375 47.609375 19.390625 \r\nQ 47.609375 24.75 44.3125 27.78125 \r\nQ 41.015625 30.8125 33.5 32.328125 \r\nL 27.484375 33.5 \r\nQ 16.453125 35.6875 11.515625 40.375 \r\nQ 6.59375 45.0625 6.59375 53.421875 \r\nQ 6.59375 63.09375 13.40625 68.65625 \r\nQ 20.21875 74.21875 32.171875 74.21875 \r\nQ 37.3125 74.21875 42.625 73.28125 \r\nQ 47.953125 72.359375 53.515625 70.515625 \r\nz\r\n\" id=\"DejaVuSans-83\"/>\r\n       </defs>\r\n       <use xlink:href=\"#DejaVuSans-77\"/>\r\n       <use x=\"86.279297\" xlink:href=\"#DejaVuSans-83\"/>\r\n       <use x=\"149.755859\" xlink:href=\"#DejaVuSans-73\"/>\r\n       <use x=\"179.248047\" xlink:href=\"#DejaVuSans-32\"/>\r\n       <use x=\"211.035156\" xlink:href=\"#DejaVuSans-71\"/>\r\n       <use x=\"288.525391\" xlink:href=\"#DejaVuSans-101\"/>\r\n       <use x=\"350.048828\" xlink:href=\"#DejaVuSans-70\"/>\r\n       <use x=\"403.943359\" xlink:href=\"#DejaVuSans-111\"/>\r\n       <use x=\"465.125\" xlink:href=\"#DejaVuSans-114\"/>\r\n       <use x=\"503.988281\" xlink:href=\"#DejaVuSans-99\"/>\r\n       <use x=\"558.96875\" xlink:href=\"#DejaVuSans-101\"/>\r\n       <use x=\"620.492188\" xlink:href=\"#DejaVuSans-32\"/>\r\n       <use x=\"652.279297\" xlink:href=\"#DejaVuSans-71\"/>\r\n       <use x=\"726.144531\" xlink:href=\"#DejaVuSans-84\"/>\r\n      </g>\r\n     </g>\r\n    </g>\r\n    <g id=\"ytick_8\">\r\n     <g id=\"line2d_17\">\r\n      <g>\r\n       <use style=\"stroke:#000000;stroke-width:0.8;\" x=\"135.798438\" xlink:href=\"#me8cfd79cd8\" y=\"138.904693\"/>\r\n      </g>\r\n     </g>\r\n     <g id=\"text_18\">\r\n      <!-- Panasonic 4K -->\r\n      <g transform=\"translate(62.584375 142.703911)scale(0.1 -0.1)\">\r\n       <defs>\r\n        <path d=\"M 9.8125 72.90625 \r\nL 19.671875 72.90625 \r\nL 19.671875 42.09375 \r\nL 52.390625 72.90625 \r\nL 65.09375 72.90625 \r\nL 28.90625 38.921875 \r\nL 67.671875 0 \r\nL 54.6875 0 \r\nL 19.671875 35.109375 \r\nL 19.671875 0 \r\nL 9.8125 0 \r\nz\r\n\" id=\"DejaVuSans-75\"/>\r\n       </defs>\r\n       <use xlink:href=\"#DejaVuSans-80\"/>\r\n       <use x=\"55.802734\" xlink:href=\"#DejaVuSans-97\"/>\r\n       <use x=\"117.082031\" xlink:href=\"#DejaVuSans-110\"/>\r\n       <use x=\"180.460938\" xlink:href=\"#DejaVuSans-97\"/>\r\n       <use x=\"241.740234\" xlink:href=\"#DejaVuSans-115\"/>\r\n       <use x=\"293.839844\" xlink:href=\"#DejaVuSans-111\"/>\r\n       <use x=\"355.021484\" xlink:href=\"#DejaVuSans-110\"/>\r\n       <use x=\"418.400391\" xlink:href=\"#DejaVuSans-105\"/>\r\n       <use x=\"446.183594\" xlink:href=\"#DejaVuSans-99\"/>\r\n       <use x=\"501.164062\" xlink:href=\"#DejaVuSans-32\"/>\r\n       <use x=\"532.951172\" xlink:href=\"#DejaVuSans-52\"/>\r\n       <use x=\"596.574219\" xlink:href=\"#DejaVuSans-75\"/>\r\n      </g>\r\n     </g>\r\n    </g>\r\n    <g id=\"ytick_9\">\r\n     <g id=\"line2d_18\">\r\n      <g>\r\n       <use style=\"stroke:#000000;stroke-width:0.8;\" x=\"135.798438\" xlink:href=\"#me8cfd79cd8\" y=\"98.56332\"/>\r\n      </g>\r\n     </g>\r\n     <g id=\"text_19\">\r\n      <!-- D-Link WiFi Router -->\r\n      <g transform=\"translate(37.271875 102.362539)scale(0.1 -0.1)\">\r\n       <defs>\r\n        <path d=\"M 19.671875 64.796875 \r\nL 19.671875 8.109375 \r\nL 31.59375 8.109375 \r\nQ 46.6875 8.109375 53.6875 14.9375 \r\nQ 60.6875 21.78125 60.6875 36.53125 \r\nQ 60.6875 51.171875 53.6875 57.984375 \r\nQ 46.6875 64.796875 31.59375 64.796875 \r\nz\r\nM 9.8125 72.90625 \r\nL 30.078125 72.90625 \r\nQ 51.265625 72.90625 61.171875 64.09375 \r\nQ 71.09375 55.28125 71.09375 36.53125 \r\nQ 71.09375 17.671875 61.125 8.828125 \r\nQ 51.171875 0 30.078125 0 \r\nL 9.8125 0 \r\nz\r\n\" id=\"DejaVuSans-68\"/>\r\n        <path d=\"M 9.8125 72.90625 \r\nL 19.671875 72.90625 \r\nL 19.671875 8.296875 \r\nL 55.171875 8.296875 \r\nL 55.171875 0 \r\nL 9.8125 0 \r\nz\r\n\" id=\"DejaVuSans-76\"/>\r\n        <path d=\"M 9.078125 75.984375 \r\nL 18.109375 75.984375 \r\nL 18.109375 31.109375 \r\nL 44.921875 54.6875 \r\nL 56.390625 54.6875 \r\nL 27.390625 29.109375 \r\nL 57.625 0 \r\nL 45.90625 0 \r\nL 18.109375 26.703125 \r\nL 18.109375 0 \r\nL 9.078125 0 \r\nz\r\n\" id=\"DejaVuSans-107\"/>\r\n        <path d=\"M 3.328125 72.90625 \r\nL 13.28125 72.90625 \r\nL 28.609375 11.28125 \r\nL 43.890625 72.90625 \r\nL 54.984375 72.90625 \r\nL 70.3125 11.28125 \r\nL 85.59375 72.90625 \r\nL 95.609375 72.90625 \r\nL 77.296875 0 \r\nL 64.890625 0 \r\nL 49.515625 63.28125 \r\nL 33.984375 0 \r\nL 21.578125 0 \r\nz\r\n\" id=\"DejaVuSans-87\"/>\r\n       </defs>\r\n       <use xlink:href=\"#DejaVuSans-68\"/>\r\n       <use x=\"77.001953\" xlink:href=\"#DejaVuSans-45\"/>\r\n       <use x=\"113.085938\" xlink:href=\"#DejaVuSans-76\"/>\r\n       <use x=\"168.798828\" xlink:href=\"#DejaVuSans-105\"/>\r\n       <use x=\"196.582031\" xlink:href=\"#DejaVuSans-110\"/>\r\n       <use x=\"259.960938\" xlink:href=\"#DejaVuSans-107\"/>\r\n       <use x=\"317.871094\" xlink:href=\"#DejaVuSans-32\"/>\r\n       <use x=\"349.658203\" xlink:href=\"#DejaVuSans-87\"/>\r\n       <use x=\"446.285156\" xlink:href=\"#DejaVuSans-105\"/>\r\n       <use x=\"474.068359\" xlink:href=\"#DejaVuSans-70\"/>\r\n       <use x=\"524.337891\" xlink:href=\"#DejaVuSans-105\"/>\r\n       <use x=\"552.121094\" xlink:href=\"#DejaVuSans-32\"/>\r\n       <use x=\"583.908203\" xlink:href=\"#DejaVuSans-82\"/>\r\n       <use x=\"648.890625\" xlink:href=\"#DejaVuSans-111\"/>\r\n       <use x=\"710.072266\" xlink:href=\"#DejaVuSans-117\"/>\r\n       <use x=\"773.451172\" xlink:href=\"#DejaVuSans-116\"/>\r\n       <use x=\"812.660156\" xlink:href=\"#DejaVuSans-101\"/>\r\n       <use x=\"874.183594\" xlink:href=\"#DejaVuSans-114\"/>\r\n      </g>\r\n     </g>\r\n    </g>\r\n    <g id=\"ytick_10\">\r\n     <g id=\"line2d_19\">\r\n      <g>\r\n       <use style=\"stroke:#000000;stroke-width:0.8;\" x=\"135.798438\" xlink:href=\"#me8cfd79cd8\" y=\"58.221947\"/>\r\n      </g>\r\n     </g>\r\n     <g id=\"text_20\">\r\n      <!-- Amazon Basics -->\r\n      <g transform=\"translate(53.521875 62.021166)scale(0.1 -0.1)\">\r\n       <defs>\r\n        <path d=\"M 5.515625 54.6875 \r\nL 48.1875 54.6875 \r\nL 48.1875 46.484375 \r\nL 14.40625 7.171875 \r\nL 48.1875 7.171875 \r\nL 48.1875 0 \r\nL 4.296875 0 \r\nL 4.296875 8.203125 \r\nL 38.09375 47.515625 \r\nL 5.515625 47.515625 \r\nz\r\n\" id=\"DejaVuSans-122\"/>\r\n       </defs>\r\n       <use xlink:href=\"#DejaVuSans-65\"/>\r\n       <use x=\"68.408203\" xlink:href=\"#DejaVuSans-109\"/>\r\n       <use x=\"165.820312\" xlink:href=\"#DejaVuSans-97\"/>\r\n       <use x=\"227.099609\" xlink:href=\"#DejaVuSans-122\"/>\r\n       <use x=\"279.589844\" xlink:href=\"#DejaVuSans-111\"/>\r\n       <use x=\"340.771484\" xlink:href=\"#DejaVuSans-110\"/>\r\n       <use x=\"404.150391\" xlink:href=\"#DejaVuSans-32\"/>\r\n       <use x=\"435.9375\" xlink:href=\"#DejaVuSans-66\"/>\r\n       <use x=\"504.541016\" xlink:href=\"#DejaVuSans-97\"/>\r\n       <use x=\"565.820312\" xlink:href=\"#DejaVuSans-115\"/>\r\n       <use x=\"617.919922\" xlink:href=\"#DejaVuSans-105\"/>\r\n       <use x=\"645.703125\" xlink:href=\"#DejaVuSans-99\"/>\r\n       <use x=\"700.683594\" xlink:href=\"#DejaVuSans-115\"/>\r\n      </g>\r\n     </g>\r\n    </g>\r\n    <g id=\"text_21\">\r\n     <!-- Product Name -->\r\n     <g transform=\"translate(14.798437 275.080781)rotate(-90)scale(0.1 -0.1)\">\r\n      <use xlink:href=\"#DejaVuSans-80\"/>\r\n      <use x=\"58.552734\" xlink:href=\"#DejaVuSans-114\"/>\r\n      <use x=\"97.416016\" xlink:href=\"#DejaVuSans-111\"/>\r\n      <use x=\"158.597656\" xlink:href=\"#DejaVuSans-100\"/>\r\n      <use x=\"222.074219\" xlink:href=\"#DejaVuSans-117\"/>\r\n      <use x=\"285.453125\" xlink:href=\"#DejaVuSans-99\"/>\r\n      <use x=\"340.433594\" xlink:href=\"#DejaVuSans-116\"/>\r\n      <use x=\"379.642578\" xlink:href=\"#DejaVuSans-32\"/>\r\n      <use x=\"411.429688\" xlink:href=\"#DejaVuSans-78\"/>\r\n      <use x=\"486.234375\" xlink:href=\"#DejaVuSans-97\"/>\r\n      <use x=\"547.513672\" xlink:href=\"#DejaVuSans-109\"/>\r\n      <use x=\"644.925781\" xlink:href=\"#DejaVuSans-101\"/>\r\n     </g>\r\n    </g>\r\n   </g>\r\n   <g id=\"patch_13\">\r\n    <path d=\"M 135.798438 457.198125 \r\nL 135.798438 22.318125 \r\n\" style=\"fill:none;stroke:#000000;stroke-linecap:square;stroke-linejoin:miter;stroke-width:0.8;\"/>\r\n   </g>\r\n   <g id=\"patch_14\">\r\n    <path d=\"M 972.798437 457.198125 \r\nL 972.798437 22.318125 \r\n\" style=\"fill:none;stroke:#000000;stroke-linecap:square;stroke-linejoin:miter;stroke-width:0.8;\"/>\r\n   </g>\r\n   <g id=\"patch_15\">\r\n    <path d=\"M 135.798438 457.198125 \r\nL 972.798437 457.198125 \r\n\" style=\"fill:none;stroke:#000000;stroke-linecap:square;stroke-linejoin:miter;stroke-width:0.8;\"/>\r\n   </g>\r\n   <g id=\"patch_16\">\r\n    <path d=\"M 135.798438 22.318125 \r\nL 972.798437 22.318125 \r\n\" style=\"fill:none;stroke:#000000;stroke-linecap:square;stroke-linejoin:miter;stroke-width:0.8;\"/>\r\n   </g>\r\n   <g id=\"text_22\">\r\n    <!-- 389 -->\r\n    <g transform=\"translate(932.941295 421.294303)scale(0.1 -0.1)\">\r\n     <defs>\r\n      <path d=\"M 10.984375 1.515625 \r\nL 10.984375 10.5 \r\nQ 14.703125 8.734375 18.5 7.8125 \r\nQ 22.3125 6.890625 25.984375 6.890625 \r\nQ 35.75 6.890625 40.890625 13.453125 \r\nQ 46.046875 20.015625 46.78125 33.40625 \r\nQ 43.953125 29.203125 39.59375 26.953125 \r\nQ 35.25 24.703125 29.984375 24.703125 \r\nQ 19.046875 24.703125 12.671875 31.3125 \r\nQ 6.296875 37.9375 6.296875 49.421875 \r\nQ 6.296875 60.640625 12.9375 67.421875 \r\nQ 19.578125 74.21875 30.609375 74.21875 \r\nQ 43.265625 74.21875 49.921875 64.515625 \r\nQ 56.59375 54.828125 56.59375 36.375 \r\nQ 56.59375 19.140625 48.40625 8.859375 \r\nQ 40.234375 -1.421875 26.421875 -1.421875 \r\nQ 22.703125 -1.421875 18.890625 -0.6875 \r\nQ 15.09375 0.046875 10.984375 1.515625 \r\nz\r\nM 30.609375 32.421875 \r\nQ 37.25 32.421875 41.125 36.953125 \r\nQ 45.015625 41.5 45.015625 49.421875 \r\nQ 45.015625 57.28125 41.125 61.84375 \r\nQ 37.25 66.40625 30.609375 66.40625 \r\nQ 23.96875 66.40625 20.09375 61.84375 \r\nQ 16.21875 57.28125 16.21875 49.421875 \r\nQ 16.21875 41.5 20.09375 36.953125 \r\nQ 23.96875 32.421875 30.609375 32.421875 \r\nz\r\n\" id=\"DejaVuSans-57\"/>\r\n     </defs>\r\n     <use xlink:href=\"#DejaVuSans-51\"/>\r\n     <use x=\"63.623047\" xlink:href=\"#DejaVuSans-56\"/>\r\n     <use x=\"127.246094\" xlink:href=\"#DejaVuSans-57\"/>\r\n    </g>\r\n   </g>\r\n   <g id=\"text_23\">\r\n    <!-- 227 -->\r\n    <g transform=\"translate(600.969205 380.95293)scale(0.1 -0.1)\">\r\n     <defs>\r\n      <path d=\"M 8.203125 72.90625 \r\nL 55.078125 72.90625 \r\nL 55.078125 68.703125 \r\nL 28.609375 0 \r\nL 18.3125 0 \r\nL 43.21875 64.59375 \r\nL 8.203125 64.59375 \r\nz\r\n\" id=\"DejaVuSans-55\"/>\r\n     </defs>\r\n     <use xlink:href=\"#DejaVuSans-50\"/>\r\n     <use x=\"63.623047\" xlink:href=\"#DejaVuSans-50\"/>\r\n     <use x=\"127.246094\" xlink:href=\"#DejaVuSans-55\"/>\r\n    </g>\r\n   </g>\r\n   <g id=\"text_24\">\r\n    <!-- 214 -->\r\n    <g transform=\"translate(574.329469 340.611557)scale(0.1 -0.1)\">\r\n     <use xlink:href=\"#DejaVuSans-50\"/>\r\n     <use x=\"63.623047\" xlink:href=\"#DejaVuSans-49\"/>\r\n     <use x=\"127.246094\" xlink:href=\"#DejaVuSans-52\"/>\r\n    </g>\r\n   </g>\r\n   <g id=\"text_25\">\r\n    <!-- 115 -->\r\n    <g transform=\"translate(371.457637 300.270184)scale(0.1 -0.1)\">\r\n     <use xlink:href=\"#DejaVuSans-49\"/>\r\n     <use x=\"63.623047\" xlink:href=\"#DejaVuSans-49\"/>\r\n     <use x=\"127.246094\" xlink:href=\"#DejaVuSans-53\"/>\r\n    </g>\r\n   </g>\r\n   <g id=\"text_26\">\r\n    <!-- 83 -->\r\n    <g transform=\"translate(305.882903 259.928811)scale(0.1 -0.1)\">\r\n     <use xlink:href=\"#DejaVuSans-56\"/>\r\n     <use x=\"63.623047\" xlink:href=\"#DejaVuSans-51\"/>\r\n    </g>\r\n   </g>\r\n   <g id=\"text_27\">\r\n    <!-- 77 -->\r\n    <g transform=\"translate(293.587641 219.587439)scale(0.1 -0.1)\">\r\n     <use xlink:href=\"#DejaVuSans-55\"/>\r\n     <use x=\"63.623047\" xlink:href=\"#DejaVuSans-55\"/>\r\n    </g>\r\n   </g>\r\n   <g id=\"text_28\">\r\n    <!-- 5 -->\r\n    <g transform=\"translate(146.04449 179.246066)scale(0.1 -0.1)\">\r\n     <use xlink:href=\"#DejaVuSans-53\"/>\r\n    </g>\r\n   </g>\r\n   <g id=\"text_29\">\r\n    <!-- 4 -->\r\n    <g transform=\"translate(143.995279 138.904693)scale(0.1 -0.1)\">\r\n     <use xlink:href=\"#DejaVuSans-52\"/>\r\n    </g>\r\n   </g>\r\n   <g id=\"text_30\">\r\n    <!-- 4 -->\r\n    <g transform=\"translate(143.995279 98.56332)scale(0.1 -0.1)\">\r\n     <use xlink:href=\"#DejaVuSans-52\"/>\r\n    </g>\r\n   </g>\r\n   <g id=\"text_31\">\r\n    <!-- 4 -->\r\n    <g transform=\"translate(143.995279 58.221947)scale(0.1 -0.1)\">\r\n     <use xlink:href=\"#DejaVuSans-52\"/>\r\n    </g>\r\n   </g>\r\n   <g id=\"text_32\">\r\n    <!-- Top 10 Sponsored Processors -->\r\n    <g transform=\"translate(467.075312 16.318125)scale(0.12 -0.12)\">\r\n     <use xlink:href=\"#DejaVuSans-84\"/>\r\n     <use x=\"44.083984\" xlink:href=\"#DejaVuSans-111\"/>\r\n     <use x=\"105.265625\" xlink:href=\"#DejaVuSans-112\"/>\r\n     <use x=\"168.742188\" xlink:href=\"#DejaVuSans-32\"/>\r\n     <use x=\"200.529297\" xlink:href=\"#DejaVuSans-49\"/>\r\n     <use x=\"264.152344\" xlink:href=\"#DejaVuSans-48\"/>\r\n     <use x=\"327.775391\" xlink:href=\"#DejaVuSans-32\"/>\r\n     <use x=\"359.5625\" xlink:href=\"#DejaVuSans-83\"/>\r\n     <use x=\"423.039062\" xlink:href=\"#DejaVuSans-112\"/>\r\n     <use x=\"486.515625\" xlink:href=\"#DejaVuSans-111\"/>\r\n     <use x=\"547.697266\" xlink:href=\"#DejaVuSans-110\"/>\r\n     <use x=\"611.076172\" xlink:href=\"#DejaVuSans-115\"/>\r\n     <use x=\"663.175781\" xlink:href=\"#DejaVuSans-111\"/>\r\n     <use x=\"724.357422\" xlink:href=\"#DejaVuSans-114\"/>\r\n     <use x=\"763.220703\" xlink:href=\"#DejaVuSans-101\"/>\r\n     <use x=\"824.744141\" xlink:href=\"#DejaVuSans-100\"/>\r\n     <use x=\"888.220703\" xlink:href=\"#DejaVuSans-32\"/>\r\n     <use x=\"920.007812\" xlink:href=\"#DejaVuSans-80\"/>\r\n     <use x=\"978.560547\" xlink:href=\"#DejaVuSans-114\"/>\r\n     <use x=\"1017.423828\" xlink:href=\"#DejaVuSans-111\"/>\r\n     <use x=\"1078.605469\" xlink:href=\"#DejaVuSans-99\"/>\r\n     <use x=\"1133.585938\" xlink:href=\"#DejaVuSans-101\"/>\r\n     <use x=\"1195.109375\" xlink:href=\"#DejaVuSans-115\"/>\r\n     <use x=\"1247.208984\" xlink:href=\"#DejaVuSans-115\"/>\r\n     <use x=\"1299.308594\" xlink:href=\"#DejaVuSans-111\"/>\r\n     <use x=\"1360.490234\" xlink:href=\"#DejaVuSans-114\"/>\r\n     <use x=\"1401.603516\" xlink:href=\"#DejaVuSans-115\"/>\r\n    </g>\r\n   </g>\r\n  </g>\r\n </g>\r\n <defs>\r\n  <clipPath id=\"pd28532a0db\">\r\n   <rect height=\"434.88\" width=\"837\" x=\"135.798438\" y=\"22.318125\"/>\r\n  </clipPath>\r\n </defs>\r\n</svg>\r\n",
      "image/png": "[encoded data removed]"
     },
     "metadata": {
      "needs_background": "light"
     }
    }
   ],
   "source": [
    "# Top 10 Sponsored Processors\n",
    "\n",
    "x=['GIM MB8 ATX Case', 'Noctua NF-P12', 'Omnihil 8 Feet',\n",
    " 'Industrial Rugged',\n",
    " 'Cooler Master',\n",
    " 'Industrial Rugged 2tp',\n",
    " 'MSI GeForce GT',\n",
    " 'Panasonic 4K',\n",
    " 'D-Link WiFi Router',\n",
    " 'Amazon Basics']\n",
    "y=[389, 227, 214, 115, 83, 77, 5, 4, 4, 4]\n",
    "plt.figure(figsize=(15,8))\n",
    "fig= plt.barh(x, y)\n",
    "\n",
    "for index, value in enumerate(y):\n",
    "    plt.text(value, index, str(value))\n",
    "plt.ylabel('Product Name')\n",
    "plt.xlabel('Count')\n",
    "plt.title('Top 10 Sponsored Processors')\n",
    "plt.savefig(\"Top 10 Sponsored Processors.png\", dpi=80)"
   ]
  },
  {
   "cell_type": "code",
   "execution_count": 15,
   "metadata": {},
   "outputs": [],
   "source": [
    "\n"
   ]
  },
  {
   "cell_type": "code",
   "execution_count": 16,
   "metadata": {},
   "outputs": [
    {
     "output_type": "execute_result",
     "data": {
      "text/plain": [
       "[{'info': 'Standing screen display size', 'value': '13.3 Inches'},\n",
       " {'info': 'Max Screen Resolution', 'value': '3000 x 1800 Lines Per Inch'},\n",
       " {'info': 'Processor', 'value': '2.3 GHz celeron_j3455'},\n",
       " {'info': 'RAM', 'value': '8 GB'},\n",
       " {'info': 'Hard Drive', 'value': '128 GB HDD 5400 rpm'},\n",
       " {'info': 'Graphics Coprocessor', 'value': 'Intel Celeron J3455'},\n",
       " {'info': 'Chipset Brand', 'value': 'Intel'},\n",
       " {'info': 'Wireless Type', 'value': 'Bluetooth'}]"
      ]
     },
     "metadata": {},
     "execution_count": 16
    }
   ],
   "source": [
    "\n",
    "## Extracting data from nests\n",
    "\n",
    "# At index 0 column product_tech_spec, a processor looks like this. How to extract the data from such a nest? \n",
    "\n",
    "df_lap.product_tech_spec[0]"
   ]
  },
  {
   "cell_type": "code",
   "execution_count": 17,
   "metadata": {},
   "outputs": [
    {
     "output_type": "execute_result",
     "data": {
      "text/plain": [
       "{'info': 'Standing screen display size', 'value': '13.3 Inches'}"
      ]
     },
     "metadata": {},
     "execution_count": 17
    }
   ],
   "source": [
    "df_lap.product_tech_spec[0][0]"
   ]
  },
  {
   "cell_type": "code",
   "execution_count": 18,
   "metadata": {},
   "outputs": [
    {
     "output_type": "execute_result",
     "data": {
      "text/plain": [
       "'Standing screen display size'"
      ]
     },
     "metadata": {},
     "execution_count": 18
    }
   ],
   "source": [
    "\n",
    "df_lap.product_tech_spec[0][0][\"info\"]"
   ]
  },
  {
   "cell_type": "code",
   "execution_count": 19,
   "metadata": {},
   "outputs": [
    {
     "output_type": "execute_result",
     "data": {
      "text/plain": [
       "[{'info': 'ASIN', 'value': 'B07NPXCH6Q'},\n",
       " {'info': 'Customer Reviews',\n",
       "  'value': '/*\\n* Fix for UDP-1061. Average customer reviews has a small extra line on hover\\n* https://omni-grok.amazon.com/xref/src/appgroup/websiteTemplates/retail/SoftlinesDetailPageAssets/udp-intl-lock/src/legacy.css?indexName=WebsiteTemplates#40\\n*/\\n.noUnderline a:hover {\\ntext-decoration: none;\\n} 4.0 out of 5 stars 52 ratings P.when(\\'A\\', \\'ready\\').execute(function(A) {\\nA.declarative(\\'acrLink-click-metrics\\', \\'click\\', { \"allowLinkDefault\" : true }, function(event){\\nif(window.ue) {\\nue.count(\"acrLinkClickCount\", (ue.count(\"acrLinkClickCount\") || 0) + 1);\\n}\\n});\\n}); P.when(\\'A\\', \\'cf\\').execute(function(A) {\\nA.declarative(\\'acrStarsLink-click-metrics\\', \\'click\\', { \"allowLinkDefault\" : true },  function(event){\\nif(window.ue) {\\nue.count(\"acrStarsLinkWithPopoverClickCount\", (ue.count(\"acrStarsLinkWithPopoverClickCount\") || 0) + 1);\\n}\\n});\\n}); 4.0 out of 5 stars'},\n",
       " {'info': 'Best Sellers Rank',\n",
       "  'value': '#5,305 in Computers & Accessories ( See Top 100 in Computers & Accessories ) #624 in Traditional Laptop Computers'},\n",
       " {'info': 'Date First Available', 'value': 'February 13, 2019'}]"
      ]
     },
     "metadata": {},
     "execution_count": 19
    }
   ],
   "source": [
    "\n",
    "# shows no results cause the value is Nan\n",
    "\n",
    "#df_lap.iloc[0][\"product_addl_info\"]\n",
    "# just another way to access the data in the \"cells\"\n",
    "\n",
    "df_lap.iloc[1][\"product_addl_info\"]"
   ]
  },
  {
   "cell_type": "code",
   "execution_count": 20,
   "metadata": {},
   "outputs": [
    {
     "output_type": "execute_result",
     "data": {
      "text/plain": [
       "[{'info': 'ASIN', 'value': 'B08529TZMC'},\n",
       " {'info': 'Customer Reviews',\n",
       "  'value': '/*\\n* Fix for UDP-1061. Average customer reviews has a small extra line on hover\\n* https://omni-grok.amazon.com/xref/src/appgroup/websiteTemplates/retail/SoftlinesDetailPageAssets/udp-intl-lock/src/legacy.css?indexName=WebsiteTemplates#40\\n*/\\n.noUnderline a:hover {\\ntext-decoration: none;\\n} 4.5 out of 5 stars 3,668 ratings P.when(\\'A\\', \\'ready\\').execute(function(A) {\\nA.declarative(\\'acrLink-click-metrics\\', \\'click\\', { \"allowLinkDefault\" : true }, function(event){\\nif(window.ue) {\\nue.count(\"acrLinkClickCount\", (ue.count(\"acrLinkClickCount\") || 0) + 1);\\n}\\n});\\n}); P.when(\\'A\\', \\'cf\\').execute(function(A) {\\nA.declarative(\\'acrStarsLink-click-metrics\\', \\'click\\', { \"allowLinkDefault\" : true },  function(event){\\nif(window.ue) {\\nue.count(\"acrStarsLinkWithPopoverClickCount\", (ue.count(\"acrStarsLinkWithPopoverClickCount\") || 0) + 1);\\n}\\n});\\n}); 4.5 out of 5 stars'},\n",
       " {'info': 'Best Sellers Rank',\n",
       "  'value': '#78 in Computers & Accessories ( See Top 100 in Computers & Accessories ) #9 in Traditional Laptop Computers'},\n",
       " {'info': 'Date First Available', 'value': 'April 19, 2020'}]"
      ]
     },
     "metadata": {},
     "execution_count": 20
    }
   ],
   "source": [
    "df_lap.iloc[3][\"product_addl_info\"]"
   ]
  },
  {
   "cell_type": "code",
   "execution_count": 21,
   "metadata": {},
   "outputs": [
    {
     "output_type": "stream",
     "name": "stdout",
     "text": [
      "['Brand', 'Item model number', 'Wireless Type', 'Item Weight', 'Processor', 'Hardware Platform', 'Product Dimensions', 'RAM', 'National Stock Number', 'Series', 'Memory Speed', 'Rear Webcam Resolution', 'Date First Available', 'Hard Drive', 'Package Dimensions', 'Graphics Card Ram Size', 'Average Battery Life (in hours)', 'Brand Name', 'Color', 'Size', 'Color Name', 'Item Dimensions  LxWxH', 'Number of USB 3.0 Ports', 'Manufacturer', 'Chipset Brand', 'Card Description', 'Batteries', 'Standing screen display size', 'Graphics Coprocessor', 'Screen Resolution', 'Speaker Type', 'ASIN', 'Max Screen Resolution', 'Number of USB 2.0 Ports', 'Manufacturer Part Number', 'Is Discontinued By Manufacturer']\n"
     ]
    }
   ],
   "source": [
    "\n",
    "# TECH SPECIFICATION - column\n",
    "# \n",
    "# iteration through all rows\n",
    "# iteration through all cells\n",
    "# extract from all cells of all rows values corresponding to keyword \"info\" and append it in empty columns list\n",
    "# to make sure code keeps running if it encounters Nan values I will add try -except (continue)\n",
    "# keep just unique values\n",
    "# print it\n",
    "\n",
    "columns=[]\n",
    "for i in range(len(df_lap)):\n",
    "    try:\n",
    "        for j in df_lap.product_tech_spec[i]:\n",
    "            columns.append(j[\"info\"])\n",
    "    except:\n",
    "        continue\n",
    "\n",
    "columns=list(set(columns))\n",
    "print(columns)"
   ]
  },
  {
   "cell_type": "code",
   "execution_count": 22,
   "metadata": {},
   "outputs": [
    {
     "output_type": "execute_result",
     "data": {
      "text/plain": [
       "Empty DataFrame\n",
       "Columns: [Brand, Item model number, Wireless Type, Item Weight, Processor, Hardware Platform, Product Dimensions, RAM, National Stock Number, Series, Memory Speed, Rear Webcam Resolution, Date First Available, Hard Drive, Package Dimensions, Graphics Card Ram Size, Average Battery Life (in hours), Brand Name, Color, Size, Color Name, Item Dimensions  LxWxH, Number of USB 3.0 Ports, Manufacturer, Chipset Brand, Card Description, Batteries, Standing screen display size, Graphics Coprocessor, Screen Resolution, Speaker Type, ASIN, Max Screen Resolution, Number of USB 2.0 Ports, Manufacturer Part Number, Is Discontinued By Manufacturer]\n",
       "Index: []"
      ],
      "text/html": "<div>\n<style scoped>\n    .dataframe tbody tr th:only-of-type {\n        vertical-align: middle;\n    }\n\n    .dataframe tbody tr th {\n        vertical-align: top;\n    }\n\n    .dataframe thead th {\n        text-align: right;\n    }\n</style>\n<table border=\"1\" class=\"dataframe\">\n  <thead>\n    <tr style=\"text-align: right;\">\n      <th></th>\n      <th>Brand</th>\n      <th>Item model number</th>\n      <th>Wireless Type</th>\n      <th>Item Weight</th>\n      <th>Processor</th>\n      <th>Hardware Platform</th>\n      <th>Product Dimensions</th>\n      <th>RAM</th>\n      <th>National Stock Number</th>\n      <th>Series</th>\n      <th>Memory Speed</th>\n      <th>Rear Webcam Resolution</th>\n      <th>Date First Available</th>\n      <th>Hard Drive</th>\n      <th>Package Dimensions</th>\n      <th>Graphics Card Ram Size</th>\n      <th>Average Battery Life (in hours)</th>\n      <th>Brand Name</th>\n      <th>Color</th>\n      <th>Size</th>\n      <th>Color Name</th>\n      <th>Item Dimensions  LxWxH</th>\n      <th>Number of USB 3.0 Ports</th>\n      <th>Manufacturer</th>\n      <th>Chipset Brand</th>\n      <th>Card Description</th>\n      <th>Batteries</th>\n      <th>Standing screen display size</th>\n      <th>Graphics Coprocessor</th>\n      <th>Screen Resolution</th>\n      <th>Speaker Type</th>\n      <th>ASIN</th>\n      <th>Max Screen Resolution</th>\n      <th>Number of USB 2.0 Ports</th>\n      <th>Manufacturer Part Number</th>\n      <th>Is Discontinued By Manufacturer</th>\n    </tr>\n  </thead>\n  <tbody>\n  </tbody>\n</table>\n</div>"
     },
     "metadata": {},
     "execution_count": 22
    }
   ],
   "source": [
    "# create new df with columns extracted\n",
    "\n",
    "product_tech_spec = pd.DataFrame(columns=columns)\n",
    "product_tech_spec"
   ]
  },
  {
   "cell_type": "code",
   "execution_count": 23,
   "metadata": {},
   "outputs": [],
   "source": [
    "# the iteration is now through all rows of the df and all cells\n",
    "# the data will be then locked in the respective cells\n",
    "\n",
    "for i in range(len(df_lap)):\n",
    "    try:\n",
    "        for j in df_lap.product_tech_spec[i]:\n",
    "            product_tech_spec.loc[i,j[\"info\"]] = j[\"value\"]\n",
    "    except:\n",
    "        product_tech_spec.loc[i,j[\"info\"]] = \"\"\n",
    "        continue"
   ]
  },
  {
   "cell_type": "code",
   "execution_count": 24,
   "metadata": {},
   "outputs": [
    {
     "output_type": "execute_result",
     "data": {
      "text/plain": [
       "  Brand Item model number        Wireless Type Item Weight  \\\n",
       "0   NaN               NaN            Bluetooth         NaN   \n",
       "1   NaN               NaN            802.11abg         NaN   \n",
       "2   NaN               NaN  Bluetooth, 802.11ax         NaN   \n",
       "3   NaN               NaN                  NaN         NaN   \n",
       "4   NaN               NaN  Bluetooth, 802.11ac         NaN   \n",
       "\n",
       "               Processor Hardware Platform Product Dimensions           RAM  \\\n",
       "0  2.3 GHz celeron_j3455               NaN                NaN          8 GB   \n",
       "1           1.6 GHz 8032               NaN                NaN  16 GB LPDDR3   \n",
       "2        4.2 GHz core_i5               NaN                NaN     8 GB DDR4   \n",
       "3      1.1 GHz celeron_n               NaN                NaN   4 GB LPDDR4   \n",
       "4        2.8 GHz celeron               NaN                NaN     4 GB DDR4   \n",
       "\n",
       "  National Stock Number Series Memory Speed Rear Webcam Resolution  \\\n",
       "0                   NaN    NaN          NaN                    NaN   \n",
       "1                   NaN    NaN     1600 MHz                    NaN   \n",
       "2                   NaN    NaN          NaN                    NaN   \n",
       "3                   NaN    NaN      2.6 GHz                    NaN   \n",
       "4                   NaN    NaN      2.8 GHz                    NaN   \n",
       "\n",
       "  Date First Available                     Hard Drive Package Dimensions  \\\n",
       "0                  NaN            128 GB HDD 5400 rpm                NaN   \n",
       "1                  NaN       Flash Memory Solid State                NaN   \n",
       "2                  NaN                            SSD                NaN   \n",
       "3                  NaN        Embedded MultiMediaCard                NaN   \n",
       "4                  NaN  64 GB Embedded MultiMediaCard                NaN   \n",
       "\n",
       "  Graphics Card Ram Size Average Battery Life (in hours) Brand Name Color  \\\n",
       "0                    NaN                             NaN        NaN   NaN   \n",
       "1                    NaN                     12.83 Hours        NaN   NaN   \n",
       "2                    NaN                         8 Hours        NaN   NaN   \n",
       "3                    NaN                      13.5 Hours        NaN   NaN   \n",
       "4                   4 GB                        12 Hours        NaN   NaN   \n",
       "\n",
       "  Size Color Name Item Dimensions  LxWxH Number of USB 3.0 Ports Manufacturer  \\\n",
       "0  NaN        NaN                    NaN                     NaN          NaN   \n",
       "1  NaN        NaN                    NaN                     NaN          NaN   \n",
       "2  NaN        NaN                    NaN                     NaN          NaN   \n",
       "3  NaN        NaN                    NaN                     NaN          NaN   \n",
       "4  NaN        NaN                    NaN                       2          NaN   \n",
       "\n",
       "  Chipset Brand Card Description Batteries Standing screen display size  \\\n",
       "0         Intel              NaN       NaN                  13.3 Inches   \n",
       "1         Intel       Integrated       NaN                  11.6 Inches   \n",
       "2         Intel       Integrated       NaN                  15.6 Inches   \n",
       "3         Intel       Integrated       NaN                    14 Inches   \n",
       "4         Intel       Integrated       NaN                  11.6 Inches   \n",
       "\n",
       "     Graphics Coprocessor   Screen Resolution Speaker Type ASIN  \\\n",
       "0     Intel Celeron J3455                 NaN          NaN  NaN   \n",
       "1   Intel HD Graphics 400                 NaN          NaN  NaN   \n",
       "2              Intel Iris  1920 x 1080 pixels          NaN  NaN   \n",
       "3                     NaN                 NaN          NaN  NaN   \n",
       "4  Intel UHD Graphics 600                 NaN          NaN  NaN   \n",
       "\n",
       "        Max Screen Resolution Number of USB 2.0 Ports  \\\n",
       "0  3000 x 1800 Lines Per Inch                     NaN   \n",
       "1           1366 x 768 Pixels                     NaN   \n",
       "2          1920 x 1080 Pixels                     NaN   \n",
       "3           1366 x 768 Pixels                     NaN   \n",
       "4           1366 x 768 Pixels                       1   \n",
       "\n",
       "  Manufacturer Part Number Is Discontinued By Manufacturer  \n",
       "0                      NaN                             NaN  \n",
       "1                      NaN                             NaN  \n",
       "2                      NaN                             NaN  \n",
       "3                      NaN                             NaN  \n",
       "4                      NaN                             NaN  "
      ],
      "text/html": "<div>\n<style scoped>\n    .dataframe tbody tr th:only-of-type {\n        vertical-align: middle;\n    }\n\n    .dataframe tbody tr th {\n        vertical-align: top;\n    }\n\n    .dataframe thead th {\n        text-align: right;\n    }\n</style>\n<table border=\"1\" class=\"dataframe\">\n  <thead>\n    <tr style=\"text-align: right;\">\n      <th></th>\n      <th>Brand</th>\n      <th>Item model number</th>\n      <th>Wireless Type</th>\n      <th>Item Weight</th>\n      <th>Processor</th>\n      <th>Hardware Platform</th>\n      <th>Product Dimensions</th>\n      <th>RAM</th>\n      <th>National Stock Number</th>\n      <th>Series</th>\n      <th>Memory Speed</th>\n      <th>Rear Webcam Resolution</th>\n      <th>Date First Available</th>\n      <th>Hard Drive</th>\n      <th>Package Dimensions</th>\n      <th>Graphics Card Ram Size</th>\n      <th>Average Battery Life (in hours)</th>\n      <th>Brand Name</th>\n      <th>Color</th>\n      <th>Size</th>\n      <th>Color Name</th>\n      <th>Item Dimensions  LxWxH</th>\n      <th>Number of USB 3.0 Ports</th>\n      <th>Manufacturer</th>\n      <th>Chipset Brand</th>\n      <th>Card Description</th>\n      <th>Batteries</th>\n      <th>Standing screen display size</th>\n      <th>Graphics Coprocessor</th>\n      <th>Screen Resolution</th>\n      <th>Speaker Type</th>\n      <th>ASIN</th>\n      <th>Max Screen Resolution</th>\n      <th>Number of USB 2.0 Ports</th>\n      <th>Manufacturer Part Number</th>\n      <th>Is Discontinued By Manufacturer</th>\n    </tr>\n  </thead>\n  <tbody>\n    <tr>\n      <th>0</th>\n      <td>NaN</td>\n      <td>NaN</td>\n      <td>Bluetooth</td>\n      <td>NaN</td>\n      <td>2.3 GHz celeron_j3455</td>\n      <td>NaN</td>\n      <td>NaN</td>\n      <td>8 GB</td>\n      <td>NaN</td>\n      <td>NaN</td>\n      <td>NaN</td>\n      <td>NaN</td>\n      <td>NaN</td>\n      <td>128 GB HDD 5400 rpm</td>\n      <td>NaN</td>\n      <td>NaN</td>\n      <td>NaN</td>\n      <td>NaN</td>\n      <td>NaN</td>\n      <td>NaN</td>\n      <td>NaN</td>\n      <td>NaN</td>\n      <td>NaN</td>\n      <td>NaN</td>\n      <td>Intel</td>\n      <td>NaN</td>\n      <td>NaN</td>\n      <td>13.3 Inches</td>\n      <td>Intel Celeron J3455</td>\n      <td>NaN</td>\n      <td>NaN</td>\n      <td>NaN</td>\n      <td>3000 x 1800 Lines Per Inch</td>\n      <td>NaN</td>\n      <td>NaN</td>\n      <td>NaN</td>\n    </tr>\n    <tr>\n      <th>1</th>\n      <td>NaN</td>\n      <td>NaN</td>\n      <td>802.11abg</td>\n      <td>NaN</td>\n      <td>1.6 GHz 8032</td>\n      <td>NaN</td>\n      <td>NaN</td>\n      <td>16 GB LPDDR3</td>\n      <td>NaN</td>\n      <td>NaN</td>\n      <td>1600 MHz</td>\n      <td>NaN</td>\n      <td>NaN</td>\n      <td>Flash Memory Solid State</td>\n      <td>NaN</td>\n      <td>NaN</td>\n      <td>12.83 Hours</td>\n      <td>NaN</td>\n      <td>NaN</td>\n      <td>NaN</td>\n      <td>NaN</td>\n      <td>NaN</td>\n      <td>NaN</td>\n      <td>NaN</td>\n      <td>Intel</td>\n      <td>Integrated</td>\n      <td>NaN</td>\n      <td>11.6 Inches</td>\n      <td>Intel HD Graphics 400</td>\n      <td>NaN</td>\n      <td>NaN</td>\n      <td>NaN</td>\n      <td>1366 x 768 Pixels</td>\n      <td>NaN</td>\n      <td>NaN</td>\n      <td>NaN</td>\n    </tr>\n    <tr>\n      <th>2</th>\n      <td>NaN</td>\n      <td>NaN</td>\n      <td>Bluetooth, 802.11ax</td>\n      <td>NaN</td>\n      <td>4.2 GHz core_i5</td>\n      <td>NaN</td>\n      <td>NaN</td>\n      <td>8 GB DDR4</td>\n      <td>NaN</td>\n      <td>NaN</td>\n      <td>NaN</td>\n      <td>NaN</td>\n      <td>NaN</td>\n      <td>SSD</td>\n      <td>NaN</td>\n      <td>NaN</td>\n      <td>8 Hours</td>\n      <td>NaN</td>\n      <td>NaN</td>\n      <td>NaN</td>\n      <td>NaN</td>\n      <td>NaN</td>\n      <td>NaN</td>\n      <td>NaN</td>\n      <td>Intel</td>\n      <td>Integrated</td>\n      <td>NaN</td>\n      <td>15.6 Inches</td>\n      <td>Intel Iris</td>\n      <td>1920 x 1080 pixels</td>\n      <td>NaN</td>\n      <td>NaN</td>\n      <td>1920 x 1080 Pixels</td>\n      <td>NaN</td>\n      <td>NaN</td>\n      <td>NaN</td>\n    </tr>\n    <tr>\n      <th>3</th>\n      <td>NaN</td>\n      <td>NaN</td>\n      <td>NaN</td>\n      <td>NaN</td>\n      <td>1.1 GHz celeron_n</td>\n      <td>NaN</td>\n      <td>NaN</td>\n      <td>4 GB LPDDR4</td>\n      <td>NaN</td>\n      <td>NaN</td>\n      <td>2.6 GHz</td>\n      <td>NaN</td>\n      <td>NaN</td>\n      <td>Embedded MultiMediaCard</td>\n      <td>NaN</td>\n      <td>NaN</td>\n      <td>13.5 Hours</td>\n      <td>NaN</td>\n      <td>NaN</td>\n      <td>NaN</td>\n      <td>NaN</td>\n      <td>NaN</td>\n      <td>NaN</td>\n      <td>NaN</td>\n      <td>Intel</td>\n      <td>Integrated</td>\n      <td>NaN</td>\n      <td>14 Inches</td>\n      <td>NaN</td>\n      <td>NaN</td>\n      <td>NaN</td>\n      <td>NaN</td>\n      <td>1366 x 768 Pixels</td>\n      <td>NaN</td>\n      <td>NaN</td>\n      <td>NaN</td>\n    </tr>\n    <tr>\n      <th>4</th>\n      <td>NaN</td>\n      <td>NaN</td>\n      <td>Bluetooth, 802.11ac</td>\n      <td>NaN</td>\n      <td>2.8 GHz celeron</td>\n      <td>NaN</td>\n      <td>NaN</td>\n      <td>4 GB DDR4</td>\n      <td>NaN</td>\n      <td>NaN</td>\n      <td>2.8 GHz</td>\n      <td>NaN</td>\n      <td>NaN</td>\n      <td>64 GB Embedded MultiMediaCard</td>\n      <td>NaN</td>\n      <td>4 GB</td>\n      <td>12 Hours</td>\n      <td>NaN</td>\n      <td>NaN</td>\n      <td>NaN</td>\n      <td>NaN</td>\n      <td>NaN</td>\n      <td>2</td>\n      <td>NaN</td>\n      <td>Intel</td>\n      <td>Integrated</td>\n      <td>NaN</td>\n      <td>11.6 Inches</td>\n      <td>Intel UHD Graphics 600</td>\n      <td>NaN</td>\n      <td>NaN</td>\n      <td>NaN</td>\n      <td>1366 x 768 Pixels</td>\n      <td>1</td>\n      <td>NaN</td>\n      <td>NaN</td>\n    </tr>\n  </tbody>\n</table>\n</div>"
     },
     "metadata": {},
     "execution_count": 24
    }
   ],
   "source": [
    "\n",
    "# a look at the new df created by the extraction of all values in the column product_tech_spec\n",
    "\n",
    "product_tech_spec.head()"
   ]
  },
  {
   "cell_type": "code",
   "execution_count": 25,
   "metadata": {},
   "outputs": [
    {
     "output_type": "execute_result",
     "data": {
      "text/plain": [
       "Brand                                49\n",
       "Item model number                    17\n",
       "Wireless Type                      4530\n",
       "Item Weight                          51\n",
       "Processor                          4836\n",
       "Hardware Platform                     3\n",
       "Product Dimensions                   20\n",
       "RAM                                4746\n",
       "National Stock Number                98\n",
       "Series                                1\n",
       "Memory Speed                       3208\n",
       "Rear Webcam Resolution                3\n",
       "Date First Available                 13\n",
       "Hard Drive                         4875\n",
       "Package Dimensions                   31\n",
       "Graphics Card Ram Size             1016\n",
       "Average Battery Life (in hours)    1860\n",
       "Brand Name                            6\n",
       "Color                                 8\n",
       "Size                                 35\n",
       "Color Name                            6\n",
       "Item Dimensions  LxWxH                4\n",
       "Number of USB 3.0 Ports            1263\n",
       "Manufacturer                         49\n",
       "Chipset Brand                      3973\n",
       "Card Description                   3786\n",
       "Batteries                             7\n",
       "Standing screen display size       4894\n",
       "Graphics Coprocessor               4427\n",
       "Screen Resolution                  2067\n",
       "Speaker Type                          7\n",
       "ASIN                                 11\n",
       "Max Screen Resolution              4181\n",
       "Number of USB 2.0 Ports             976\n",
       "Manufacturer Part Number             40\n",
       "Is Discontinued By Manufacturer       3\n",
       "dtype: int64"
      ]
     },
     "metadata": {},
     "execution_count": 25
    }
   ],
   "source": [
    "#check on null values\n",
    "\n",
    "product_tech_spec.notnull().sum()"
   ]
  },
  {
   "cell_type": "code",
   "execution_count": 26,
   "metadata": {},
   "outputs": [
    {
     "output_type": "stream",
     "name": "stdout",
     "text": [
      "['Display resolution', 'Item model number', 'Item Weight', 'Form Factor', 'Product Dimensions', 'RAM', 'National Stock Number', 'Department', 'Wireless communication technologies', 'Date First Available', 'Other display features', 'Package Dimensions', 'Batteries Required?', 'Colour', 'Warranty Description', 'Other camera features', 'Manufacturer', 'Batteries', 'Display technology', 'Customer Reviews', 'Device interface - primary', 'Specific Uses For Product', 'ASIN', 'Best Sellers Rank', 'OS', 'GPU', 'Is Discontinued By Manufacturer', 'Included Components']\n"
     ]
    }
   ],
   "source": [
    "# The same process must be repeated throughout the other columns where the data is nested\n",
    "# \n",
    "# Here I used the shape columns[0] instead(shape is shown with [columns, rows] and I only need the columns) instead of the length of the df\n",
    "\n",
    "columns=[]\n",
    "for i in range(df_lap.shape[0]):\n",
    "    try:\n",
    "        for j in df_lap.product_addl_info[i]:\n",
    "            columns.append(j[\"info\"])\n",
    "    except:\n",
    "        continue\n",
    "\n",
    "columns= list(set(columns))\n",
    "print(columns)"
   ]
  },
  {
   "cell_type": "code",
   "execution_count": 27,
   "metadata": {},
   "outputs": [
    {
     "output_type": "execute_result",
     "data": {
      "text/plain": [
       "Empty DataFrame\n",
       "Columns: [Display resolution, Item model number, Item Weight, Form Factor, Product Dimensions, RAM, National Stock Number, Department, Wireless communication technologies, Date First Available, Other display features, Package Dimensions, Batteries Required?, Colour, Warranty Description, Other camera features, Manufacturer, Batteries, Display technology, Customer Reviews, Device interface - primary, Specific Uses For Product, ASIN, Best Sellers Rank, OS, GPU, Is Discontinued By Manufacturer, Included Components]\n",
       "Index: []"
      ],
      "text/html": "<div>\n<style scoped>\n    .dataframe tbody tr th:only-of-type {\n        vertical-align: middle;\n    }\n\n    .dataframe tbody tr th {\n        vertical-align: top;\n    }\n\n    .dataframe thead th {\n        text-align: right;\n    }\n</style>\n<table border=\"1\" class=\"dataframe\">\n  <thead>\n    <tr style=\"text-align: right;\">\n      <th></th>\n      <th>Display resolution</th>\n      <th>Item model number</th>\n      <th>Item Weight</th>\n      <th>Form Factor</th>\n      <th>Product Dimensions</th>\n      <th>RAM</th>\n      <th>National Stock Number</th>\n      <th>Department</th>\n      <th>Wireless communication technologies</th>\n      <th>Date First Available</th>\n      <th>Other display features</th>\n      <th>Package Dimensions</th>\n      <th>Batteries Required?</th>\n      <th>Colour</th>\n      <th>Warranty Description</th>\n      <th>Other camera features</th>\n      <th>Manufacturer</th>\n      <th>Batteries</th>\n      <th>Display technology</th>\n      <th>Customer Reviews</th>\n      <th>Device interface - primary</th>\n      <th>Specific Uses For Product</th>\n      <th>ASIN</th>\n      <th>Best Sellers Rank</th>\n      <th>OS</th>\n      <th>GPU</th>\n      <th>Is Discontinued By Manufacturer</th>\n      <th>Included Components</th>\n    </tr>\n  </thead>\n  <tbody>\n  </tbody>\n</table>\n</div>"
     },
     "metadata": {},
     "execution_count": 27
    }
   ],
   "source": [
    "\n",
    " product_addl_info = pd.DataFrame(columns=columns)\n",
    "product_addl_info"
   ]
  },
  {
   "cell_type": "code",
   "execution_count": 28,
   "metadata": {},
   "outputs": [],
   "source": [
    "for i in range(df_lap.shape[0]):\n",
    "    try:\n",
    "        for j in df_lap.product_addl_info[i]:\n",
    "            product_addl_info.loc[i,j[\"info\"]] = j[\"value\"]\n",
    "    except:\n",
    "        product_addl_info.loc[i,j[\"info\"]] = \"\"\n",
    "        continue"
   ]
  },
  {
   "cell_type": "code",
   "execution_count": 29,
   "metadata": {},
   "outputs": [
    {
     "output_type": "execute_result",
     "data": {
      "text/plain": [
       "  Display resolution Item model number Item Weight Form Factor  \\\n",
       "0                NaN               NaN         NaN         NaN   \n",
       "1                NaN               NaN         NaN         NaN   \n",
       "2                NaN               NaN         NaN         NaN   \n",
       "3                NaN               NaN         NaN         NaN   \n",
       "4                NaN               NaN         NaN         NaN   \n",
       "\n",
       "  Product Dimensions  RAM National Stock Number Department  \\\n",
       "0                NaN  NaN                   NaN        NaN   \n",
       "1                NaN  NaN                   NaN        NaN   \n",
       "2                NaN  NaN                   NaN        NaN   \n",
       "3                NaN  NaN                   NaN        NaN   \n",
       "4                NaN  NaN                   NaN        NaN   \n",
       "\n",
       "  Wireless communication technologies Date First Available  \\\n",
       "0                                 NaN     February 6, 2021   \n",
       "1                                 NaN    February 13, 2019   \n",
       "2                                 NaN     October 23, 2020   \n",
       "3                                 NaN       April 19, 2020   \n",
       "4                                 NaN      October 5, 2020   \n",
       "\n",
       "  Other display features Package Dimensions Batteries Required? Colour  \\\n",
       "0                    NaN                NaN                 NaN    NaN   \n",
       "1                    NaN                NaN                 NaN    NaN   \n",
       "2                    NaN                NaN                 NaN    NaN   \n",
       "3                    NaN                NaN                 NaN    NaN   \n",
       "4                    NaN                NaN                 NaN    NaN   \n",
       "\n",
       "  Warranty Description Other camera features Manufacturer Batteries  \\\n",
       "0                  NaN                   NaN          NaN       NaN   \n",
       "1                  NaN                   NaN          NaN       NaN   \n",
       "2                  NaN                   NaN          NaN       NaN   \n",
       "3                  NaN                   NaN          NaN       NaN   \n",
       "4                  NaN                   NaN          NaN       NaN   \n",
       "\n",
       "  Display technology                                   Customer Reviews  \\\n",
       "0                NaN  /*\\n* Fix for UDP-1061. Average customer revie...   \n",
       "1                NaN  /*\\n* Fix for UDP-1061. Average customer revie...   \n",
       "2                NaN  /*\\n* Fix for UDP-1061. Average customer revie...   \n",
       "3                NaN  /*\\n* Fix for UDP-1061. Average customer revie...   \n",
       "4                NaN  /*\\n* Fix for UDP-1061. Average customer revie...   \n",
       "\n",
       "  Device interface - primary Specific Uses For Product        ASIN  \\\n",
       "0                        NaN                       NaN  B08W2VYYVX   \n",
       "1                        NaN                       NaN  B07NPXCH6Q   \n",
       "2                        NaN                       NaN  B08KGZ79N6   \n",
       "3                        NaN                       NaN  B08529TZMC   \n",
       "4                        NaN                       NaN  B081V6W99V   \n",
       "\n",
       "                                   Best Sellers Rank   OS  GPU  \\\n",
       "0  #1,944 in Computers & Accessories ( See Top 10...  NaN  NaN   \n",
       "1  #5,305 in Computers & Accessories ( See Top 10...  NaN  NaN   \n",
       "2  #65 in Computers & Accessories ( See Top 100 i...  NaN  NaN   \n",
       "3  #78 in Computers & Accessories ( See Top 100 i...  NaN  NaN   \n",
       "4  #18 in Computers & Accessories ( See Top 100 i...  NaN  NaN   \n",
       "\n",
       "  Is Discontinued By Manufacturer Included Components  \n",
       "0                             NaN                 NaN  \n",
       "1                             NaN                 NaN  \n",
       "2                             NaN                 NaN  \n",
       "3                             NaN                 NaN  \n",
       "4                             NaN                 NaN  "
      ],
      "text/html": "<div>\n<style scoped>\n    .dataframe tbody tr th:only-of-type {\n        vertical-align: middle;\n    }\n\n    .dataframe tbody tr th {\n        vertical-align: top;\n    }\n\n    .dataframe thead th {\n        text-align: right;\n    }\n</style>\n<table border=\"1\" class=\"dataframe\">\n  <thead>\n    <tr style=\"text-align: right;\">\n      <th></th>\n      <th>Display resolution</th>\n      <th>Item model number</th>\n      <th>Item Weight</th>\n      <th>Form Factor</th>\n      <th>Product Dimensions</th>\n      <th>RAM</th>\n      <th>National Stock Number</th>\n      <th>Department</th>\n      <th>Wireless communication technologies</th>\n      <th>Date First Available</th>\n      <th>Other display features</th>\n      <th>Package Dimensions</th>\n      <th>Batteries Required?</th>\n      <th>Colour</th>\n      <th>Warranty Description</th>\n      <th>Other camera features</th>\n      <th>Manufacturer</th>\n      <th>Batteries</th>\n      <th>Display technology</th>\n      <th>Customer Reviews</th>\n      <th>Device interface - primary</th>\n      <th>Specific Uses For Product</th>\n      <th>ASIN</th>\n      <th>Best Sellers Rank</th>\n      <th>OS</th>\n      <th>GPU</th>\n      <th>Is Discontinued By Manufacturer</th>\n      <th>Included Components</th>\n    </tr>\n  </thead>\n  <tbody>\n    <tr>\n      <th>0</th>\n      <td>NaN</td>\n      <td>NaN</td>\n      <td>NaN</td>\n      <td>NaN</td>\n      <td>NaN</td>\n      <td>NaN</td>\n      <td>NaN</td>\n      <td>NaN</td>\n      <td>NaN</td>\n      <td>February 6, 2021</td>\n      <td>NaN</td>\n      <td>NaN</td>\n      <td>NaN</td>\n      <td>NaN</td>\n      <td>NaN</td>\n      <td>NaN</td>\n      <td>NaN</td>\n      <td>NaN</td>\n      <td>NaN</td>\n      <td>/*\\n* Fix for UDP-1061. Average customer revie...</td>\n      <td>NaN</td>\n      <td>NaN</td>\n      <td>B08W2VYYVX</td>\n      <td>#1,944 in Computers &amp; Accessories ( See Top 10...</td>\n      <td>NaN</td>\n      <td>NaN</td>\n      <td>NaN</td>\n      <td>NaN</td>\n    </tr>\n    <tr>\n      <th>1</th>\n      <td>NaN</td>\n      <td>NaN</td>\n      <td>NaN</td>\n      <td>NaN</td>\n      <td>NaN</td>\n      <td>NaN</td>\n      <td>NaN</td>\n      <td>NaN</td>\n      <td>NaN</td>\n      <td>February 13, 2019</td>\n      <td>NaN</td>\n      <td>NaN</td>\n      <td>NaN</td>\n      <td>NaN</td>\n      <td>NaN</td>\n      <td>NaN</td>\n      <td>NaN</td>\n      <td>NaN</td>\n      <td>NaN</td>\n      <td>/*\\n* Fix for UDP-1061. Average customer revie...</td>\n      <td>NaN</td>\n      <td>NaN</td>\n      <td>B07NPXCH6Q</td>\n      <td>#5,305 in Computers &amp; Accessories ( See Top 10...</td>\n      <td>NaN</td>\n      <td>NaN</td>\n      <td>NaN</td>\n      <td>NaN</td>\n    </tr>\n    <tr>\n      <th>2</th>\n      <td>NaN</td>\n      <td>NaN</td>\n      <td>NaN</td>\n      <td>NaN</td>\n      <td>NaN</td>\n      <td>NaN</td>\n      <td>NaN</td>\n      <td>NaN</td>\n      <td>NaN</td>\n      <td>October 23, 2020</td>\n      <td>NaN</td>\n      <td>NaN</td>\n      <td>NaN</td>\n      <td>NaN</td>\n      <td>NaN</td>\n      <td>NaN</td>\n      <td>NaN</td>\n      <td>NaN</td>\n      <td>NaN</td>\n      <td>/*\\n* Fix for UDP-1061. Average customer revie...</td>\n      <td>NaN</td>\n      <td>NaN</td>\n      <td>B08KGZ79N6</td>\n      <td>#65 in Computers &amp; Accessories ( See Top 100 i...</td>\n      <td>NaN</td>\n      <td>NaN</td>\n      <td>NaN</td>\n      <td>NaN</td>\n    </tr>\n    <tr>\n      <th>3</th>\n      <td>NaN</td>\n      <td>NaN</td>\n      <td>NaN</td>\n      <td>NaN</td>\n      <td>NaN</td>\n      <td>NaN</td>\n      <td>NaN</td>\n      <td>NaN</td>\n      <td>NaN</td>\n      <td>April 19, 2020</td>\n      <td>NaN</td>\n      <td>NaN</td>\n      <td>NaN</td>\n      <td>NaN</td>\n      <td>NaN</td>\n      <td>NaN</td>\n      <td>NaN</td>\n      <td>NaN</td>\n      <td>NaN</td>\n      <td>/*\\n* Fix for UDP-1061. Average customer revie...</td>\n      <td>NaN</td>\n      <td>NaN</td>\n      <td>B08529TZMC</td>\n      <td>#78 in Computers &amp; Accessories ( See Top 100 i...</td>\n      <td>NaN</td>\n      <td>NaN</td>\n      <td>NaN</td>\n      <td>NaN</td>\n    </tr>\n    <tr>\n      <th>4</th>\n      <td>NaN</td>\n      <td>NaN</td>\n      <td>NaN</td>\n      <td>NaN</td>\n      <td>NaN</td>\n      <td>NaN</td>\n      <td>NaN</td>\n      <td>NaN</td>\n      <td>NaN</td>\n      <td>October 5, 2020</td>\n      <td>NaN</td>\n      <td>NaN</td>\n      <td>NaN</td>\n      <td>NaN</td>\n      <td>NaN</td>\n      <td>NaN</td>\n      <td>NaN</td>\n      <td>NaN</td>\n      <td>NaN</td>\n      <td>/*\\n* Fix for UDP-1061. Average customer revie...</td>\n      <td>NaN</td>\n      <td>NaN</td>\n      <td>B081V6W99V</td>\n      <td>#18 in Computers &amp; Accessories ( See Top 100 i...</td>\n      <td>NaN</td>\n      <td>NaN</td>\n      <td>NaN</td>\n      <td>NaN</td>\n    </tr>\n  </tbody>\n</table>\n</div>"
     },
     "metadata": {},
     "execution_count": 29
    }
   ],
   "source": [
    "product_addl_info.head()"
   ]
  },
  {
   "cell_type": "code",
   "execution_count": 30,
   "metadata": {},
   "outputs": [
    {
     "output_type": "execute_result",
     "data": {
      "text/plain": [
       "['Hard Drive Rotational Speed',\n",
       " 'Brand',\n",
       " 'Item model number',\n",
       " 'Item Weight',\n",
       " 'Hardware Platform',\n",
       " 'Product Dimensions',\n",
       " 'Series',\n",
       " 'National Stock Number',\n",
       " 'Rear Webcam Resolution',\n",
       " 'Date First Available',\n",
       " 'Power Source',\n",
       " 'Package Dimensions',\n",
       " 'Processor Count',\n",
       " 'tech_spec_battery_description_toys',\n",
       " 'Color',\n",
       " 'Operating System',\n",
       " 'Item Dimensions  LxWxH',\n",
       " 'Manufacturer',\n",
       " 'Computer Memory Type',\n",
       " 'Audio-out Ports (#)',\n",
       " 'Batteries',\n",
       " 'Processor Brand',\n",
       " 'Hard Drive Interface',\n",
       " 'Optical Drive Type',\n",
       " 'ASIN',\n",
       " 'Voltage',\n",
       " 'Is Discontinued By Manufacturer',\n",
       " 'Flash Memory Size']"
      ]
     },
     "metadata": {},
     "execution_count": 30
    }
   ],
   "source": [
    "# last extraction of the data from column product_summary\n",
    "\n",
    "columns=[]\n",
    "for i in range(df_lap.shape[0]):\n",
    "    try:\n",
    "        for j in df_lap.product_summary[i]:\n",
    "            columns.append(j[\"info\"])\n",
    "    except:\n",
    "        continue\n",
    "\n",
    "columns=list(set(columns))\n",
    "columns"
   ]
  },
  {
   "cell_type": "code",
   "execution_count": 31,
   "metadata": {},
   "outputs": [
    {
     "output_type": "execute_result",
     "data": {
      "text/plain": [
       "Empty DataFrame\n",
       "Columns: [Hard Drive Rotational Speed, Brand, Item model number, Item Weight, Hardware Platform, Product Dimensions, Series, National Stock Number, Rear Webcam Resolution, Date First Available, Power Source, Package Dimensions, Processor Count, tech_spec_battery_description_toys, Color, Operating System, Item Dimensions  LxWxH, Manufacturer, Computer Memory Type, Audio-out Ports (#), Batteries, Processor Brand, Hard Drive Interface, Optical Drive Type, ASIN, Voltage, Is Discontinued By Manufacturer, Flash Memory Size]\n",
       "Index: []"
      ],
      "text/html": "<div>\n<style scoped>\n    .dataframe tbody tr th:only-of-type {\n        vertical-align: middle;\n    }\n\n    .dataframe tbody tr th {\n        vertical-align: top;\n    }\n\n    .dataframe thead th {\n        text-align: right;\n    }\n</style>\n<table border=\"1\" class=\"dataframe\">\n  <thead>\n    <tr style=\"text-align: right;\">\n      <th></th>\n      <th>Hard Drive Rotational Speed</th>\n      <th>Brand</th>\n      <th>Item model number</th>\n      <th>Item Weight</th>\n      <th>Hardware Platform</th>\n      <th>Product Dimensions</th>\n      <th>Series</th>\n      <th>National Stock Number</th>\n      <th>Rear Webcam Resolution</th>\n      <th>Date First Available</th>\n      <th>Power Source</th>\n      <th>Package Dimensions</th>\n      <th>Processor Count</th>\n      <th>tech_spec_battery_description_toys</th>\n      <th>Color</th>\n      <th>Operating System</th>\n      <th>Item Dimensions  LxWxH</th>\n      <th>Manufacturer</th>\n      <th>Computer Memory Type</th>\n      <th>Audio-out Ports (#)</th>\n      <th>Batteries</th>\n      <th>Processor Brand</th>\n      <th>Hard Drive Interface</th>\n      <th>Optical Drive Type</th>\n      <th>ASIN</th>\n      <th>Voltage</th>\n      <th>Is Discontinued By Manufacturer</th>\n      <th>Flash Memory Size</th>\n    </tr>\n  </thead>\n  <tbody>\n  </tbody>\n</table>\n</div>"
     },
     "metadata": {},
     "execution_count": 31
    }
   ],
   "source": [
    "\n",
    "product_summary = pd.DataFrame(columns=columns)\n",
    "product_summary"
   ]
  },
  {
   "cell_type": "code",
   "execution_count": 32,
   "metadata": {},
   "outputs": [
    {
     "output_type": "execute_result",
     "data": {
      "text/plain": [
       "  Hard Drive Rotational Speed  Brand Item model number  Item Weight  \\\n",
       "0                     7200.00  CHUWI     HeroBook Pro+  3.67 pounds   \n",
       "1                         NaN     HP             N3060  2.49 pounds   \n",
       "2                    5400 RPM     HP       15-dy2021nr  3.75 pounds   \n",
       "3                         NaN     HP      14a-na0010nr   3.2 pounds   \n",
       "4                         NaN   ASUS       L210MA-DB01  2.31 pounds   \n",
       "\n",
       "  Hardware Platform          Product Dimensions              Series  \\\n",
       "0                PC  13.15 x 8.43 x 0.84 inches                 NaN   \n",
       "1         Chrome OS       7.8 x 12 x 0.8 inches       HP Chromebook   \n",
       "2                PC  14.11 x 9.53 x 0.71 inches        HP 15 Laptop   \n",
       "3               NaN    12.82 x 8.6 x 0.7 inches          Chromebook   \n",
       "4                PC      11 x 7.5 x 0.67 inches  ASUS Laptop L210MA   \n",
       "\n",
       "  National Stock Number Rear Webcam Resolution Date First Available  \\\n",
       "0                   NaN                    NaN                  NaN   \n",
       "1                   NaN                    NaN                  NaN   \n",
       "2                   NaN                    NaN                  NaN   \n",
       "3                   NaN                    NaN                  NaN   \n",
       "4                   NaN                    NaN                  NaN   \n",
       "\n",
       "      Power Source Package Dimensions Processor Count  \\\n",
       "0  Battery Powered                NaN               4   \n",
       "1              NaN                NaN               2   \n",
       "2  Battery Powered                NaN               4   \n",
       "3  Battery Powered                NaN               2   \n",
       "4  Battery Powered                NaN               2   \n",
       "\n",
       "  tech_spec_battery_description_toys           Color Operating System  \\\n",
       "0                                NaN          Silver       Windows 10   \n",
       "1                                NaN           Black        Chrome OS   \n",
       "2                                NaN  Natural Silver  Windows 10 Home   \n",
       "3                                NaN  Mineral Silver        Chrome OS   \n",
       "4                                NaN           Black     Windows 10 S   \n",
       "\n",
       "       Item Dimensions  LxWxH Manufacturer Computer Memory Type  \\\n",
       "0  13.15 x 8.43 x 0.84 inches          NaN           DDR4 SDRAM   \n",
       "1       7.8 x 12 x 0.8 inches          NaN              Unknown   \n",
       "2  14.11 x 9.53 x 0.71 inches          NaN           DDR4 SDRAM   \n",
       "3    12.82 x 8.6 x 0.7 inches          NaN           DDR4 SDRAM   \n",
       "4      11 x 7.5 x 0.67 inches          NaN           DDR4 SDRAM   \n",
       "\n",
       "  Audio-out Ports (#)                                         Batteries  \\\n",
       "0                 NaN                                               NaN   \n",
       "1                 NaN      1 Lithium ion batteries required. (included)   \n",
       "2                 NaN      1 Lithium ion batteries required. (included)   \n",
       "3                 NaN  1 Lithium Polymer batteries required. (included)   \n",
       "4                 NaN    1 Lithium Metal batteries required. (included)   \n",
       "\n",
       "  Processor Brand Hard Drive Interface Optical Drive Type ASIN   Voltage  \\\n",
       "0           Intel               ATA133                NaN  NaN       NaN   \n",
       "1           Intel              Unknown                NaN  NaN       NaN   \n",
       "2           Intel     Gigabit Ethernet   No Optical Drive  NaN       NaN   \n",
       "3           Intel                  NaN   No Optical Drive  NaN       NaN   \n",
       "4           Intel                  NaN   No Optical Drive  NaN  19 Volts   \n",
       "\n",
       "  Is Discontinued By Manufacturer Flash Memory Size  \n",
       "0                             NaN            128 GB  \n",
       "1                             NaN                16  \n",
       "2                             NaN               256  \n",
       "3                             NaN                 4  \n",
       "4                             NaN                64  "
      ],
      "text/html": "<div>\n<style scoped>\n    .dataframe tbody tr th:only-of-type {\n        vertical-align: middle;\n    }\n\n    .dataframe tbody tr th {\n        vertical-align: top;\n    }\n\n    .dataframe thead th {\n        text-align: right;\n    }\n</style>\n<table border=\"1\" class=\"dataframe\">\n  <thead>\n    <tr style=\"text-align: right;\">\n      <th></th>\n      <th>Hard Drive Rotational Speed</th>\n      <th>Brand</th>\n      <th>Item model number</th>\n      <th>Item Weight</th>\n      <th>Hardware Platform</th>\n      <th>Product Dimensions</th>\n      <th>Series</th>\n      <th>National Stock Number</th>\n      <th>Rear Webcam Resolution</th>\n      <th>Date First Available</th>\n      <th>Power Source</th>\n      <th>Package Dimensions</th>\n      <th>Processor Count</th>\n      <th>tech_spec_battery_description_toys</th>\n      <th>Color</th>\n      <th>Operating System</th>\n      <th>Item Dimensions  LxWxH</th>\n      <th>Manufacturer</th>\n      <th>Computer Memory Type</th>\n      <th>Audio-out Ports (#)</th>\n      <th>Batteries</th>\n      <th>Processor Brand</th>\n      <th>Hard Drive Interface</th>\n      <th>Optical Drive Type</th>\n      <th>ASIN</th>\n      <th>Voltage</th>\n      <th>Is Discontinued By Manufacturer</th>\n      <th>Flash Memory Size</th>\n    </tr>\n  </thead>\n  <tbody>\n    <tr>\n      <th>0</th>\n      <td>7200.00</td>\n      <td>CHUWI</td>\n      <td>HeroBook Pro+</td>\n      <td>3.67 pounds</td>\n      <td>PC</td>\n      <td>13.15 x 8.43 x 0.84 inches</td>\n      <td>NaN</td>\n      <td>NaN</td>\n      <td>NaN</td>\n      <td>NaN</td>\n      <td>Battery Powered</td>\n      <td>NaN</td>\n      <td>4</td>\n      <td>NaN</td>\n      <td>Silver</td>\n      <td>Windows 10</td>\n      <td>13.15 x 8.43 x 0.84 inches</td>\n      <td>NaN</td>\n      <td>DDR4 SDRAM</td>\n      <td>NaN</td>\n      <td>NaN</td>\n      <td>Intel</td>\n      <td>ATA133</td>\n      <td>NaN</td>\n      <td>NaN</td>\n      <td>NaN</td>\n      <td>NaN</td>\n      <td>128 GB</td>\n    </tr>\n    <tr>\n      <th>1</th>\n      <td>NaN</td>\n      <td>HP</td>\n      <td>N3060</td>\n      <td>2.49 pounds</td>\n      <td>Chrome OS</td>\n      <td>7.8 x 12 x 0.8 inches</td>\n      <td>HP Chromebook</td>\n      <td>NaN</td>\n      <td>NaN</td>\n      <td>NaN</td>\n      <td>NaN</td>\n      <td>NaN</td>\n      <td>2</td>\n      <td>NaN</td>\n      <td>Black</td>\n      <td>Chrome OS</td>\n      <td>7.8 x 12 x 0.8 inches</td>\n      <td>NaN</td>\n      <td>Unknown</td>\n      <td>NaN</td>\n      <td>1 Lithium ion batteries required. (included)</td>\n      <td>Intel</td>\n      <td>Unknown</td>\n      <td>NaN</td>\n      <td>NaN</td>\n      <td>NaN</td>\n      <td>NaN</td>\n      <td>16</td>\n    </tr>\n    <tr>\n      <th>2</th>\n      <td>5400 RPM</td>\n      <td>HP</td>\n      <td>15-dy2021nr</td>\n      <td>3.75 pounds</td>\n      <td>PC</td>\n      <td>14.11 x 9.53 x 0.71 inches</td>\n      <td>HP 15 Laptop</td>\n      <td>NaN</td>\n      <td>NaN</td>\n      <td>NaN</td>\n      <td>Battery Powered</td>\n      <td>NaN</td>\n      <td>4</td>\n      <td>NaN</td>\n      <td>Natural Silver</td>\n      <td>Windows 10 Home</td>\n      <td>14.11 x 9.53 x 0.71 inches</td>\n      <td>NaN</td>\n      <td>DDR4 SDRAM</td>\n      <td>NaN</td>\n      <td>1 Lithium ion batteries required. (included)</td>\n      <td>Intel</td>\n      <td>Gigabit Ethernet</td>\n      <td>No Optical Drive</td>\n      <td>NaN</td>\n      <td>NaN</td>\n      <td>NaN</td>\n      <td>256</td>\n    </tr>\n    <tr>\n      <th>3</th>\n      <td>NaN</td>\n      <td>HP</td>\n      <td>14a-na0010nr</td>\n      <td>3.2 pounds</td>\n      <td>NaN</td>\n      <td>12.82 x 8.6 x 0.7 inches</td>\n      <td>Chromebook</td>\n      <td>NaN</td>\n      <td>NaN</td>\n      <td>NaN</td>\n      <td>Battery Powered</td>\n      <td>NaN</td>\n      <td>2</td>\n      <td>NaN</td>\n      <td>Mineral Silver</td>\n      <td>Chrome OS</td>\n      <td>12.82 x 8.6 x 0.7 inches</td>\n      <td>NaN</td>\n      <td>DDR4 SDRAM</td>\n      <td>NaN</td>\n      <td>1 Lithium Polymer batteries required. (included)</td>\n      <td>Intel</td>\n      <td>NaN</td>\n      <td>No Optical Drive</td>\n      <td>NaN</td>\n      <td>NaN</td>\n      <td>NaN</td>\n      <td>4</td>\n    </tr>\n    <tr>\n      <th>4</th>\n      <td>NaN</td>\n      <td>ASUS</td>\n      <td>L210MA-DB01</td>\n      <td>2.31 pounds</td>\n      <td>PC</td>\n      <td>11 x 7.5 x 0.67 inches</td>\n      <td>ASUS Laptop L210MA</td>\n      <td>NaN</td>\n      <td>NaN</td>\n      <td>NaN</td>\n      <td>Battery Powered</td>\n      <td>NaN</td>\n      <td>2</td>\n      <td>NaN</td>\n      <td>Black</td>\n      <td>Windows 10 S</td>\n      <td>11 x 7.5 x 0.67 inches</td>\n      <td>NaN</td>\n      <td>DDR4 SDRAM</td>\n      <td>NaN</td>\n      <td>1 Lithium Metal batteries required. (included)</td>\n      <td>Intel</td>\n      <td>NaN</td>\n      <td>No Optical Drive</td>\n      <td>NaN</td>\n      <td>19 Volts</td>\n      <td>NaN</td>\n      <td>64</td>\n    </tr>\n  </tbody>\n</table>\n</div>"
     },
     "metadata": {},
     "execution_count": 32
    }
   ],
   "source": [
    "\n",
    "for i in range(df_lap.shape[0]):\n",
    "    try:\n",
    "        for j in df_lap.product_summary[i]:\n",
    "            product_summary.loc[i,j[\"info\"]] = j[\"value\"]\n",
    "    except:\n",
    "        product_summary.loc[i,j[\"info\"]] = \"\"\n",
    "        continue\n",
    "\n",
    "product_summary.head()"
   ]
  },
  {
   "cell_type": "code",
   "execution_count": 68,
   "metadata": {},
   "outputs": [
    {
     "output_type": "execute_result",
     "data": {
      "text/plain": [
       "                                                name Brand Item model number  \\\n",
       "0  CHUWI HeroBook Pro+ Laptop,13.3” 3200x1800 Res...   NaN               NaN   \n",
       "1  HP Chromebook 11 G5 11.6 inches Chromebook - I...   NaN               NaN   \n",
       "2  HP 15 Laptop, 11th Gen Intel Core i5-1135G7 Pr...   NaN               NaN   \n",
       "3  HP Chromebook 14-inch HD Laptop, Intel Celeron...   NaN               NaN   \n",
       "4  ASUS Laptop L210 Ultra Thin Laptop, 11.6” HD D...   NaN               NaN   \n",
       "\n",
       "         Wireless Type Item Weight              Processor Hardware Platform  \\\n",
       "0            Bluetooth         NaN  2.3 GHz celeron_j3455               NaN   \n",
       "1            802.11abg         NaN           1.6 GHz 8032               NaN   \n",
       "2  Bluetooth, 802.11ax         NaN        4.2 GHz core_i5               NaN   \n",
       "3                  NaN         NaN      1.1 GHz celeron_n               NaN   \n",
       "4  Bluetooth, 802.11ac         NaN        2.8 GHz celeron               NaN   \n",
       "\n",
       "  Product Dimensions           RAM National Stock Number Series Memory Speed  \\\n",
       "0                NaN          8 GB                   NaN    NaN          NaN   \n",
       "1                NaN  16 GB LPDDR3                   NaN    NaN     1600 MHz   \n",
       "2                NaN     8 GB DDR4                   NaN    NaN          NaN   \n",
       "3                NaN   4 GB LPDDR4                   NaN    NaN      2.6 GHz   \n",
       "4                NaN     4 GB DDR4                   NaN    NaN      2.8 GHz   \n",
       "\n",
       "  Rear Webcam Resolution Date First Available                     Hard Drive  \\\n",
       "0                    NaN                  NaN            128 GB HDD 5400 rpm   \n",
       "1                    NaN                  NaN       Flash Memory Solid State   \n",
       "2                    NaN                  NaN                            SSD   \n",
       "3                    NaN                  NaN        Embedded MultiMediaCard   \n",
       "4                    NaN                  NaN  64 GB Embedded MultiMediaCard   \n",
       "\n",
       "  Package Dimensions Graphics Card Ram Size Average Battery Life (in hours)  \\\n",
       "0                NaN                    NaN                             NaN   \n",
       "1                NaN                    NaN                     12.83 Hours   \n",
       "2                NaN                    NaN                         8 Hours   \n",
       "3                NaN                    NaN                      13.5 Hours   \n",
       "4                NaN                   4 GB                        12 Hours   \n",
       "\n",
       "  Brand Name Color Size Color Name Item Dimensions  LxWxH  \\\n",
       "0        NaN   NaN  NaN        NaN                    NaN   \n",
       "1        NaN   NaN  NaN        NaN                    NaN   \n",
       "2        NaN   NaN  NaN        NaN                    NaN   \n",
       "3        NaN   NaN  NaN        NaN                    NaN   \n",
       "4        NaN   NaN  NaN        NaN                    NaN   \n",
       "\n",
       "  Number of USB 3.0 Ports Manufacturer Chipset Brand Card Description  \\\n",
       "0                     NaN          NaN         Intel              NaN   \n",
       "1                     NaN          NaN         Intel       Integrated   \n",
       "2                     NaN          NaN         Intel       Integrated   \n",
       "3                     NaN          NaN         Intel       Integrated   \n",
       "4                       2          NaN         Intel       Integrated   \n",
       "\n",
       "  Batteries Standing screen display size    Graphics Coprocessor  \\\n",
       "0       NaN                  13.3 Inches     Intel Celeron J3455   \n",
       "1       NaN                  11.6 Inches   Intel HD Graphics 400   \n",
       "2       NaN                  15.6 Inches              Intel Iris   \n",
       "3       NaN                    14 Inches                     NaN   \n",
       "4       NaN                  11.6 Inches  Intel UHD Graphics 600   \n",
       "\n",
       "    Screen Resolution Speaker Type ASIN       Max Screen Resolution  \\\n",
       "0                 NaN          NaN  NaN  3000 x 1800 Lines Per Inch   \n",
       "1                 NaN          NaN  NaN           1366 x 768 Pixels   \n",
       "2  1920 x 1080 pixels          NaN  NaN          1920 x 1080 Pixels   \n",
       "3                 NaN          NaN  NaN           1366 x 768 Pixels   \n",
       "4                 NaN          NaN  NaN           1366 x 768 Pixels   \n",
       "\n",
       "  Number of USB 2.0 Ports Manufacturer Part Number  \\\n",
       "0                     NaN                      NaN   \n",
       "1                     NaN                      NaN   \n",
       "2                     NaN                      NaN   \n",
       "3                     NaN                      NaN   \n",
       "4                       1                      NaN   \n",
       "\n",
       "  Is Discontinued By Manufacturer Hard Drive Rotational Speed  Brand  \\\n",
       "0                             NaN                     7200.00  CHUWI   \n",
       "1                             NaN                         NaN     HP   \n",
       "2                             NaN                    5400 RPM     HP   \n",
       "3                             NaN                         NaN     HP   \n",
       "4                             NaN                         NaN   ASUS   \n",
       "\n",
       "  Item model number  Item Weight Hardware Platform  \\\n",
       "0     HeroBook Pro+  3.67 pounds                PC   \n",
       "1             N3060  2.49 pounds         Chrome OS   \n",
       "2       15-dy2021nr  3.75 pounds                PC   \n",
       "3      14a-na0010nr   3.2 pounds               NaN   \n",
       "4       L210MA-DB01  2.31 pounds                PC   \n",
       "\n",
       "           Product Dimensions              Series National Stock Number  \\\n",
       "0  13.15 x 8.43 x 0.84 inches                 NaN                   NaN   \n",
       "1       7.8 x 12 x 0.8 inches       HP Chromebook                   NaN   \n",
       "2  14.11 x 9.53 x 0.71 inches        HP 15 Laptop                   NaN   \n",
       "3    12.82 x 8.6 x 0.7 inches          Chromebook                   NaN   \n",
       "4      11 x 7.5 x 0.67 inches  ASUS Laptop L210MA                   NaN   \n",
       "\n",
       "  Rear Webcam Resolution Date First Available     Power Source  \\\n",
       "0                    NaN                  NaN  Battery Powered   \n",
       "1                    NaN                  NaN              NaN   \n",
       "2                    NaN                  NaN  Battery Powered   \n",
       "3                    NaN                  NaN  Battery Powered   \n",
       "4                    NaN                  NaN  Battery Powered   \n",
       "\n",
       "  Package Dimensions Processor Count tech_spec_battery_description_toys  \\\n",
       "0                NaN               4                                NaN   \n",
       "1                NaN               2                                NaN   \n",
       "2                NaN               4                                NaN   \n",
       "3                NaN               2                                NaN   \n",
       "4                NaN               2                                NaN   \n",
       "\n",
       "            Color Operating System      Item Dimensions  LxWxH Manufacturer  \\\n",
       "0          Silver       Windows 10  13.15 x 8.43 x 0.84 inches          NaN   \n",
       "1           Black        Chrome OS       7.8 x 12 x 0.8 inches          NaN   \n",
       "2  Natural Silver  Windows 10 Home  14.11 x 9.53 x 0.71 inches          NaN   \n",
       "3  Mineral Silver        Chrome OS    12.82 x 8.6 x 0.7 inches          NaN   \n",
       "4           Black     Windows 10 S      11 x 7.5 x 0.67 inches          NaN   \n",
       "\n",
       "  Computer Memory Type Audio-out Ports (#)  \\\n",
       "0           DDR4 SDRAM                 NaN   \n",
       "1              Unknown                 NaN   \n",
       "2           DDR4 SDRAM                 NaN   \n",
       "3           DDR4 SDRAM                 NaN   \n",
       "4           DDR4 SDRAM                 NaN   \n",
       "\n",
       "                                          Batteries Processor Brand  \\\n",
       "0                                               NaN           Intel   \n",
       "1      1 Lithium ion batteries required. (included)           Intel   \n",
       "2      1 Lithium ion batteries required. (included)           Intel   \n",
       "3  1 Lithium Polymer batteries required. (included)           Intel   \n",
       "4    1 Lithium Metal batteries required. (included)           Intel   \n",
       "\n",
       "  Hard Drive Interface Optical Drive Type ASIN   Voltage  \\\n",
       "0               ATA133                NaN  NaN       NaN   \n",
       "1              Unknown                NaN  NaN       NaN   \n",
       "2     Gigabit Ethernet   No Optical Drive  NaN       NaN   \n",
       "3                  NaN   No Optical Drive  NaN       NaN   \n",
       "4                  NaN   No Optical Drive  NaN  19 Volts   \n",
       "\n",
       "  Is Discontinued By Manufacturer Flash Memory Size Display resolution  \\\n",
       "0                             NaN            128 GB                NaN   \n",
       "1                             NaN                16                NaN   \n",
       "2                             NaN               256                NaN   \n",
       "3                             NaN                 4                NaN   \n",
       "4                             NaN                64                NaN   \n",
       "\n",
       "  Item model number Item Weight Form Factor Product Dimensions  RAM  \\\n",
       "0               NaN         NaN         NaN                NaN  NaN   \n",
       "1               NaN         NaN         NaN                NaN  NaN   \n",
       "2               NaN         NaN         NaN                NaN  NaN   \n",
       "3               NaN         NaN         NaN                NaN  NaN   \n",
       "4               NaN         NaN         NaN                NaN  NaN   \n",
       "\n",
       "  National Stock Number Department Wireless communication technologies  \\\n",
       "0                   NaN        NaN                                 NaN   \n",
       "1                   NaN        NaN                                 NaN   \n",
       "2                   NaN        NaN                                 NaN   \n",
       "3                   NaN        NaN                                 NaN   \n",
       "4                   NaN        NaN                                 NaN   \n",
       "\n",
       "  Date First Available Other display features Package Dimensions  \\\n",
       "0     February 6, 2021                    NaN                NaN   \n",
       "1    February 13, 2019                    NaN                NaN   \n",
       "2     October 23, 2020                    NaN                NaN   \n",
       "3       April 19, 2020                    NaN                NaN   \n",
       "4      October 5, 2020                    NaN                NaN   \n",
       "\n",
       "  Batteries Required? Colour Warranty Description Other camera features  \\\n",
       "0                 NaN    NaN                  NaN                   NaN   \n",
       "1                 NaN    NaN                  NaN                   NaN   \n",
       "2                 NaN    NaN                  NaN                   NaN   \n",
       "3                 NaN    NaN                  NaN                   NaN   \n",
       "4                 NaN    NaN                  NaN                   NaN   \n",
       "\n",
       "  Manufacturer Batteries Display technology  \\\n",
       "0          NaN       NaN                NaN   \n",
       "1          NaN       NaN                NaN   \n",
       "2          NaN       NaN                NaN   \n",
       "3          NaN       NaN                NaN   \n",
       "4          NaN       NaN                NaN   \n",
       "\n",
       "                                    Customer Reviews  \\\n",
       "0  /*\\n* Fix for UDP-1061. Average customer revie...   \n",
       "1  /*\\n* Fix for UDP-1061. Average customer revie...   \n",
       "2  /*\\n* Fix for UDP-1061. Average customer revie...   \n",
       "3  /*\\n* Fix for UDP-1061. Average customer revie...   \n",
       "4  /*\\n* Fix for UDP-1061. Average customer revie...   \n",
       "\n",
       "  Device interface - primary Specific Uses For Product        ASIN  \\\n",
       "0                        NaN                       NaN  B08W2VYYVX   \n",
       "1                        NaN                       NaN  B07NPXCH6Q   \n",
       "2                        NaN                       NaN  B08KGZ79N6   \n",
       "3                        NaN                       NaN  B08529TZMC   \n",
       "4                        NaN                       NaN  B081V6W99V   \n",
       "\n",
       "                                   Best Sellers Rank   OS  GPU  \\\n",
       "0  #1,944 in Computers & Accessories ( See Top 10...  NaN  NaN   \n",
       "1  #5,305 in Computers & Accessories ( See Top 10...  NaN  NaN   \n",
       "2  #65 in Computers & Accessories ( See Top 100 i...  NaN  NaN   \n",
       "3  #78 in Computers & Accessories ( See Top 100 i...  NaN  NaN   \n",
       "4  #18 in Computers & Accessories ( See Top 100 i...  NaN  NaN   \n",
       "\n",
       "  Is Discontinued By Manufacturer Included Components  \\\n",
       "0                             NaN                 NaN   \n",
       "1                             NaN                 NaN   \n",
       "2                             NaN                 NaN   \n",
       "3                             NaN                 NaN   \n",
       "4                             NaN                 NaN   \n",
       "\n",
       "                                                name            seller  \\\n",
       "0  CHUWI HeroBook Pro+ Laptop,13.3” 3200x1800 Res...             CHUWI   \n",
       "1  HP Chromebook 11 G5 11.6 inches Chromebook - I...        KT Renewed   \n",
       "2  HP 15 Laptop, 11th Gen Intel Core i5-1135G7 Pr...         CAC Store   \n",
       "3  HP Chromebook 14-inch HD Laptop, Intel Celeron...              None   \n",
       "4  ASUS Laptop L210 Ultra Thin Laptop, 11.6” HD D...  BroadElectronics   \n",
       "\n",
       "                                         seller_link  \n",
       "0  https://www.amazon.com/gp/help/seller/at-a-gla...  \n",
       "1  https://www.amazon.com/gp/help/seller/at-a-gla...  \n",
       "2  https://www.amazon.com/gp/help/seller/at-a-gla...  \n",
       "3                                               None  \n",
       "4  https://www.amazon.com/gp/help/seller/at-a-gla...  "
      ],
      "text/html": "<div>\n<style scoped>\n    .dataframe tbody tr th:only-of-type {\n        vertical-align: middle;\n    }\n\n    .dataframe tbody tr th {\n        vertical-align: top;\n    }\n\n    .dataframe thead th {\n        text-align: right;\n    }\n</style>\n<table border=\"1\" class=\"dataframe\">\n  <thead>\n    <tr style=\"text-align: right;\">\n      <th></th>\n      <th>name</th>\n      <th>Brand</th>\n      <th>Item model number</th>\n      <th>Wireless Type</th>\n      <th>Item Weight</th>\n      <th>Processor</th>\n      <th>Hardware Platform</th>\n      <th>Product Dimensions</th>\n      <th>RAM</th>\n      <th>National Stock Number</th>\n      <th>Series</th>\n      <th>Memory Speed</th>\n      <th>Rear Webcam Resolution</th>\n      <th>Date First Available</th>\n      <th>Hard Drive</th>\n      <th>Package Dimensions</th>\n      <th>Graphics Card Ram Size</th>\n      <th>Average Battery Life (in hours)</th>\n      <th>Brand Name</th>\n      <th>Color</th>\n      <th>Size</th>\n      <th>Color Name</th>\n      <th>Item Dimensions  LxWxH</th>\n      <th>Number of USB 3.0 Ports</th>\n      <th>Manufacturer</th>\n      <th>Chipset Brand</th>\n      <th>Card Description</th>\n      <th>Batteries</th>\n      <th>Standing screen display size</th>\n      <th>Graphics Coprocessor</th>\n      <th>Screen Resolution</th>\n      <th>Speaker Type</th>\n      <th>ASIN</th>\n      <th>Max Screen Resolution</th>\n      <th>Number of USB 2.0 Ports</th>\n      <th>Manufacturer Part Number</th>\n      <th>Is Discontinued By Manufacturer</th>\n      <th>Hard Drive Rotational Speed</th>\n      <th>Brand</th>\n      <th>Item model number</th>\n      <th>Item Weight</th>\n      <th>Hardware Platform</th>\n      <th>Product Dimensions</th>\n      <th>Series</th>\n      <th>National Stock Number</th>\n      <th>Rear Webcam Resolution</th>\n      <th>Date First Available</th>\n      <th>Power Source</th>\n      <th>Package Dimensions</th>\n      <th>Processor Count</th>\n      <th>tech_spec_battery_description_toys</th>\n      <th>Color</th>\n      <th>Operating System</th>\n      <th>Item Dimensions  LxWxH</th>\n      <th>Manufacturer</th>\n      <th>Computer Memory Type</th>\n      <th>Audio-out Ports (#)</th>\n      <th>Batteries</th>\n      <th>Processor Brand</th>\n      <th>Hard Drive Interface</th>\n      <th>Optical Drive Type</th>\n      <th>ASIN</th>\n      <th>Voltage</th>\n      <th>Is Discontinued By Manufacturer</th>\n      <th>Flash Memory Size</th>\n      <th>Display resolution</th>\n      <th>Item model number</th>\n      <th>Item Weight</th>\n      <th>Form Factor</th>\n      <th>Product Dimensions</th>\n      <th>RAM</th>\n      <th>National Stock Number</th>\n      <th>Department</th>\n      <th>Wireless communication technologies</th>\n      <th>Date First Available</th>\n      <th>Other display features</th>\n      <th>Package Dimensions</th>\n      <th>Batteries Required?</th>\n      <th>Colour</th>\n      <th>Warranty Description</th>\n      <th>Other camera features</th>\n      <th>Manufacturer</th>\n      <th>Batteries</th>\n      <th>Display technology</th>\n      <th>Customer Reviews</th>\n      <th>Device interface - primary</th>\n      <th>Specific Uses For Product</th>\n      <th>ASIN</th>\n      <th>Best Sellers Rank</th>\n      <th>OS</th>\n      <th>GPU</th>\n      <th>Is Discontinued By Manufacturer</th>\n      <th>Included Components</th>\n      <th>name</th>\n      <th>seller</th>\n      <th>seller_link</th>\n    </tr>\n  </thead>\n  <tbody>\n    <tr>\n      <th>0</th>\n      <td>CHUWI HeroBook Pro+ Laptop,13.3” 3200x1800 Res...</td>\n      <td>NaN</td>\n      <td>NaN</td>\n      <td>Bluetooth</td>\n      <td>NaN</td>\n      <td>2.3 GHz celeron_j3455</td>\n      <td>NaN</td>\n      <td>NaN</td>\n      <td>8 GB</td>\n      <td>NaN</td>\n      <td>NaN</td>\n      <td>NaN</td>\n      <td>NaN</td>\n      <td>NaN</td>\n      <td>128 GB HDD 5400 rpm</td>\n      <td>NaN</td>\n      <td>NaN</td>\n      <td>NaN</td>\n      <td>NaN</td>\n      <td>NaN</td>\n      <td>NaN</td>\n      <td>NaN</td>\n      <td>NaN</td>\n      <td>NaN</td>\n      <td>NaN</td>\n      <td>Intel</td>\n      <td>NaN</td>\n      <td>NaN</td>\n      <td>13.3 Inches</td>\n      <td>Intel Celeron J3455</td>\n      <td>NaN</td>\n      <td>NaN</td>\n      <td>NaN</td>\n      <td>3000 x 1800 Lines Per Inch</td>\n      <td>NaN</td>\n      <td>NaN</td>\n      <td>NaN</td>\n      <td>7200.00</td>\n      <td>CHUWI</td>\n      <td>HeroBook Pro+</td>\n      <td>3.67 pounds</td>\n      <td>PC</td>\n      <td>13.15 x 8.43 x 0.84 inches</td>\n      <td>NaN</td>\n      <td>NaN</td>\n      <td>NaN</td>\n      <td>NaN</td>\n      <td>Battery Powered</td>\n      <td>NaN</td>\n      <td>4</td>\n      <td>NaN</td>\n      <td>Silver</td>\n      <td>Windows 10</td>\n      <td>13.15 x 8.43 x 0.84 inches</td>\n      <td>NaN</td>\n      <td>DDR4 SDRAM</td>\n      <td>NaN</td>\n      <td>NaN</td>\n      <td>Intel</td>\n      <td>ATA133</td>\n      <td>NaN</td>\n      <td>NaN</td>\n      <td>NaN</td>\n      <td>NaN</td>\n      <td>128 GB</td>\n      <td>NaN</td>\n      <td>NaN</td>\n      <td>NaN</td>\n      <td>NaN</td>\n      <td>NaN</td>\n      <td>NaN</td>\n      <td>NaN</td>\n      <td>NaN</td>\n      <td>NaN</td>\n      <td>February 6, 2021</td>\n      <td>NaN</td>\n      <td>NaN</td>\n      <td>NaN</td>\n      <td>NaN</td>\n      <td>NaN</td>\n      <td>NaN</td>\n      <td>NaN</td>\n      <td>NaN</td>\n      <td>NaN</td>\n      <td>/*\\n* Fix for UDP-1061. Average customer revie...</td>\n      <td>NaN</td>\n      <td>NaN</td>\n      <td>B08W2VYYVX</td>\n      <td>#1,944 in Computers &amp; Accessories ( See Top 10...</td>\n      <td>NaN</td>\n      <td>NaN</td>\n      <td>NaN</td>\n      <td>NaN</td>\n      <td>CHUWI HeroBook Pro+ Laptop,13.3” 3200x1800 Res...</td>\n      <td>CHUWI</td>\n      <td>https://www.amazon.com/gp/help/seller/at-a-gla...</td>\n    </tr>\n    <tr>\n      <th>1</th>\n      <td>HP Chromebook 11 G5 11.6 inches Chromebook - I...</td>\n      <td>NaN</td>\n      <td>NaN</td>\n      <td>802.11abg</td>\n      <td>NaN</td>\n      <td>1.6 GHz 8032</td>\n      <td>NaN</td>\n      <td>NaN</td>\n      <td>16 GB LPDDR3</td>\n      <td>NaN</td>\n      <td>NaN</td>\n      <td>1600 MHz</td>\n      <td>NaN</td>\n      <td>NaN</td>\n      <td>Flash Memory Solid State</td>\n      <td>NaN</td>\n      <td>NaN</td>\n      <td>12.83 Hours</td>\n      <td>NaN</td>\n      <td>NaN</td>\n      <td>NaN</td>\n      <td>NaN</td>\n      <td>NaN</td>\n      <td>NaN</td>\n      <td>NaN</td>\n      <td>Intel</td>\n      <td>Integrated</td>\n      <td>NaN</td>\n      <td>11.6 Inches</td>\n      <td>Intel HD Graphics 400</td>\n      <td>NaN</td>\n      <td>NaN</td>\n      <td>NaN</td>\n      <td>1366 x 768 Pixels</td>\n      <td>NaN</td>\n      <td>NaN</td>\n      <td>NaN</td>\n      <td>NaN</td>\n      <td>HP</td>\n      <td>N3060</td>\n      <td>2.49 pounds</td>\n      <td>Chrome OS</td>\n      <td>7.8 x 12 x 0.8 inches</td>\n      <td>HP Chromebook</td>\n      <td>NaN</td>\n      <td>NaN</td>\n      <td>NaN</td>\n      <td>NaN</td>\n      <td>NaN</td>\n      <td>2</td>\n      <td>NaN</td>\n      <td>Black</td>\n      <td>Chrome OS</td>\n      <td>7.8 x 12 x 0.8 inches</td>\n      <td>NaN</td>\n      <td>Unknown</td>\n      <td>NaN</td>\n      <td>1 Lithium ion batteries required. (included)</td>\n      <td>Intel</td>\n      <td>Unknown</td>\n      <td>NaN</td>\n      <td>NaN</td>\n      <td>NaN</td>\n      <td>NaN</td>\n      <td>16</td>\n      <td>NaN</td>\n      <td>NaN</td>\n      <td>NaN</td>\n      <td>NaN</td>\n      <td>NaN</td>\n      <td>NaN</td>\n      <td>NaN</td>\n      <td>NaN</td>\n      <td>NaN</td>\n      <td>February 13, 2019</td>\n      <td>NaN</td>\n      <td>NaN</td>\n      <td>NaN</td>\n      <td>NaN</td>\n      <td>NaN</td>\n      <td>NaN</td>\n      <td>NaN</td>\n      <td>NaN</td>\n      <td>NaN</td>\n      <td>/*\\n* Fix for UDP-1061. Average customer revie...</td>\n      <td>NaN</td>\n      <td>NaN</td>\n      <td>B07NPXCH6Q</td>\n      <td>#5,305 in Computers &amp; Accessories ( See Top 10...</td>\n      <td>NaN</td>\n      <td>NaN</td>\n      <td>NaN</td>\n      <td>NaN</td>\n      <td>HP Chromebook 11 G5 11.6 inches Chromebook - I...</td>\n      <td>KT Renewed</td>\n      <td>https://www.amazon.com/gp/help/seller/at-a-gla...</td>\n    </tr>\n    <tr>\n      <th>2</th>\n      <td>HP 15 Laptop, 11th Gen Intel Core i5-1135G7 Pr...</td>\n      <td>NaN</td>\n      <td>NaN</td>\n      <td>Bluetooth, 802.11ax</td>\n      <td>NaN</td>\n      <td>4.2 GHz core_i5</td>\n      <td>NaN</td>\n      <td>NaN</td>\n      <td>8 GB DDR4</td>\n      <td>NaN</td>\n      <td>NaN</td>\n      <td>NaN</td>\n      <td>NaN</td>\n      <td>NaN</td>\n      <td>SSD</td>\n      <td>NaN</td>\n      <td>NaN</td>\n      <td>8 Hours</td>\n      <td>NaN</td>\n      <td>NaN</td>\n      <td>NaN</td>\n      <td>NaN</td>\n      <td>NaN</td>\n      <td>NaN</td>\n      <td>NaN</td>\n      <td>Intel</td>\n      <td>Integrated</td>\n      <td>NaN</td>\n      <td>15.6 Inches</td>\n      <td>Intel Iris</td>\n      <td>1920 x 1080 pixels</td>\n      <td>NaN</td>\n      <td>NaN</td>\n      <td>1920 x 1080 Pixels</td>\n      <td>NaN</td>\n      <td>NaN</td>\n      <td>NaN</td>\n      <td>5400 RPM</td>\n      <td>HP</td>\n      <td>15-dy2021nr</td>\n      <td>3.75 pounds</td>\n      <td>PC</td>\n      <td>14.11 x 9.53 x 0.71 inches</td>\n      <td>HP 15 Laptop</td>\n      <td>NaN</td>\n      <td>NaN</td>\n      <td>NaN</td>\n      <td>Battery Powered</td>\n      <td>NaN</td>\n      <td>4</td>\n      <td>NaN</td>\n      <td>Natural Silver</td>\n      <td>Windows 10 Home</td>\n      <td>14.11 x 9.53 x 0.71 inches</td>\n      <td>NaN</td>\n      <td>DDR4 SDRAM</td>\n      <td>NaN</td>\n      <td>1 Lithium ion batteries required. (included)</td>\n      <td>Intel</td>\n      <td>Gigabit Ethernet</td>\n      <td>No Optical Drive</td>\n      <td>NaN</td>\n      <td>NaN</td>\n      <td>NaN</td>\n      <td>256</td>\n      <td>NaN</td>\n      <td>NaN</td>\n      <td>NaN</td>\n      <td>NaN</td>\n      <td>NaN</td>\n      <td>NaN</td>\n      <td>NaN</td>\n      <td>NaN</td>\n      <td>NaN</td>\n      <td>October 23, 2020</td>\n      <td>NaN</td>\n      <td>NaN</td>\n      <td>NaN</td>\n      <td>NaN</td>\n      <td>NaN</td>\n      <td>NaN</td>\n      <td>NaN</td>\n      <td>NaN</td>\n      <td>NaN</td>\n      <td>/*\\n* Fix for UDP-1061. Average customer revie...</td>\n      <td>NaN</td>\n      <td>NaN</td>\n      <td>B08KGZ79N6</td>\n      <td>#65 in Computers &amp; Accessories ( See Top 100 i...</td>\n      <td>NaN</td>\n      <td>NaN</td>\n      <td>NaN</td>\n      <td>NaN</td>\n      <td>HP 15 Laptop, 11th Gen Intel Core i5-1135G7 Pr...</td>\n      <td>CAC Store</td>\n      <td>https://www.amazon.com/gp/help/seller/at-a-gla...</td>\n    </tr>\n    <tr>\n      <th>3</th>\n      <td>HP Chromebook 14-inch HD Laptop, Intel Celeron...</td>\n      <td>NaN</td>\n      <td>NaN</td>\n      <td>NaN</td>\n      <td>NaN</td>\n      <td>1.1 GHz celeron_n</td>\n      <td>NaN</td>\n      <td>NaN</td>\n      <td>4 GB LPDDR4</td>\n      <td>NaN</td>\n      <td>NaN</td>\n      <td>2.6 GHz</td>\n      <td>NaN</td>\n      <td>NaN</td>\n      <td>Embedded MultiMediaCard</td>\n      <td>NaN</td>\n      <td>NaN</td>\n      <td>13.5 Hours</td>\n      <td>NaN</td>\n      <td>NaN</td>\n      <td>NaN</td>\n      <td>NaN</td>\n      <td>NaN</td>\n      <td>NaN</td>\n      <td>NaN</td>\n      <td>Intel</td>\n      <td>Integrated</td>\n      <td>NaN</td>\n      <td>14 Inches</td>\n      <td>NaN</td>\n      <td>NaN</td>\n      <td>NaN</td>\n      <td>NaN</td>\n      <td>1366 x 768 Pixels</td>\n      <td>NaN</td>\n      <td>NaN</td>\n      <td>NaN</td>\n      <td>NaN</td>\n      <td>HP</td>\n      <td>14a-na0010nr</td>\n      <td>3.2 pounds</td>\n      <td>NaN</td>\n      <td>12.82 x 8.6 x 0.7 inches</td>\n      <td>Chromebook</td>\n      <td>NaN</td>\n      <td>NaN</td>\n      <td>NaN</td>\n      <td>Battery Powered</td>\n      <td>NaN</td>\n      <td>2</td>\n      <td>NaN</td>\n      <td>Mineral Silver</td>\n      <td>Chrome OS</td>\n      <td>12.82 x 8.6 x 0.7 inches</td>\n      <td>NaN</td>\n      <td>DDR4 SDRAM</td>\n      <td>NaN</td>\n      <td>1 Lithium Polymer batteries required. (included)</td>\n      <td>Intel</td>\n      <td>NaN</td>\n      <td>No Optical Drive</td>\n      <td>NaN</td>\n      <td>NaN</td>\n      <td>NaN</td>\n      <td>4</td>\n      <td>NaN</td>\n      <td>NaN</td>\n      <td>NaN</td>\n      <td>NaN</td>\n      <td>NaN</td>\n      <td>NaN</td>\n      <td>NaN</td>\n      <td>NaN</td>\n      <td>NaN</td>\n      <td>April 19, 2020</td>\n      <td>NaN</td>\n      <td>NaN</td>\n      <td>NaN</td>\n      <td>NaN</td>\n      <td>NaN</td>\n      <td>NaN</td>\n      <td>NaN</td>\n      <td>NaN</td>\n      <td>NaN</td>\n      <td>/*\\n* Fix for UDP-1061. Average customer revie...</td>\n      <td>NaN</td>\n      <td>NaN</td>\n      <td>B08529TZMC</td>\n      <td>#78 in Computers &amp; Accessories ( See Top 100 i...</td>\n      <td>NaN</td>\n      <td>NaN</td>\n      <td>NaN</td>\n      <td>NaN</td>\n      <td>HP Chromebook 14-inch HD Laptop, Intel Celeron...</td>\n      <td>None</td>\n      <td>None</td>\n    </tr>\n    <tr>\n      <th>4</th>\n      <td>ASUS Laptop L210 Ultra Thin Laptop, 11.6” HD D...</td>\n      <td>NaN</td>\n      <td>NaN</td>\n      <td>Bluetooth, 802.11ac</td>\n      <td>NaN</td>\n      <td>2.8 GHz celeron</td>\n      <td>NaN</td>\n      <td>NaN</td>\n      <td>4 GB DDR4</td>\n      <td>NaN</td>\n      <td>NaN</td>\n      <td>2.8 GHz</td>\n      <td>NaN</td>\n      <td>NaN</td>\n      <td>64 GB Embedded MultiMediaCard</td>\n      <td>NaN</td>\n      <td>4 GB</td>\n      <td>12 Hours</td>\n      <td>NaN</td>\n      <td>NaN</td>\n      <td>NaN</td>\n      <td>NaN</td>\n      <td>NaN</td>\n      <td>2</td>\n      <td>NaN</td>\n      <td>Intel</td>\n      <td>Integrated</td>\n      <td>NaN</td>\n      <td>11.6 Inches</td>\n      <td>Intel UHD Graphics 600</td>\n      <td>NaN</td>\n      <td>NaN</td>\n      <td>NaN</td>\n      <td>1366 x 768 Pixels</td>\n      <td>1</td>\n      <td>NaN</td>\n      <td>NaN</td>\n      <td>NaN</td>\n      <td>ASUS</td>\n      <td>L210MA-DB01</td>\n      <td>2.31 pounds</td>\n      <td>PC</td>\n      <td>11 x 7.5 x 0.67 inches</td>\n      <td>ASUS Laptop L210MA</td>\n      <td>NaN</td>\n      <td>NaN</td>\n      <td>NaN</td>\n      <td>Battery Powered</td>\n      <td>NaN</td>\n      <td>2</td>\n      <td>NaN</td>\n      <td>Black</td>\n      <td>Windows 10 S</td>\n      <td>11 x 7.5 x 0.67 inches</td>\n      <td>NaN</td>\n      <td>DDR4 SDRAM</td>\n      <td>NaN</td>\n      <td>1 Lithium Metal batteries required. (included)</td>\n      <td>Intel</td>\n      <td>NaN</td>\n      <td>No Optical Drive</td>\n      <td>NaN</td>\n      <td>19 Volts</td>\n      <td>NaN</td>\n      <td>64</td>\n      <td>NaN</td>\n      <td>NaN</td>\n      <td>NaN</td>\n      <td>NaN</td>\n      <td>NaN</td>\n      <td>NaN</td>\n      <td>NaN</td>\n      <td>NaN</td>\n      <td>NaN</td>\n      <td>October 5, 2020</td>\n      <td>NaN</td>\n      <td>NaN</td>\n      <td>NaN</td>\n      <td>NaN</td>\n      <td>NaN</td>\n      <td>NaN</td>\n      <td>NaN</td>\n      <td>NaN</td>\n      <td>NaN</td>\n      <td>/*\\n* Fix for UDP-1061. Average customer revie...</td>\n      <td>NaN</td>\n      <td>NaN</td>\n      <td>B081V6W99V</td>\n      <td>#18 in Computers &amp; Accessories ( See Top 100 i...</td>\n      <td>NaN</td>\n      <td>NaN</td>\n      <td>NaN</td>\n      <td>NaN</td>\n      <td>ASUS Laptop L210 Ultra Thin Laptop, 11.6” HD D...</td>\n      <td>BroadElectronics</td>\n      <td>https://www.amazon.com/gp/help/seller/at-a-gla...</td>\n    </tr>\n  </tbody>\n</table>\n</div>"
     },
     "metadata": {},
     "execution_count": 68
    }
   ],
   "source": [
    "# The created dfs will be now concatenated together with the remaining columns of the original df, the concatenation will be based on the axis 1(columns)\n",
    "\n",
    "laptop_product = pd.concat([pd.DataFrame(df_lap.name),product_tech_spec,product_summary,product_addl_info,pd.DataFrame(df_lap.name),pd.DataFrame(df_lap.seller),pd.DataFrame(df_lap.seller_link)], axis=1)\n",
    "laptop_product.head()"
   ]
  },
  {
   "cell_type": "code",
   "execution_count": 64,
   "metadata": {},
   "outputs": [
    {
     "output_type": "stream",
     "name": "stdout",
     "text": [
      "<class 'pandas.core.frame.DataFrame'>\nRangeIndex: 5195 entries, 0 to 5194\nData columns (total 40 columns):\n #   Column                           Non-Null Count  Dtype  \n---  ------                           --------------  -----  \n 0   ASIN                             5195 non-null   object \n 1   Average Battery Life (in hours)  1783 non-null   object \n 2   Batteries                        3557 non-null   object \n 3   Brand                            4947 non-null   object \n 4   Card Description                 3781 non-null   object \n 5   Chipset Brand                    3968 non-null   object \n 6   Color                            3068 non-null   object \n 7   Computer Memory Type             4612 non-null   object \n 8   Customer Reviews                 4041 non-null   object \n 9   Date First Available             5102 non-null   object \n 10  Flash Memory Size                3285 non-null   object \n 11  Graphics Card Ram Size           1015 non-null   object \n 12  Graphics Coprocessor             4423 non-null   object \n 13  Hard Drive                       4873 non-null   object \n 14  Hard Drive Interface             4297 non-null   object \n 15  Hard Drive Rotational Speed      1010 non-null   object \n 16  Hardware Platform                4208 non-null   object \n 17  Item Dimensions  LxWxH           4009 non-null   object \n 18  Item Weight                      5083 non-null   float64\n 19  Item model number                4535 non-null   object \n 20  Max Screen Resolution            4181 non-null   object \n 21  Memory_Speed_(GHz)               3206 non-null   float64\n 22  Number of USB 2.0 Ports          963 non-null    object \n 23  Number of USB 3.0 Ports          1232 non-null   object \n 24  Operating System                 4842 non-null   object \n 25  Optical Drive Type               893 non-null    object \n 26  Power Source                     3193 non-null   object \n 27  Processor                        4834 non-null   object \n 28  Processor Brand                  4814 non-null   object \n 29  Processor Count                  4767 non-null   object \n 30  Product_Dimensions_(inches)      5030 non-null   object \n 31  RAM                              4748 non-null   object \n 32  Screen Resolution                2067 non-null   object \n 33  Series                           4619 non-null   object \n 34  Standing screen display size     4894 non-null   object \n 35  Voltage                          762 non-null    object \n 36  Wireless Type                    4455 non-null   object \n 37  name                             5195 non-null   object \n 38  seller                           2509 non-null   object \n 39  seller_link                      2509 non-null   object \ndtypes: float64(2), object(38)\nmemory usage: 1.6+ MB\n"
     ]
    }
   ],
   "source": [
    "laptop_product.info()"
   ]
  },
  {
   "cell_type": "code",
   "execution_count": 65,
   "metadata": {},
   "outputs": [
    {
     "output_type": "stream",
     "name": "stdout",
     "text": [
      "<class 'pandas.core.frame.DataFrame'>\nInt64Index: 5419 entries, 0 to 5651\nData columns (total 9 columns):\n #   Column               Non-Null Count  Dtype \n---  ------               --------------  ----- \n 0   name                 5419 non-null   object\n 1   product_summary      5095 non-null   object\n 2   product_tech_spec    5166 non-null   object\n 3   product_addl_info    5400 non-null   object\n 4   seller               2584 non-null   object\n 5   seller_link          2584 non-null   object\n 6   freq_bought          899 non-null    object\n 7   freq_bought_link     899 non-null    object\n 8   link_to_all_reviews  3722 non-null   object\ndtypes: object(9)\nmemory usage: 583.4+ KB\n"
     ]
    }
   ],
   "source": [
    "df_lap.info()"
   ]
  },
  {
   "cell_type": "code",
   "execution_count": null,
   "metadata": {},
   "outputs": [],
   "source": []
  },
  {
   "cell_type": "code",
   "execution_count": 34,
   "metadata": {},
   "outputs": [
    {
     "output_type": "execute_result",
     "data": {
      "text/plain": [
       "Index(['name', 'Brand', 'Item model number', 'Wireless Type', 'Item Weight',\n",
       "       'Processor', 'Hardware Platform', 'Product Dimensions', 'RAM',\n",
       "       'National Stock Number', 'Series', 'Memory Speed',\n",
       "       'Rear Webcam Resolution', 'Date First Available', 'Hard Drive',\n",
       "       'Package Dimensions', 'Graphics Card Ram Size',\n",
       "       'Average Battery Life (in hours)'],\n",
       "      dtype='object')"
      ]
     },
     "metadata": {},
     "execution_count": 34
    }
   ],
   "source": [
    "\n",
    "laptop_product.columns.unique()[(laptop_product.columns.value_counts().sort_values(ascending=False)>1).values]"
   ]
  },
  {
   "cell_type": "code",
   "execution_count": 35,
   "metadata": {},
   "outputs": [
    {
     "output_type": "execute_result",
     "data": {
      "text/plain": [
       "         ASIN Audio-out Ports (#) Average Battery Life (in hours)  \\\n",
       "0  B08W2VYYVX                 NaN                             NaN   \n",
       "1  B07NPXCH6Q                 NaN                     12.83 Hours   \n",
       "2  B08KGZ79N6                 NaN                         8 Hours   \n",
       "3  B08529TZMC                 NaN                      13.5 Hours   \n",
       "4  B081V6W99V                 NaN                        12 Hours   \n",
       "\n",
       "                                          Batteries Batteries Required?  \\\n",
       "0                                               NaN                 NaN   \n",
       "1      1 Lithium ion batteries required. (included)                 NaN   \n",
       "2      1 Lithium ion batteries required. (included)                 NaN   \n",
       "3  1 Lithium Polymer batteries required. (included)                 NaN   \n",
       "4    1 Lithium Metal batteries required. (included)                 NaN   \n",
       "\n",
       "                                   Best Sellers Rank  Brand Brand Name  \\\n",
       "0  #1,944 in Computers & Accessories ( See Top 10...  CHUWI        NaN   \n",
       "1  #5,305 in Computers & Accessories ( See Top 10...     HP        NaN   \n",
       "2  #65 in Computers & Accessories ( See Top 100 i...     HP        NaN   \n",
       "3  #78 in Computers & Accessories ( See Top 100 i...     HP        NaN   \n",
       "4  #18 in Computers & Accessories ( See Top 100 i...   ASUS        NaN   \n",
       "\n",
       "  Card Description Chipset Brand           Color Color Name Colour  \\\n",
       "0              NaN         Intel          Silver        NaN    NaN   \n",
       "1       Integrated         Intel           Black        NaN    NaN   \n",
       "2       Integrated         Intel  Natural Silver        NaN    NaN   \n",
       "3       Integrated         Intel  Mineral Silver        NaN    NaN   \n",
       "4       Integrated         Intel           Black        NaN    NaN   \n",
       "\n",
       "  Computer Memory Type                                   Customer Reviews  \\\n",
       "0           DDR4 SDRAM  /*\\n* Fix for UDP-1061. Average customer revie...   \n",
       "1              Unknown  /*\\n* Fix for UDP-1061. Average customer revie...   \n",
       "2           DDR4 SDRAM  /*\\n* Fix for UDP-1061. Average customer revie...   \n",
       "3           DDR4 SDRAM  /*\\n* Fix for UDP-1061. Average customer revie...   \n",
       "4           DDR4 SDRAM  /*\\n* Fix for UDP-1061. Average customer revie...   \n",
       "\n",
       "  Date First Available Department Device interface - primary  \\\n",
       "0     February 6, 2021        NaN                        NaN   \n",
       "1    February 13, 2019        NaN                        NaN   \n",
       "2     October 23, 2020        NaN                        NaN   \n",
       "3       April 19, 2020        NaN                        NaN   \n",
       "4      October 5, 2020        NaN                        NaN   \n",
       "\n",
       "  Display resolution Display technology Flash Memory Size Form Factor  GPU  \\\n",
       "0                NaN                NaN            128 GB         NaN  NaN   \n",
       "1                NaN                NaN                16         NaN  NaN   \n",
       "2                NaN                NaN               256         NaN  NaN   \n",
       "3                NaN                NaN                 4         NaN  NaN   \n",
       "4                NaN                NaN                64         NaN  NaN   \n",
       "\n",
       "  Graphics Card Ram Size    Graphics Coprocessor  \\\n",
       "0                    NaN     Intel Celeron J3455   \n",
       "1                    NaN   Intel HD Graphics 400   \n",
       "2                    NaN              Intel Iris   \n",
       "3                    NaN                     NaN   \n",
       "4                   4 GB  Intel UHD Graphics 600   \n",
       "\n",
       "                      Hard Drive Hard Drive Interface  \\\n",
       "0            128 GB HDD 5400 rpm               ATA133   \n",
       "1       Flash Memory Solid State              Unknown   \n",
       "2                            SSD     Gigabit Ethernet   \n",
       "3        Embedded MultiMediaCard                  NaN   \n",
       "4  64 GB Embedded MultiMediaCard                  NaN   \n",
       "\n",
       "  Hard Drive Rotational Speed Hardware Platform Included Components  \\\n",
       "0                     7200.00                PC                 NaN   \n",
       "1                         NaN         Chrome OS                 NaN   \n",
       "2                    5400 RPM                PC                 NaN   \n",
       "3                         NaN               NaN                 NaN   \n",
       "4                         NaN                PC                 NaN   \n",
       "\n",
       "  Is Discontinued By Manufacturer      Item Dimensions  LxWxH  Item Weight  \\\n",
       "0                             NaN  13.15 x 8.43 x 0.84 inches  3.67 pounds   \n",
       "1                             NaN       7.8 x 12 x 0.8 inches  2.49 pounds   \n",
       "2                             NaN  14.11 x 9.53 x 0.71 inches  3.75 pounds   \n",
       "3                             NaN    12.82 x 8.6 x 0.7 inches   3.2 pounds   \n",
       "4                             NaN      11 x 7.5 x 0.67 inches  2.31 pounds   \n",
       "\n",
       "  Item model number Manufacturer Manufacturer Part Number  \\\n",
       "0     HeroBook Pro+          NaN                      NaN   \n",
       "1             N3060          NaN                      NaN   \n",
       "2       15-dy2021nr          NaN                      NaN   \n",
       "3      14a-na0010nr          NaN                      NaN   \n",
       "4       L210MA-DB01          NaN                      NaN   \n",
       "\n",
       "        Max Screen Resolution Memory Speed National Stock Number  \\\n",
       "0  3000 x 1800 Lines Per Inch          NaN                   NaN   \n",
       "1           1366 x 768 Pixels     1600 MHz                   NaN   \n",
       "2          1920 x 1080 Pixels          NaN                   NaN   \n",
       "3           1366 x 768 Pixels      2.6 GHz                   NaN   \n",
       "4           1366 x 768 Pixels      2.8 GHz                   NaN   \n",
       "\n",
       "  Number of USB 2.0 Ports Number of USB 3.0 Ports   OS Operating System  \\\n",
       "0                     NaN                     NaN  NaN       Windows 10   \n",
       "1                     NaN                     NaN  NaN        Chrome OS   \n",
       "2                     NaN                     NaN  NaN  Windows 10 Home   \n",
       "3                     NaN                     NaN  NaN        Chrome OS   \n",
       "4                       1                       2  NaN     Windows 10 S   \n",
       "\n",
       "  Optical Drive Type Other camera features Other display features  \\\n",
       "0                NaN                   NaN                    NaN   \n",
       "1                NaN                   NaN                    NaN   \n",
       "2   No Optical Drive                   NaN                    NaN   \n",
       "3   No Optical Drive                   NaN                    NaN   \n",
       "4   No Optical Drive                   NaN                    NaN   \n",
       "\n",
       "  Package Dimensions     Power Source              Processor Processor Brand  \\\n",
       "0                NaN  Battery Powered  2.3 GHz celeron_j3455           Intel   \n",
       "1                NaN              NaN           1.6 GHz 8032           Intel   \n",
       "2                NaN  Battery Powered        4.2 GHz core_i5           Intel   \n",
       "3                NaN  Battery Powered      1.1 GHz celeron_n           Intel   \n",
       "4                NaN  Battery Powered        2.8 GHz celeron           Intel   \n",
       "\n",
       "  Processor Count          Product Dimensions           RAM  \\\n",
       "0               4  13.15 x 8.43 x 0.84 inches          8 GB   \n",
       "1               2       7.8 x 12 x 0.8 inches  16 GB LPDDR3   \n",
       "2               4  14.11 x 9.53 x 0.71 inches     8 GB DDR4   \n",
       "3               2    12.82 x 8.6 x 0.7 inches   4 GB LPDDR4   \n",
       "4               2      11 x 7.5 x 0.67 inches     4 GB DDR4   \n",
       "\n",
       "  Rear Webcam Resolution   Screen Resolution              Series Size  \\\n",
       "0                    NaN                 NaN                 NaN  NaN   \n",
       "1                    NaN                 NaN       HP Chromebook  NaN   \n",
       "2                    NaN  1920 x 1080 pixels        HP 15 Laptop  NaN   \n",
       "3                    NaN                 NaN          Chromebook  NaN   \n",
       "4                    NaN                 NaN  ASUS Laptop L210MA  NaN   \n",
       "\n",
       "  Speaker Type Specific Uses For Product Standing screen display size  \\\n",
       "0          NaN                       NaN                  13.3 Inches   \n",
       "1          NaN                       NaN                  11.6 Inches   \n",
       "2          NaN                       NaN                  15.6 Inches   \n",
       "3          NaN                       NaN                    14 Inches   \n",
       "4          NaN                       NaN                  11.6 Inches   \n",
       "\n",
       "    Voltage Warranty Description        Wireless Type  \\\n",
       "0       NaN                  NaN            Bluetooth   \n",
       "1       NaN                  NaN            802.11abg   \n",
       "2       NaN                  NaN  Bluetooth, 802.11ax   \n",
       "3       NaN                  NaN                  NaN   \n",
       "4  19 Volts                  NaN  Bluetooth, 802.11ac   \n",
       "\n",
       "  Wireless communication technologies  \\\n",
       "0                                 NaN   \n",
       "1                                 NaN   \n",
       "2                                 NaN   \n",
       "3                                 NaN   \n",
       "4                                 NaN   \n",
       "\n",
       "                                                name            seller  \\\n",
       "0  CHUWI HeroBook Pro+ Laptop,13.3” 3200x1800 Res...             CHUWI   \n",
       "1  HP Chromebook 11 G5 11.6 inches Chromebook - I...        KT Renewed   \n",
       "2  HP 15 Laptop, 11th Gen Intel Core i5-1135G7 Pr...         CAC Store   \n",
       "3  HP Chromebook 14-inch HD Laptop, Intel Celeron...              None   \n",
       "4  ASUS Laptop L210 Ultra Thin Laptop, 11.6” HD D...  BroadElectronics   \n",
       "\n",
       "                                         seller_link  \\\n",
       "0  https://www.amazon.com/gp/help/seller/at-a-gla...   \n",
       "1  https://www.amazon.com/gp/help/seller/at-a-gla...   \n",
       "2  https://www.amazon.com/gp/help/seller/at-a-gla...   \n",
       "3                                               None   \n",
       "4  https://www.amazon.com/gp/help/seller/at-a-gla...   \n",
       "\n",
       "  tech_spec_battery_description_toys  \n",
       "0                                NaN  \n",
       "1                                NaN  \n",
       "2                                NaN  \n",
       "3                                NaN  \n",
       "4                                NaN  "
      ],
      "text/html": "<div>\n<style scoped>\n    .dataframe tbody tr th:only-of-type {\n        vertical-align: middle;\n    }\n\n    .dataframe tbody tr th {\n        vertical-align: top;\n    }\n\n    .dataframe thead th {\n        text-align: right;\n    }\n</style>\n<table border=\"1\" class=\"dataframe\">\n  <thead>\n    <tr style=\"text-align: right;\">\n      <th></th>\n      <th>ASIN</th>\n      <th>Audio-out Ports (#)</th>\n      <th>Average Battery Life (in hours)</th>\n      <th>Batteries</th>\n      <th>Batteries Required?</th>\n      <th>Best Sellers Rank</th>\n      <th>Brand</th>\n      <th>Brand Name</th>\n      <th>Card Description</th>\n      <th>Chipset Brand</th>\n      <th>Color</th>\n      <th>Color Name</th>\n      <th>Colour</th>\n      <th>Computer Memory Type</th>\n      <th>Customer Reviews</th>\n      <th>Date First Available</th>\n      <th>Department</th>\n      <th>Device interface - primary</th>\n      <th>Display resolution</th>\n      <th>Display technology</th>\n      <th>Flash Memory Size</th>\n      <th>Form Factor</th>\n      <th>GPU</th>\n      <th>Graphics Card Ram Size</th>\n      <th>Graphics Coprocessor</th>\n      <th>Hard Drive</th>\n      <th>Hard Drive Interface</th>\n      <th>Hard Drive Rotational Speed</th>\n      <th>Hardware Platform</th>\n      <th>Included Components</th>\n      <th>Is Discontinued By Manufacturer</th>\n      <th>Item Dimensions  LxWxH</th>\n      <th>Item Weight</th>\n      <th>Item model number</th>\n      <th>Manufacturer</th>\n      <th>Manufacturer Part Number</th>\n      <th>Max Screen Resolution</th>\n      <th>Memory Speed</th>\n      <th>National Stock Number</th>\n      <th>Number of USB 2.0 Ports</th>\n      <th>Number of USB 3.0 Ports</th>\n      <th>OS</th>\n      <th>Operating System</th>\n      <th>Optical Drive Type</th>\n      <th>Other camera features</th>\n      <th>Other display features</th>\n      <th>Package Dimensions</th>\n      <th>Power Source</th>\n      <th>Processor</th>\n      <th>Processor Brand</th>\n      <th>Processor Count</th>\n      <th>Product Dimensions</th>\n      <th>RAM</th>\n      <th>Rear Webcam Resolution</th>\n      <th>Screen Resolution</th>\n      <th>Series</th>\n      <th>Size</th>\n      <th>Speaker Type</th>\n      <th>Specific Uses For Product</th>\n      <th>Standing screen display size</th>\n      <th>Voltage</th>\n      <th>Warranty Description</th>\n      <th>Wireless Type</th>\n      <th>Wireless communication technologies</th>\n      <th>name</th>\n      <th>seller</th>\n      <th>seller_link</th>\n      <th>tech_spec_battery_description_toys</th>\n    </tr>\n  </thead>\n  <tbody>\n    <tr>\n      <th>0</th>\n      <td>B08W2VYYVX</td>\n      <td>NaN</td>\n      <td>NaN</td>\n      <td>NaN</td>\n      <td>NaN</td>\n      <td>#1,944 in Computers &amp; Accessories ( See Top 10...</td>\n      <td>CHUWI</td>\n      <td>NaN</td>\n      <td>NaN</td>\n      <td>Intel</td>\n      <td>Silver</td>\n      <td>NaN</td>\n      <td>NaN</td>\n      <td>DDR4 SDRAM</td>\n      <td>/*\\n* Fix for UDP-1061. Average customer revie...</td>\n      <td>February 6, 2021</td>\n      <td>NaN</td>\n      <td>NaN</td>\n      <td>NaN</td>\n      <td>NaN</td>\n      <td>128 GB</td>\n      <td>NaN</td>\n      <td>NaN</td>\n      <td>NaN</td>\n      <td>Intel Celeron J3455</td>\n      <td>128 GB HDD 5400 rpm</td>\n      <td>ATA133</td>\n      <td>7200.00</td>\n      <td>PC</td>\n      <td>NaN</td>\n      <td>NaN</td>\n      <td>13.15 x 8.43 x 0.84 inches</td>\n      <td>3.67 pounds</td>\n      <td>HeroBook Pro+</td>\n      <td>NaN</td>\n      <td>NaN</td>\n      <td>3000 x 1800 Lines Per Inch</td>\n      <td>NaN</td>\n      <td>NaN</td>\n      <td>NaN</td>\n      <td>NaN</td>\n      <td>NaN</td>\n      <td>Windows 10</td>\n      <td>NaN</td>\n      <td>NaN</td>\n      <td>NaN</td>\n      <td>NaN</td>\n      <td>Battery Powered</td>\n      <td>2.3 GHz celeron_j3455</td>\n      <td>Intel</td>\n      <td>4</td>\n      <td>13.15 x 8.43 x 0.84 inches</td>\n      <td>8 GB</td>\n      <td>NaN</td>\n      <td>NaN</td>\n      <td>NaN</td>\n      <td>NaN</td>\n      <td>NaN</td>\n      <td>NaN</td>\n      <td>13.3 Inches</td>\n      <td>NaN</td>\n      <td>NaN</td>\n      <td>Bluetooth</td>\n      <td>NaN</td>\n      <td>CHUWI HeroBook Pro+ Laptop,13.3” 3200x1800 Res...</td>\n      <td>CHUWI</td>\n      <td>https://www.amazon.com/gp/help/seller/at-a-gla...</td>\n      <td>NaN</td>\n    </tr>\n    <tr>\n      <th>1</th>\n      <td>B07NPXCH6Q</td>\n      <td>NaN</td>\n      <td>12.83 Hours</td>\n      <td>1 Lithium ion batteries required. (included)</td>\n      <td>NaN</td>\n      <td>#5,305 in Computers &amp; Accessories ( See Top 10...</td>\n      <td>HP</td>\n      <td>NaN</td>\n      <td>Integrated</td>\n      <td>Intel</td>\n      <td>Black</td>\n      <td>NaN</td>\n      <td>NaN</td>\n      <td>Unknown</td>\n      <td>/*\\n* Fix for UDP-1061. Average customer revie...</td>\n      <td>February 13, 2019</td>\n      <td>NaN</td>\n      <td>NaN</td>\n      <td>NaN</td>\n      <td>NaN</td>\n      <td>16</td>\n      <td>NaN</td>\n      <td>NaN</td>\n      <td>NaN</td>\n      <td>Intel HD Graphics 400</td>\n      <td>Flash Memory Solid State</td>\n      <td>Unknown</td>\n      <td>NaN</td>\n      <td>Chrome OS</td>\n      <td>NaN</td>\n      <td>NaN</td>\n      <td>7.8 x 12 x 0.8 inches</td>\n      <td>2.49 pounds</td>\n      <td>N3060</td>\n      <td>NaN</td>\n      <td>NaN</td>\n      <td>1366 x 768 Pixels</td>\n      <td>1600 MHz</td>\n      <td>NaN</td>\n      <td>NaN</td>\n      <td>NaN</td>\n      <td>NaN</td>\n      <td>Chrome OS</td>\n      <td>NaN</td>\n      <td>NaN</td>\n      <td>NaN</td>\n      <td>NaN</td>\n      <td>NaN</td>\n      <td>1.6 GHz 8032</td>\n      <td>Intel</td>\n      <td>2</td>\n      <td>7.8 x 12 x 0.8 inches</td>\n      <td>16 GB LPDDR3</td>\n      <td>NaN</td>\n      <td>NaN</td>\n      <td>HP Chromebook</td>\n      <td>NaN</td>\n      <td>NaN</td>\n      <td>NaN</td>\n      <td>11.6 Inches</td>\n      <td>NaN</td>\n      <td>NaN</td>\n      <td>802.11abg</td>\n      <td>NaN</td>\n      <td>HP Chromebook 11 G5 11.6 inches Chromebook - I...</td>\n      <td>KT Renewed</td>\n      <td>https://www.amazon.com/gp/help/seller/at-a-gla...</td>\n      <td>NaN</td>\n    </tr>\n    <tr>\n      <th>2</th>\n      <td>B08KGZ79N6</td>\n      <td>NaN</td>\n      <td>8 Hours</td>\n      <td>1 Lithium ion batteries required. (included)</td>\n      <td>NaN</td>\n      <td>#65 in Computers &amp; Accessories ( See Top 100 i...</td>\n      <td>HP</td>\n      <td>NaN</td>\n      <td>Integrated</td>\n      <td>Intel</td>\n      <td>Natural Silver</td>\n      <td>NaN</td>\n      <td>NaN</td>\n      <td>DDR4 SDRAM</td>\n      <td>/*\\n* Fix for UDP-1061. Average customer revie...</td>\n      <td>October 23, 2020</td>\n      <td>NaN</td>\n      <td>NaN</td>\n      <td>NaN</td>\n      <td>NaN</td>\n      <td>256</td>\n      <td>NaN</td>\n      <td>NaN</td>\n      <td>NaN</td>\n      <td>Intel Iris</td>\n      <td>SSD</td>\n      <td>Gigabit Ethernet</td>\n      <td>5400 RPM</td>\n      <td>PC</td>\n      <td>NaN</td>\n      <td>NaN</td>\n      <td>14.11 x 9.53 x 0.71 inches</td>\n      <td>3.75 pounds</td>\n      <td>15-dy2021nr</td>\n      <td>NaN</td>\n      <td>NaN</td>\n      <td>1920 x 1080 Pixels</td>\n      <td>NaN</td>\n      <td>NaN</td>\n      <td>NaN</td>\n      <td>NaN</td>\n      <td>NaN</td>\n      <td>Windows 10 Home</td>\n      <td>No Optical Drive</td>\n      <td>NaN</td>\n      <td>NaN</td>\n      <td>NaN</td>\n      <td>Battery Powered</td>\n      <td>4.2 GHz core_i5</td>\n      <td>Intel</td>\n      <td>4</td>\n      <td>14.11 x 9.53 x 0.71 inches</td>\n      <td>8 GB DDR4</td>\n      <td>NaN</td>\n      <td>1920 x 1080 pixels</td>\n      <td>HP 15 Laptop</td>\n      <td>NaN</td>\n      <td>NaN</td>\n      <td>NaN</td>\n      <td>15.6 Inches</td>\n      <td>NaN</td>\n      <td>NaN</td>\n      <td>Bluetooth, 802.11ax</td>\n      <td>NaN</td>\n      <td>HP 15 Laptop, 11th Gen Intel Core i5-1135G7 Pr...</td>\n      <td>CAC Store</td>\n      <td>https://www.amazon.com/gp/help/seller/at-a-gla...</td>\n      <td>NaN</td>\n    </tr>\n    <tr>\n      <th>3</th>\n      <td>B08529TZMC</td>\n      <td>NaN</td>\n      <td>13.5 Hours</td>\n      <td>1 Lithium Polymer batteries required. (included)</td>\n      <td>NaN</td>\n      <td>#78 in Computers &amp; Accessories ( See Top 100 i...</td>\n      <td>HP</td>\n      <td>NaN</td>\n      <td>Integrated</td>\n      <td>Intel</td>\n      <td>Mineral Silver</td>\n      <td>NaN</td>\n      <td>NaN</td>\n      <td>DDR4 SDRAM</td>\n      <td>/*\\n* Fix for UDP-1061. Average customer revie...</td>\n      <td>April 19, 2020</td>\n      <td>NaN</td>\n      <td>NaN</td>\n      <td>NaN</td>\n      <td>NaN</td>\n      <td>4</td>\n      <td>NaN</td>\n      <td>NaN</td>\n      <td>NaN</td>\n      <td>NaN</td>\n      <td>Embedded MultiMediaCard</td>\n      <td>NaN</td>\n      <td>NaN</td>\n      <td>NaN</td>\n      <td>NaN</td>\n      <td>NaN</td>\n      <td>12.82 x 8.6 x 0.7 inches</td>\n      <td>3.2 pounds</td>\n      <td>14a-na0010nr</td>\n      <td>NaN</td>\n      <td>NaN</td>\n      <td>1366 x 768 Pixels</td>\n      <td>2.6 GHz</td>\n      <td>NaN</td>\n      <td>NaN</td>\n      <td>NaN</td>\n      <td>NaN</td>\n      <td>Chrome OS</td>\n      <td>No Optical Drive</td>\n      <td>NaN</td>\n      <td>NaN</td>\n      <td>NaN</td>\n      <td>Battery Powered</td>\n      <td>1.1 GHz celeron_n</td>\n      <td>Intel</td>\n      <td>2</td>\n      <td>12.82 x 8.6 x 0.7 inches</td>\n      <td>4 GB LPDDR4</td>\n      <td>NaN</td>\n      <td>NaN</td>\n      <td>Chromebook</td>\n      <td>NaN</td>\n      <td>NaN</td>\n      <td>NaN</td>\n      <td>14 Inches</td>\n      <td>NaN</td>\n      <td>NaN</td>\n      <td>NaN</td>\n      <td>NaN</td>\n      <td>HP Chromebook 14-inch HD Laptop, Intel Celeron...</td>\n      <td>None</td>\n      <td>None</td>\n      <td>NaN</td>\n    </tr>\n    <tr>\n      <th>4</th>\n      <td>B081V6W99V</td>\n      <td>NaN</td>\n      <td>12 Hours</td>\n      <td>1 Lithium Metal batteries required. (included)</td>\n      <td>NaN</td>\n      <td>#18 in Computers &amp; Accessories ( See Top 100 i...</td>\n      <td>ASUS</td>\n      <td>NaN</td>\n      <td>Integrated</td>\n      <td>Intel</td>\n      <td>Black</td>\n      <td>NaN</td>\n      <td>NaN</td>\n      <td>DDR4 SDRAM</td>\n      <td>/*\\n* Fix for UDP-1061. Average customer revie...</td>\n      <td>October 5, 2020</td>\n      <td>NaN</td>\n      <td>NaN</td>\n      <td>NaN</td>\n      <td>NaN</td>\n      <td>64</td>\n      <td>NaN</td>\n      <td>NaN</td>\n      <td>4 GB</td>\n      <td>Intel UHD Graphics 600</td>\n      <td>64 GB Embedded MultiMediaCard</td>\n      <td>NaN</td>\n      <td>NaN</td>\n      <td>PC</td>\n      <td>NaN</td>\n      <td>NaN</td>\n      <td>11 x 7.5 x 0.67 inches</td>\n      <td>2.31 pounds</td>\n      <td>L210MA-DB01</td>\n      <td>NaN</td>\n      <td>NaN</td>\n      <td>1366 x 768 Pixels</td>\n      <td>2.8 GHz</td>\n      <td>NaN</td>\n      <td>1</td>\n      <td>2</td>\n      <td>NaN</td>\n      <td>Windows 10 S</td>\n      <td>No Optical Drive</td>\n      <td>NaN</td>\n      <td>NaN</td>\n      <td>NaN</td>\n      <td>Battery Powered</td>\n      <td>2.8 GHz celeron</td>\n      <td>Intel</td>\n      <td>2</td>\n      <td>11 x 7.5 x 0.67 inches</td>\n      <td>4 GB DDR4</td>\n      <td>NaN</td>\n      <td>NaN</td>\n      <td>ASUS Laptop L210MA</td>\n      <td>NaN</td>\n      <td>NaN</td>\n      <td>NaN</td>\n      <td>11.6 Inches</td>\n      <td>19 Volts</td>\n      <td>NaN</td>\n      <td>Bluetooth, 802.11ac</td>\n      <td>NaN</td>\n      <td>ASUS Laptop L210 Ultra Thin Laptop, 11.6” HD D...</td>\n      <td>BroadElectronics</td>\n      <td>https://www.amazon.com/gp/help/seller/at-a-gla...</td>\n      <td>NaN</td>\n    </tr>\n  </tbody>\n</table>\n</div>"
     },
     "metadata": {},
     "execution_count": 35
    }
   ],
   "source": [
    "\n",
    "# through a groupby of the new df on the columns (axis=1) I will reduce the number of columns by removing the duplicates and keeping just the first one that will have all possible values(null values filled in from duplicates where possible)\n",
    "\n",
    "laptop_product = laptop_product.groupby(laptop_product.columns,axis=1).first()\n",
    "laptop_product.head()"
   ]
  },
  {
   "cell_type": "code",
   "execution_count": 36,
   "metadata": {},
   "outputs": [
    {
     "output_type": "execute_result",
     "data": {
      "text/plain": [
       "ASIN                                    442\n",
       "Audio-out Ports (#)                    5596\n",
       "Average Battery Life (in hours)        3777\n",
       "Batteries                              1930\n",
       "Batteries Required?                    5634\n",
       "                                       ... \n",
       "Wireless communication technologies    5635\n",
       "name                                    218\n",
       "seller                                 3053\n",
       "seller_link                            3053\n",
       "tech_spec_battery_description_toys     5630\n",
       "Length: 68, dtype: int64"
      ]
     },
     "metadata": {},
     "execution_count": 36
    }
   ],
   "source": [
    "laptop_product.isnull().sum()"
   ]
  },
  {
   "cell_type": "code",
   "execution_count": 37,
   "metadata": {},
   "outputs": [],
   "source": [
    "# Dropping rows where Asin is null\n",
    "\n",
    "laptop_product.dropna(subset=[\"ASIN\"],inplace=True)\n",
    "laptop_product=laptop_product.reset_index(drop=True)"
   ]
  },
  {
   "cell_type": "code",
   "execution_count": 38,
   "metadata": {},
   "outputs": [
    {
     "output_type": "execute_result",
     "data": {
      "text/plain": [
       "['ASIN',\n",
       " 'Average Battery Life (in hours)',\n",
       " 'Batteries',\n",
       " 'Best Sellers Rank',\n",
       " 'Brand',\n",
       " 'Card Description',\n",
       " 'Chipset Brand',\n",
       " 'Color',\n",
       " 'Computer Memory Type',\n",
       " 'Customer Reviews',\n",
       " 'Date First Available',\n",
       " 'Flash Memory Size',\n",
       " 'Graphics Card Ram Size',\n",
       " 'Graphics Coprocessor',\n",
       " 'Hard Drive',\n",
       " 'Hard Drive Interface',\n",
       " 'Hard Drive Rotational Speed',\n",
       " 'Hardware Platform',\n",
       " 'Item Dimensions  LxWxH',\n",
       " 'Item Weight',\n",
       " 'Item model number',\n",
       " 'Max Screen Resolution',\n",
       " 'Memory Speed',\n",
       " 'Number of USB 2.0 Ports',\n",
       " 'Number of USB 3.0 Ports',\n",
       " 'Operating System',\n",
       " 'Optical Drive Type',\n",
       " 'Package Dimensions',\n",
       " 'Power Source',\n",
       " 'Processor',\n",
       " 'Processor Brand',\n",
       " 'Processor Count',\n",
       " 'Product Dimensions',\n",
       " 'RAM',\n",
       " 'Screen Resolution',\n",
       " 'Series',\n",
       " 'Standing screen display size',\n",
       " 'Voltage',\n",
       " 'Wireless Type',\n",
       " 'name',\n",
       " 'seller',\n",
       " 'seller_link']"
      ]
     },
     "metadata": {},
     "execution_count": 38
    }
   ],
   "source": [
    "list(laptop_product.columns[list(laptop_product.isnull().sum() < 4600)])"
   ]
  },
  {
   "cell_type": "code",
   "execution_count": 39,
   "metadata": {},
   "outputs": [],
   "source": [
    "# Keeping columns where missing values are below 4600 threshold\n",
    "# list(new_processor.isnull().sum() < 4600) gives a boolean result True or False \n",
    "# list(new_processor.columns[list(new_processor.isnull().sum() < 4600) transform the boolean result in a list of columns names\n",
    "# new_processor.loc[:, list(new_processor.columns[list(new_processor.isnull().sum() < 4600)])] will be keeping all rows and just those columns that satisfy the condition\n",
    "\n",
    "laptop_product = laptop_product.loc[:, list(laptop_product.columns[list(laptop_product.isnull().sum() < 4600)])]"
   ]
  },
  {
   "cell_type": "code",
   "execution_count": 40,
   "metadata": {},
   "outputs": [
    {
     "output_type": "execute_result",
     "data": {
      "text/plain": [
       "(5195, 42)"
      ]
     },
     "metadata": {},
     "execution_count": 40
    }
   ],
   "source": [
    "\n",
    "laptop_product.shape"
   ]
  },
  {
   "cell_type": "code",
   "execution_count": 41,
   "metadata": {},
   "outputs": [
    {
     "output_type": "execute_result",
     "data": {
      "text/plain": [
       "ASIN                               object\n",
       "Average Battery Life (in hours)    object\n",
       "Batteries                          object\n",
       "Best Sellers Rank                  object\n",
       "Brand                              object\n",
       "Card Description                   object\n",
       "Chipset Brand                      object\n",
       "Color                              object\n",
       "Computer Memory Type               object\n",
       "Customer Reviews                   object\n",
       "Date First Available               object\n",
       "Flash Memory Size                  object\n",
       "Graphics Card Ram Size             object\n",
       "Graphics Coprocessor               object\n",
       "Hard Drive                         object\n",
       "Hard Drive Interface               object\n",
       "Hard Drive Rotational Speed        object\n",
       "Hardware Platform                  object\n",
       "Item Dimensions  LxWxH             object\n",
       "Item Weight                        object\n",
       "Item model number                  object\n",
       "Max Screen Resolution              object\n",
       "Memory Speed                       object\n",
       "Number of USB 2.0 Ports            object\n",
       "Number of USB 3.0 Ports            object\n",
       "Operating System                   object\n",
       "Optical Drive Type                 object\n",
       "Package Dimensions                 object\n",
       "Power Source                       object\n",
       "Processor                          object\n",
       "Processor Brand                    object\n",
       "Processor Count                    object\n",
       "Product Dimensions                 object\n",
       "RAM                                object\n",
       "Screen Resolution                  object\n",
       "Series                             object\n",
       "Standing screen display size       object\n",
       "Voltage                            object\n",
       "Wireless Type                      object\n",
       "name                               object\n",
       "seller                             object\n",
       "seller_link                        object\n",
       "dtype: object"
      ]
     },
     "metadata": {},
     "execution_count": 41
    }
   ],
   "source": [
    "laptop_product.dtypes"
   ]
  },
  {
   "cell_type": "code",
   "execution_count": 42,
   "metadata": {},
   "outputs": [],
   "source": [
    "\n",
    "# new_processor[\"Item Weight\"].unique()\n",
    "# this code will show an array of values stored in Item weight column. Values are either in pounds or ounces\n",
    "# convert all values to one unit of measurement\n",
    "\n",
    "a = laptop_product[\"Item Weight\"].str.split(expand=True)\n",
    "a.columns=[\"a\",\"b\"]\n",
    "a.a = a['a'].astype(float)\n",
    "a['a'] = np.where(a['b'] == 'ounces',a['a'] * 0.16 ,a['a'])\n",
    "laptop_product[\"Item Weight\"] = a['a'].round(3)"
   ]
  },
  {
   "cell_type": "code",
   "execution_count": 43,
   "metadata": {},
   "outputs": [],
   "source": [
    "\n",
    "laptop_product[\"Product Dimensions\"] = laptop_product[\"Product Dimensions\"].fillna(laptop_product[\"Package Dimensions\"])\n",
    "laptop_product.drop(columns=\"Package Dimensions\", inplace=True)"
   ]
  },
  {
   "cell_type": "code",
   "execution_count": 44,
   "metadata": {},
   "outputs": [],
   "source": [
    "\n",
    "laptop_product = laptop_product.rename(columns={\"Product Dimensions\":\"Product_Dimensions_(inches)\"})"
   ]
  },
  {
   "cell_type": "code",
   "execution_count": 45,
   "metadata": {},
   "outputs": [],
   "source": [
    "laptop_product[\"Product_Dimensions_(inches)\"] = laptop_product[\"Product_Dimensions_(inches)\"].str.strip(\"inches\")"
   ]
  },
  {
   "cell_type": "code",
   "execution_count": 46,
   "metadata": {},
   "outputs": [
    {
     "output_type": "execute_result",
     "data": {
      "text/plain": [
       "array([nan, '1600 MHz', '2.6 GHz', '2.8 GHz', '1.6 GHz', '3.6 GHz',\n",
       "       '4.1 GHz', '2.5 GHz', '2666 MHz', '2.7 GHz', '3.9 GHz', '3.5 GHz',\n",
       "       '2933 MHz', '1.8 GHz', '2400 MHz', '1333 MHz', '4266 MHz',\n",
       "       '1.1 GHz', '1.6', '3.2 GHz', '3.4 GHz', '2.3 GHz', '8 GHz',\n",
       "       '4.5 GHz', '2.4 GHz', '3200 MHz', '2133 MHz', '2400 KHz', '3.9',\n",
       "       '1 GHz', '2.2 GHz', '2400 GHz', '3.1 GHz', '2133 GHz', '2.16 GHz',\n",
       "       '1866 MHz', '1.1', '4.6 GHz', '3733 MHz', '2.4', '2666 GHz',\n",
       "       '3000 MHz', '2.1', '1.2', '2.00', '1.83 GHz', '3.8 GHz', '1.3 GHz',\n",
       "       '2.48 GHz', '1.00', '2 GHz', '1.5 GHz', '4.6', '2.5', '1.8', '2.6',\n",
       "       '2800 MHz', '26666 MHz', '2.24 GHz', '3.8', '1.92 GHz', '4.00',\n",
       "       '1.9 GHz', '1600.00', '1.33 GHz', '2133.00', '1066 MHz', '4.5',\n",
       "       '4267 MHz', '2667 MHz', '4.1', '2.1 GHz', '2.9 GHz', '800 MHz',\n",
       "       '1.59 GHz', '4.5 MHz', '2.3', '732 MHz', '1.7 GHz', '1000 MHz',\n",
       "       '2.7', '2133', '2.16', '2.8', '', '2600 MHz', '2.2', '1333.00',\n",
       "       '300 MHz', '1'], dtype=object)"
      ]
     },
     "metadata": {},
     "execution_count": 46
    }
   ],
   "source": [
    "laptop_product[\"Memory Speed\"].unique()"
   ]
  },
  {
   "cell_type": "code",
   "execution_count": 47,
   "metadata": {},
   "outputs": [],
   "source": [
    "a = laptop_product[\"Memory Speed\"].str.split(expand=True)\n",
    "a.columns=[\"a\",\"b\"]\n",
    "a.a = a['a'].astype(float)\n",
    "a['a'] = np.where(a['b'] == 'MHz',a['a'] * 0.001 ,a['a'])\n",
    "laptop_product[\"Memory Speed\"] = a['a'].round(2)\n",
    "laptop_product = laptop_product.rename(columns={\"Memory Speed\":\"Memory_Speed_(GHz)\"})"
   ]
  },
  {
   "cell_type": "code",
   "execution_count": 48,
   "metadata": {},
   "outputs": [
    {
     "output_type": "execute_result",
     "data": {
      "text/plain": [
       "         ASIN Average Battery Life (in hours)  \\\n",
       "0  B08W2VYYVX                             NaN   \n",
       "1  B07NPXCH6Q                     12.83 Hours   \n",
       "2  B08KGZ79N6                         8 Hours   \n",
       "3  B08529TZMC                      13.5 Hours   \n",
       "4  B081V6W99V                        12 Hours   \n",
       "\n",
       "                                          Batteries  \\\n",
       "0                                               NaN   \n",
       "1      1 Lithium ion batteries required. (included)   \n",
       "2      1 Lithium ion batteries required. (included)   \n",
       "3  1 Lithium Polymer batteries required. (included)   \n",
       "4    1 Lithium Metal batteries required. (included)   \n",
       "\n",
       "                                   Best Sellers Rank  Brand Card Description  \\\n",
       "0  #1,944 in Computers & Accessories ( See Top 10...  CHUWI              NaN   \n",
       "1  #5,305 in Computers & Accessories ( See Top 10...     HP       Integrated   \n",
       "2  #65 in Computers & Accessories ( See Top 100 i...     HP       Integrated   \n",
       "3  #78 in Computers & Accessories ( See Top 100 i...     HP       Integrated   \n",
       "4  #18 in Computers & Accessories ( See Top 100 i...   ASUS       Integrated   \n",
       "\n",
       "  Chipset Brand           Color Computer Memory Type  \\\n",
       "0         Intel          Silver           DDR4 SDRAM   \n",
       "1         Intel           Black              Unknown   \n",
       "2         Intel  Natural Silver           DDR4 SDRAM   \n",
       "3         Intel  Mineral Silver           DDR4 SDRAM   \n",
       "4         Intel           Black           DDR4 SDRAM   \n",
       "\n",
       "                                    Customer Reviews Date First Available  \\\n",
       "0  /*\\n* Fix for UDP-1061. Average customer revie...     February 6, 2021   \n",
       "1  /*\\n* Fix for UDP-1061. Average customer revie...    February 13, 2019   \n",
       "2  /*\\n* Fix for UDP-1061. Average customer revie...     October 23, 2020   \n",
       "3  /*\\n* Fix for UDP-1061. Average customer revie...       April 19, 2020   \n",
       "4  /*\\n* Fix for UDP-1061. Average customer revie...      October 5, 2020   \n",
       "\n",
       "  Flash Memory Size Graphics Card Ram Size    Graphics Coprocessor  \\\n",
       "0            128 GB                    NaN     Intel Celeron J3455   \n",
       "1                16                    NaN   Intel HD Graphics 400   \n",
       "2               256                    NaN              Intel Iris   \n",
       "3                 4                    NaN                     NaN   \n",
       "4                64                   4 GB  Intel UHD Graphics 600   \n",
       "\n",
       "                      Hard Drive Hard Drive Interface  \\\n",
       "0            128 GB HDD 5400 rpm               ATA133   \n",
       "1       Flash Memory Solid State              Unknown   \n",
       "2                            SSD     Gigabit Ethernet   \n",
       "3        Embedded MultiMediaCard                  NaN   \n",
       "4  64 GB Embedded MultiMediaCard                  NaN   \n",
       "\n",
       "  Hard Drive Rotational Speed Hardware Platform      Item Dimensions  LxWxH  \\\n",
       "0                     7200.00                PC  13.15 x 8.43 x 0.84 inches   \n",
       "1                         NaN         Chrome OS       7.8 x 12 x 0.8 inches   \n",
       "2                    5400 RPM                PC  14.11 x 9.53 x 0.71 inches   \n",
       "3                         NaN               NaN    12.82 x 8.6 x 0.7 inches   \n",
       "4                         NaN                PC      11 x 7.5 x 0.67 inches   \n",
       "\n",
       "   Item Weight Item model number       Max Screen Resolution  \\\n",
       "0         3.67     HeroBook Pro+  3000 x 1800 Lines Per Inch   \n",
       "1         2.49             N3060           1366 x 768 Pixels   \n",
       "2         3.75       15-dy2021nr          1920 x 1080 Pixels   \n",
       "3         3.20      14a-na0010nr           1366 x 768 Pixels   \n",
       "4         2.31       L210MA-DB01           1366 x 768 Pixels   \n",
       "\n",
       "   Memory_Speed_(GHz) Number of USB 2.0 Ports Number of USB 3.0 Ports  \\\n",
       "0                 NaN                     NaN                     NaN   \n",
       "1                 1.6                     NaN                     NaN   \n",
       "2                 NaN                     NaN                     NaN   \n",
       "3                 2.6                     NaN                     NaN   \n",
       "4                 2.8                       1                       2   \n",
       "\n",
       "  Operating System Optical Drive Type     Power Source              Processor  \\\n",
       "0       Windows 10                NaN  Battery Powered  2.3 GHz celeron_j3455   \n",
       "1        Chrome OS                NaN              NaN           1.6 GHz 8032   \n",
       "2  Windows 10 Home   No Optical Drive  Battery Powered        4.2 GHz core_i5   \n",
       "3        Chrome OS   No Optical Drive  Battery Powered      1.1 GHz celeron_n   \n",
       "4     Windows 10 S   No Optical Drive  Battery Powered        2.8 GHz celeron   \n",
       "\n",
       "  Processor Brand Processor Count Product_Dimensions_(inches)           RAM  \\\n",
       "0           Intel               4        13.15 x 8.43 x 0.84           8 GB   \n",
       "1           Intel               2             7.8 x 12 x 0.8   16 GB LPDDR3   \n",
       "2           Intel               4        14.11 x 9.53 x 0.71      8 GB DDR4   \n",
       "3           Intel               2          12.82 x 8.6 x 0.7    4 GB LPDDR4   \n",
       "4           Intel               2            11 x 7.5 x 0.67      4 GB DDR4   \n",
       "\n",
       "    Screen Resolution              Series Standing screen display size  \\\n",
       "0                 NaN                 NaN                  13.3 Inches   \n",
       "1                 NaN       HP Chromebook                  11.6 Inches   \n",
       "2  1920 x 1080 pixels        HP 15 Laptop                  15.6 Inches   \n",
       "3                 NaN          Chromebook                    14 Inches   \n",
       "4                 NaN  ASUS Laptop L210MA                  11.6 Inches   \n",
       "\n",
       "    Voltage        Wireless Type  \\\n",
       "0       NaN            Bluetooth   \n",
       "1       NaN            802.11abg   \n",
       "2       NaN  Bluetooth, 802.11ax   \n",
       "3       NaN                  NaN   \n",
       "4  19 Volts  Bluetooth, 802.11ac   \n",
       "\n",
       "                                                name            seller  \\\n",
       "0  CHUWI HeroBook Pro+ Laptop,13.3” 3200x1800 Res...             CHUWI   \n",
       "1  HP Chromebook 11 G5 11.6 inches Chromebook - I...        KT Renewed   \n",
       "2  HP 15 Laptop, 11th Gen Intel Core i5-1135G7 Pr...         CAC Store   \n",
       "3  HP Chromebook 14-inch HD Laptop, Intel Celeron...              None   \n",
       "4  ASUS Laptop L210 Ultra Thin Laptop, 11.6” HD D...  BroadElectronics   \n",
       "\n",
       "                                         seller_link  \n",
       "0  https://www.amazon.com/gp/help/seller/at-a-gla...  \n",
       "1  https://www.amazon.com/gp/help/seller/at-a-gla...  \n",
       "2  https://www.amazon.com/gp/help/seller/at-a-gla...  \n",
       "3                                               None  \n",
       "4  https://www.amazon.com/gp/help/seller/at-a-gla...  "
      ],
      "text/html": "<div>\n<style scoped>\n    .dataframe tbody tr th:only-of-type {\n        vertical-align: middle;\n    }\n\n    .dataframe tbody tr th {\n        vertical-align: top;\n    }\n\n    .dataframe thead th {\n        text-align: right;\n    }\n</style>\n<table border=\"1\" class=\"dataframe\">\n  <thead>\n    <tr style=\"text-align: right;\">\n      <th></th>\n      <th>ASIN</th>\n      <th>Average Battery Life (in hours)</th>\n      <th>Batteries</th>\n      <th>Best Sellers Rank</th>\n      <th>Brand</th>\n      <th>Card Description</th>\n      <th>Chipset Brand</th>\n      <th>Color</th>\n      <th>Computer Memory Type</th>\n      <th>Customer Reviews</th>\n      <th>Date First Available</th>\n      <th>Flash Memory Size</th>\n      <th>Graphics Card Ram Size</th>\n      <th>Graphics Coprocessor</th>\n      <th>Hard Drive</th>\n      <th>Hard Drive Interface</th>\n      <th>Hard Drive Rotational Speed</th>\n      <th>Hardware Platform</th>\n      <th>Item Dimensions  LxWxH</th>\n      <th>Item Weight</th>\n      <th>Item model number</th>\n      <th>Max Screen Resolution</th>\n      <th>Memory_Speed_(GHz)</th>\n      <th>Number of USB 2.0 Ports</th>\n      <th>Number of USB 3.0 Ports</th>\n      <th>Operating System</th>\n      <th>Optical Drive Type</th>\n      <th>Power Source</th>\n      <th>Processor</th>\n      <th>Processor Brand</th>\n      <th>Processor Count</th>\n      <th>Product_Dimensions_(inches)</th>\n      <th>RAM</th>\n      <th>Screen Resolution</th>\n      <th>Series</th>\n      <th>Standing screen display size</th>\n      <th>Voltage</th>\n      <th>Wireless Type</th>\n      <th>name</th>\n      <th>seller</th>\n      <th>seller_link</th>\n    </tr>\n  </thead>\n  <tbody>\n    <tr>\n      <th>0</th>\n      <td>B08W2VYYVX</td>\n      <td>NaN</td>\n      <td>NaN</td>\n      <td>#1,944 in Computers &amp; Accessories ( See Top 10...</td>\n      <td>CHUWI</td>\n      <td>NaN</td>\n      <td>Intel</td>\n      <td>Silver</td>\n      <td>DDR4 SDRAM</td>\n      <td>/*\\n* Fix for UDP-1061. Average customer revie...</td>\n      <td>February 6, 2021</td>\n      <td>128 GB</td>\n      <td>NaN</td>\n      <td>Intel Celeron J3455</td>\n      <td>128 GB HDD 5400 rpm</td>\n      <td>ATA133</td>\n      <td>7200.00</td>\n      <td>PC</td>\n      <td>13.15 x 8.43 x 0.84 inches</td>\n      <td>3.67</td>\n      <td>HeroBook Pro+</td>\n      <td>3000 x 1800 Lines Per Inch</td>\n      <td>NaN</td>\n      <td>NaN</td>\n      <td>NaN</td>\n      <td>Windows 10</td>\n      <td>NaN</td>\n      <td>Battery Powered</td>\n      <td>2.3 GHz celeron_j3455</td>\n      <td>Intel</td>\n      <td>4</td>\n      <td>13.15 x 8.43 x 0.84</td>\n      <td>8 GB</td>\n      <td>NaN</td>\n      <td>NaN</td>\n      <td>13.3 Inches</td>\n      <td>NaN</td>\n      <td>Bluetooth</td>\n      <td>CHUWI HeroBook Pro+ Laptop,13.3” 3200x1800 Res...</td>\n      <td>CHUWI</td>\n      <td>https://www.amazon.com/gp/help/seller/at-a-gla...</td>\n    </tr>\n    <tr>\n      <th>1</th>\n      <td>B07NPXCH6Q</td>\n      <td>12.83 Hours</td>\n      <td>1 Lithium ion batteries required. (included)</td>\n      <td>#5,305 in Computers &amp; Accessories ( See Top 10...</td>\n      <td>HP</td>\n      <td>Integrated</td>\n      <td>Intel</td>\n      <td>Black</td>\n      <td>Unknown</td>\n      <td>/*\\n* Fix for UDP-1061. Average customer revie...</td>\n      <td>February 13, 2019</td>\n      <td>16</td>\n      <td>NaN</td>\n      <td>Intel HD Graphics 400</td>\n      <td>Flash Memory Solid State</td>\n      <td>Unknown</td>\n      <td>NaN</td>\n      <td>Chrome OS</td>\n      <td>7.8 x 12 x 0.8 inches</td>\n      <td>2.49</td>\n      <td>N3060</td>\n      <td>1366 x 768 Pixels</td>\n      <td>1.6</td>\n      <td>NaN</td>\n      <td>NaN</td>\n      <td>Chrome OS</td>\n      <td>NaN</td>\n      <td>NaN</td>\n      <td>1.6 GHz 8032</td>\n      <td>Intel</td>\n      <td>2</td>\n      <td>7.8 x 12 x 0.8</td>\n      <td>16 GB LPDDR3</td>\n      <td>NaN</td>\n      <td>HP Chromebook</td>\n      <td>11.6 Inches</td>\n      <td>NaN</td>\n      <td>802.11abg</td>\n      <td>HP Chromebook 11 G5 11.6 inches Chromebook - I...</td>\n      <td>KT Renewed</td>\n      <td>https://www.amazon.com/gp/help/seller/at-a-gla...</td>\n    </tr>\n    <tr>\n      <th>2</th>\n      <td>B08KGZ79N6</td>\n      <td>8 Hours</td>\n      <td>1 Lithium ion batteries required. (included)</td>\n      <td>#65 in Computers &amp; Accessories ( See Top 100 i...</td>\n      <td>HP</td>\n      <td>Integrated</td>\n      <td>Intel</td>\n      <td>Natural Silver</td>\n      <td>DDR4 SDRAM</td>\n      <td>/*\\n* Fix for UDP-1061. Average customer revie...</td>\n      <td>October 23, 2020</td>\n      <td>256</td>\n      <td>NaN</td>\n      <td>Intel Iris</td>\n      <td>SSD</td>\n      <td>Gigabit Ethernet</td>\n      <td>5400 RPM</td>\n      <td>PC</td>\n      <td>14.11 x 9.53 x 0.71 inches</td>\n      <td>3.75</td>\n      <td>15-dy2021nr</td>\n      <td>1920 x 1080 Pixels</td>\n      <td>NaN</td>\n      <td>NaN</td>\n      <td>NaN</td>\n      <td>Windows 10 Home</td>\n      <td>No Optical Drive</td>\n      <td>Battery Powered</td>\n      <td>4.2 GHz core_i5</td>\n      <td>Intel</td>\n      <td>4</td>\n      <td>14.11 x 9.53 x 0.71</td>\n      <td>8 GB DDR4</td>\n      <td>1920 x 1080 pixels</td>\n      <td>HP 15 Laptop</td>\n      <td>15.6 Inches</td>\n      <td>NaN</td>\n      <td>Bluetooth, 802.11ax</td>\n      <td>HP 15 Laptop, 11th Gen Intel Core i5-1135G7 Pr...</td>\n      <td>CAC Store</td>\n      <td>https://www.amazon.com/gp/help/seller/at-a-gla...</td>\n    </tr>\n    <tr>\n      <th>3</th>\n      <td>B08529TZMC</td>\n      <td>13.5 Hours</td>\n      <td>1 Lithium Polymer batteries required. (included)</td>\n      <td>#78 in Computers &amp; Accessories ( See Top 100 i...</td>\n      <td>HP</td>\n      <td>Integrated</td>\n      <td>Intel</td>\n      <td>Mineral Silver</td>\n      <td>DDR4 SDRAM</td>\n      <td>/*\\n* Fix for UDP-1061. Average customer revie...</td>\n      <td>April 19, 2020</td>\n      <td>4</td>\n      <td>NaN</td>\n      <td>NaN</td>\n      <td>Embedded MultiMediaCard</td>\n      <td>NaN</td>\n      <td>NaN</td>\n      <td>NaN</td>\n      <td>12.82 x 8.6 x 0.7 inches</td>\n      <td>3.20</td>\n      <td>14a-na0010nr</td>\n      <td>1366 x 768 Pixels</td>\n      <td>2.6</td>\n      <td>NaN</td>\n      <td>NaN</td>\n      <td>Chrome OS</td>\n      <td>No Optical Drive</td>\n      <td>Battery Powered</td>\n      <td>1.1 GHz celeron_n</td>\n      <td>Intel</td>\n      <td>2</td>\n      <td>12.82 x 8.6 x 0.7</td>\n      <td>4 GB LPDDR4</td>\n      <td>NaN</td>\n      <td>Chromebook</td>\n      <td>14 Inches</td>\n      <td>NaN</td>\n      <td>NaN</td>\n      <td>HP Chromebook 14-inch HD Laptop, Intel Celeron...</td>\n      <td>None</td>\n      <td>None</td>\n    </tr>\n    <tr>\n      <th>4</th>\n      <td>B081V6W99V</td>\n      <td>12 Hours</td>\n      <td>1 Lithium Metal batteries required. (included)</td>\n      <td>#18 in Computers &amp; Accessories ( See Top 100 i...</td>\n      <td>ASUS</td>\n      <td>Integrated</td>\n      <td>Intel</td>\n      <td>Black</td>\n      <td>DDR4 SDRAM</td>\n      <td>/*\\n* Fix for UDP-1061. Average customer revie...</td>\n      <td>October 5, 2020</td>\n      <td>64</td>\n      <td>4 GB</td>\n      <td>Intel UHD Graphics 600</td>\n      <td>64 GB Embedded MultiMediaCard</td>\n      <td>NaN</td>\n      <td>NaN</td>\n      <td>PC</td>\n      <td>11 x 7.5 x 0.67 inches</td>\n      <td>2.31</td>\n      <td>L210MA-DB01</td>\n      <td>1366 x 768 Pixels</td>\n      <td>2.8</td>\n      <td>1</td>\n      <td>2</td>\n      <td>Windows 10 S</td>\n      <td>No Optical Drive</td>\n      <td>Battery Powered</td>\n      <td>2.8 GHz celeron</td>\n      <td>Intel</td>\n      <td>2</td>\n      <td>11 x 7.5 x 0.67</td>\n      <td>4 GB DDR4</td>\n      <td>NaN</td>\n      <td>ASUS Laptop L210MA</td>\n      <td>11.6 Inches</td>\n      <td>19 Volts</td>\n      <td>Bluetooth, 802.11ac</td>\n      <td>ASUS Laptop L210 Ultra Thin Laptop, 11.6” HD D...</td>\n      <td>BroadElectronics</td>\n      <td>https://www.amazon.com/gp/help/seller/at-a-gla...</td>\n    </tr>\n  </tbody>\n</table>\n</div>"
     },
     "metadata": {},
     "execution_count": 48
    }
   ],
   "source": [
    "laptop_product.rename(columns={\"Memory Speed\":\"Memory_Speed_(GHz)\"}) \n",
    "laptop_product.head()"
   ]
  },
  {
   "cell_type": "code",
   "execution_count": 49,
   "metadata": {},
   "outputs": [],
   "source": [
    "# extract rank from best seller rank\n",
    "\n",
    "a = laptop_product['Best Sellers Rank'].str.split(expand=True)\n",
    "a.columns=['c1', 'c2', 'c3', 'c4','c5','c6','c7', 'c8', 'c9', 'c41','c51','c61','c12', 'c22', 'c32', 'c42','c52','c62','c13', 'c23', 'c33', 'c43','c53','c63','c14']\n",
    "a[\"c1\"]  = a[\"c1\"] .str.replace('#', '').str.replace(',', '')"
   ]
  },
  {
   "cell_type": "code",
   "execution_count": 50,
   "metadata": {},
   "outputs": [
    {
     "output_type": "execute_result",
     "data": {
      "text/plain": [
       "          c1  c2         c3 c4           c5 c6   c7   c8   c9 c41        c51  \\\n",
       "0       1944  in  Computers  &  Accessories  (  See  Top  100  in  Computers   \n",
       "1       5305  in  Computers  &  Accessories  (  See  Top  100  in  Computers   \n",
       "2         65  in  Computers  &  Accessories  (  See  Top  100  in  Computers   \n",
       "3         78  in  Computers  &  Accessories  (  See  Top  100  in  Computers   \n",
       "4         18  in  Computers  &  Accessories  (  See  Top  100  in  Computers   \n",
       "...      ...  ..        ... ..          ... ..  ...  ...  ...  ..        ...   \n",
       "5190   96243  in  Computers  &  Accessories  (  See  Top  100  in  Computers   \n",
       "5191  129372  in  Computers  &  Accessories  (  See  Top  100  in  Computers   \n",
       "5192    3280  in  Computers  &  Accessories  (  See  Top  100  in  Computers   \n",
       "5193  251994  in  Computers  &  Accessories  (  See  Top  100  in  Computers   \n",
       "5194   83805  in  Computers  &  Accessories  (  See  Top  100  in  Computers   \n",
       "\n",
       "     c61          c12 c22      c32 c42          c52     c62        c13   c23  \\\n",
       "0      &  Accessories   )     #223  in  Traditional  Laptop  Computers  None   \n",
       "1      &  Accessories   )     #624  in  Traditional  Laptop  Computers  None   \n",
       "2      &  Accessories   )       #8  in  Traditional  Laptop  Computers  None   \n",
       "3      &  Accessories   )       #9  in  Traditional  Laptop  Computers  None   \n",
       "4      &  Accessories   )       #2  in  Traditional  Laptop  Computers  None   \n",
       "...   ..          ...  ..      ...  ..          ...     ...        ...   ...   \n",
       "5190   &  Accessories   )  #17,375  in  Traditional  Laptop  Computers  None   \n",
       "5191   &  Accessories   )  #24,261  in  Traditional  Laptop  Computers  None   \n",
       "5192   &  Accessories   )     #365  in  Traditional  Laptop  Computers  None   \n",
       "5193   &  Accessories   )  #47,169  in  Traditional  Laptop  Computers  None   \n",
       "5194   &  Accessories   )  #14,911  in  Traditional  Laptop  Computers  None   \n",
       "\n",
       "       c33   c43   c53   c63   c14  \n",
       "0     None  None  None  None  None  \n",
       "1     None  None  None  None  None  \n",
       "2     None  None  None  None  None  \n",
       "3     None  None  None  None  None  \n",
       "4     None  None  None  None  None  \n",
       "...    ...   ...   ...   ...   ...  \n",
       "5190  None  None  None  None  None  \n",
       "5191  None  None  None  None  None  \n",
       "5192  None  None  None  None  None  \n",
       "5193  None  None  None  None  None  \n",
       "5194  None  None  None  None  None  \n",
       "\n",
       "[5195 rows x 25 columns]"
      ],
      "text/html": "<div>\n<style scoped>\n    .dataframe tbody tr th:only-of-type {\n        vertical-align: middle;\n    }\n\n    .dataframe tbody tr th {\n        vertical-align: top;\n    }\n\n    .dataframe thead th {\n        text-align: right;\n    }\n</style>\n<table border=\"1\" class=\"dataframe\">\n  <thead>\n    <tr style=\"text-align: right;\">\n      <th></th>\n      <th>c1</th>\n      <th>c2</th>\n      <th>c3</th>\n      <th>c4</th>\n      <th>c5</th>\n      <th>c6</th>\n      <th>c7</th>\n      <th>c8</th>\n      <th>c9</th>\n      <th>c41</th>\n      <th>c51</th>\n      <th>c61</th>\n      <th>c12</th>\n      <th>c22</th>\n      <th>c32</th>\n      <th>c42</th>\n      <th>c52</th>\n      <th>c62</th>\n      <th>c13</th>\n      <th>c23</th>\n      <th>c33</th>\n      <th>c43</th>\n      <th>c53</th>\n      <th>c63</th>\n      <th>c14</th>\n    </tr>\n  </thead>\n  <tbody>\n    <tr>\n      <th>0</th>\n      <td>1944</td>\n      <td>in</td>\n      <td>Computers</td>\n      <td>&amp;</td>\n      <td>Accessories</td>\n      <td>(</td>\n      <td>See</td>\n      <td>Top</td>\n      <td>100</td>\n      <td>in</td>\n      <td>Computers</td>\n      <td>&amp;</td>\n      <td>Accessories</td>\n      <td>)</td>\n      <td>#223</td>\n      <td>in</td>\n      <td>Traditional</td>\n      <td>Laptop</td>\n      <td>Computers</td>\n      <td>None</td>\n      <td>None</td>\n      <td>None</td>\n      <td>None</td>\n      <td>None</td>\n      <td>None</td>\n    </tr>\n    <tr>\n      <th>1</th>\n      <td>5305</td>\n      <td>in</td>\n      <td>Computers</td>\n      <td>&amp;</td>\n      <td>Accessories</td>\n      <td>(</td>\n      <td>See</td>\n      <td>Top</td>\n      <td>100</td>\n      <td>in</td>\n      <td>Computers</td>\n      <td>&amp;</td>\n      <td>Accessories</td>\n      <td>)</td>\n      <td>#624</td>\n      <td>in</td>\n      <td>Traditional</td>\n      <td>Laptop</td>\n      <td>Computers</td>\n      <td>None</td>\n      <td>None</td>\n      <td>None</td>\n      <td>None</td>\n      <td>None</td>\n      <td>None</td>\n    </tr>\n    <tr>\n      <th>2</th>\n      <td>65</td>\n      <td>in</td>\n      <td>Computers</td>\n      <td>&amp;</td>\n      <td>Accessories</td>\n      <td>(</td>\n      <td>See</td>\n      <td>Top</td>\n      <td>100</td>\n      <td>in</td>\n      <td>Computers</td>\n      <td>&amp;</td>\n      <td>Accessories</td>\n      <td>)</td>\n      <td>#8</td>\n      <td>in</td>\n      <td>Traditional</td>\n      <td>Laptop</td>\n      <td>Computers</td>\n      <td>None</td>\n      <td>None</td>\n      <td>None</td>\n      <td>None</td>\n      <td>None</td>\n      <td>None</td>\n    </tr>\n    <tr>\n      <th>3</th>\n      <td>78</td>\n      <td>in</td>\n      <td>Computers</td>\n      <td>&amp;</td>\n      <td>Accessories</td>\n      <td>(</td>\n      <td>See</td>\n      <td>Top</td>\n      <td>100</td>\n      <td>in</td>\n      <td>Computers</td>\n      <td>&amp;</td>\n      <td>Accessories</td>\n      <td>)</td>\n      <td>#9</td>\n      <td>in</td>\n      <td>Traditional</td>\n      <td>Laptop</td>\n      <td>Computers</td>\n      <td>None</td>\n      <td>None</td>\n      <td>None</td>\n      <td>None</td>\n      <td>None</td>\n      <td>None</td>\n    </tr>\n    <tr>\n      <th>4</th>\n      <td>18</td>\n      <td>in</td>\n      <td>Computers</td>\n      <td>&amp;</td>\n      <td>Accessories</td>\n      <td>(</td>\n      <td>See</td>\n      <td>Top</td>\n      <td>100</td>\n      <td>in</td>\n      <td>Computers</td>\n      <td>&amp;</td>\n      <td>Accessories</td>\n      <td>)</td>\n      <td>#2</td>\n      <td>in</td>\n      <td>Traditional</td>\n      <td>Laptop</td>\n      <td>Computers</td>\n      <td>None</td>\n      <td>None</td>\n      <td>None</td>\n      <td>None</td>\n      <td>None</td>\n      <td>None</td>\n    </tr>\n    <tr>\n      <th>...</th>\n      <td>...</td>\n      <td>...</td>\n      <td>...</td>\n      <td>...</td>\n      <td>...</td>\n      <td>...</td>\n      <td>...</td>\n      <td>...</td>\n      <td>...</td>\n      <td>...</td>\n      <td>...</td>\n      <td>...</td>\n      <td>...</td>\n      <td>...</td>\n      <td>...</td>\n      <td>...</td>\n      <td>...</td>\n      <td>...</td>\n      <td>...</td>\n      <td>...</td>\n      <td>...</td>\n      <td>...</td>\n      <td>...</td>\n      <td>...</td>\n      <td>...</td>\n    </tr>\n    <tr>\n      <th>5190</th>\n      <td>96243</td>\n      <td>in</td>\n      <td>Computers</td>\n      <td>&amp;</td>\n      <td>Accessories</td>\n      <td>(</td>\n      <td>See</td>\n      <td>Top</td>\n      <td>100</td>\n      <td>in</td>\n      <td>Computers</td>\n      <td>&amp;</td>\n      <td>Accessories</td>\n      <td>)</td>\n      <td>#17,375</td>\n      <td>in</td>\n      <td>Traditional</td>\n      <td>Laptop</td>\n      <td>Computers</td>\n      <td>None</td>\n      <td>None</td>\n      <td>None</td>\n      <td>None</td>\n      <td>None</td>\n      <td>None</td>\n    </tr>\n    <tr>\n      <th>5191</th>\n      <td>129372</td>\n      <td>in</td>\n      <td>Computers</td>\n      <td>&amp;</td>\n      <td>Accessories</td>\n      <td>(</td>\n      <td>See</td>\n      <td>Top</td>\n      <td>100</td>\n      <td>in</td>\n      <td>Computers</td>\n      <td>&amp;</td>\n      <td>Accessories</td>\n      <td>)</td>\n      <td>#24,261</td>\n      <td>in</td>\n      <td>Traditional</td>\n      <td>Laptop</td>\n      <td>Computers</td>\n      <td>None</td>\n      <td>None</td>\n      <td>None</td>\n      <td>None</td>\n      <td>None</td>\n      <td>None</td>\n    </tr>\n    <tr>\n      <th>5192</th>\n      <td>3280</td>\n      <td>in</td>\n      <td>Computers</td>\n      <td>&amp;</td>\n      <td>Accessories</td>\n      <td>(</td>\n      <td>See</td>\n      <td>Top</td>\n      <td>100</td>\n      <td>in</td>\n      <td>Computers</td>\n      <td>&amp;</td>\n      <td>Accessories</td>\n      <td>)</td>\n      <td>#365</td>\n      <td>in</td>\n      <td>Traditional</td>\n      <td>Laptop</td>\n      <td>Computers</td>\n      <td>None</td>\n      <td>None</td>\n      <td>None</td>\n      <td>None</td>\n      <td>None</td>\n      <td>None</td>\n    </tr>\n    <tr>\n      <th>5193</th>\n      <td>251994</td>\n      <td>in</td>\n      <td>Computers</td>\n      <td>&amp;</td>\n      <td>Accessories</td>\n      <td>(</td>\n      <td>See</td>\n      <td>Top</td>\n      <td>100</td>\n      <td>in</td>\n      <td>Computers</td>\n      <td>&amp;</td>\n      <td>Accessories</td>\n      <td>)</td>\n      <td>#47,169</td>\n      <td>in</td>\n      <td>Traditional</td>\n      <td>Laptop</td>\n      <td>Computers</td>\n      <td>None</td>\n      <td>None</td>\n      <td>None</td>\n      <td>None</td>\n      <td>None</td>\n      <td>None</td>\n    </tr>\n    <tr>\n      <th>5194</th>\n      <td>83805</td>\n      <td>in</td>\n      <td>Computers</td>\n      <td>&amp;</td>\n      <td>Accessories</td>\n      <td>(</td>\n      <td>See</td>\n      <td>Top</td>\n      <td>100</td>\n      <td>in</td>\n      <td>Computers</td>\n      <td>&amp;</td>\n      <td>Accessories</td>\n      <td>)</td>\n      <td>#14,911</td>\n      <td>in</td>\n      <td>Traditional</td>\n      <td>Laptop</td>\n      <td>Computers</td>\n      <td>None</td>\n      <td>None</td>\n      <td>None</td>\n      <td>None</td>\n      <td>None</td>\n      <td>None</td>\n    </tr>\n  </tbody>\n</table>\n<p>5195 rows × 25 columns</p>\n</div>"
     },
     "metadata": {},
     "execution_count": 50
    }
   ],
   "source": [
    "a"
   ]
  },
  {
   "cell_type": "code",
   "execution_count": 51,
   "metadata": {},
   "outputs": [
    {
     "output_type": "execute_result",
     "data": {
      "text/plain": [
       "     Seller_rank\n",
       "0           1944\n",
       "1           5305\n",
       "2             65\n",
       "3             78\n",
       "4             18\n",
       "...          ...\n",
       "5190       96243\n",
       "5191      129372\n",
       "5192        3280\n",
       "5193      251994\n",
       "5194       83805\n",
       "\n",
       "[5195 rows x 1 columns]"
      ],
      "text/html": "<div>\n<style scoped>\n    .dataframe tbody tr th:only-of-type {\n        vertical-align: middle;\n    }\n\n    .dataframe tbody tr th {\n        vertical-align: top;\n    }\n\n    .dataframe thead th {\n        text-align: right;\n    }\n</style>\n<table border=\"1\" class=\"dataframe\">\n  <thead>\n    <tr style=\"text-align: right;\">\n      <th></th>\n      <th>Seller_rank</th>\n    </tr>\n  </thead>\n  <tbody>\n    <tr>\n      <th>0</th>\n      <td>1944</td>\n    </tr>\n    <tr>\n      <th>1</th>\n      <td>5305</td>\n    </tr>\n    <tr>\n      <th>2</th>\n      <td>65</td>\n    </tr>\n    <tr>\n      <th>3</th>\n      <td>78</td>\n    </tr>\n    <tr>\n      <th>4</th>\n      <td>18</td>\n    </tr>\n    <tr>\n      <th>...</th>\n      <td>...</td>\n    </tr>\n    <tr>\n      <th>5190</th>\n      <td>96243</td>\n    </tr>\n    <tr>\n      <th>5191</th>\n      <td>129372</td>\n    </tr>\n    <tr>\n      <th>5192</th>\n      <td>3280</td>\n    </tr>\n    <tr>\n      <th>5193</th>\n      <td>251994</td>\n    </tr>\n    <tr>\n      <th>5194</th>\n      <td>83805</td>\n    </tr>\n  </tbody>\n</table>\n<p>5195 rows × 1 columns</p>\n</div>"
     },
     "metadata": {},
     "execution_count": 51
    }
   ],
   "source": [
    "\n",
    "a=a.rename(columns={\"c1\":\"Seller_rank\"})\n",
    "x= pd.DataFrame(a.Seller_rank)\n",
    "x"
   ]
  },
  {
   "cell_type": "code",
   "execution_count": 52,
   "metadata": {},
   "outputs": [
    {
     "output_type": "execute_result",
     "data": {
      "text/plain": [
       "            Seller_category\n",
       "0     Computers&Accessories\n",
       "1     Computers&Accessories\n",
       "2     Computers&Accessories\n",
       "3     Computers&Accessories\n",
       "4     Computers&Accessories\n",
       "...                     ...\n",
       "5190  Computers&Accessories\n",
       "5191  Computers&Accessories\n",
       "5192  Computers&Accessories\n",
       "5193  Computers&Accessories\n",
       "5194  Computers&Accessories\n",
       "\n",
       "[5195 rows x 1 columns]"
      ],
      "text/html": "<div>\n<style scoped>\n    .dataframe tbody tr th:only-of-type {\n        vertical-align: middle;\n    }\n\n    .dataframe tbody tr th {\n        vertical-align: top;\n    }\n\n    .dataframe thead th {\n        text-align: right;\n    }\n</style>\n<table border=\"1\" class=\"dataframe\">\n  <thead>\n    <tr style=\"text-align: right;\">\n      <th></th>\n      <th>Seller_category</th>\n    </tr>\n  </thead>\n  <tbody>\n    <tr>\n      <th>0</th>\n      <td>Computers&amp;Accessories</td>\n    </tr>\n    <tr>\n      <th>1</th>\n      <td>Computers&amp;Accessories</td>\n    </tr>\n    <tr>\n      <th>2</th>\n      <td>Computers&amp;Accessories</td>\n    </tr>\n    <tr>\n      <th>3</th>\n      <td>Computers&amp;Accessories</td>\n    </tr>\n    <tr>\n      <th>4</th>\n      <td>Computers&amp;Accessories</td>\n    </tr>\n    <tr>\n      <th>...</th>\n      <td>...</td>\n    </tr>\n    <tr>\n      <th>5190</th>\n      <td>Computers&amp;Accessories</td>\n    </tr>\n    <tr>\n      <th>5191</th>\n      <td>Computers&amp;Accessories</td>\n    </tr>\n    <tr>\n      <th>5192</th>\n      <td>Computers&amp;Accessories</td>\n    </tr>\n    <tr>\n      <th>5193</th>\n      <td>Computers&amp;Accessories</td>\n    </tr>\n    <tr>\n      <th>5194</th>\n      <td>Computers&amp;Accessories</td>\n    </tr>\n  </tbody>\n</table>\n<p>5195 rows × 1 columns</p>\n</div>"
     },
     "metadata": {},
     "execution_count": 52
    }
   ],
   "source": [
    "\n",
    "Seller_category = a.c3 + a.c4 +a.c5\n",
    "y = pd.DataFrame(Seller_category)\n",
    "y.columns = [\"Seller_category\"]\n",
    "y"
   ]
  },
  {
   "cell_type": "code",
   "execution_count": 53,
   "metadata": {},
   "outputs": [],
   "source": [
    "\n",
    "Laptop = pd.concat([laptop_product, x, y],axis=1)\n",
    "laptop_product.drop(columns='Best Sellers Rank',inplace=True)"
   ]
  },
  {
   "cell_type": "code",
   "execution_count": 54,
   "metadata": {},
   "outputs": [
    {
     "output_type": "execute_result",
     "data": {
      "text/plain": [
       "         ASIN Average Battery Life (in hours) Batteries  \\\n",
       "0  B08W2VYYVX                             NaN       NaN   \n",
       "\n",
       "                                   Best Sellers Rank  Brand Card Description  \\\n",
       "0  #1,944 in Computers & Accessories ( See Top 10...  CHUWI              NaN   \n",
       "\n",
       "  Chipset Brand   Color Computer Memory Type  \\\n",
       "0         Intel  Silver           DDR4 SDRAM   \n",
       "\n",
       "                                    Customer Reviews Date First Available  \\\n",
       "0  /*\\n* Fix for UDP-1061. Average customer revie...     February 6, 2021   \n",
       "\n",
       "  Flash Memory Size Graphics Card Ram Size Graphics Coprocessor  \\\n",
       "0            128 GB                    NaN  Intel Celeron J3455   \n",
       "\n",
       "            Hard Drive Hard Drive Interface Hard Drive Rotational Speed  \\\n",
       "0  128 GB HDD 5400 rpm               ATA133                     7200.00   \n",
       "\n",
       "  Hardware Platform      Item Dimensions  LxWxH  Item Weight  \\\n",
       "0                PC  13.15 x 8.43 x 0.84 inches         3.67   \n",
       "\n",
       "  Item model number       Max Screen Resolution  Memory_Speed_(GHz)  \\\n",
       "0     HeroBook Pro+  3000 x 1800 Lines Per Inch                 NaN   \n",
       "\n",
       "  Number of USB 2.0 Ports Number of USB 3.0 Ports Operating System  \\\n",
       "0                     NaN                     NaN       Windows 10   \n",
       "\n",
       "  Optical Drive Type     Power Source              Processor Processor Brand  \\\n",
       "0                NaN  Battery Powered  2.3 GHz celeron_j3455           Intel   \n",
       "\n",
       "  Processor Count Product_Dimensions_(inches)   RAM Screen Resolution Series  \\\n",
       "0               4        13.15 x 8.43 x 0.84   8 GB               NaN    NaN   \n",
       "\n",
       "  Standing screen display size Voltage Wireless Type  \\\n",
       "0                  13.3 Inches     NaN     Bluetooth   \n",
       "\n",
       "                                                name seller  \\\n",
       "0  CHUWI HeroBook Pro+ Laptop,13.3” 3200x1800 Res...  CHUWI   \n",
       "\n",
       "                                         seller_link Seller_rank  \\\n",
       "0  https://www.amazon.com/gp/help/seller/at-a-gla...        1944   \n",
       "\n",
       "         Seller_category  \n",
       "0  Computers&Accessories  "
      ],
      "text/html": "<div>\n<style scoped>\n    .dataframe tbody tr th:only-of-type {\n        vertical-align: middle;\n    }\n\n    .dataframe tbody tr th {\n        vertical-align: top;\n    }\n\n    .dataframe thead th {\n        text-align: right;\n    }\n</style>\n<table border=\"1\" class=\"dataframe\">\n  <thead>\n    <tr style=\"text-align: right;\">\n      <th></th>\n      <th>ASIN</th>\n      <th>Average Battery Life (in hours)</th>\n      <th>Batteries</th>\n      <th>Best Sellers Rank</th>\n      <th>Brand</th>\n      <th>Card Description</th>\n      <th>Chipset Brand</th>\n      <th>Color</th>\n      <th>Computer Memory Type</th>\n      <th>Customer Reviews</th>\n      <th>Date First Available</th>\n      <th>Flash Memory Size</th>\n      <th>Graphics Card Ram Size</th>\n      <th>Graphics Coprocessor</th>\n      <th>Hard Drive</th>\n      <th>Hard Drive Interface</th>\n      <th>Hard Drive Rotational Speed</th>\n      <th>Hardware Platform</th>\n      <th>Item Dimensions  LxWxH</th>\n      <th>Item Weight</th>\n      <th>Item model number</th>\n      <th>Max Screen Resolution</th>\n      <th>Memory_Speed_(GHz)</th>\n      <th>Number of USB 2.0 Ports</th>\n      <th>Number of USB 3.0 Ports</th>\n      <th>Operating System</th>\n      <th>Optical Drive Type</th>\n      <th>Power Source</th>\n      <th>Processor</th>\n      <th>Processor Brand</th>\n      <th>Processor Count</th>\n      <th>Product_Dimensions_(inches)</th>\n      <th>RAM</th>\n      <th>Screen Resolution</th>\n      <th>Series</th>\n      <th>Standing screen display size</th>\n      <th>Voltage</th>\n      <th>Wireless Type</th>\n      <th>name</th>\n      <th>seller</th>\n      <th>seller_link</th>\n      <th>Seller_rank</th>\n      <th>Seller_category</th>\n    </tr>\n  </thead>\n  <tbody>\n    <tr>\n      <th>0</th>\n      <td>B08W2VYYVX</td>\n      <td>NaN</td>\n      <td>NaN</td>\n      <td>#1,944 in Computers &amp; Accessories ( See Top 10...</td>\n      <td>CHUWI</td>\n      <td>NaN</td>\n      <td>Intel</td>\n      <td>Silver</td>\n      <td>DDR4 SDRAM</td>\n      <td>/*\\n* Fix for UDP-1061. Average customer revie...</td>\n      <td>February 6, 2021</td>\n      <td>128 GB</td>\n      <td>NaN</td>\n      <td>Intel Celeron J3455</td>\n      <td>128 GB HDD 5400 rpm</td>\n      <td>ATA133</td>\n      <td>7200.00</td>\n      <td>PC</td>\n      <td>13.15 x 8.43 x 0.84 inches</td>\n      <td>3.67</td>\n      <td>HeroBook Pro+</td>\n      <td>3000 x 1800 Lines Per Inch</td>\n      <td>NaN</td>\n      <td>NaN</td>\n      <td>NaN</td>\n      <td>Windows 10</td>\n      <td>NaN</td>\n      <td>Battery Powered</td>\n      <td>2.3 GHz celeron_j3455</td>\n      <td>Intel</td>\n      <td>4</td>\n      <td>13.15 x 8.43 x 0.84</td>\n      <td>8 GB</td>\n      <td>NaN</td>\n      <td>NaN</td>\n      <td>13.3 Inches</td>\n      <td>NaN</td>\n      <td>Bluetooth</td>\n      <td>CHUWI HeroBook Pro+ Laptop,13.3” 3200x1800 Res...</td>\n      <td>CHUWI</td>\n      <td>https://www.amazon.com/gp/help/seller/at-a-gla...</td>\n      <td>1944</td>\n      <td>Computers&amp;Accessories</td>\n    </tr>\n  </tbody>\n</table>\n</div>"
     },
     "metadata": {},
     "execution_count": 54
    }
   ],
   "source": [
    "Laptop.head(1)"
   ]
  },
  {
   "cell_type": "code",
   "execution_count": 55,
   "metadata": {},
   "outputs": [
    {
     "output_type": "execute_result",
     "data": {
      "text/plain": [
       "(4186, 43)"
      ]
     },
     "metadata": {},
     "execution_count": 55
    }
   ],
   "source": [
    "# After the clenaing process I remove all Asin duplicates to keep just unique values\n",
    "Laptop.drop_duplicates(subset=\"ASIN\", inplace=True)\n",
    "Laptop = Laptop.reset_index(drop=True)\n",
    "Laptop.shape"
   ]
  },
  {
   "cell_type": "code",
   "execution_count": 56,
   "metadata": {},
   "outputs": [
    {
     "output_type": "execute_result",
     "data": {
      "text/plain": [
       "Index(['ASIN', 'Average Battery Life (in hours)', 'Batteries',\n",
       "       'Best Sellers Rank', 'Brand', 'Card Description', 'Chipset Brand',\n",
       "       'Color', 'Computer Memory Type', 'Customer Reviews',\n",
       "       'Date First Available', 'Flash Memory Size', 'Graphics Card Ram Size',\n",
       "       'Graphics Coprocessor', 'Hard Drive', 'Hard Drive Interface',\n",
       "       'Hard Drive Rotational Speed', 'Hardware Platform',\n",
       "       'Item Dimensions  LxWxH', 'Item Weight', 'Item model number',\n",
       "       'Max Screen Resolution', 'Memory_Speed_(GHz)',\n",
       "       'Number of USB 2.0 Ports', 'Number of USB 3.0 Ports',\n",
       "       'Operating System', 'Optical Drive Type', 'Power Source', 'Processor',\n",
       "       'Processor Brand', 'Processor Count', 'Product_Dimensions_(inches)',\n",
       "       'RAM', 'Screen Resolution', 'Series', 'Standing screen display size',\n",
       "       'Voltage', 'Wireless Type', 'name', 'seller', 'seller_link',\n",
       "       'Seller_rank', 'Seller_category'],\n",
       "      dtype='object')"
      ]
     },
     "metadata": {},
     "execution_count": 56
    }
   ],
   "source": [
    "Laptop.columns"
   ]
  },
  {
   "cell_type": "code",
   "execution_count": 57,
   "metadata": {},
   "outputs": [
    {
     "output_type": "execute_result",
     "data": {
      "text/plain": [
       "            ASIN                                               name  \\\n",
       "0     B08W2VYYVX  CHUWI HeroBook Pro+ Laptop,13.3” 3200x1800 Res...   \n",
       "1     B07NPXCH6Q  HP Chromebook 11 G5 11.6 inches Chromebook - I...   \n",
       "2     B08KGZ79N6  HP 15 Laptop, 11th Gen Intel Core i5-1135G7 Pr...   \n",
       "3     B08529TZMC  HP Chromebook 14-inch HD Laptop, Intel Celeron...   \n",
       "4     B081V6W99V  ASUS Laptop L210 Ultra Thin Laptop, 11.6” HD D...   \n",
       "...          ...                                                ...   \n",
       "4181  B08LL84X4N  Dell Latitude 5310 Multi-Touch 2-in-1 Laptop -...   \n",
       "4182  B01LWPJTL7  Alienware AW15R3-0012SLV Laptop (6th Generatio...   \n",
       "4183  B07B1Q7C5J  Dell Latitude 2RNYM Laptop (Windows 10 Pro, In...   \n",
       "4184  B0088PQMX8  HP Pavilion dv6t-7000 Quad Edition Entertainme...   \n",
       "4185  B06X9RQM6B  Dell XPS9360-5001GLD-PUS 13.3\" Laptop (7th Gen...   \n",
       "\n",
       "          Brand            Card Description Chipset Brand           Color  \\\n",
       "0         CHUWI                         NaN         Intel          Silver   \n",
       "1            HP                  Integrated         Intel           Black   \n",
       "2            HP                  Integrated         Intel  Natural Silver   \n",
       "3            HP                  Integrated         Intel  Mineral Silver   \n",
       "4          ASUS                  Integrated         Intel           Black   \n",
       "...         ...                         ...           ...             ...   \n",
       "4181        NaN                         NaN           NaN             NaN   \n",
       "4182  Alienware  NVIDIA GTX 1060, Dedicated        Nvidia     Epic Silver   \n",
       "4183       Dell                  Integrated         Intel             NaN   \n",
       "4184         HP                   Dedicated        Nvidia             NaN   \n",
       "4185       Dell                  Integrated         Intel            Gold   \n",
       "\n",
       "     Computer Memory Type Date First Available Flash Memory Size  \\\n",
       "0              DDR4 SDRAM     February 6, 2021            128 GB   \n",
       "1                 Unknown    February 13, 2019                16   \n",
       "2              DDR4 SDRAM     October 23, 2020               256   \n",
       "3              DDR4 SDRAM       April 19, 2020                 4   \n",
       "4              DDR4 SDRAM      October 5, 2020                64   \n",
       "...                   ...                  ...               ...   \n",
       "4181                  NaN    February 16, 2021               NaN   \n",
       "4182                 DIMM   September 27, 2016              1 TB   \n",
       "4183           DDR3 SDRAM       March 10, 2018               256   \n",
       "4184           DDR3 SDRAM         June 4, 2012               NaN   \n",
       "4185              Unknown    February 10, 2017               256   \n",
       "\n",
       "     Graphics Card Ram Size     Graphics Coprocessor  \\\n",
       "0                       NaN      Intel Celeron J3455   \n",
       "1                       NaN    Intel HD Graphics 400   \n",
       "2                       NaN               Intel Iris   \n",
       "3                       NaN                      NaN   \n",
       "4                      4 GB   Intel UHD Graphics 600   \n",
       "...                     ...                      ...   \n",
       "4181                    NaN                      NaN   \n",
       "4182                    NaN  NVIDIA GeForce GTX 1060   \n",
       "4183                    NaN   Intel UHD Graphics 620   \n",
       "4184                    NaN   NVIDIA GeForce GT 630M   \n",
       "4185                  32 GB    Intel HD Graphics 620   \n",
       "\n",
       "                                             Hard Drive Hard Drive Interface  \\\n",
       "0                                   128 GB HDD 5400 rpm               ATA133   \n",
       "1                              Flash Memory Solid State              Unknown   \n",
       "2                                                   SSD     Gigabit Ethernet   \n",
       "3                               Embedded MultiMediaCard                  NaN   \n",
       "4                         64 GB Embedded MultiMediaCard                  NaN   \n",
       "...                                                 ...                  ...   \n",
       "4181                                                NaN                  NaN   \n",
       "4182  1000 GB Mechanical Hard Drive^1TB 7200RPM SATA...           Serial ATA   \n",
       "4183                    256 GB Flash Memory Solid State              Unknown   \n",
       "4184                                               1 GB                  NaN   \n",
       "4185                           Flash Memory Solid State           Serial ATA   \n",
       "\n",
       "     Hard Drive Rotational Speed Hardware Platform  \\\n",
       "0                        7200.00                PC   \n",
       "1                            NaN         Chrome OS   \n",
       "2                       5400 RPM                PC   \n",
       "3                            NaN               NaN   \n",
       "4                            NaN                PC   \n",
       "...                          ...               ...   \n",
       "4181                         NaN               NaN   \n",
       "4182                    7200 RPM           Windows   \n",
       "4183                         NaN               NaN   \n",
       "4184                    5400 RPM                PC   \n",
       "4185                         NaN                PC   \n",
       "\n",
       "          Item Dimensions  LxWxH  Item Weight    Item model number  \\\n",
       "0     13.15 x 8.43 x 0.84 inches         3.67        HeroBook Pro+   \n",
       "1          7.8 x 12 x 0.8 inches         2.49                N3060   \n",
       "2     14.11 x 9.53 x 0.71 inches         3.75          15-dy2021nr   \n",
       "3       12.82 x 8.6 x 0.7 inches         3.20         14a-na0010nr   \n",
       "4         11 x 7.5 x 0.67 inches         2.31          L210MA-DB01   \n",
       "...                          ...          ...                  ...   \n",
       "4181                         NaN         4.92          5310 2-in-1   \n",
       "4182       12 x 15.31 x 1 inches         8.00       AW15R3-0012SLV   \n",
       "4183       12 x 8.1 x 0.6 inches         2.50                2RNYM   \n",
       "4184                         NaN         8.40             Pavilion   \n",
       "4185   7.88 x 11.98 x 0.6 inches         2.70  XPS9360-5001GLD-PUS   \n",
       "\n",
       "           Max Screen Resolution  Memory_Speed_(GHz) Number of USB 2.0 Ports  \\\n",
       "0     3000 x 1800 Lines Per Inch                 NaN                     NaN   \n",
       "1              1366 x 768 Pixels                1.60                     NaN   \n",
       "2             1920 x 1080 Pixels                 NaN                     NaN   \n",
       "3              1366 x 768 Pixels                2.60                     NaN   \n",
       "4              1366 x 768 Pixels                2.80                       1   \n",
       "...                          ...                 ...                     ...   \n",
       "4181                         NaN                 NaN                     NaN   \n",
       "4182            1920X1080 Pixels                2.13                     NaN   \n",
       "4183            1920x1080 Pixels                2.40                     NaN   \n",
       "4184                         NaN                2.30                     NaN   \n",
       "4185                 3200 x 1800                1.87                     NaN   \n",
       "\n",
       "     Number of USB 3.0 Ports Operating System Optical Drive Type  \\\n",
       "0                        NaN       Windows 10                NaN   \n",
       "1                        NaN        Chrome OS                NaN   \n",
       "2                        NaN  Windows 10 Home   No Optical Drive   \n",
       "3                        NaN        Chrome OS   No Optical Drive   \n",
       "4                          2     Windows 10 S   No Optical Drive   \n",
       "...                      ...              ...                ...   \n",
       "4181                     NaN              NaN                NaN   \n",
       "4182                       3       Windows 10                NaN   \n",
       "4183                       2   Windows 10 Pro                NaN   \n",
       "4184                     NaN        Windows 7                NaN   \n",
       "4185                       2       Windows 10                NaN   \n",
       "\n",
       "         Power Source Average Battery Life (in hours)  \\\n",
       "0     Battery Powered                             NaN   \n",
       "1                 NaN                     12.83 Hours   \n",
       "2     Battery Powered                         8 Hours   \n",
       "3     Battery Powered                      13.5 Hours   \n",
       "4     Battery Powered                        12 Hours   \n",
       "...               ...                             ...   \n",
       "4181              NaN                             NaN   \n",
       "4182              NaN                             NaN   \n",
       "4183  Corded-Electric                             NaN   \n",
       "4184          Battery                         6 Hours   \n",
       "4185              NaN                             NaN   \n",
       "\n",
       "                                             Batteries              Processor  \\\n",
       "0                                                  NaN  2.3 GHz celeron_j3455   \n",
       "1         1 Lithium ion batteries required. (included)           1.6 GHz 8032   \n",
       "2         1 Lithium ion batteries required. (included)        4.2 GHz core_i5   \n",
       "3     1 Lithium Polymer batteries required. (included)      1.1 GHz celeron_n   \n",
       "4       1 Lithium Metal batteries required. (included)        2.8 GHz celeron   \n",
       "...                                                ...                    ...   \n",
       "4181                                                                      NaN   \n",
       "4182      1 Lithium ion batteries required. (included)        3.2 GHz core_i5   \n",
       "4183      1 Lithium ion batteries required. (included)        1.6 GHz core_i5   \n",
       "4184                                               NaN        2.3 GHz core_i7   \n",
       "4185      1 Lithium ion batteries required. (included)        3.1 GHz core_i5   \n",
       "\n",
       "     Processor Brand Processor Count Product_Dimensions_(inches)  \\\n",
       "0              Intel               4        13.15 x 8.43 x 0.84    \n",
       "1              Intel               2             7.8 x 12 x 0.8    \n",
       "2              Intel               4        14.11 x 9.53 x 0.71    \n",
       "3              Intel               2          12.82 x 8.6 x 0.7    \n",
       "4              Intel               2            11 x 7.5 x 0.67    \n",
       "...              ...             ...                         ...   \n",
       "4181             NaN             NaN       16.85 x 14.25 x 4.49    \n",
       "4182           Intel               4             12 x 15.31 x 1    \n",
       "4183           Intel               1             12 x 8.1 x 0.6    \n",
       "4184           Intel               1          20.8 x 13.5 x 3.2    \n",
       "4185           Intel               2         7.88 x 11.98 x 0.6    \n",
       "\n",
       "               RAM   Screen Resolution               Series  \\\n",
       "0             8 GB                 NaN                  NaN   \n",
       "1     16 GB LPDDR3                 NaN        HP Chromebook   \n",
       "2        8 GB DDR4  1920 x 1080 pixels         HP 15 Laptop   \n",
       "3      4 GB LPDDR4                 NaN           Chromebook   \n",
       "4        4 GB DDR4                 NaN   ASUS Laptop L210MA   \n",
       "...            ...                 ...                  ...   \n",
       "4181           NaN                 NaN                  NaN   \n",
       "4182     8 GB DDR4                 NaN      Alienware 15 R3   \n",
       "4183      8 GB DDR                 NaN        Dell Latitude   \n",
       "4184     8 GB DDR3          1366_x_768             Pavilion   \n",
       "4185   8 GB LPDDR3                 NaN  XPS9360-5001GLD-PUS   \n",
       "\n",
       "     Standing screen display size        Wireless Type            seller  \\\n",
       "0                     13.3 Inches            Bluetooth             CHUWI   \n",
       "1                     11.6 Inches            802.11abg        KT Renewed   \n",
       "2                     15.6 Inches  Bluetooth, 802.11ax         CAC Store   \n",
       "3                       14 Inches                  NaN              None   \n",
       "4                     11.6 Inches  Bluetooth, 802.11ac  BroadElectronics   \n",
       "...                           ...                  ...               ...   \n",
       "4181                          NaN                                 olecto   \n",
       "4182                  15.6 Inches                  NaN              None   \n",
       "4183                  13.3 Inches              802.11g              None   \n",
       "4184                  15.6 Inches              802.11b              None   \n",
       "4185                  13.3 Inches                  NaN              None   \n",
       "\n",
       "                                            seller_link Seller_rank  \\\n",
       "0     https://www.amazon.com/gp/help/seller/at-a-gla...        1944   \n",
       "1     https://www.amazon.com/gp/help/seller/at-a-gla...        5305   \n",
       "2     https://www.amazon.com/gp/help/seller/at-a-gla...          65   \n",
       "3                                                  None          78   \n",
       "4     https://www.amazon.com/gp/help/seller/at-a-gla...          18   \n",
       "...                                                 ...         ...   \n",
       "4181  https://www.amazon.com/gp/help/seller/at-a-gla...         NaN   \n",
       "4182                                               None       96243   \n",
       "4183                                               None      129372   \n",
       "4184                                               None      251994   \n",
       "4185                                               None       83805   \n",
       "\n",
       "            Seller_category  \\\n",
       "0     Computers&Accessories   \n",
       "1     Computers&Accessories   \n",
       "2     Computers&Accessories   \n",
       "3     Computers&Accessories   \n",
       "4     Computers&Accessories   \n",
       "...                     ...   \n",
       "4181                    NaN   \n",
       "4182  Computers&Accessories   \n",
       "4183  Computers&Accessories   \n",
       "4184  Computers&Accessories   \n",
       "4185  Computers&Accessories   \n",
       "\n",
       "                                      Best Sellers Rank  \\\n",
       "0     #1,944 in Computers & Accessories ( See Top 10...   \n",
       "1     #5,305 in Computers & Accessories ( See Top 10...   \n",
       "2     #65 in Computers & Accessories ( See Top 100 i...   \n",
       "3     #78 in Computers & Accessories ( See Top 100 i...   \n",
       "4     #18 in Computers & Accessories ( See Top 100 i...   \n",
       "...                                                 ...   \n",
       "4181                                                NaN   \n",
       "4182  #96,243 in Computers & Accessories ( See Top 1...   \n",
       "4183  #129,372 in Computers & Accessories ( See Top ...   \n",
       "4184  #251,994 in Computers & Accessories ( See Top ...   \n",
       "4185  #83,805 in Computers & Accessories ( See Top 1...   \n",
       "\n",
       "                                       Customer Reviews  \n",
       "0     /*\\n* Fix for UDP-1061. Average customer revie...  \n",
       "1     /*\\n* Fix for UDP-1061. Average customer revie...  \n",
       "2     /*\\n* Fix for UDP-1061. Average customer revie...  \n",
       "3     /*\\n* Fix for UDP-1061. Average customer revie...  \n",
       "4     /*\\n* Fix for UDP-1061. Average customer revie...  \n",
       "...                                                 ...  \n",
       "4181                                                NaN  \n",
       "4182  /*\\n* Fix for UDP-1061. Average customer revie...  \n",
       "4183                                                NaN  \n",
       "4184  /*\\n* Fix for UDP-1061. Average customer revie...  \n",
       "4185  /*\\n* Fix for UDP-1061. Average customer revie...  \n",
       "\n",
       "[4186 rows x 42 columns]"
      ],
      "text/html": "<div>\n<style scoped>\n    .dataframe tbody tr th:only-of-type {\n        vertical-align: middle;\n    }\n\n    .dataframe tbody tr th {\n        vertical-align: top;\n    }\n\n    .dataframe thead th {\n        text-align: right;\n    }\n</style>\n<table border=\"1\" class=\"dataframe\">\n  <thead>\n    <tr style=\"text-align: right;\">\n      <th></th>\n      <th>ASIN</th>\n      <th>name</th>\n      <th>Brand</th>\n      <th>Card Description</th>\n      <th>Chipset Brand</th>\n      <th>Color</th>\n      <th>Computer Memory Type</th>\n      <th>Date First Available</th>\n      <th>Flash Memory Size</th>\n      <th>Graphics Card Ram Size</th>\n      <th>Graphics Coprocessor</th>\n      <th>Hard Drive</th>\n      <th>Hard Drive Interface</th>\n      <th>Hard Drive Rotational Speed</th>\n      <th>Hardware Platform</th>\n      <th>Item Dimensions  LxWxH</th>\n      <th>Item Weight</th>\n      <th>Item model number</th>\n      <th>Max Screen Resolution</th>\n      <th>Memory_Speed_(GHz)</th>\n      <th>Number of USB 2.0 Ports</th>\n      <th>Number of USB 3.0 Ports</th>\n      <th>Operating System</th>\n      <th>Optical Drive Type</th>\n      <th>Power Source</th>\n      <th>Average Battery Life (in hours)</th>\n      <th>Batteries</th>\n      <th>Processor</th>\n      <th>Processor Brand</th>\n      <th>Processor Count</th>\n      <th>Product_Dimensions_(inches)</th>\n      <th>RAM</th>\n      <th>Screen Resolution</th>\n      <th>Series</th>\n      <th>Standing screen display size</th>\n      <th>Wireless Type</th>\n      <th>seller</th>\n      <th>seller_link</th>\n      <th>Seller_rank</th>\n      <th>Seller_category</th>\n      <th>Best Sellers Rank</th>\n      <th>Customer Reviews</th>\n    </tr>\n  </thead>\n  <tbody>\n    <tr>\n      <th>0</th>\n      <td>B08W2VYYVX</td>\n      <td>CHUWI HeroBook Pro+ Laptop,13.3” 3200x1800 Res...</td>\n      <td>CHUWI</td>\n      <td>NaN</td>\n      <td>Intel</td>\n      <td>Silver</td>\n      <td>DDR4 SDRAM</td>\n      <td>February 6, 2021</td>\n      <td>128 GB</td>\n      <td>NaN</td>\n      <td>Intel Celeron J3455</td>\n      <td>128 GB HDD 5400 rpm</td>\n      <td>ATA133</td>\n      <td>7200.00</td>\n      <td>PC</td>\n      <td>13.15 x 8.43 x 0.84 inches</td>\n      <td>3.67</td>\n      <td>HeroBook Pro+</td>\n      <td>3000 x 1800 Lines Per Inch</td>\n      <td>NaN</td>\n      <td>NaN</td>\n      <td>NaN</td>\n      <td>Windows 10</td>\n      <td>NaN</td>\n      <td>Battery Powered</td>\n      <td>NaN</td>\n      <td>NaN</td>\n      <td>2.3 GHz celeron_j3455</td>\n      <td>Intel</td>\n      <td>4</td>\n      <td>13.15 x 8.43 x 0.84</td>\n      <td>8 GB</td>\n      <td>NaN</td>\n      <td>NaN</td>\n      <td>13.3 Inches</td>\n      <td>Bluetooth</td>\n      <td>CHUWI</td>\n      <td>https://www.amazon.com/gp/help/seller/at-a-gla...</td>\n      <td>1944</td>\n      <td>Computers&amp;Accessories</td>\n      <td>#1,944 in Computers &amp; Accessories ( See Top 10...</td>\n      <td>/*\\n* Fix for UDP-1061. Average customer revie...</td>\n    </tr>\n    <tr>\n      <th>1</th>\n      <td>B07NPXCH6Q</td>\n      <td>HP Chromebook 11 G5 11.6 inches Chromebook - I...</td>\n      <td>HP</td>\n      <td>Integrated</td>\n      <td>Intel</td>\n      <td>Black</td>\n      <td>Unknown</td>\n      <td>February 13, 2019</td>\n      <td>16</td>\n      <td>NaN</td>\n      <td>Intel HD Graphics 400</td>\n      <td>Flash Memory Solid State</td>\n      <td>Unknown</td>\n      <td>NaN</td>\n      <td>Chrome OS</td>\n      <td>7.8 x 12 x 0.8 inches</td>\n      <td>2.49</td>\n      <td>N3060</td>\n      <td>1366 x 768 Pixels</td>\n      <td>1.60</td>\n      <td>NaN</td>\n      <td>NaN</td>\n      <td>Chrome OS</td>\n      <td>NaN</td>\n      <td>NaN</td>\n      <td>12.83 Hours</td>\n      <td>1 Lithium ion batteries required. (included)</td>\n      <td>1.6 GHz 8032</td>\n      <td>Intel</td>\n      <td>2</td>\n      <td>7.8 x 12 x 0.8</td>\n      <td>16 GB LPDDR3</td>\n      <td>NaN</td>\n      <td>HP Chromebook</td>\n      <td>11.6 Inches</td>\n      <td>802.11abg</td>\n      <td>KT Renewed</td>\n      <td>https://www.amazon.com/gp/help/seller/at-a-gla...</td>\n      <td>5305</td>\n      <td>Computers&amp;Accessories</td>\n      <td>#5,305 in Computers &amp; Accessories ( See Top 10...</td>\n      <td>/*\\n* Fix for UDP-1061. Average customer revie...</td>\n    </tr>\n    <tr>\n      <th>2</th>\n      <td>B08KGZ79N6</td>\n      <td>HP 15 Laptop, 11th Gen Intel Core i5-1135G7 Pr...</td>\n      <td>HP</td>\n      <td>Integrated</td>\n      <td>Intel</td>\n      <td>Natural Silver</td>\n      <td>DDR4 SDRAM</td>\n      <td>October 23, 2020</td>\n      <td>256</td>\n      <td>NaN</td>\n      <td>Intel Iris</td>\n      <td>SSD</td>\n      <td>Gigabit Ethernet</td>\n      <td>5400 RPM</td>\n      <td>PC</td>\n      <td>14.11 x 9.53 x 0.71 inches</td>\n      <td>3.75</td>\n      <td>15-dy2021nr</td>\n      <td>1920 x 1080 Pixels</td>\n      <td>NaN</td>\n      <td>NaN</td>\n      <td>NaN</td>\n      <td>Windows 10 Home</td>\n      <td>No Optical Drive</td>\n      <td>Battery Powered</td>\n      <td>8 Hours</td>\n      <td>1 Lithium ion batteries required. (included)</td>\n      <td>4.2 GHz core_i5</td>\n      <td>Intel</td>\n      <td>4</td>\n      <td>14.11 x 9.53 x 0.71</td>\n      <td>8 GB DDR4</td>\n      <td>1920 x 1080 pixels</td>\n      <td>HP 15 Laptop</td>\n      <td>15.6 Inches</td>\n      <td>Bluetooth, 802.11ax</td>\n      <td>CAC Store</td>\n      <td>https://www.amazon.com/gp/help/seller/at-a-gla...</td>\n      <td>65</td>\n      <td>Computers&amp;Accessories</td>\n      <td>#65 in Computers &amp; Accessories ( See Top 100 i...</td>\n      <td>/*\\n* Fix for UDP-1061. Average customer revie...</td>\n    </tr>\n    <tr>\n      <th>3</th>\n      <td>B08529TZMC</td>\n      <td>HP Chromebook 14-inch HD Laptop, Intel Celeron...</td>\n      <td>HP</td>\n      <td>Integrated</td>\n      <td>Intel</td>\n      <td>Mineral Silver</td>\n      <td>DDR4 SDRAM</td>\n      <td>April 19, 2020</td>\n      <td>4</td>\n      <td>NaN</td>\n      <td>NaN</td>\n      <td>Embedded MultiMediaCard</td>\n      <td>NaN</td>\n      <td>NaN</td>\n      <td>NaN</td>\n      <td>12.82 x 8.6 x 0.7 inches</td>\n      <td>3.20</td>\n      <td>14a-na0010nr</td>\n      <td>1366 x 768 Pixels</td>\n      <td>2.60</td>\n      <td>NaN</td>\n      <td>NaN</td>\n      <td>Chrome OS</td>\n      <td>No Optical Drive</td>\n      <td>Battery Powered</td>\n      <td>13.5 Hours</td>\n      <td>1 Lithium Polymer batteries required. (included)</td>\n      <td>1.1 GHz celeron_n</td>\n      <td>Intel</td>\n      <td>2</td>\n      <td>12.82 x 8.6 x 0.7</td>\n      <td>4 GB LPDDR4</td>\n      <td>NaN</td>\n      <td>Chromebook</td>\n      <td>14 Inches</td>\n      <td>NaN</td>\n      <td>None</td>\n      <td>None</td>\n      <td>78</td>\n      <td>Computers&amp;Accessories</td>\n      <td>#78 in Computers &amp; Accessories ( See Top 100 i...</td>\n      <td>/*\\n* Fix for UDP-1061. Average customer revie...</td>\n    </tr>\n    <tr>\n      <th>4</th>\n      <td>B081V6W99V</td>\n      <td>ASUS Laptop L210 Ultra Thin Laptop, 11.6” HD D...</td>\n      <td>ASUS</td>\n      <td>Integrated</td>\n      <td>Intel</td>\n      <td>Black</td>\n      <td>DDR4 SDRAM</td>\n      <td>October 5, 2020</td>\n      <td>64</td>\n      <td>4 GB</td>\n      <td>Intel UHD Graphics 600</td>\n      <td>64 GB Embedded MultiMediaCard</td>\n      <td>NaN</td>\n      <td>NaN</td>\n      <td>PC</td>\n      <td>11 x 7.5 x 0.67 inches</td>\n      <td>2.31</td>\n      <td>L210MA-DB01</td>\n      <td>1366 x 768 Pixels</td>\n      <td>2.80</td>\n      <td>1</td>\n      <td>2</td>\n      <td>Windows 10 S</td>\n      <td>No Optical Drive</td>\n      <td>Battery Powered</td>\n      <td>12 Hours</td>\n      <td>1 Lithium Metal batteries required. (included)</td>\n      <td>2.8 GHz celeron</td>\n      <td>Intel</td>\n      <td>2</td>\n      <td>11 x 7.5 x 0.67</td>\n      <td>4 GB DDR4</td>\n      <td>NaN</td>\n      <td>ASUS Laptop L210MA</td>\n      <td>11.6 Inches</td>\n      <td>Bluetooth, 802.11ac</td>\n      <td>BroadElectronics</td>\n      <td>https://www.amazon.com/gp/help/seller/at-a-gla...</td>\n      <td>18</td>\n      <td>Computers&amp;Accessories</td>\n      <td>#18 in Computers &amp; Accessories ( See Top 100 i...</td>\n      <td>/*\\n* Fix for UDP-1061. Average customer revie...</td>\n    </tr>\n    <tr>\n      <th>...</th>\n      <td>...</td>\n      <td>...</td>\n      <td>...</td>\n      <td>...</td>\n      <td>...</td>\n      <td>...</td>\n      <td>...</td>\n      <td>...</td>\n      <td>...</td>\n      <td>...</td>\n      <td>...</td>\n      <td>...</td>\n      <td>...</td>\n      <td>...</td>\n      <td>...</td>\n      <td>...</td>\n      <td>...</td>\n      <td>...</td>\n      <td>...</td>\n      <td>...</td>\n      <td>...</td>\n      <td>...</td>\n      <td>...</td>\n      <td>...</td>\n      <td>...</td>\n      <td>...</td>\n      <td>...</td>\n      <td>...</td>\n      <td>...</td>\n      <td>...</td>\n      <td>...</td>\n      <td>...</td>\n      <td>...</td>\n      <td>...</td>\n      <td>...</td>\n      <td>...</td>\n      <td>...</td>\n      <td>...</td>\n      <td>...</td>\n      <td>...</td>\n      <td>...</td>\n      <td>...</td>\n    </tr>\n    <tr>\n      <th>4181</th>\n      <td>B08LL84X4N</td>\n      <td>Dell Latitude 5310 Multi-Touch 2-in-1 Laptop -...</td>\n      <td>NaN</td>\n      <td>NaN</td>\n      <td>NaN</td>\n      <td>NaN</td>\n      <td>NaN</td>\n      <td>February 16, 2021</td>\n      <td>NaN</td>\n      <td>NaN</td>\n      <td>NaN</td>\n      <td>NaN</td>\n      <td>NaN</td>\n      <td>NaN</td>\n      <td>NaN</td>\n      <td>NaN</td>\n      <td>4.92</td>\n      <td>5310 2-in-1</td>\n      <td>NaN</td>\n      <td>NaN</td>\n      <td>NaN</td>\n      <td>NaN</td>\n      <td>NaN</td>\n      <td>NaN</td>\n      <td>NaN</td>\n      <td>NaN</td>\n      <td></td>\n      <td>NaN</td>\n      <td>NaN</td>\n      <td>NaN</td>\n      <td>16.85 x 14.25 x 4.49</td>\n      <td>NaN</td>\n      <td>NaN</td>\n      <td>NaN</td>\n      <td>NaN</td>\n      <td></td>\n      <td>olecto</td>\n      <td>https://www.amazon.com/gp/help/seller/at-a-gla...</td>\n      <td>NaN</td>\n      <td>NaN</td>\n      <td>NaN</td>\n      <td>NaN</td>\n    </tr>\n    <tr>\n      <th>4182</th>\n      <td>B01LWPJTL7</td>\n      <td>Alienware AW15R3-0012SLV Laptop (6th Generatio...</td>\n      <td>Alienware</td>\n      <td>NVIDIA GTX 1060, Dedicated</td>\n      <td>Nvidia</td>\n      <td>Epic Silver</td>\n      <td>DIMM</td>\n      <td>September 27, 2016</td>\n      <td>1 TB</td>\n      <td>NaN</td>\n      <td>NVIDIA GeForce GTX 1060</td>\n      <td>1000 GB Mechanical Hard Drive^1TB 7200RPM SATA...</td>\n      <td>Serial ATA</td>\n      <td>7200 RPM</td>\n      <td>Windows</td>\n      <td>12 x 15.31 x 1 inches</td>\n      <td>8.00</td>\n      <td>AW15R3-0012SLV</td>\n      <td>1920X1080 Pixels</td>\n      <td>2.13</td>\n      <td>NaN</td>\n      <td>3</td>\n      <td>Windows 10</td>\n      <td>NaN</td>\n      <td>NaN</td>\n      <td>NaN</td>\n      <td>1 Lithium ion batteries required. (included)</td>\n      <td>3.2 GHz core_i5</td>\n      <td>Intel</td>\n      <td>4</td>\n      <td>12 x 15.31 x 1</td>\n      <td>8 GB DDR4</td>\n      <td>NaN</td>\n      <td>Alienware 15 R3</td>\n      <td>15.6 Inches</td>\n      <td>NaN</td>\n      <td>None</td>\n      <td>None</td>\n      <td>96243</td>\n      <td>Computers&amp;Accessories</td>\n      <td>#96,243 in Computers &amp; Accessories ( See Top 1...</td>\n      <td>/*\\n* Fix for UDP-1061. Average customer revie...</td>\n    </tr>\n    <tr>\n      <th>4183</th>\n      <td>B07B1Q7C5J</td>\n      <td>Dell Latitude 2RNYM Laptop (Windows 10 Pro, In...</td>\n      <td>Dell</td>\n      <td>Integrated</td>\n      <td>Intel</td>\n      <td>NaN</td>\n      <td>DDR3 SDRAM</td>\n      <td>March 10, 2018</td>\n      <td>256</td>\n      <td>NaN</td>\n      <td>Intel UHD Graphics 620</td>\n      <td>256 GB Flash Memory Solid State</td>\n      <td>Unknown</td>\n      <td>NaN</td>\n      <td>NaN</td>\n      <td>12 x 8.1 x 0.6 inches</td>\n      <td>2.50</td>\n      <td>2RNYM</td>\n      <td>1920x1080 Pixels</td>\n      <td>2.40</td>\n      <td>NaN</td>\n      <td>2</td>\n      <td>Windows 10 Pro</td>\n      <td>NaN</td>\n      <td>Corded-Electric</td>\n      <td>NaN</td>\n      <td>1 Lithium ion batteries required. (included)</td>\n      <td>1.6 GHz core_i5</td>\n      <td>Intel</td>\n      <td>1</td>\n      <td>12 x 8.1 x 0.6</td>\n      <td>8 GB DDR</td>\n      <td>NaN</td>\n      <td>Dell Latitude</td>\n      <td>13.3 Inches</td>\n      <td>802.11g</td>\n      <td>None</td>\n      <td>None</td>\n      <td>129372</td>\n      <td>Computers&amp;Accessories</td>\n      <td>#129,372 in Computers &amp; Accessories ( See Top ...</td>\n      <td>NaN</td>\n    </tr>\n    <tr>\n      <th>4184</th>\n      <td>B0088PQMX8</td>\n      <td>HP Pavilion dv6t-7000 Quad Edition Entertainme...</td>\n      <td>HP</td>\n      <td>Dedicated</td>\n      <td>Nvidia</td>\n      <td>NaN</td>\n      <td>DDR3 SDRAM</td>\n      <td>June 4, 2012</td>\n      <td>NaN</td>\n      <td>NaN</td>\n      <td>NVIDIA GeForce GT 630M</td>\n      <td>1 GB</td>\n      <td>NaN</td>\n      <td>5400 RPM</td>\n      <td>PC</td>\n      <td>NaN</td>\n      <td>8.40</td>\n      <td>Pavilion</td>\n      <td>NaN</td>\n      <td>2.30</td>\n      <td>NaN</td>\n      <td>NaN</td>\n      <td>Windows 7</td>\n      <td>NaN</td>\n      <td>Battery</td>\n      <td>6 Hours</td>\n      <td>NaN</td>\n      <td>2.3 GHz core_i7</td>\n      <td>Intel</td>\n      <td>1</td>\n      <td>20.8 x 13.5 x 3.2</td>\n      <td>8 GB DDR3</td>\n      <td>1366_x_768</td>\n      <td>Pavilion</td>\n      <td>15.6 Inches</td>\n      <td>802.11b</td>\n      <td>None</td>\n      <td>None</td>\n      <td>251994</td>\n      <td>Computers&amp;Accessories</td>\n      <td>#251,994 in Computers &amp; Accessories ( See Top ...</td>\n      <td>/*\\n* Fix for UDP-1061. Average customer revie...</td>\n    </tr>\n    <tr>\n      <th>4185</th>\n      <td>B06X9RQM6B</td>\n      <td>Dell XPS9360-5001GLD-PUS 13.3\" Laptop (7th Gen...</td>\n      <td>Dell</td>\n      <td>Integrated</td>\n      <td>Intel</td>\n      <td>Gold</td>\n      <td>Unknown</td>\n      <td>February 10, 2017</td>\n      <td>256</td>\n      <td>32 GB</td>\n      <td>Intel HD Graphics 620</td>\n      <td>Flash Memory Solid State</td>\n      <td>Serial ATA</td>\n      <td>NaN</td>\n      <td>PC</td>\n      <td>7.88 x 11.98 x 0.6 inches</td>\n      <td>2.70</td>\n      <td>XPS9360-5001GLD-PUS</td>\n      <td>3200 x 1800</td>\n      <td>1.87</td>\n      <td>NaN</td>\n      <td>2</td>\n      <td>Windows 10</td>\n      <td>NaN</td>\n      <td>NaN</td>\n      <td>NaN</td>\n      <td>1 Lithium ion batteries required. (included)</td>\n      <td>3.1 GHz core_i5</td>\n      <td>Intel</td>\n      <td>2</td>\n      <td>7.88 x 11.98 x 0.6</td>\n      <td>8 GB LPDDR3</td>\n      <td>NaN</td>\n      <td>XPS9360-5001GLD-PUS</td>\n      <td>13.3 Inches</td>\n      <td>NaN</td>\n      <td>None</td>\n      <td>None</td>\n      <td>83805</td>\n      <td>Computers&amp;Accessories</td>\n      <td>#83,805 in Computers &amp; Accessories ( See Top 1...</td>\n      <td>/*\\n* Fix for UDP-1061. Average customer revie...</td>\n    </tr>\n  </tbody>\n</table>\n<p>4186 rows × 42 columns</p>\n</div>"
     },
     "metadata": {},
     "execution_count": 57
    }
   ],
   "source": [
    "laptop = Laptop[['ASIN','name','Brand',  \n",
    "         'Card Description', 'Chipset Brand',\n",
    "       'Color', 'Computer Memory Type',\n",
    "       'Date First Available', 'Flash Memory Size', 'Graphics Card Ram Size',\n",
    "       'Graphics Coprocessor', 'Hard Drive', 'Hard Drive Interface',\n",
    "       'Hard Drive Rotational Speed', 'Hardware Platform',\n",
    "       'Item Dimensions  LxWxH', 'Item Weight', 'Item model number',\n",
    "       'Max Screen Resolution', 'Memory_Speed_(GHz)',\n",
    "       'Number of USB 2.0 Ports', 'Number of USB 3.0 Ports',\n",
    "       'Operating System', 'Optical Drive Type', 'Power Source','Average Battery Life (in hours)','Batteries', 'Processor',\n",
    "       'Processor Brand', 'Processor Count', 'Product_Dimensions_(inches)',\n",
    "       'RAM', 'Screen Resolution', 'Series', 'Standing screen display size',\n",
    "       'Wireless Type','seller', 'seller_link', 'Seller_rank',\n",
    "       'Seller_category','Best Sellers Rank','Customer Reviews']]\n",
    "laptop"
   ]
  },
  {
   "cell_type": "code",
   "execution_count": 58,
   "metadata": {},
   "outputs": [],
   "source": [
    "laptop = laptop.rename(columns={\"name\":\"title\"})"
   ]
  },
  {
   "cell_type": "code",
   "execution_count": 59,
   "metadata": {},
   "outputs": [
    {
     "output_type": "execute_result",
     "data": {
      "text/plain": [
       "            ASIN                                              title  \\\n",
       "0     B08W2VYYVX  CHUWI HeroBook Pro+ Laptop,13.3” 3200x1800 Res...   \n",
       "1     B07NPXCH6Q  HP Chromebook 11 G5 11.6 inches Chromebook - I...   \n",
       "2     B08KGZ79N6  HP 15 Laptop, 11th Gen Intel Core i5-1135G7 Pr...   \n",
       "3     B08529TZMC  HP Chromebook 14-inch HD Laptop, Intel Celeron...   \n",
       "4     B081V6W99V  ASUS Laptop L210 Ultra Thin Laptop, 11.6” HD D...   \n",
       "...          ...                                                ...   \n",
       "4181  B08LL84X4N  Dell Latitude 5310 Multi-Touch 2-in-1 Laptop -...   \n",
       "4182  B01LWPJTL7  Alienware AW15R3-0012SLV Laptop (6th Generatio...   \n",
       "4183  B07B1Q7C5J  Dell Latitude 2RNYM Laptop (Windows 10 Pro, In...   \n",
       "4184  B0088PQMX8  HP Pavilion dv6t-7000 Quad Edition Entertainme...   \n",
       "4185  B06X9RQM6B  Dell XPS9360-5001GLD-PUS 13.3\" Laptop (7th Gen...   \n",
       "\n",
       "          Brand            Card Description Chipset Brand           Color  \\\n",
       "0         CHUWI                         NaN         Intel          Silver   \n",
       "1            HP                  Integrated         Intel           Black   \n",
       "2            HP                  Integrated         Intel  Natural Silver   \n",
       "3            HP                  Integrated         Intel  Mineral Silver   \n",
       "4          ASUS                  Integrated         Intel           Black   \n",
       "...         ...                         ...           ...             ...   \n",
       "4181        NaN                         NaN           NaN             NaN   \n",
       "4182  Alienware  NVIDIA GTX 1060, Dedicated        Nvidia     Epic Silver   \n",
       "4183       Dell                  Integrated         Intel             NaN   \n",
       "4184         HP                   Dedicated        Nvidia             NaN   \n",
       "4185       Dell                  Integrated         Intel            Gold   \n",
       "\n",
       "     Computer Memory Type Date First Available Flash Memory Size  \\\n",
       "0              DDR4 SDRAM     February 6, 2021            128 GB   \n",
       "1                 Unknown    February 13, 2019                16   \n",
       "2              DDR4 SDRAM     October 23, 2020               256   \n",
       "3              DDR4 SDRAM       April 19, 2020                 4   \n",
       "4              DDR4 SDRAM      October 5, 2020                64   \n",
       "...                   ...                  ...               ...   \n",
       "4181                  NaN    February 16, 2021               NaN   \n",
       "4182                 DIMM   September 27, 2016              1 TB   \n",
       "4183           DDR3 SDRAM       March 10, 2018               256   \n",
       "4184           DDR3 SDRAM         June 4, 2012               NaN   \n",
       "4185              Unknown    February 10, 2017               256   \n",
       "\n",
       "     Graphics Card Ram Size     Graphics Coprocessor  \\\n",
       "0                       NaN      Intel Celeron J3455   \n",
       "1                       NaN    Intel HD Graphics 400   \n",
       "2                       NaN               Intel Iris   \n",
       "3                       NaN                      NaN   \n",
       "4                      4 GB   Intel UHD Graphics 600   \n",
       "...                     ...                      ...   \n",
       "4181                    NaN                      NaN   \n",
       "4182                    NaN  NVIDIA GeForce GTX 1060   \n",
       "4183                    NaN   Intel UHD Graphics 620   \n",
       "4184                    NaN   NVIDIA GeForce GT 630M   \n",
       "4185                  32 GB    Intel HD Graphics 620   \n",
       "\n",
       "                                             Hard Drive Hard Drive Interface  \\\n",
       "0                                   128 GB HDD 5400 rpm               ATA133   \n",
       "1                              Flash Memory Solid State              Unknown   \n",
       "2                                                   SSD     Gigabit Ethernet   \n",
       "3                               Embedded MultiMediaCard                  NaN   \n",
       "4                         64 GB Embedded MultiMediaCard                  NaN   \n",
       "...                                                 ...                  ...   \n",
       "4181                                                NaN                  NaN   \n",
       "4182  1000 GB Mechanical Hard Drive^1TB 7200RPM SATA...           Serial ATA   \n",
       "4183                    256 GB Flash Memory Solid State              Unknown   \n",
       "4184                                               1 GB                  NaN   \n",
       "4185                           Flash Memory Solid State           Serial ATA   \n",
       "\n",
       "     Hard Drive Rotational Speed Hardware Platform  \\\n",
       "0                        7200.00                PC   \n",
       "1                            NaN         Chrome OS   \n",
       "2                       5400 RPM                PC   \n",
       "3                            NaN               NaN   \n",
       "4                            NaN                PC   \n",
       "...                          ...               ...   \n",
       "4181                         NaN               NaN   \n",
       "4182                    7200 RPM           Windows   \n",
       "4183                         NaN               NaN   \n",
       "4184                    5400 RPM                PC   \n",
       "4185                         NaN                PC   \n",
       "\n",
       "          Item Dimensions  LxWxH  Item Weight    Item model number  \\\n",
       "0     13.15 x 8.43 x 0.84 inches         3.67        HeroBook Pro+   \n",
       "1          7.8 x 12 x 0.8 inches         2.49                N3060   \n",
       "2     14.11 x 9.53 x 0.71 inches         3.75          15-dy2021nr   \n",
       "3       12.82 x 8.6 x 0.7 inches         3.20         14a-na0010nr   \n",
       "4         11 x 7.5 x 0.67 inches         2.31          L210MA-DB01   \n",
       "...                          ...          ...                  ...   \n",
       "4181                         NaN         4.92          5310 2-in-1   \n",
       "4182       12 x 15.31 x 1 inches         8.00       AW15R3-0012SLV   \n",
       "4183       12 x 8.1 x 0.6 inches         2.50                2RNYM   \n",
       "4184                         NaN         8.40             Pavilion   \n",
       "4185   7.88 x 11.98 x 0.6 inches         2.70  XPS9360-5001GLD-PUS   \n",
       "\n",
       "           Max Screen Resolution  Memory_Speed_(GHz) Number of USB 2.0 Ports  \\\n",
       "0     3000 x 1800 Lines Per Inch                 NaN                     NaN   \n",
       "1              1366 x 768 Pixels                1.60                     NaN   \n",
       "2             1920 x 1080 Pixels                 NaN                     NaN   \n",
       "3              1366 x 768 Pixels                2.60                     NaN   \n",
       "4              1366 x 768 Pixels                2.80                       1   \n",
       "...                          ...                 ...                     ...   \n",
       "4181                         NaN                 NaN                     NaN   \n",
       "4182            1920X1080 Pixels                2.13                     NaN   \n",
       "4183            1920x1080 Pixels                2.40                     NaN   \n",
       "4184                         NaN                2.30                     NaN   \n",
       "4185                 3200 x 1800                1.87                     NaN   \n",
       "\n",
       "     Number of USB 3.0 Ports Operating System Optical Drive Type  \\\n",
       "0                        NaN       Windows 10                NaN   \n",
       "1                        NaN        Chrome OS                NaN   \n",
       "2                        NaN  Windows 10 Home   No Optical Drive   \n",
       "3                        NaN        Chrome OS   No Optical Drive   \n",
       "4                          2     Windows 10 S   No Optical Drive   \n",
       "...                      ...              ...                ...   \n",
       "4181                     NaN              NaN                NaN   \n",
       "4182                       3       Windows 10                NaN   \n",
       "4183                       2   Windows 10 Pro                NaN   \n",
       "4184                     NaN        Windows 7                NaN   \n",
       "4185                       2       Windows 10                NaN   \n",
       "\n",
       "         Power Source Average Battery Life (in hours)  \\\n",
       "0     Battery Powered                             NaN   \n",
       "1                 NaN                     12.83 Hours   \n",
       "2     Battery Powered                         8 Hours   \n",
       "3     Battery Powered                      13.5 Hours   \n",
       "4     Battery Powered                        12 Hours   \n",
       "...               ...                             ...   \n",
       "4181              NaN                             NaN   \n",
       "4182              NaN                             NaN   \n",
       "4183  Corded-Electric                             NaN   \n",
       "4184          Battery                         6 Hours   \n",
       "4185              NaN                             NaN   \n",
       "\n",
       "                                             Batteries              Processor  \\\n",
       "0                                                  NaN  2.3 GHz celeron_j3455   \n",
       "1         1 Lithium ion batteries required. (included)           1.6 GHz 8032   \n",
       "2         1 Lithium ion batteries required. (included)        4.2 GHz core_i5   \n",
       "3     1 Lithium Polymer batteries required. (included)      1.1 GHz celeron_n   \n",
       "4       1 Lithium Metal batteries required. (included)        2.8 GHz celeron   \n",
       "...                                                ...                    ...   \n",
       "4181                                                                      NaN   \n",
       "4182      1 Lithium ion batteries required. (included)        3.2 GHz core_i5   \n",
       "4183      1 Lithium ion batteries required. (included)        1.6 GHz core_i5   \n",
       "4184                                               NaN        2.3 GHz core_i7   \n",
       "4185      1 Lithium ion batteries required. (included)        3.1 GHz core_i5   \n",
       "\n",
       "     Processor Brand Processor Count Product_Dimensions_(inches)  \\\n",
       "0              Intel               4        13.15 x 8.43 x 0.84    \n",
       "1              Intel               2             7.8 x 12 x 0.8    \n",
       "2              Intel               4        14.11 x 9.53 x 0.71    \n",
       "3              Intel               2          12.82 x 8.6 x 0.7    \n",
       "4              Intel               2            11 x 7.5 x 0.67    \n",
       "...              ...             ...                         ...   \n",
       "4181             NaN             NaN       16.85 x 14.25 x 4.49    \n",
       "4182           Intel               4             12 x 15.31 x 1    \n",
       "4183           Intel               1             12 x 8.1 x 0.6    \n",
       "4184           Intel               1          20.8 x 13.5 x 3.2    \n",
       "4185           Intel               2         7.88 x 11.98 x 0.6    \n",
       "\n",
       "               RAM   Screen Resolution               Series  \\\n",
       "0             8 GB                 NaN                  NaN   \n",
       "1     16 GB LPDDR3                 NaN        HP Chromebook   \n",
       "2        8 GB DDR4  1920 x 1080 pixels         HP 15 Laptop   \n",
       "3      4 GB LPDDR4                 NaN           Chromebook   \n",
       "4        4 GB DDR4                 NaN   ASUS Laptop L210MA   \n",
       "...            ...                 ...                  ...   \n",
       "4181           NaN                 NaN                  NaN   \n",
       "4182     8 GB DDR4                 NaN      Alienware 15 R3   \n",
       "4183      8 GB DDR                 NaN        Dell Latitude   \n",
       "4184     8 GB DDR3          1366_x_768             Pavilion   \n",
       "4185   8 GB LPDDR3                 NaN  XPS9360-5001GLD-PUS   \n",
       "\n",
       "     Standing screen display size        Wireless Type            seller  \\\n",
       "0                     13.3 Inches            Bluetooth             CHUWI   \n",
       "1                     11.6 Inches            802.11abg        KT Renewed   \n",
       "2                     15.6 Inches  Bluetooth, 802.11ax         CAC Store   \n",
       "3                       14 Inches                  NaN              None   \n",
       "4                     11.6 Inches  Bluetooth, 802.11ac  BroadElectronics   \n",
       "...                           ...                  ...               ...   \n",
       "4181                          NaN                                 olecto   \n",
       "4182                  15.6 Inches                  NaN              None   \n",
       "4183                  13.3 Inches              802.11g              None   \n",
       "4184                  15.6 Inches              802.11b              None   \n",
       "4185                  13.3 Inches                  NaN              None   \n",
       "\n",
       "                                            seller_link Seller_rank  \\\n",
       "0     https://www.amazon.com/gp/help/seller/at-a-gla...        1944   \n",
       "1     https://www.amazon.com/gp/help/seller/at-a-gla...        5305   \n",
       "2     https://www.amazon.com/gp/help/seller/at-a-gla...          65   \n",
       "3                                                  None          78   \n",
       "4     https://www.amazon.com/gp/help/seller/at-a-gla...          18   \n",
       "...                                                 ...         ...   \n",
       "4181  https://www.amazon.com/gp/help/seller/at-a-gla...         NaN   \n",
       "4182                                               None       96243   \n",
       "4183                                               None      129372   \n",
       "4184                                               None      251994   \n",
       "4185                                               None       83805   \n",
       "\n",
       "            Seller_category  \\\n",
       "0     Computers&Accessories   \n",
       "1     Computers&Accessories   \n",
       "2     Computers&Accessories   \n",
       "3     Computers&Accessories   \n",
       "4     Computers&Accessories   \n",
       "...                     ...   \n",
       "4181                    NaN   \n",
       "4182  Computers&Accessories   \n",
       "4183  Computers&Accessories   \n",
       "4184  Computers&Accessories   \n",
       "4185  Computers&Accessories   \n",
       "\n",
       "                                      Best Sellers Rank  \\\n",
       "0     #1,944 in Computers & Accessories ( See Top 10...   \n",
       "1     #5,305 in Computers & Accessories ( See Top 10...   \n",
       "2     #65 in Computers & Accessories ( See Top 100 i...   \n",
       "3     #78 in Computers & Accessories ( See Top 100 i...   \n",
       "4     #18 in Computers & Accessories ( See Top 100 i...   \n",
       "...                                                 ...   \n",
       "4181                                                NaN   \n",
       "4182  #96,243 in Computers & Accessories ( See Top 1...   \n",
       "4183  #129,372 in Computers & Accessories ( See Top ...   \n",
       "4184  #251,994 in Computers & Accessories ( See Top ...   \n",
       "4185  #83,805 in Computers & Accessories ( See Top 1...   \n",
       "\n",
       "                                       Customer Reviews  \n",
       "0     /*\\n* Fix for UDP-1061. Average customer revie...  \n",
       "1     /*\\n* Fix for UDP-1061. Average customer revie...  \n",
       "2     /*\\n* Fix for UDP-1061. Average customer revie...  \n",
       "3     /*\\n* Fix for UDP-1061. Average customer revie...  \n",
       "4     /*\\n* Fix for UDP-1061. Average customer revie...  \n",
       "...                                                 ...  \n",
       "4181                                                NaN  \n",
       "4182  /*\\n* Fix for UDP-1061. Average customer revie...  \n",
       "4183                                                NaN  \n",
       "4184  /*\\n* Fix for UDP-1061. Average customer revie...  \n",
       "4185  /*\\n* Fix for UDP-1061. Average customer revie...  \n",
       "\n",
       "[4186 rows x 42 columns]"
      ],
      "text/html": "<div>\n<style scoped>\n    .dataframe tbody tr th:only-of-type {\n        vertical-align: middle;\n    }\n\n    .dataframe tbody tr th {\n        vertical-align: top;\n    }\n\n    .dataframe thead th {\n        text-align: right;\n    }\n</style>\n<table border=\"1\" class=\"dataframe\">\n  <thead>\n    <tr style=\"text-align: right;\">\n      <th></th>\n      <th>ASIN</th>\n      <th>title</th>\n      <th>Brand</th>\n      <th>Card Description</th>\n      <th>Chipset Brand</th>\n      <th>Color</th>\n      <th>Computer Memory Type</th>\n      <th>Date First Available</th>\n      <th>Flash Memory Size</th>\n      <th>Graphics Card Ram Size</th>\n      <th>Graphics Coprocessor</th>\n      <th>Hard Drive</th>\n      <th>Hard Drive Interface</th>\n      <th>Hard Drive Rotational Speed</th>\n      <th>Hardware Platform</th>\n      <th>Item Dimensions  LxWxH</th>\n      <th>Item Weight</th>\n      <th>Item model number</th>\n      <th>Max Screen Resolution</th>\n      <th>Memory_Speed_(GHz)</th>\n      <th>Number of USB 2.0 Ports</th>\n      <th>Number of USB 3.0 Ports</th>\n      <th>Operating System</th>\n      <th>Optical Drive Type</th>\n      <th>Power Source</th>\n      <th>Average Battery Life (in hours)</th>\n      <th>Batteries</th>\n      <th>Processor</th>\n      <th>Processor Brand</th>\n      <th>Processor Count</th>\n      <th>Product_Dimensions_(inches)</th>\n      <th>RAM</th>\n      <th>Screen Resolution</th>\n      <th>Series</th>\n      <th>Standing screen display size</th>\n      <th>Wireless Type</th>\n      <th>seller</th>\n      <th>seller_link</th>\n      <th>Seller_rank</th>\n      <th>Seller_category</th>\n      <th>Best Sellers Rank</th>\n      <th>Customer Reviews</th>\n    </tr>\n  </thead>\n  <tbody>\n    <tr>\n      <th>0</th>\n      <td>B08W2VYYVX</td>\n      <td>CHUWI HeroBook Pro+ Laptop,13.3” 3200x1800 Res...</td>\n      <td>CHUWI</td>\n      <td>NaN</td>\n      <td>Intel</td>\n      <td>Silver</td>\n      <td>DDR4 SDRAM</td>\n      <td>February 6, 2021</td>\n      <td>128 GB</td>\n      <td>NaN</td>\n      <td>Intel Celeron J3455</td>\n      <td>128 GB HDD 5400 rpm</td>\n      <td>ATA133</td>\n      <td>7200.00</td>\n      <td>PC</td>\n      <td>13.15 x 8.43 x 0.84 inches</td>\n      <td>3.67</td>\n      <td>HeroBook Pro+</td>\n      <td>3000 x 1800 Lines Per Inch</td>\n      <td>NaN</td>\n      <td>NaN</td>\n      <td>NaN</td>\n      <td>Windows 10</td>\n      <td>NaN</td>\n      <td>Battery Powered</td>\n      <td>NaN</td>\n      <td>NaN</td>\n      <td>2.3 GHz celeron_j3455</td>\n      <td>Intel</td>\n      <td>4</td>\n      <td>13.15 x 8.43 x 0.84</td>\n      <td>8 GB</td>\n      <td>NaN</td>\n      <td>NaN</td>\n      <td>13.3 Inches</td>\n      <td>Bluetooth</td>\n      <td>CHUWI</td>\n      <td>https://www.amazon.com/gp/help/seller/at-a-gla...</td>\n      <td>1944</td>\n      <td>Computers&amp;Accessories</td>\n      <td>#1,944 in Computers &amp; Accessories ( See Top 10...</td>\n      <td>/*\\n* Fix for UDP-1061. Average customer revie...</td>\n    </tr>\n    <tr>\n      <th>1</th>\n      <td>B07NPXCH6Q</td>\n      <td>HP Chromebook 11 G5 11.6 inches Chromebook - I...</td>\n      <td>HP</td>\n      <td>Integrated</td>\n      <td>Intel</td>\n      <td>Black</td>\n      <td>Unknown</td>\n      <td>February 13, 2019</td>\n      <td>16</td>\n      <td>NaN</td>\n      <td>Intel HD Graphics 400</td>\n      <td>Flash Memory Solid State</td>\n      <td>Unknown</td>\n      <td>NaN</td>\n      <td>Chrome OS</td>\n      <td>7.8 x 12 x 0.8 inches</td>\n      <td>2.49</td>\n      <td>N3060</td>\n      <td>1366 x 768 Pixels</td>\n      <td>1.60</td>\n      <td>NaN</td>\n      <td>NaN</td>\n      <td>Chrome OS</td>\n      <td>NaN</td>\n      <td>NaN</td>\n      <td>12.83 Hours</td>\n      <td>1 Lithium ion batteries required. (included)</td>\n      <td>1.6 GHz 8032</td>\n      <td>Intel</td>\n      <td>2</td>\n      <td>7.8 x 12 x 0.8</td>\n      <td>16 GB LPDDR3</td>\n      <td>NaN</td>\n      <td>HP Chromebook</td>\n      <td>11.6 Inches</td>\n      <td>802.11abg</td>\n      <td>KT Renewed</td>\n      <td>https://www.amazon.com/gp/help/seller/at-a-gla...</td>\n      <td>5305</td>\n      <td>Computers&amp;Accessories</td>\n      <td>#5,305 in Computers &amp; Accessories ( See Top 10...</td>\n      <td>/*\\n* Fix for UDP-1061. Average customer revie...</td>\n    </tr>\n    <tr>\n      <th>2</th>\n      <td>B08KGZ79N6</td>\n      <td>HP 15 Laptop, 11th Gen Intel Core i5-1135G7 Pr...</td>\n      <td>HP</td>\n      <td>Integrated</td>\n      <td>Intel</td>\n      <td>Natural Silver</td>\n      <td>DDR4 SDRAM</td>\n      <td>October 23, 2020</td>\n      <td>256</td>\n      <td>NaN</td>\n      <td>Intel Iris</td>\n      <td>SSD</td>\n      <td>Gigabit Ethernet</td>\n      <td>5400 RPM</td>\n      <td>PC</td>\n      <td>14.11 x 9.53 x 0.71 inches</td>\n      <td>3.75</td>\n      <td>15-dy2021nr</td>\n      <td>1920 x 1080 Pixels</td>\n      <td>NaN</td>\n      <td>NaN</td>\n      <td>NaN</td>\n      <td>Windows 10 Home</td>\n      <td>No Optical Drive</td>\n      <td>Battery Powered</td>\n      <td>8 Hours</td>\n      <td>1 Lithium ion batteries required. (included)</td>\n      <td>4.2 GHz core_i5</td>\n      <td>Intel</td>\n      <td>4</td>\n      <td>14.11 x 9.53 x 0.71</td>\n      <td>8 GB DDR4</td>\n      <td>1920 x 1080 pixels</td>\n      <td>HP 15 Laptop</td>\n      <td>15.6 Inches</td>\n      <td>Bluetooth, 802.11ax</td>\n      <td>CAC Store</td>\n      <td>https://www.amazon.com/gp/help/seller/at-a-gla...</td>\n      <td>65</td>\n      <td>Computers&amp;Accessories</td>\n      <td>#65 in Computers &amp; Accessories ( See Top 100 i...</td>\n      <td>/*\\n* Fix for UDP-1061. Average customer revie...</td>\n    </tr>\n    <tr>\n      <th>3</th>\n      <td>B08529TZMC</td>\n      <td>HP Chromebook 14-inch HD Laptop, Intel Celeron...</td>\n      <td>HP</td>\n      <td>Integrated</td>\n      <td>Intel</td>\n      <td>Mineral Silver</td>\n      <td>DDR4 SDRAM</td>\n      <td>April 19, 2020</td>\n      <td>4</td>\n      <td>NaN</td>\n      <td>NaN</td>\n      <td>Embedded MultiMediaCard</td>\n      <td>NaN</td>\n      <td>NaN</td>\n      <td>NaN</td>\n      <td>12.82 x 8.6 x 0.7 inches</td>\n      <td>3.20</td>\n      <td>14a-na0010nr</td>\n      <td>1366 x 768 Pixels</td>\n      <td>2.60</td>\n      <td>NaN</td>\n      <td>NaN</td>\n      <td>Chrome OS</td>\n      <td>No Optical Drive</td>\n      <td>Battery Powered</td>\n      <td>13.5 Hours</td>\n      <td>1 Lithium Polymer batteries required. (included)</td>\n      <td>1.1 GHz celeron_n</td>\n      <td>Intel</td>\n      <td>2</td>\n      <td>12.82 x 8.6 x 0.7</td>\n      <td>4 GB LPDDR4</td>\n      <td>NaN</td>\n      <td>Chromebook</td>\n      <td>14 Inches</td>\n      <td>NaN</td>\n      <td>None</td>\n      <td>None</td>\n      <td>78</td>\n      <td>Computers&amp;Accessories</td>\n      <td>#78 in Computers &amp; Accessories ( See Top 100 i...</td>\n      <td>/*\\n* Fix for UDP-1061. Average customer revie...</td>\n    </tr>\n    <tr>\n      <th>4</th>\n      <td>B081V6W99V</td>\n      <td>ASUS Laptop L210 Ultra Thin Laptop, 11.6” HD D...</td>\n      <td>ASUS</td>\n      <td>Integrated</td>\n      <td>Intel</td>\n      <td>Black</td>\n      <td>DDR4 SDRAM</td>\n      <td>October 5, 2020</td>\n      <td>64</td>\n      <td>4 GB</td>\n      <td>Intel UHD Graphics 600</td>\n      <td>64 GB Embedded MultiMediaCard</td>\n      <td>NaN</td>\n      <td>NaN</td>\n      <td>PC</td>\n      <td>11 x 7.5 x 0.67 inches</td>\n      <td>2.31</td>\n      <td>L210MA-DB01</td>\n      <td>1366 x 768 Pixels</td>\n      <td>2.80</td>\n      <td>1</td>\n      <td>2</td>\n      <td>Windows 10 S</td>\n      <td>No Optical Drive</td>\n      <td>Battery Powered</td>\n      <td>12 Hours</td>\n      <td>1 Lithium Metal batteries required. (included)</td>\n      <td>2.8 GHz celeron</td>\n      <td>Intel</td>\n      <td>2</td>\n      <td>11 x 7.5 x 0.67</td>\n      <td>4 GB DDR4</td>\n      <td>NaN</td>\n      <td>ASUS Laptop L210MA</td>\n      <td>11.6 Inches</td>\n      <td>Bluetooth, 802.11ac</td>\n      <td>BroadElectronics</td>\n      <td>https://www.amazon.com/gp/help/seller/at-a-gla...</td>\n      <td>18</td>\n      <td>Computers&amp;Accessories</td>\n      <td>#18 in Computers &amp; Accessories ( See Top 100 i...</td>\n      <td>/*\\n* Fix for UDP-1061. Average customer revie...</td>\n    </tr>\n    <tr>\n      <th>...</th>\n      <td>...</td>\n      <td>...</td>\n      <td>...</td>\n      <td>...</td>\n      <td>...</td>\n      <td>...</td>\n      <td>...</td>\n      <td>...</td>\n      <td>...</td>\n      <td>...</td>\n      <td>...</td>\n      <td>...</td>\n      <td>...</td>\n      <td>...</td>\n      <td>...</td>\n      <td>...</td>\n      <td>...</td>\n      <td>...</td>\n      <td>...</td>\n      <td>...</td>\n      <td>...</td>\n      <td>...</td>\n      <td>...</td>\n      <td>...</td>\n      <td>...</td>\n      <td>...</td>\n      <td>...</td>\n      <td>...</td>\n      <td>...</td>\n      <td>...</td>\n      <td>...</td>\n      <td>...</td>\n      <td>...</td>\n      <td>...</td>\n      <td>...</td>\n      <td>...</td>\n      <td>...</td>\n      <td>...</td>\n      <td>...</td>\n      <td>...</td>\n      <td>...</td>\n      <td>...</td>\n    </tr>\n    <tr>\n      <th>4181</th>\n      <td>B08LL84X4N</td>\n      <td>Dell Latitude 5310 Multi-Touch 2-in-1 Laptop -...</td>\n      <td>NaN</td>\n      <td>NaN</td>\n      <td>NaN</td>\n      <td>NaN</td>\n      <td>NaN</td>\n      <td>February 16, 2021</td>\n      <td>NaN</td>\n      <td>NaN</td>\n      <td>NaN</td>\n      <td>NaN</td>\n      <td>NaN</td>\n      <td>NaN</td>\n      <td>NaN</td>\n      <td>NaN</td>\n      <td>4.92</td>\n      <td>5310 2-in-1</td>\n      <td>NaN</td>\n      <td>NaN</td>\n      <td>NaN</td>\n      <td>NaN</td>\n      <td>NaN</td>\n      <td>NaN</td>\n      <td>NaN</td>\n      <td>NaN</td>\n      <td></td>\n      <td>NaN</td>\n      <td>NaN</td>\n      <td>NaN</td>\n      <td>16.85 x 14.25 x 4.49</td>\n      <td>NaN</td>\n      <td>NaN</td>\n      <td>NaN</td>\n      <td>NaN</td>\n      <td></td>\n      <td>olecto</td>\n      <td>https://www.amazon.com/gp/help/seller/at-a-gla...</td>\n      <td>NaN</td>\n      <td>NaN</td>\n      <td>NaN</td>\n      <td>NaN</td>\n    </tr>\n    <tr>\n      <th>4182</th>\n      <td>B01LWPJTL7</td>\n      <td>Alienware AW15R3-0012SLV Laptop (6th Generatio...</td>\n      <td>Alienware</td>\n      <td>NVIDIA GTX 1060, Dedicated</td>\n      <td>Nvidia</td>\n      <td>Epic Silver</td>\n      <td>DIMM</td>\n      <td>September 27, 2016</td>\n      <td>1 TB</td>\n      <td>NaN</td>\n      <td>NVIDIA GeForce GTX 1060</td>\n      <td>1000 GB Mechanical Hard Drive^1TB 7200RPM SATA...</td>\n      <td>Serial ATA</td>\n      <td>7200 RPM</td>\n      <td>Windows</td>\n      <td>12 x 15.31 x 1 inches</td>\n      <td>8.00</td>\n      <td>AW15R3-0012SLV</td>\n      <td>1920X1080 Pixels</td>\n      <td>2.13</td>\n      <td>NaN</td>\n      <td>3</td>\n      <td>Windows 10</td>\n      <td>NaN</td>\n      <td>NaN</td>\n      <td>NaN</td>\n      <td>1 Lithium ion batteries required. (included)</td>\n      <td>3.2 GHz core_i5</td>\n      <td>Intel</td>\n      <td>4</td>\n      <td>12 x 15.31 x 1</td>\n      <td>8 GB DDR4</td>\n      <td>NaN</td>\n      <td>Alienware 15 R3</td>\n      <td>15.6 Inches</td>\n      <td>NaN</td>\n      <td>None</td>\n      <td>None</td>\n      <td>96243</td>\n      <td>Computers&amp;Accessories</td>\n      <td>#96,243 in Computers &amp; Accessories ( See Top 1...</td>\n      <td>/*\\n* Fix for UDP-1061. Average customer revie...</td>\n    </tr>\n    <tr>\n      <th>4183</th>\n      <td>B07B1Q7C5J</td>\n      <td>Dell Latitude 2RNYM Laptop (Windows 10 Pro, In...</td>\n      <td>Dell</td>\n      <td>Integrated</td>\n      <td>Intel</td>\n      <td>NaN</td>\n      <td>DDR3 SDRAM</td>\n      <td>March 10, 2018</td>\n      <td>256</td>\n      <td>NaN</td>\n      <td>Intel UHD Graphics 620</td>\n      <td>256 GB Flash Memory Solid State</td>\n      <td>Unknown</td>\n      <td>NaN</td>\n      <td>NaN</td>\n      <td>12 x 8.1 x 0.6 inches</td>\n      <td>2.50</td>\n      <td>2RNYM</td>\n      <td>1920x1080 Pixels</td>\n      <td>2.40</td>\n      <td>NaN</td>\n      <td>2</td>\n      <td>Windows 10 Pro</td>\n      <td>NaN</td>\n      <td>Corded-Electric</td>\n      <td>NaN</td>\n      <td>1 Lithium ion batteries required. (included)</td>\n      <td>1.6 GHz core_i5</td>\n      <td>Intel</td>\n      <td>1</td>\n      <td>12 x 8.1 x 0.6</td>\n      <td>8 GB DDR</td>\n      <td>NaN</td>\n      <td>Dell Latitude</td>\n      <td>13.3 Inches</td>\n      <td>802.11g</td>\n      <td>None</td>\n      <td>None</td>\n      <td>129372</td>\n      <td>Computers&amp;Accessories</td>\n      <td>#129,372 in Computers &amp; Accessories ( See Top ...</td>\n      <td>NaN</td>\n    </tr>\n    <tr>\n      <th>4184</th>\n      <td>B0088PQMX8</td>\n      <td>HP Pavilion dv6t-7000 Quad Edition Entertainme...</td>\n      <td>HP</td>\n      <td>Dedicated</td>\n      <td>Nvidia</td>\n      <td>NaN</td>\n      <td>DDR3 SDRAM</td>\n      <td>June 4, 2012</td>\n      <td>NaN</td>\n      <td>NaN</td>\n      <td>NVIDIA GeForce GT 630M</td>\n      <td>1 GB</td>\n      <td>NaN</td>\n      <td>5400 RPM</td>\n      <td>PC</td>\n      <td>NaN</td>\n      <td>8.40</td>\n      <td>Pavilion</td>\n      <td>NaN</td>\n      <td>2.30</td>\n      <td>NaN</td>\n      <td>NaN</td>\n      <td>Windows 7</td>\n      <td>NaN</td>\n      <td>Battery</td>\n      <td>6 Hours</td>\n      <td>NaN</td>\n      <td>2.3 GHz core_i7</td>\n      <td>Intel</td>\n      <td>1</td>\n      <td>20.8 x 13.5 x 3.2</td>\n      <td>8 GB DDR3</td>\n      <td>1366_x_768</td>\n      <td>Pavilion</td>\n      <td>15.6 Inches</td>\n      <td>802.11b</td>\n      <td>None</td>\n      <td>None</td>\n      <td>251994</td>\n      <td>Computers&amp;Accessories</td>\n      <td>#251,994 in Computers &amp; Accessories ( See Top ...</td>\n      <td>/*\\n* Fix for UDP-1061. Average customer revie...</td>\n    </tr>\n    <tr>\n      <th>4185</th>\n      <td>B06X9RQM6B</td>\n      <td>Dell XPS9360-5001GLD-PUS 13.3\" Laptop (7th Gen...</td>\n      <td>Dell</td>\n      <td>Integrated</td>\n      <td>Intel</td>\n      <td>Gold</td>\n      <td>Unknown</td>\n      <td>February 10, 2017</td>\n      <td>256</td>\n      <td>32 GB</td>\n      <td>Intel HD Graphics 620</td>\n      <td>Flash Memory Solid State</td>\n      <td>Serial ATA</td>\n      <td>NaN</td>\n      <td>PC</td>\n      <td>7.88 x 11.98 x 0.6 inches</td>\n      <td>2.70</td>\n      <td>XPS9360-5001GLD-PUS</td>\n      <td>3200 x 1800</td>\n      <td>1.87</td>\n      <td>NaN</td>\n      <td>2</td>\n      <td>Windows 10</td>\n      <td>NaN</td>\n      <td>NaN</td>\n      <td>NaN</td>\n      <td>1 Lithium ion batteries required. (included)</td>\n      <td>3.1 GHz core_i5</td>\n      <td>Intel</td>\n      <td>2</td>\n      <td>7.88 x 11.98 x 0.6</td>\n      <td>8 GB LPDDR3</td>\n      <td>NaN</td>\n      <td>XPS9360-5001GLD-PUS</td>\n      <td>13.3 Inches</td>\n      <td>NaN</td>\n      <td>None</td>\n      <td>None</td>\n      <td>83805</td>\n      <td>Computers&amp;Accessories</td>\n      <td>#83,805 in Computers &amp; Accessories ( See Top 1...</td>\n      <td>/*\\n* Fix for UDP-1061. Average customer revie...</td>\n    </tr>\n  </tbody>\n</table>\n<p>4186 rows × 42 columns</p>\n</div>"
     },
     "metadata": {},
     "execution_count": 59
    }
   ],
   "source": [
    "laptop"
   ]
  },
  {
   "cell_type": "code",
   "execution_count": 60,
   "metadata": {},
   "outputs": [],
   "source": [
    "#laptop.to_csv('laptop_details.csv', index = False)"
   ]
  },
  {
   "cell_type": "code",
   "execution_count": 61,
   "metadata": {},
   "outputs": [],
   "source": [
    "# Drop of columns I won't take into account\n",
    "# reset_index(drop=True) drops the current index of the DataFrame and replaces it with an index of increasing integers.\n",
    "\n",
    "#df_lap.drop(columns=[\"freq_bought\",\"freq_bought_link\"],inplace=True)\n",
    "#df_lap=df_lap.reset_index(drop=True)"
   ]
  },
  {
   "cell_type": "code",
   "execution_count": null,
   "metadata": {},
   "outputs": [],
   "source": []
  }
 ]
}